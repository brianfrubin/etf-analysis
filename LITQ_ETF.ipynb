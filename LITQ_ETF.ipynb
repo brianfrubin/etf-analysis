{
 "cells": [
  {
   "cell_type": "code",
   "execution_count": 134,
   "id": "266c4079-a2e0-4eee-8eba-5f8bed070c00",
   "metadata": {},
   "outputs": [],
   "source": [
    "#supressing Pandas future warnings when indexing on datetime : https://stackoverflow.com/questions/15777951/how-to-suppress-pandas-future-warning\n",
    "import warnings\n",
    "warnings.simplefilter(action='ignore', category=FutureWarning)\n",
    "import pandas as pd\n",
    "import numpy as np\n",
    "import requests\n",
    "import quiverquant\n",
    "from configparser import ConfigParser\n",
    "from io import BytesIO\n",
    "import matplotlib.pyplot as plt\n",
    "from matplotlib import style\n",
    "style.use('fivethirtyeight')\n",
    "\n",
    "parser = ConfigParser()\n",
    "_ = parser.read('notebook.cfg')\n",
    "\n",
    "nasdaq_auth_key = parser.get('my_api', 'nasd_key')\n",
    "quant_auth_key = parser.get('my_api', 'quant_key')\n",
    "alpha_auth_key = parser.get('my_api', 'alpha_key')"
   ]
  },
  {
   "cell_type": "markdown",
   "id": "5f98b4c9-7918-4be6-bd96-f6f5b11c2d08",
   "metadata": {},
   "source": [
    "### Daily WSB Data from 2018-2021 (wsb_all_tickers)"
   ]
  },
  {
   "cell_type": "code",
   "execution_count": 2,
   "id": "90d1ae61-7c09-4ce5-9479-bb4fa27c5435",
   "metadata": {},
   "outputs": [],
   "source": [
    "quiver = quiverquant.quiver(quant_auth_key)"
   ]
  },
  {
   "cell_type": "code",
   "execution_count": 12,
   "id": "4b6eebc4-53dc-487d-a9de-32e82ee85212",
   "metadata": {},
   "outputs": [
    {
     "name": "stdout",
     "output_type": "stream",
     "text": [
      "https://api.quiverquant.com/beta/live/wallstreetbets?count_all=true\n"
     ]
    }
   ],
   "source": [
    "#pull all the historical data for wallstreetbets dataset\n",
    "wsb_all_tickers = quiver.wallstreetbets()"
   ]
  },
  {
   "cell_type": "code",
   "execution_count": 13,
   "id": "f5959fa6-6419-42f4-945c-dc4ad85de0ed",
   "metadata": {},
   "outputs": [],
   "source": [
    "wsb_all_tickers.to_csv('wsb_all_tickers.csv')"
   ]
  },
  {
   "cell_type": "code",
   "execution_count": 51,
   "id": "79478477-fb88-49b0-be9e-1525616e802c",
   "metadata": {},
   "outputs": [],
   "source": [
    "wsb_all_tickers = pd.read_csv('wsb_all_tickers.csv')"
   ]
  },
  {
   "cell_type": "code",
   "execution_count": 52,
   "id": "4ba6bbcc-9ea3-433e-85c1-444b56903730",
   "metadata": {},
   "outputs": [
    {
     "data": {
      "text/html": [
       "<div><div id=b8644343-e21f-4442-acdf-771ec5fbf1e3 style=\"display:none; background-color:#9D6CFF; color:white; width:200px; height:30px; padding-left:5px; border-radius:4px; flex-direction:row; justify-content:space-around; align-items:center;\" onmouseover=\"this.style.backgroundColor='#BA9BF8'\" onmouseout=\"this.style.backgroundColor='#9D6CFF'\" onclick=\"window.commands?.execute('create-mitosheet-from-dataframe-output');\">See Full Dataframe in Mito</div> <script> if (window.commands.hasCommand('create-mitosheet-from-dataframe-output')) document.getElementById('b8644343-e21f-4442-acdf-771ec5fbf1e3').style.display = 'flex' </script> <table border=\"1\" class=\"dataframe\">\n",
       "  <thead>\n",
       "    <tr style=\"text-align: right;\">\n",
       "      <th></th>\n",
       "      <th>Ticker</th>\n",
       "      <th>Count</th>\n",
       "      <th>Sentiment</th>\n",
       "      <th>Date</th>\n",
       "    </tr>\n",
       "  </thead>\n",
       "  <tbody>\n",
       "    <tr>\n",
       "      <th>0</th>\n",
       "      <td>SPY</td>\n",
       "      <td>235</td>\n",
       "      <td>0.067476</td>\n",
       "      <td>2021-12-07</td>\n",
       "    </tr>\n",
       "    <tr>\n",
       "      <th>1</th>\n",
       "      <td>TSLA</td>\n",
       "      <td>84</td>\n",
       "      <td>0.048281</td>\n",
       "      <td>2021-12-07</td>\n",
       "    </tr>\n",
       "    <tr>\n",
       "      <th>2</th>\n",
       "      <td>NVDA</td>\n",
       "      <td>71</td>\n",
       "      <td>0.037637</td>\n",
       "      <td>2021-12-07</td>\n",
       "    </tr>\n",
       "    <tr>\n",
       "      <th>3</th>\n",
       "      <td>AAPL</td>\n",
       "      <td>58</td>\n",
       "      <td>0.034978</td>\n",
       "      <td>2021-12-07</td>\n",
       "    </tr>\n",
       "    <tr>\n",
       "      <th>4</th>\n",
       "      <td>GME</td>\n",
       "      <td>49</td>\n",
       "      <td>0.072012</td>\n",
       "      <td>2021-12-07</td>\n",
       "    </tr>\n",
       "  </tbody>\n",
       "</table></div>"
      ],
      "text/plain": [
       "  Ticker  Count  Sentiment        Date\n",
       "0    SPY    235   0.067476  2021-12-07\n",
       "1   TSLA     84   0.048281  2021-12-07\n",
       "2   NVDA     71   0.037637  2021-12-07\n",
       "3   AAPL     58   0.034978  2021-12-07\n",
       "4    GME     49   0.072012  2021-12-07"
      ]
     },
     "execution_count": 52,
     "metadata": {},
     "output_type": "execute_result"
    }
   ],
   "source": [
    "wsb_all_tickers.drop(columns=['Unnamed: 0', 'Time'], inplace=True)\n",
    "wsb_all_tickers.head()"
   ]
  },
  {
   "cell_type": "code",
   "execution_count": 53,
   "id": "5420e8de-43d5-422d-8392-a4ea122d09d5",
   "metadata": {},
   "outputs": [],
   "source": [
    "#turn Date column into pandas datetime type\n",
    "wsb_all_tickers.Date = pd.to_datetime(wsb_all_tickers.Date)"
   ]
  },
  {
   "cell_type": "code",
   "execution_count": 54,
   "id": "0e4c80a4-68a3-479c-bcb3-0ce490251747",
   "metadata": {},
   "outputs": [
    {
     "data": {
      "text/plain": [
       "Ticker               object\n",
       "Count                 int64\n",
       "Sentiment           float64\n",
       "Date         datetime64[ns]\n",
       "dtype: object"
      ]
     },
     "execution_count": 54,
     "metadata": {},
     "output_type": "execute_result"
    }
   ],
   "source": [
    "#check that Date column is now datetime type\n",
    "wsb_all_tickers.dtypes"
   ]
  },
  {
   "cell_type": "code",
   "execution_count": 55,
   "id": "761e3050-5f35-4dd2-b15c-f3c6c38f672d",
   "metadata": {},
   "outputs": [],
   "source": [
    "wsb_all_tickers.set_index('Date', inplace=True)"
   ]
  },
  {
   "cell_type": "code",
   "execution_count": 56,
   "id": "bd50acda-b221-4cbd-9ace-af6128f06fa8",
   "metadata": {},
   "outputs": [],
   "source": [
    "wsb_all_tickers.sort_index(inplace=True)"
   ]
  },
  {
   "cell_type": "code",
   "execution_count": 57,
   "id": "ef9ee8c9-ba5e-4481-b82f-1454c5cf981c",
   "metadata": {},
   "outputs": [
    {
     "name": "stdout",
     "output_type": "stream",
     "text": [
      "Start Date : 2018-08-01 00:00:00\n",
      "End Date : 2021-12-07 00:00:00\n"
     ]
    }
   ],
   "source": [
    "print(f'Start Date : {wsb_all_tickers.index.min()}')\n",
    "print(f'End Date : {wsb_all_tickers.index.max()}')"
   ]
  },
  {
   "cell_type": "markdown",
   "id": "8349f226-3084-4279-8670-3d3742705348",
   "metadata": {},
   "source": [
    "### Daily WSB Data for 2021 (wsb_2021_all)"
   ]
  },
  {
   "cell_type": "code",
   "execution_count": 58,
   "id": "2ffc8a2e-35ac-4ea0-b236-b391dece2a58",
   "metadata": {},
   "outputs": [
    {
     "name": "stderr",
     "output_type": "stream",
     "text": [
      "C:\\Users\\brian\\AppData\\Local\\Temp/ipykernel_3672/3468444749.py:1: FutureWarning: Indexing a DataFrame with a datetimelike index using a single string to slice the rows, like `frame[string]`, is deprecated and will be removed in a future version. Use `frame.loc[string]` instead.\n",
      "  wsb_2021_all = wsb_all_tickers['2021']\n"
     ]
    }
   ],
   "source": [
    "wsb_2021_all = wsb_all_tickers['2021']\n",
    "wsb_2021_all.to_csv('wsb_2021_all.csv')"
   ]
  },
  {
   "cell_type": "code",
   "execution_count": 10,
   "id": "5d210dc8-f23a-42c7-8846-8b84f0af6e26",
   "metadata": {},
   "outputs": [],
   "source": [
    "wsb_2021_all = pd.read_csv('./Data/wsb_2021_all.csv')"
   ]
  },
  {
   "cell_type": "code",
   "execution_count": 11,
   "id": "9b175e61-35f5-438d-b0bc-bd06687b7836",
   "metadata": {},
   "outputs": [],
   "source": [
    "wsb_2021_all['Date'] = pd.to_datetime(wsb_2021_all['Date'])"
   ]
  },
  {
   "cell_type": "code",
   "execution_count": 12,
   "id": "909c23e9-f12d-4b32-980f-266db83e44d0",
   "metadata": {},
   "outputs": [],
   "source": [
    "wsb_2021_all.set_index('Date', inplace=True)"
   ]
  },
  {
   "cell_type": "markdown",
   "id": "e73f467f-9f01-444f-8800-dceac7d36215",
   "metadata": {},
   "source": [
    "### 2021 YTD Aggregated WSB Data (wsb_2021_ytd)"
   ]
  },
  {
   "cell_type": "code",
   "execution_count": 13,
   "id": "156559fe-a7ad-4b68-9b35-536c7d0fcee3",
   "metadata": {},
   "outputs": [
    {
     "data": {
      "text/html": [
       "<div><div id=8cf632d0-776f-4fd6-b77c-3216e2eec9b4 style=\"display:none; background-color:#9D6CFF; color:white; width:200px; height:30px; padding-left:5px; border-radius:4px; flex-direction:row; justify-content:space-around; align-items:center;\" onmouseover=\"this.style.backgroundColor='#BA9BF8'\" onmouseout=\"this.style.backgroundColor='#9D6CFF'\" onclick=\"window.commands?.execute('create-mitosheet-from-dataframe-output');\">See Full Dataframe in Mito</div> <script> if (window.commands.hasCommand('create-mitosheet-from-dataframe-output')) document.getElementById('8cf632d0-776f-4fd6-b77c-3216e2eec9b4').style.display = 'flex' </script> <table border=\"1\" class=\"dataframe\">\n",
       "  <thead>\n",
       "    <tr style=\"text-align: right;\">\n",
       "      <th></th>\n",
       "      <th>Ticker</th>\n",
       "      <th>Count</th>\n",
       "      <th>Sentiment</th>\n",
       "    </tr>\n",
       "    <tr>\n",
       "      <th>Date</th>\n",
       "      <th></th>\n",
       "      <th></th>\n",
       "      <th></th>\n",
       "    </tr>\n",
       "  </thead>\n",
       "  <tbody>\n",
       "    <tr>\n",
       "      <th>2021-01-01</th>\n",
       "      <td>MOON</td>\n",
       "      <td>3</td>\n",
       "      <td>0.920567</td>\n",
       "    </tr>\n",
       "    <tr>\n",
       "      <th>2021-01-01</th>\n",
       "      <td>REGN</td>\n",
       "      <td>3</td>\n",
       "      <td>0.259100</td>\n",
       "    </tr>\n",
       "    <tr>\n",
       "      <th>2021-01-01</th>\n",
       "      <td>MRNA</td>\n",
       "      <td>3</td>\n",
       "      <td>0.130133</td>\n",
       "    </tr>\n",
       "    <tr>\n",
       "      <th>2021-01-01</th>\n",
       "      <td>NEW</td>\n",
       "      <td>3</td>\n",
       "      <td>0.000300</td>\n",
       "    </tr>\n",
       "    <tr>\n",
       "      <th>2021-01-01</th>\n",
       "      <td>NVTA</td>\n",
       "      <td>3</td>\n",
       "      <td>0.318367</td>\n",
       "    </tr>\n",
       "  </tbody>\n",
       "</table></div>"
      ],
      "text/plain": [
       "           Ticker  Count  Sentiment\n",
       "Date                               \n",
       "2021-01-01   MOON      3   0.920567\n",
       "2021-01-01   REGN      3   0.259100\n",
       "2021-01-01   MRNA      3   0.130133\n",
       "2021-01-01    NEW      3   0.000300\n",
       "2021-01-01   NVTA      3   0.318367"
      ]
     },
     "execution_count": 13,
     "metadata": {},
     "output_type": "execute_result"
    }
   ],
   "source": [
    "wsb_2021_all.head()"
   ]
  },
  {
   "cell_type": "code",
   "execution_count": 14,
   "id": "9773f52e-8e1a-45e3-a2e7-61e5407127d2",
   "metadata": {},
   "outputs": [],
   "source": [
    "wsb_2021_ytd = wsb_2021_all.groupby('Ticker').resample('Y')['Count', 'Sentiment'].mean()"
   ]
  },
  {
   "cell_type": "markdown",
   "id": "8c76cc2d-a8a2-4152-806a-80ca9d59eb6a",
   "metadata": {},
   "source": [
    "#### Initial ETF Portfolio - Highest WSB Mention Count YTD"
   ]
  },
  {
   "cell_type": "code",
   "execution_count": 15,
   "id": "d6ae6f54-bc4f-452a-858d-ae86d814f8c0",
   "metadata": {},
   "outputs": [],
   "source": [
    "#sort by highest count to lowest sentiment\n",
    "top_tickers = wsb_2021_ytd.sort_values(['Count'], ascending=False)\n",
    "\n",
    "#filter on only tickers that had an average of at least 25 mentions per month on WSB\n",
    "top_tickers = top_tickers[top_tickers['Count'] > 25]"
   ]
  },
  {
   "cell_type": "markdown",
   "id": "b09a3895-d88f-4c80-a69d-524e425f87be",
   "metadata": {},
   "source": [
    "#### List of Initial ETF Tickers"
   ]
  },
  {
   "cell_type": "code",
   "execution_count": 16,
   "id": "58a392a1-4041-4bbc-9010-57105835cdbd",
   "metadata": {},
   "outputs": [
    {
     "data": {
      "text/plain": [
       "61"
      ]
     },
     "execution_count": 16,
     "metadata": {},
     "output_type": "execute_result"
    }
   ],
   "source": [
    "tick_list = []\n",
    "for i in top_tickers.index:\n",
    "    tick_list.append(i[0])\n",
    "    #print(i[0])\n",
    "etf_tickers = tick_list\n",
    "len(etf_tickers)"
   ]
  },
  {
   "cell_type": "markdown",
   "id": "65444714-5881-4925-8329-6c6a908aa7bc",
   "metadata": {},
   "source": [
    "#### Filter 2021 YTD Aggregated WSB Dataset - ETF Tickers Only"
   ]
  },
  {
   "cell_type": "code",
   "execution_count": 17,
   "id": "ecf7548f-ae7e-435d-8efe-b27436676d2f",
   "metadata": {},
   "outputs": [
    {
     "data": {
      "text/html": [
       "<div><div id=63f2af14-0220-4564-ad3a-144ddb31cc99 style=\"display:none; background-color:#9D6CFF; color:white; width:200px; height:30px; padding-left:5px; border-radius:4px; flex-direction:row; justify-content:space-around; align-items:center;\" onmouseover=\"this.style.backgroundColor='#BA9BF8'\" onmouseout=\"this.style.backgroundColor='#9D6CFF'\" onclick=\"window.commands?.execute('create-mitosheet-from-dataframe-output');\">See Full Dataframe in Mito</div> <script> if (window.commands.hasCommand('create-mitosheet-from-dataframe-output')) document.getElementById('63f2af14-0220-4564-ad3a-144ddb31cc99').style.display = 'flex' </script> <table border=\"1\" class=\"dataframe\">\n",
       "  <thead>\n",
       "    <tr style=\"text-align: right;\">\n",
       "      <th></th>\n",
       "      <th></th>\n",
       "      <th>Count</th>\n",
       "      <th>Sentiment</th>\n",
       "    </tr>\n",
       "    <tr>\n",
       "      <th>Ticker</th>\n",
       "      <th>Date</th>\n",
       "      <th></th>\n",
       "      <th></th>\n",
       "    </tr>\n",
       "  </thead>\n",
       "  <tbody>\n",
       "    <tr>\n",
       "      <th>GME</th>\n",
       "      <th>2021-12-31</th>\n",
       "      <td>979.709677</td>\n",
       "      <td>0.063382</td>\n",
       "    </tr>\n",
       "    <tr>\n",
       "      <th>AMC</th>\n",
       "      <th>2021-12-31</th>\n",
       "      <td>570.911504</td>\n",
       "      <td>0.080734</td>\n",
       "    </tr>\n",
       "    <tr>\n",
       "      <th>BB</th>\n",
       "      <th>2021-12-31</th>\n",
       "      <td>427.891496</td>\n",
       "      <td>0.088636</td>\n",
       "    </tr>\n",
       "    <tr>\n",
       "      <th>SPY</th>\n",
       "      <th>2021-12-31</th>\n",
       "      <td>385.659824</td>\n",
       "      <td>0.029897</td>\n",
       "    </tr>\n",
       "    <tr>\n",
       "      <th>PLTR</th>\n",
       "      <th>2021-12-31</th>\n",
       "      <td>273.753666</td>\n",
       "      <td>0.062931</td>\n",
       "    </tr>\n",
       "    <tr>\n",
       "      <th>TSLA</th>\n",
       "      <th>2021-12-31</th>\n",
       "      <td>253.724340</td>\n",
       "      <td>0.056084</td>\n",
       "    </tr>\n",
       "    <tr>\n",
       "      <th>NOK</th>\n",
       "      <th>2021-12-31</th>\n",
       "      <td>157.252396</td>\n",
       "      <td>0.114438</td>\n",
       "    </tr>\n",
       "    <tr>\n",
       "      <th>CLOV</th>\n",
       "      <th>2021-12-31</th>\n",
       "      <td>133.588785</td>\n",
       "      <td>0.078384</td>\n",
       "    </tr>\n",
       "    <tr>\n",
       "      <th>AAPL</th>\n",
       "      <th>2021-12-31</th>\n",
       "      <td>111.560117</td>\n",
       "      <td>0.058536</td>\n",
       "    </tr>\n",
       "    <tr>\n",
       "      <th>AMD</th>\n",
       "      <th>2021-12-31</th>\n",
       "      <td>108.627566</td>\n",
       "      <td>0.082185</td>\n",
       "    </tr>\n",
       "    <tr>\n",
       "      <th>WISH</th>\n",
       "      <th>2021-12-31</th>\n",
       "      <td>102.222222</td>\n",
       "      <td>0.473619</td>\n",
       "    </tr>\n",
       "    <tr>\n",
       "      <th>RIVN</th>\n",
       "      <th>2021-12-31</th>\n",
       "      <td>99.142857</td>\n",
       "      <td>0.081993</td>\n",
       "    </tr>\n",
       "    <tr>\n",
       "      <th>RKT</th>\n",
       "      <th>2021-12-31</th>\n",
       "      <td>96.148607</td>\n",
       "      <td>0.065251</td>\n",
       "    </tr>\n",
       "    <tr>\n",
       "      <th>GLTO</th>\n",
       "      <th>2021-12-31</th>\n",
       "      <td>94.000000</td>\n",
       "      <td>0.044124</td>\n",
       "    </tr>\n",
       "    <tr>\n",
       "      <th>CLNE</th>\n",
       "      <th>2021-12-31</th>\n",
       "      <td>90.532143</td>\n",
       "      <td>0.130094</td>\n",
       "    </tr>\n",
       "    <tr>\n",
       "      <th>TLRY</th>\n",
       "      <th>2021-12-31</th>\n",
       "      <td>87.940828</td>\n",
       "      <td>0.096040</td>\n",
       "    </tr>\n",
       "    <tr>\n",
       "      <th>SNDL</th>\n",
       "      <th>2021-12-31</th>\n",
       "      <td>84.378462</td>\n",
       "      <td>0.074138</td>\n",
       "    </tr>\n",
       "    <tr>\n",
       "      <th>NIO</th>\n",
       "      <th>2021-12-31</th>\n",
       "      <td>77.750000</td>\n",
       "      <td>0.076480</td>\n",
       "    </tr>\n",
       "    <tr>\n",
       "      <th>DWAC</th>\n",
       "      <th>2021-12-31</th>\n",
       "      <td>74.163265</td>\n",
       "      <td>0.071794</td>\n",
       "    </tr>\n",
       "    <tr>\n",
       "      <th>MVIS</th>\n",
       "      <th>2021-12-31</th>\n",
       "      <td>72.056291</td>\n",
       "      <td>0.087452</td>\n",
       "    </tr>\n",
       "    <tr>\n",
       "      <th>IRNT</th>\n",
       "      <th>2021-12-31</th>\n",
       "      <td>70.719101</td>\n",
       "      <td>0.108749</td>\n",
       "    </tr>\n",
       "    <tr>\n",
       "      <th>HOOD</th>\n",
       "      <th>2021-12-31</th>\n",
       "      <td>70.191176</td>\n",
       "      <td>0.020687</td>\n",
       "    </tr>\n",
       "    <tr>\n",
       "      <th>UWMC</th>\n",
       "      <th>2021-12-31</th>\n",
       "      <td>64.606897</td>\n",
       "      <td>0.061397</td>\n",
       "    </tr>\n",
       "    <tr>\n",
       "      <th>BABA</th>\n",
       "      <th>2021-12-31</th>\n",
       "      <td>64.217647</td>\n",
       "      <td>0.052029</td>\n",
       "    </tr>\n",
       "    <tr>\n",
       "      <th>SPCE</th>\n",
       "      <th>2021-12-31</th>\n",
       "      <td>63.646341</td>\n",
       "      <td>0.079307</td>\n",
       "    </tr>\n",
       "    <tr>\n",
       "      <th>ICLN</th>\n",
       "      <th>2021-12-31</th>\n",
       "      <td>58.848708</td>\n",
       "      <td>0.073816</td>\n",
       "    </tr>\n",
       "    <tr>\n",
       "      <th>NVDA</th>\n",
       "      <th>2021-12-31</th>\n",
       "      <td>55.086053</td>\n",
       "      <td>0.082819</td>\n",
       "    </tr>\n",
       "    <tr>\n",
       "      <th>EOD</th>\n",
       "      <th>2021-12-31</th>\n",
       "      <td>54.191740</td>\n",
       "      <td>0.052023</td>\n",
       "    </tr>\n",
       "    <tr>\n",
       "      <th>SOFI</th>\n",
       "      <th>2021-12-31</th>\n",
       "      <td>51.839623</td>\n",
       "      <td>0.103825</td>\n",
       "    </tr>\n",
       "    <tr>\n",
       "      <th>CRSR</th>\n",
       "      <th>2021-12-31</th>\n",
       "      <td>51.502994</td>\n",
       "      <td>0.056895</td>\n",
       "    </tr>\n",
       "    <tr>\n",
       "      <th>WKHS</th>\n",
       "      <th>2021-12-31</th>\n",
       "      <td>50.558140</td>\n",
       "      <td>0.117030</td>\n",
       "    </tr>\n",
       "    <tr>\n",
       "      <th>MVST</th>\n",
       "      <th>2021-12-31</th>\n",
       "      <td>46.981308</td>\n",
       "      <td>0.120528</td>\n",
       "    </tr>\n",
       "    <tr>\n",
       "      <th>LCID</th>\n",
       "      <th>2021-12-31</th>\n",
       "      <td>46.732824</td>\n",
       "      <td>0.116479</td>\n",
       "    </tr>\n",
       "    <tr>\n",
       "      <th>AMZN</th>\n",
       "      <th>2021-12-31</th>\n",
       "      <td>43.032258</td>\n",
       "      <td>0.073057</td>\n",
       "    </tr>\n",
       "    <tr>\n",
       "      <th>TMC</th>\n",
       "      <th>2021-12-31</th>\n",
       "      <td>41.722222</td>\n",
       "      <td>0.036863</td>\n",
       "    </tr>\n",
       "    <tr>\n",
       "      <th>QQQ</th>\n",
       "      <th>2021-12-31</th>\n",
       "      <td>40.388235</td>\n",
       "      <td>0.052979</td>\n",
       "    </tr>\n",
       "    <tr>\n",
       "      <th>CLF</th>\n",
       "      <th>2021-12-31</th>\n",
       "      <td>39.691083</td>\n",
       "      <td>0.084489</td>\n",
       "    </tr>\n",
       "    <tr>\n",
       "      <th>FB</th>\n",
       "      <th>2021-12-31</th>\n",
       "      <td>38.235988</td>\n",
       "      <td>0.039220</td>\n",
       "    </tr>\n",
       "    <tr>\n",
       "      <th>SDC</th>\n",
       "      <th>2021-12-31</th>\n",
       "      <td>34.991770</td>\n",
       "      <td>0.098075</td>\n",
       "    </tr>\n",
       "    <tr>\n",
       "      <th>WRB</th>\n",
       "      <th>2021-12-31</th>\n",
       "      <td>33.000000</td>\n",
       "      <td>0.481264</td>\n",
       "    </tr>\n",
       "    <tr>\n",
       "      <th>ABMD</th>\n",
       "      <th>2021-12-31</th>\n",
       "      <td>33.000000</td>\n",
       "      <td>0.481264</td>\n",
       "    </tr>\n",
       "    <tr>\n",
       "      <th>FLS</th>\n",
       "      <th>2021-12-31</th>\n",
       "      <td>33.000000</td>\n",
       "      <td>0.481264</td>\n",
       "    </tr>\n",
       "    <tr>\n",
       "      <th>AIZ</th>\n",
       "      <th>2021-12-31</th>\n",
       "      <td>33.000000</td>\n",
       "      <td>0.481264</td>\n",
       "    </tr>\n",
       "    <tr>\n",
       "      <th>TFC</th>\n",
       "      <th>2021-12-31</th>\n",
       "      <td>33.000000</td>\n",
       "      <td>0.481264</td>\n",
       "    </tr>\n",
       "    <tr>\n",
       "      <th>NTRS</th>\n",
       "      <th>2021-12-31</th>\n",
       "      <td>33.000000</td>\n",
       "      <td>0.481264</td>\n",
       "    </tr>\n",
       "    <tr>\n",
       "      <th>TDG</th>\n",
       "      <th>2021-12-31</th>\n",
       "      <td>33.000000</td>\n",
       "      <td>0.481264</td>\n",
       "    </tr>\n",
       "    <tr>\n",
       "      <th>IPO</th>\n",
       "      <th>2021-12-31</th>\n",
       "      <td>32.557185</td>\n",
       "      <td>0.111863</td>\n",
       "    </tr>\n",
       "    <tr>\n",
       "      <th>PLUG</th>\n",
       "      <th>2021-12-31</th>\n",
       "      <td>31.381877</td>\n",
       "      <td>0.080271</td>\n",
       "    </tr>\n",
       "    <tr>\n",
       "      <th>HOLD</th>\n",
       "      <th>2021-12-31</th>\n",
       "      <td>30.349810</td>\n",
       "      <td>0.063056</td>\n",
       "    </tr>\n",
       "    <tr>\n",
       "      <th>COIN</th>\n",
       "      <th>2021-12-31</th>\n",
       "      <td>30.344828</td>\n",
       "      <td>0.044757</td>\n",
       "    </tr>\n",
       "  </tbody>\n",
       "</table></div>"
      ],
      "text/plain": [
       "                        Count  Sentiment\n",
       "Ticker Date                             \n",
       "GME    2021-12-31  979.709677   0.063382\n",
       "AMC    2021-12-31  570.911504   0.080734\n",
       "BB     2021-12-31  427.891496   0.088636\n",
       "SPY    2021-12-31  385.659824   0.029897\n",
       "PLTR   2021-12-31  273.753666   0.062931\n",
       "TSLA   2021-12-31  253.724340   0.056084\n",
       "NOK    2021-12-31  157.252396   0.114438\n",
       "CLOV   2021-12-31  133.588785   0.078384\n",
       "AAPL   2021-12-31  111.560117   0.058536\n",
       "AMD    2021-12-31  108.627566   0.082185\n",
       "WISH   2021-12-31  102.222222   0.473619\n",
       "RIVN   2021-12-31   99.142857   0.081993\n",
       "RKT    2021-12-31   96.148607   0.065251\n",
       "GLTO   2021-12-31   94.000000   0.044124\n",
       "CLNE   2021-12-31   90.532143   0.130094\n",
       "TLRY   2021-12-31   87.940828   0.096040\n",
       "SNDL   2021-12-31   84.378462   0.074138\n",
       "NIO    2021-12-31   77.750000   0.076480\n",
       "DWAC   2021-12-31   74.163265   0.071794\n",
       "MVIS   2021-12-31   72.056291   0.087452\n",
       "IRNT   2021-12-31   70.719101   0.108749\n",
       "HOOD   2021-12-31   70.191176   0.020687\n",
       "UWMC   2021-12-31   64.606897   0.061397\n",
       "BABA   2021-12-31   64.217647   0.052029\n",
       "SPCE   2021-12-31   63.646341   0.079307\n",
       "ICLN   2021-12-31   58.848708   0.073816\n",
       "NVDA   2021-12-31   55.086053   0.082819\n",
       "EOD    2021-12-31   54.191740   0.052023\n",
       "SOFI   2021-12-31   51.839623   0.103825\n",
       "CRSR   2021-12-31   51.502994   0.056895\n",
       "WKHS   2021-12-31   50.558140   0.117030\n",
       "MVST   2021-12-31   46.981308   0.120528\n",
       "LCID   2021-12-31   46.732824   0.116479\n",
       "AMZN   2021-12-31   43.032258   0.073057\n",
       "TMC    2021-12-31   41.722222   0.036863\n",
       "QQQ    2021-12-31   40.388235   0.052979\n",
       "CLF    2021-12-31   39.691083   0.084489\n",
       "FB     2021-12-31   38.235988   0.039220\n",
       "SDC    2021-12-31   34.991770   0.098075\n",
       "WRB    2021-12-31   33.000000   0.481264\n",
       "ABMD   2021-12-31   33.000000   0.481264\n",
       "FLS    2021-12-31   33.000000   0.481264\n",
       "AIZ    2021-12-31   33.000000   0.481264\n",
       "TFC    2021-12-31   33.000000   0.481264\n",
       "NTRS   2021-12-31   33.000000   0.481264\n",
       "TDG    2021-12-31   33.000000   0.481264\n",
       "IPO    2021-12-31   32.557185   0.111863\n",
       "PLUG   2021-12-31   31.381877   0.080271\n",
       "HOLD   2021-12-31   30.349810   0.063056\n",
       "COIN   2021-12-31   30.344828   0.044757"
      ]
     },
     "execution_count": 17,
     "metadata": {},
     "output_type": "execute_result"
    }
   ],
   "source": [
    "#remove FLS, TFC, WRB, AIZ, NTRS, ABMD, TDG as they seem to be faulty data\n",
    "wsb_2021_ytd.loc[tick_list].head(50)"
   ]
  },
  {
   "cell_type": "markdown",
   "id": "acc21a03-3087-4bbf-bb95-867fdc249550",
   "metadata": {},
   "source": [
    "#### Update Initial ETF Ticker List - Top 10"
   ]
  },
  {
   "cell_type": "code",
   "execution_count": 22,
   "id": "0477f74a-a513-410d-a14c-3e8141b016fe",
   "metadata": {},
   "outputs": [],
   "source": [
    "new_etf_tickers = ['GME', 'AMC', 'BB', 'SPY', 'PLTR', 'TSLA', 'NOK', 'CLOV', 'AAPL', 'AMD']"
   ]
  },
  {
   "cell_type": "markdown",
   "id": "106fe080-323e-4042-bb86-ff948c5a2236",
   "metadata": {
    "tags": []
   },
   "source": [
    "#### Narrow Down Ticker List Based on Correlations"
   ]
  },
  {
   "cell_type": "code",
   "execution_count": null,
   "id": "df382bfc-52d0-495f-8cdc-613e69744556",
   "metadata": {},
   "outputs": [],
   "source": []
  },
  {
   "cell_type": "code",
   "execution_count": null,
   "id": "3bfec278-0dbe-4b6e-856e-61d37e3aabbb",
   "metadata": {},
   "outputs": [],
   "source": []
  },
  {
   "cell_type": "code",
   "execution_count": null,
   "id": "da981819-af47-483f-a660-8f7833652f98",
   "metadata": {},
   "outputs": [],
   "source": []
  },
  {
   "cell_type": "code",
   "execution_count": null,
   "id": "2c74238e-9b3f-42ed-aaa5-e38ed8512206",
   "metadata": {},
   "outputs": [],
   "source": []
  },
  {
   "cell_type": "markdown",
   "id": "138c26d7-94b3-475a-b77a-2985637515f8",
   "metadata": {
    "tags": []
   },
   "source": [
    "##### Weekly Average Count and Sentiment Score for each Ticker"
   ]
  },
  {
   "cell_type": "code",
   "execution_count": 86,
   "id": "5159f0f0-0377-4934-aebe-b6b5505886e6",
   "metadata": {},
   "outputs": [],
   "source": [
    "wsb_2021_weekly = wsb_2021_all.groupby('Ticker').resample('W')['Count', 'Sentiment'].mean()"
   ]
  },
  {
   "cell_type": "code",
   "execution_count": 95,
   "id": "6562d03f-7c29-4de2-81a1-0c002512810c",
   "metadata": {},
   "outputs": [
    {
     "data": {
      "text/html": [
       "<div><div id=b49280d5-33b1-4947-b8af-51c79c6efad1 style=\"display:none; background-color:#9D6CFF; color:white; width:200px; height:30px; padding-left:5px; border-radius:4px; flex-direction:row; justify-content:space-around; align-items:center;\" onmouseover=\"this.style.backgroundColor='#BA9BF8'\" onmouseout=\"this.style.backgroundColor='#9D6CFF'\" onclick=\"window.commands?.execute('create-mitosheet-from-dataframe-output');\">See Full Dataframe in Mito</div> <script> if (window.commands.hasCommand('create-mitosheet-from-dataframe-output')) document.getElementById('b49280d5-33b1-4947-b8af-51c79c6efad1').style.display = 'flex' </script> <table border=\"1\" class=\"dataframe\">\n",
       "  <thead>\n",
       "    <tr style=\"text-align: right;\">\n",
       "      <th></th>\n",
       "      <th></th>\n",
       "      <th>Count</th>\n",
       "      <th>Sentiment</th>\n",
       "    </tr>\n",
       "    <tr>\n",
       "      <th>Ticker</th>\n",
       "      <th>Date</th>\n",
       "      <th></th>\n",
       "      <th></th>\n",
       "    </tr>\n",
       "  </thead>\n",
       "  <tbody>\n",
       "    <tr>\n",
       "      <th rowspan=\"5\" valign=\"top\">GME</th>\n",
       "      <th>2021-01-03</th>\n",
       "      <td>174.666667</td>\n",
       "      <td>0.168927</td>\n",
       "    </tr>\n",
       "    <tr>\n",
       "      <th>2021-01-10</th>\n",
       "      <td>433.714286</td>\n",
       "      <td>0.043846</td>\n",
       "    </tr>\n",
       "    <tr>\n",
       "      <th>2021-01-17</th>\n",
       "      <td>3616.285714</td>\n",
       "      <td>0.091440</td>\n",
       "    </tr>\n",
       "    <tr>\n",
       "      <th>2021-01-24</th>\n",
       "      <td>2053.142857</td>\n",
       "      <td>0.098702</td>\n",
       "    </tr>\n",
       "    <tr>\n",
       "      <th>2021-01-31</th>\n",
       "      <td>11107.428571</td>\n",
       "      <td>0.073145</td>\n",
       "    </tr>\n",
       "  </tbody>\n",
       "</table></div>"
      ],
      "text/plain": [
       "                          Count  Sentiment\n",
       "Ticker Date                               \n",
       "GME    2021-01-03    174.666667   0.168927\n",
       "       2021-01-10    433.714286   0.043846\n",
       "       2021-01-17   3616.285714   0.091440\n",
       "       2021-01-24   2053.142857   0.098702\n",
       "       2021-01-31  11107.428571   0.073145"
      ]
     },
     "execution_count": 95,
     "metadata": {},
     "output_type": "execute_result"
    }
   ],
   "source": [
    "wsb_2021_weekly = wsb_2021_weekly.loc[new_etf_tickers]\n",
    "wsb_2021_weekly.head()"
   ]
  },
  {
   "cell_type": "code",
   "execution_count": 41,
   "id": "8d9803ca-cce6-4098-a341-3197ba90b1db",
   "metadata": {},
   "outputs": [
    {
     "name": "stdout",
     "output_type": "stream",
     "text": [
      "Count : 14.83\n",
      "Sentiment : 0.0348\n"
     ]
    }
   ],
   "source": [
    "wsb_top.loc[('AAPL', '2021-10-10')]\n",
    "print(f\"Count : {round(wsb_top.loc[('AAPL', '2019-11-10')][0],2)}\")\n",
    "print(f\"Sentiment : {round(wsb_top.loc[('AAPL', '2019-11-10')][1],4)}\")"
   ]
  },
  {
   "cell_type": "code",
   "execution_count": null,
   "id": "6c09ff0b-2359-4b9b-9a51-9688e0ac5560",
   "metadata": {},
   "outputs": [],
   "source": [
    "#wsb_top.reset_index()"
   ]
  },
  {
   "cell_type": "code",
   "execution_count": 50,
   "id": "6ea186fe-f8c0-4934-8680-fabf2c6198d5",
   "metadata": {},
   "outputs": [],
   "source": [
    "#Get total mentions by week\n",
    "#dfWeek = wsb_all_tickers.groupby([pd.Grouper(key='Date', freq='W-MON'), 'Ticker'])['Count'].sum().reset_index().sort_values('Date')"
   ]
  }
 ],
 "metadata": {
  "kernelspec": {
   "display_name": "Python 3 (ipykernel)",
   "language": "python",
   "name": "python3"
  },
  "language_info": {
   "codemirror_mode": {
    "name": "ipython",
    "version": 3
   },
   "file_extension": ".py",
   "mimetype": "text/x-python",
   "name": "python",
   "nbconvert_exporter": "python",
   "pygments_lexer": "ipython3",
   "version": "3.8.8"
  }
 },
 "nbformat": 4,
 "nbformat_minor": 5
}
