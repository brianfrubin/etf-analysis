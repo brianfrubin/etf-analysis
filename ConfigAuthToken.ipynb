{
 "cells": [
  {
   "cell_type": "code",
   "execution_count": 1,
   "id": "5d79d722-0563-4ab7-93bb-e6c7663147e0",
   "metadata": {},
   "outputs": [],
   "source": [
    "#Created config file to store API keys locally\n",
    "from configparser import ConfigParser"
   ]
  },
  {
   "cell_type": "code",
   "execution_count": 6,
   "id": "ac84a237-a352-4e85-986f-4b1cc2f974df",
   "metadata": {},
   "outputs": [],
   "source": [
    "parser = ConfigParser()\n",
    "_ = parser.read('notebook.cfg')\n",
    "\n",
    "nasdaq_auth_key = parser.get('my_api', 'nasd_key')\n",
    "quant_auth_key = parser.get('my_api', 'quant_key')\n",
    "alpha_auth_key = parser.get('my_api', 'alpha_key')"
   ]
  }
 ],
 "metadata": {
  "kernelspec": {
   "display_name": "Python 3 (ipykernel)",
   "language": "python",
   "name": "python3"
  },
  "language_info": {
   "codemirror_mode": {
    "name": "ipython",
    "version": 3
   },
   "file_extension": ".py",
   "mimetype": "text/x-python",
   "name": "python",
   "nbconvert_exporter": "python",
   "pygments_lexer": "ipython3",
   "version": "3.8.8"
  }
 },
 "nbformat": 4,
 "nbformat_minor": 5
}
