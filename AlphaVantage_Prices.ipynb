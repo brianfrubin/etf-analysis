{
 "cells": [
  {
   "cell_type": "code",
   "execution_count": 2,
   "id": "1a023a9a-9be8-4b76-b0ae-a1e6c13a837c",
   "metadata": {},
   "outputs": [],
   "source": [
    "import pandas as pd\n",
    "import numpy as np\n",
    "\n",
    "from io import BytesIO\n",
    "import requests\n",
    "from configparser import ConfigParser\n",
    "parser = ConfigParser()\n",
    "_ = parser.read('notebook.cfg')\n",
    "alpha_auth_key = parser.get('my_api', 'alpha_key')"
   ]
  },
  {
   "cell_type": "code",
   "execution_count": 17,
   "id": "1af37ea8-bd43-41c4-b4c7-867d36d45322",
   "metadata": {},
   "outputs": [
    {
     "data": {
      "text/html": [
       "<div><div id=40a944cf-6178-47bb-bfd2-5ae124c0110a style=\"display:none; background-color:#9D6CFF; color:white; width:200px; height:30px; padding-left:5px; border-radius:4px; flex-direction:row; justify-content:space-around; align-items:center;\" onmouseover=\"this.style.backgroundColor='#BA9BF8'\" onmouseout=\"this.style.backgroundColor='#9D6CFF'\" onclick=\"window.commands?.execute('create-mitosheet-from-dataframe-output');\">See Full Dataframe in Mito</div> <script> if (window.commands.hasCommand('create-mitosheet-from-dataframe-output')) document.getElementById('40a944cf-6178-47bb-bfd2-5ae124c0110a').style.display = 'flex' </script> <table border=\"1\" class=\"dataframe\">\n",
       "  <thead>\n",
       "    <tr style=\"text-align: right;\">\n",
       "      <th></th>\n",
       "      <th>timestamp</th>\n",
       "      <th>open</th>\n",
       "      <th>high</th>\n",
       "      <th>low</th>\n",
       "      <th>close</th>\n",
       "      <th>volume</th>\n",
       "    </tr>\n",
       "  </thead>\n",
       "  <tbody>\n",
       "    <tr>\n",
       "      <th>494</th>\n",
       "      <td>2012-06-22</td>\n",
       "      <td>29.955</td>\n",
       "      <td>33.45</td>\n",
       "      <td>29.410</td>\n",
       "      <td>33.050</td>\n",
       "      <td>186090800</td>\n",
       "    </tr>\n",
       "    <tr>\n",
       "      <th>495</th>\n",
       "      <td>2012-06-15</td>\n",
       "      <td>27.180</td>\n",
       "      <td>30.10</td>\n",
       "      <td>26.835</td>\n",
       "      <td>30.014</td>\n",
       "      <td>121558000</td>\n",
       "    </tr>\n",
       "    <tr>\n",
       "      <th>496</th>\n",
       "      <td>2012-06-08</td>\n",
       "      <td>27.200</td>\n",
       "      <td>27.76</td>\n",
       "      <td>25.520</td>\n",
       "      <td>27.100</td>\n",
       "      <td>203386400</td>\n",
       "    </tr>\n",
       "    <tr>\n",
       "      <th>497</th>\n",
       "      <td>2012-06-01</td>\n",
       "      <td>31.480</td>\n",
       "      <td>31.69</td>\n",
       "      <td>26.830</td>\n",
       "      <td>27.720</td>\n",
       "      <td>288826000</td>\n",
       "    </tr>\n",
       "    <tr>\n",
       "      <th>498</th>\n",
       "      <td>2012-05-25</td>\n",
       "      <td>36.530</td>\n",
       "      <td>36.66</td>\n",
       "      <td>30.940</td>\n",
       "      <td>31.910</td>\n",
       "      <td>430966300</td>\n",
       "    </tr>\n",
       "  </tbody>\n",
       "</table></div>"
      ],
      "text/plain": [
       "      timestamp    open   high     low   close     volume\n",
       "494  2012-06-22  29.955  33.45  29.410  33.050  186090800\n",
       "495  2012-06-15  27.180  30.10  26.835  30.014  121558000\n",
       "496  2012-06-08  27.200  27.76  25.520  27.100  203386400\n",
       "497  2012-06-01  31.480  31.69  26.830  27.720  288826000\n",
       "498  2012-05-25  36.530  36.66  30.940  31.910  430966300"
      ]
     },
     "execution_count": 17,
     "metadata": {},
     "output_type": "execute_result"
    }
   ],
   "source": [
    "token = alpha_auth_key\n",
    "stock = 'FB'\n",
    "url = f'https://www.alphavantage.co/query?function=TIME_SERIES_WEEKLY&symbol={stock}&interval=5min&apikey={token}&datatype=csv'\n",
    "r = requests.get(url)\n",
    "\n",
    "#converting from bytes to pandas dataframe : https://stackoverflow.com/questions/47379476/how-to-convert-bytes-data-into-a-python-pandas-dataframe\n",
    "fb_weekly = pd.read_csv(BytesIO(r.content))\n",
    "fb_weekly.tail()"
   ]
  },
  {
   "cell_type": "code",
   "execution_count": null,
   "id": "95e03df0-edd3-42c9-b22b-b749c92a6517",
   "metadata": {},
   "outputs": [],
   "source": []
  }
 ],
 "metadata": {
  "kernelspec": {
   "display_name": "Python 3 (ipykernel)",
   "language": "python",
   "name": "python3"
  },
  "language_info": {
   "codemirror_mode": {
    "name": "ipython",
    "version": 3
   },
   "file_extension": ".py",
   "mimetype": "text/x-python",
   "name": "python",
   "nbconvert_exporter": "python",
   "pygments_lexer": "ipython3",
   "version": "3.8.8"
  }
 },
 "nbformat": 4,
 "nbformat_minor": 5
}
