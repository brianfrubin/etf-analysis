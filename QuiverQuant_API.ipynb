{
 "cells": [
  {
   "cell_type": "markdown",
   "id": "c034c058-c09b-4549-9e71-f3130361fa02",
   "metadata": {},
   "source": [
    "# Quiver Quant Alternative Data"
   ]
  },
  {
   "cell_type": "markdown",
   "id": "e05d7273-6191-4c79-b9b4-e6fa14df4883",
   "metadata": {
    "tags": []
   },
   "source": [
    "#### Imports"
   ]
  },
  {
   "cell_type": "code",
   "execution_count": 1,
   "id": "f0124909-be0f-4a31-9a49-f3e6efaebc8f",
   "metadata": {},
   "outputs": [],
   "source": [
    "#supressing Pandas future warnings when indexing on datetime : https://stackoverflow.com/questions/15777951/how-to-suppress-pandas-future-warning\n",
    "import warnings\n",
    "warnings.simplefilter(action='ignore', category=FutureWarning)\n",
    "import pandas as pd\n",
    "import numpy as np\n",
    "import requests\n",
    "import quiverquant\n",
    "from configparser import ConfigParser\n",
    "from io import BytesIO\n",
    "import matplotlib.pyplot as plt\n",
    "from matplotlib import style\n",
    "style.use('fivethirtyeight')\n",
    "\n",
    "parser = ConfigParser()\n",
    "_ = parser.read('notebook.cfg')\n",
    "\n",
    "nasdaq_auth_key = parser.get('my_api', 'nasd_key')\n",
    "quant_auth_key = parser.get('my_api', 'quant_key')\n",
    "alpha_auth_key = parser.get('my_api', 'alpha_key')"
   ]
  },
  {
   "cell_type": "markdown",
   "id": "f34c55c4-4289-44b3-a5d8-ba5385c0facc",
   "metadata": {},
   "source": [
    "## Using QuiverQuant's API to Access Data"
   ]
  },
  {
   "cell_type": "code",
   "execution_count": 2,
   "id": "7a01e24a-957e-4054-b0c3-6d4a68bdba61",
   "metadata": {},
   "outputs": [
    {
     "data": {
      "text/html": [
       "<div><div id=d9946c75-5e5c-40a1-ac0c-f60e03a2feac style=\"display:none; background-color:#9D6CFF; color:white; width:200px; height:30px; padding-left:5px; border-radius:4px; flex-direction:row; justify-content:space-around; align-items:center;\" onmouseover=\"this.style.backgroundColor='#BA9BF8'\" onmouseout=\"this.style.backgroundColor='#9D6CFF'\" onclick=\"window.commands?.execute('create-mitosheet-from-dataframe-output');\">See Full Dataframe in Mito</div> <script> if (window.commands.hasCommand('create-mitosheet-from-dataframe-output')) document.getElementById('d9946c75-5e5c-40a1-ac0c-f60e03a2feac').style.display = 'flex' </script> <table border=\"1\" class=\"dataframe\">\n",
       "  <thead>\n",
       "    <tr style=\"text-align: right;\">\n",
       "      <th></th>\n",
       "      <th>Date</th>\n",
       "      <th>Ticker</th>\n",
       "      <th>Views</th>\n",
       "      <th>pct_change_week</th>\n",
       "      <th>pct_change_month</th>\n",
       "    </tr>\n",
       "  </thead>\n",
       "  <tbody>\n",
       "    <tr>\n",
       "      <th>0</th>\n",
       "      <td>2016-10-17</td>\n",
       "      <td>FB</td>\n",
       "      <td>259</td>\n",
       "      <td>-29.343629</td>\n",
       "      <td>-30.888031</td>\n",
       "    </tr>\n",
       "    <tr>\n",
       "      <th>1</th>\n",
       "      <td>2016-10-24</td>\n",
       "      <td>FB</td>\n",
       "      <td>183</td>\n",
       "      <td>-29.343629</td>\n",
       "      <td>-30.888031</td>\n",
       "    </tr>\n",
       "    <tr>\n",
       "      <th>2</th>\n",
       "      <td>2016-10-31</td>\n",
       "      <td>FB</td>\n",
       "      <td>205</td>\n",
       "      <td>12.021858</td>\n",
       "      <td>-30.888031</td>\n",
       "    </tr>\n",
       "    <tr>\n",
       "      <th>3</th>\n",
       "      <td>2016-11-07</td>\n",
       "      <td>FB</td>\n",
       "      <td>180</td>\n",
       "      <td>-12.195122</td>\n",
       "      <td>-30.888031</td>\n",
       "    </tr>\n",
       "    <tr>\n",
       "      <th>4</th>\n",
       "      <td>2016-11-14</td>\n",
       "      <td>FB</td>\n",
       "      <td>179</td>\n",
       "      <td>-0.555556</td>\n",
       "      <td>-30.888031</td>\n",
       "    </tr>\n",
       "  </tbody>\n",
       "</table></div>"
      ],
      "text/plain": [
       "        Date Ticker  Views  pct_change_week  pct_change_month\n",
       "0 2016-10-17     FB    259       -29.343629        -30.888031\n",
       "1 2016-10-24     FB    183       -29.343629        -30.888031\n",
       "2 2016-10-31     FB    205        12.021858        -30.888031\n",
       "3 2016-11-07     FB    180       -12.195122        -30.888031\n",
       "4 2016-11-14     FB    179        -0.555556        -30.888031"
      ]
     },
     "execution_count": 2,
     "metadata": {},
     "output_type": "execute_result"
    }
   ],
   "source": [
    "parser = ConfigParser()\n",
    "_ = parser.read('notebook.cfg')\n",
    "quant_auth_key = parser.get('my_api', 'quant_key')\n",
    "url = \"https://api.quiverquant.com/beta/historical/wikipedia/FB\"\n",
    "headers = {'accept': 'application/json',\n",
    "'X-CSRFToken': 'TyTJwjuEC7VV7mOqZ622haRaaUr0x0Ng4nrwSRFKQs7vdoBcJlK9qjAS69ghzhFu',\n",
    "'Authorization': f'Token {quant_auth_key}'}\n",
    "r = requests.get(url, headers=headers)\n",
    "df = df = pd.read_json(r.content)\n",
    "df.head()"
   ]
  },
  {
   "cell_type": "markdown",
   "id": "d2bda919-66c6-49a4-bd8c-6b90613b2f88",
   "metadata": {
    "tags": []
   },
   "source": [
    "## Using QuiverQuant Library to Access Data"
   ]
  },
  {
   "cell_type": "code",
   "execution_count": 3,
   "id": "98cbfccc-62d7-4f40-a0fa-af1cc531dfaf",
   "metadata": {},
   "outputs": [],
   "source": [
    "#https://github.com/Quiver-Quantitative/python-api\n",
    "token = quant_auth_key\n",
    "quiver = quiverquant.quiver(token)"
   ]
  },
  {
   "cell_type": "markdown",
   "id": "5a233d0f-6241-4d3f-a3d6-1709cf58e7d1",
   "metadata": {
    "tags": []
   },
   "source": [
    "## Facebook - Data Exploration"
   ]
  },
  {
   "cell_type": "markdown",
   "id": "702584b3-1ae3-43d4-840e-e259a5aadbbf",
   "metadata": {
    "tags": []
   },
   "source": [
    "#### WallStreetBets Data (Historical Daily)"
   ]
  },
  {
   "cell_type": "code",
   "execution_count": 22,
   "id": "bc17375d-acb9-4099-88f5-3b35f5b8003d",
   "metadata": {},
   "outputs": [
    {
     "name": "stdout",
     "output_type": "stream",
     "text": [
      "https://api.quiverquant.com/beta/historical/wallstreetbets/FB\n"
     ]
    },
    {
     "data": {
      "text/html": [
       "<div><div id=25045ec4-f7d6-4ee0-b698-50e923fed843 style=\"display:none; background-color:#9D6CFF; color:white; width:200px; height:30px; padding-left:5px; border-radius:4px; flex-direction:row; justify-content:space-around; align-items:center;\" onmouseover=\"this.style.backgroundColor='#BA9BF8'\" onmouseout=\"this.style.backgroundColor='#9D6CFF'\" onclick=\"window.commands?.execute('create-mitosheet-from-dataframe-output');\">See Full Dataframe in Mito</div> <script> if (window.commands.hasCommand('create-mitosheet-from-dataframe-output')) document.getElementById('25045ec4-f7d6-4ee0-b698-50e923fed843').style.display = 'flex' </script> <table border=\"1\" class=\"dataframe\">\n",
       "  <thead>\n",
       "    <tr style=\"text-align: right;\">\n",
       "      <th></th>\n",
       "      <th>Date</th>\n",
       "      <th>Ticker</th>\n",
       "      <th>Mentions</th>\n",
       "      <th>Rank</th>\n",
       "      <th>Sentiment</th>\n",
       "    </tr>\n",
       "  </thead>\n",
       "  <tbody>\n",
       "    <tr>\n",
       "      <th>0</th>\n",
       "      <td>2018-08-01</td>\n",
       "      <td>FB</td>\n",
       "      <td>4</td>\n",
       "      <td>8</td>\n",
       "      <td>-0.054825</td>\n",
       "    </tr>\n",
       "    <tr>\n",
       "      <th>1</th>\n",
       "      <td>2018-08-02</td>\n",
       "      <td>FB</td>\n",
       "      <td>10</td>\n",
       "      <td>6</td>\n",
       "      <td>0.299040</td>\n",
       "    </tr>\n",
       "    <tr>\n",
       "      <th>2</th>\n",
       "      <td>2018-08-03</td>\n",
       "      <td>FB</td>\n",
       "      <td>10</td>\n",
       "      <td>5</td>\n",
       "      <td>0.005050</td>\n",
       "    </tr>\n",
       "    <tr>\n",
       "      <th>3</th>\n",
       "      <td>2018-08-06</td>\n",
       "      <td>FB</td>\n",
       "      <td>19</td>\n",
       "      <td>2</td>\n",
       "      <td>0.225889</td>\n",
       "    </tr>\n",
       "    <tr>\n",
       "      <th>4</th>\n",
       "      <td>2018-08-07</td>\n",
       "      <td>FB</td>\n",
       "      <td>13</td>\n",
       "      <td>5</td>\n",
       "      <td>-0.198246</td>\n",
       "    </tr>\n",
       "  </tbody>\n",
       "</table></div>"
      ],
      "text/plain": [
       "        Date Ticker  Mentions  Rank  Sentiment\n",
       "0 2018-08-01     FB         4     8  -0.054825\n",
       "1 2018-08-02     FB        10     6   0.299040\n",
       "2 2018-08-03     FB        10     5   0.005050\n",
       "3 2018-08-06     FB        19     2   0.225889\n",
       "4 2018-08-07     FB        13     5  -0.198246"
      ]
     },
     "execution_count": 22,
     "metadata": {},
     "output_type": "execute_result"
    }
   ],
   "source": [
    "quiver.wallstreetbets(ticker ='FB').head()"
   ]
  },
  {
   "cell_type": "markdown",
   "id": "35643811-9850-4720-b0fa-24c749b61a84",
   "metadata": {},
   "source": [
    "#### Twitter Data (Historical Daily)"
   ]
  },
  {
   "cell_type": "code",
   "execution_count": 27,
   "id": "0aed0858-9456-403b-aad9-57ae5209f517",
   "metadata": {},
   "outputs": [
    {
     "data": {
      "text/html": [
       "<div><div id=311e1fac-02b7-4bac-b6bb-83f1f0c925cd style=\"display:none; background-color:#9D6CFF; color:white; width:200px; height:30px; padding-left:5px; border-radius:4px; flex-direction:row; justify-content:space-around; align-items:center;\" onmouseover=\"this.style.backgroundColor='#BA9BF8'\" onmouseout=\"this.style.backgroundColor='#9D6CFF'\" onclick=\"window.commands?.execute('create-mitosheet-from-dataframe-output');\">See Full Dataframe in Mito</div> <script> if (window.commands.hasCommand('create-mitosheet-from-dataframe-output')) document.getElementById('311e1fac-02b7-4bac-b6bb-83f1f0c925cd').style.display = 'flex' </script> <table border=\"1\" class=\"dataframe\">\n",
       "  <thead>\n",
       "    <tr style=\"text-align: right;\">\n",
       "      <th></th>\n",
       "      <th>Date</th>\n",
       "      <th>Ticker</th>\n",
       "      <th>Followers</th>\n",
       "      <th>pct_change_day</th>\n",
       "      <th>pct_change_week</th>\n",
       "      <th>pct_change_month</th>\n",
       "    </tr>\n",
       "  </thead>\n",
       "  <tbody>\n",
       "    <tr>\n",
       "      <th>478</th>\n",
       "      <td>2020-05-02</td>\n",
       "      <td>FB</td>\n",
       "      <td>13467018</td>\n",
       "      <td>0.006579</td>\n",
       "      <td>0.027705</td>\n",
       "      <td>-0.205672</td>\n",
       "    </tr>\n",
       "    <tr>\n",
       "      <th>477</th>\n",
       "      <td>2020-05-03</td>\n",
       "      <td>FB</td>\n",
       "      <td>13467293</td>\n",
       "      <td>0.002042</td>\n",
       "      <td>0.027883</td>\n",
       "      <td>-0.176472</td>\n",
       "    </tr>\n",
       "    <tr>\n",
       "      <th>476</th>\n",
       "      <td>2020-05-05</td>\n",
       "      <td>FB</td>\n",
       "      <td>13465836</td>\n",
       "      <td>-0.010819</td>\n",
       "      <td>0.015531</td>\n",
       "      <td>-0.113410</td>\n",
       "    </tr>\n",
       "    <tr>\n",
       "      <th>475</th>\n",
       "      <td>2020-05-06</td>\n",
       "      <td>FB</td>\n",
       "      <td>13464762</td>\n",
       "      <td>-0.007976</td>\n",
       "      <td>0.010473</td>\n",
       "      <td>-0.065120</td>\n",
       "    </tr>\n",
       "    <tr>\n",
       "      <th>474</th>\n",
       "      <td>2020-05-07</td>\n",
       "      <td>FB</td>\n",
       "      <td>13464234</td>\n",
       "      <td>-0.003921</td>\n",
       "      <td>-0.001255</td>\n",
       "      <td>0.008557</td>\n",
       "    </tr>\n",
       "  </tbody>\n",
       "</table></div>"
      ],
      "text/plain": [
       "           Date Ticker  Followers  pct_change_day  pct_change_week  \\\n",
       "478  2020-05-02     FB   13467018        0.006579         0.027705   \n",
       "477  2020-05-03     FB   13467293        0.002042         0.027883   \n",
       "476  2020-05-05     FB   13465836       -0.010819         0.015531   \n",
       "475  2020-05-06     FB   13464762       -0.007976         0.010473   \n",
       "474  2020-05-07     FB   13464234       -0.003921        -0.001255   \n",
       "\n",
       "     pct_change_month  \n",
       "478         -0.205672  \n",
       "477         -0.176472  \n",
       "476         -0.113410  \n",
       "475         -0.065120  \n",
       "474          0.008557  "
      ]
     },
     "execution_count": 27,
     "metadata": {},
     "output_type": "execute_result"
    }
   ],
   "source": [
    "quiver.twitter(ticker='FB').sort_values('Date', ascending=True).head()"
   ]
  },
  {
   "cell_type": "code",
   "execution_count": 6,
   "id": "f01ccdcd-db8a-4a3c-ae5b-b9d25990ea34",
   "metadata": {},
   "outputs": [],
   "source": [
    "twitter_data = quiver.twitter(ticker='FB')"
   ]
  },
  {
   "cell_type": "code",
   "execution_count": 18,
   "id": "db107efd-9b6b-4203-adab-513168b890a1",
   "metadata": {},
   "outputs": [
    {
     "data": {
      "text/html": [
       "<div><div id=f3c3ead8-be89-41a8-865c-9f38ad123f33 style=\"display:none; background-color:#9D6CFF; color:white; width:200px; height:30px; padding-left:5px; border-radius:4px; flex-direction:row; justify-content:space-around; align-items:center;\" onmouseover=\"this.style.backgroundColor='#BA9BF8'\" onmouseout=\"this.style.backgroundColor='#9D6CFF'\" onclick=\"window.commands?.execute('create-mitosheet-from-dataframe-output');\">See Full Dataframe in Mito</div> <script> if (window.commands.hasCommand('create-mitosheet-from-dataframe-output')) document.getElementById('f3c3ead8-be89-41a8-865c-9f38ad123f33').style.display = 'flex' </script> <table border=\"1\" class=\"dataframe\">\n",
       "  <thead>\n",
       "    <tr style=\"text-align: right;\">\n",
       "      <th></th>\n",
       "      <th>Date</th>\n",
       "      <th>Ticker</th>\n",
       "      <th>Followers</th>\n",
       "    </tr>\n",
       "  </thead>\n",
       "  <tbody>\n",
       "    <tr>\n",
       "      <th>474</th>\n",
       "      <td>2020-05-07</td>\n",
       "      <td>FB</td>\n",
       "      <td>13464234</td>\n",
       "    </tr>\n",
       "    <tr>\n",
       "      <th>475</th>\n",
       "      <td>2020-05-06</td>\n",
       "      <td>FB</td>\n",
       "      <td>13464762</td>\n",
       "    </tr>\n",
       "    <tr>\n",
       "      <th>476</th>\n",
       "      <td>2020-05-05</td>\n",
       "      <td>FB</td>\n",
       "      <td>13465836</td>\n",
       "    </tr>\n",
       "    <tr>\n",
       "      <th>477</th>\n",
       "      <td>2020-05-03</td>\n",
       "      <td>FB</td>\n",
       "      <td>13467293</td>\n",
       "    </tr>\n",
       "    <tr>\n",
       "      <th>478</th>\n",
       "      <td>2020-05-02</td>\n",
       "      <td>FB</td>\n",
       "      <td>13467018</td>\n",
       "    </tr>\n",
       "  </tbody>\n",
       "</table></div>"
      ],
      "text/plain": [
       "           Date Ticker  Followers\n",
       "474  2020-05-07     FB   13464234\n",
       "475  2020-05-06     FB   13464762\n",
       "476  2020-05-05     FB   13465836\n",
       "477  2020-05-03     FB   13467293\n",
       "478  2020-05-02     FB   13467018"
      ]
     },
     "execution_count": 18,
     "metadata": {},
     "output_type": "execute_result"
    }
   ],
   "source": [
    "twitter_data[['Date', 'Ticker', 'Followers']].tail()"
   ]
  },
  {
   "cell_type": "markdown",
   "id": "d5c9514c-a0cd-4f3a-bf38-651beee588c8",
   "metadata": {},
   "source": [
    "#### Wikipedia Pageviews (Historical Weekly)"
   ]
  },
  {
   "cell_type": "code",
   "execution_count": 16,
   "id": "bb75c00f-54d9-4674-a22b-f6bf2759e2c1",
   "metadata": {},
   "outputs": [
    {
     "data": {
      "text/html": [
       "<div><div id=9ebde90c-2733-45ce-91a0-2360435963c8 style=\"display:none; background-color:#9D6CFF; color:white; width:200px; height:30px; padding-left:5px; border-radius:4px; flex-direction:row; justify-content:space-around; align-items:center;\" onmouseover=\"this.style.backgroundColor='#BA9BF8'\" onmouseout=\"this.style.backgroundColor='#9D6CFF'\" onclick=\"window.commands?.execute('create-mitosheet-from-dataframe-output');\">See Full Dataframe in Mito</div> <script> if (window.commands.hasCommand('create-mitosheet-from-dataframe-output')) document.getElementById('9ebde90c-2733-45ce-91a0-2360435963c8').style.display = 'flex' </script> <table border=\"1\" class=\"dataframe\">\n",
       "  <thead>\n",
       "    <tr style=\"text-align: right;\">\n",
       "      <th></th>\n",
       "      <th>Date</th>\n",
       "      <th>Ticker</th>\n",
       "      <th>Views</th>\n",
       "      <th>pct_change_week</th>\n",
       "      <th>pct_change_month</th>\n",
       "    </tr>\n",
       "  </thead>\n",
       "  <tbody>\n",
       "    <tr>\n",
       "      <th>0</th>\n",
       "      <td>2016-10-17</td>\n",
       "      <td>FB</td>\n",
       "      <td>259.0</td>\n",
       "      <td>-29.343629</td>\n",
       "      <td>-30.888031</td>\n",
       "    </tr>\n",
       "    <tr>\n",
       "      <th>1</th>\n",
       "      <td>2016-10-24</td>\n",
       "      <td>FB</td>\n",
       "      <td>183.0</td>\n",
       "      <td>-29.343629</td>\n",
       "      <td>-30.888031</td>\n",
       "    </tr>\n",
       "    <tr>\n",
       "      <th>2</th>\n",
       "      <td>2016-10-31</td>\n",
       "      <td>FB</td>\n",
       "      <td>205.0</td>\n",
       "      <td>12.021858</td>\n",
       "      <td>-30.888031</td>\n",
       "    </tr>\n",
       "    <tr>\n",
       "      <th>3</th>\n",
       "      <td>2016-11-07</td>\n",
       "      <td>FB</td>\n",
       "      <td>180.0</td>\n",
       "      <td>-12.195122</td>\n",
       "      <td>-30.888031</td>\n",
       "    </tr>\n",
       "    <tr>\n",
       "      <th>4</th>\n",
       "      <td>2016-11-14</td>\n",
       "      <td>FB</td>\n",
       "      <td>179.0</td>\n",
       "      <td>-0.555556</td>\n",
       "      <td>-30.888031</td>\n",
       "    </tr>\n",
       "  </tbody>\n",
       "</table></div>"
      ],
      "text/plain": [
       "         Date Ticker  Views  pct_change_week  pct_change_month\n",
       "0  2016-10-17     FB  259.0       -29.343629        -30.888031\n",
       "1  2016-10-24     FB  183.0       -29.343629        -30.888031\n",
       "2  2016-10-31     FB  205.0        12.021858        -30.888031\n",
       "3  2016-11-07     FB  180.0       -12.195122        -30.888031\n",
       "4  2016-11-14     FB  179.0        -0.555556        -30.888031"
      ]
     },
     "execution_count": 16,
     "metadata": {},
     "output_type": "execute_result"
    }
   ],
   "source": [
    "quiver.wikipedia(ticker='FB').head()"
   ]
  },
  {
   "cell_type": "markdown",
   "id": "7de20185-eeb4-4b97-a43b-7ea38804f3bb",
   "metadata": {},
   "source": [
    "#### Congress Trading (Historical)"
   ]
  },
  {
   "cell_type": "code",
   "execution_count": 10,
   "id": "62c19de0-ada4-4a5f-bd61-5b62d8e16f5c",
   "metadata": {},
   "outputs": [
    {
     "data": {
      "text/html": [
       "<div><div id=1be4e733-1cf4-4294-bbc0-e8dc9655ea67 style=\"display:none; background-color:#9D6CFF; color:white; width:200px; height:30px; padding-left:5px; border-radius:4px; flex-direction:row; justify-content:space-around; align-items:center;\" onmouseover=\"this.style.backgroundColor='#BA9BF8'\" onmouseout=\"this.style.backgroundColor='#9D6CFF'\" onclick=\"window.commands?.execute('create-mitosheet-from-dataframe-output');\">See Full Dataframe in Mito</div> <script> if (window.commands.hasCommand('create-mitosheet-from-dataframe-output')) document.getElementById('1be4e733-1cf4-4294-bbc0-e8dc9655ea67').style.display = 'flex' </script> <table border=\"1\" class=\"dataframe\">\n",
       "  <thead>\n",
       "    <tr style=\"text-align: right;\">\n",
       "      <th></th>\n",
       "      <th>ReportDate</th>\n",
       "      <th>TransactionDate</th>\n",
       "      <th>Ticker</th>\n",
       "      <th>Representative</th>\n",
       "      <th>Transaction</th>\n",
       "      <th>Amount</th>\n",
       "      <th>House</th>\n",
       "      <th>Range</th>\n",
       "    </tr>\n",
       "  </thead>\n",
       "  <tbody>\n",
       "    <tr>\n",
       "      <th>147</th>\n",
       "      <td>2016-04-28</td>\n",
       "      <td>2016-04-28</td>\n",
       "      <td>FB</td>\n",
       "      <td>Pat Roberts</td>\n",
       "      <td>Purchase</td>\n",
       "      <td>1001.0</td>\n",
       "      <td>Senate</td>\n",
       "      <td>$1,001 - $15,000</td>\n",
       "    </tr>\n",
       "    <tr>\n",
       "      <th>148</th>\n",
       "      <td>2016-04-04</td>\n",
       "      <td>2016-03-24</td>\n",
       "      <td>FB</td>\n",
       "      <td>Sheldon Whitehouse</td>\n",
       "      <td>Purchase</td>\n",
       "      <td>1001.0</td>\n",
       "      <td>Senate</td>\n",
       "      <td>$1,001 - $15,000</td>\n",
       "    </tr>\n",
       "    <tr>\n",
       "      <th>149</th>\n",
       "      <td>2016-03-25</td>\n",
       "      <td>2016-03-07</td>\n",
       "      <td>FB</td>\n",
       "      <td>John Hoeven</td>\n",
       "      <td>Purchase</td>\n",
       "      <td>50001.0</td>\n",
       "      <td>Senate</td>\n",
       "      <td>$50,001 - $100,000</td>\n",
       "    </tr>\n",
       "    <tr>\n",
       "      <th>150</th>\n",
       "      <td>2016-02-23</td>\n",
       "      <td>2016-02-16</td>\n",
       "      <td>FB</td>\n",
       "      <td>Sheldon Whitehouse</td>\n",
       "      <td>Purchase</td>\n",
       "      <td>1001.0</td>\n",
       "      <td>Senate</td>\n",
       "      <td>$1,001 - $15,000</td>\n",
       "    </tr>\n",
       "    <tr>\n",
       "      <th>151</th>\n",
       "      <td>2016-02-23</td>\n",
       "      <td>2016-01-28</td>\n",
       "      <td>FB</td>\n",
       "      <td>Sheldon Whitehouse</td>\n",
       "      <td>Purchase</td>\n",
       "      <td>1001.0</td>\n",
       "      <td>Senate</td>\n",
       "      <td>$1,001 - $15,000</td>\n",
       "    </tr>\n",
       "  </tbody>\n",
       "</table></div>"
      ],
      "text/plain": [
       "    ReportDate TransactionDate Ticker      Representative Transaction  \\\n",
       "147 2016-04-28      2016-04-28     FB         Pat Roberts    Purchase   \n",
       "148 2016-04-04      2016-03-24     FB  Sheldon Whitehouse    Purchase   \n",
       "149 2016-03-25      2016-03-07     FB         John Hoeven    Purchase   \n",
       "150 2016-02-23      2016-02-16     FB  Sheldon Whitehouse    Purchase   \n",
       "151 2016-02-23      2016-01-28     FB  Sheldon Whitehouse    Purchase   \n",
       "\n",
       "      Amount   House               Range  \n",
       "147   1001.0  Senate    $1,001 - $15,000  \n",
       "148   1001.0  Senate    $1,001 - $15,000  \n",
       "149  50001.0  Senate  $50,001 - $100,000  \n",
       "150   1001.0  Senate    $1,001 - $15,000  \n",
       "151   1001.0  Senate    $1,001 - $15,000  "
      ]
     },
     "execution_count": 10,
     "metadata": {},
     "output_type": "execute_result"
    }
   ],
   "source": [
    "quiver.congress_trading(ticker='FB', politician=False).tail()"
   ]
  },
  {
   "cell_type": "markdown",
   "id": "180517b0-1dec-4c53-9925-1012aa7e3202",
   "metadata": {},
   "source": [
    "#### OTC Short Percentages (Historical)"
   ]
  },
  {
   "cell_type": "code",
   "execution_count": 50,
   "id": "771b7243-4ec5-4c77-9ba0-1886cc442044",
   "metadata": {},
   "outputs": [
    {
     "data": {
      "text/html": [
       "<div><div id=e63a437b-b523-49ae-8a71-13f25b0aaaeb style=\"display:none; background-color:#9D6CFF; color:white; width:200px; height:30px; padding-left:5px; border-radius:4px; flex-direction:row; justify-content:space-around; align-items:center;\" onmouseover=\"this.style.backgroundColor='#BA9BF8'\" onmouseout=\"this.style.backgroundColor='#9D6CFF'\" onclick=\"window.commands?.execute('create-mitosheet-from-dataframe-output');\">See Full Dataframe in Mito</div> <script> if (window.commands.hasCommand('create-mitosheet-from-dataframe-output')) document.getElementById('e63a437b-b523-49ae-8a71-13f25b0aaaeb').style.display = 'flex' </script> <table border=\"1\" class=\"dataframe\">\n",
       "  <thead>\n",
       "    <tr style=\"text-align: right;\">\n",
       "      <th></th>\n",
       "      <th>Date</th>\n",
       "      <th>Ticker</th>\n",
       "      <th>OTC_Short</th>\n",
       "      <th>OTC_Total</th>\n",
       "      <th>DPI</th>\n",
       "    </tr>\n",
       "  </thead>\n",
       "  <tbody>\n",
       "    <tr>\n",
       "      <th>2386</th>\n",
       "      <td>2012-05-24</td>\n",
       "      <td>FB</td>\n",
       "      <td>6344764</td>\n",
       "      <td>17180465</td>\n",
       "      <td>0.369301</td>\n",
       "    </tr>\n",
       "    <tr>\n",
       "      <th>2387</th>\n",
       "      <td>2012-05-23</td>\n",
       "      <td>FB</td>\n",
       "      <td>7021287</td>\n",
       "      <td>22748790</td>\n",
       "      <td>0.308644</td>\n",
       "    </tr>\n",
       "    <tr>\n",
       "      <th>2388</th>\n",
       "      <td>2012-05-22</td>\n",
       "      <td>FB</td>\n",
       "      <td>7705869</td>\n",
       "      <td>33565864</td>\n",
       "      <td>0.229575</td>\n",
       "    </tr>\n",
       "    <tr>\n",
       "      <th>2389</th>\n",
       "      <td>2012-05-21</td>\n",
       "      <td>FB</td>\n",
       "      <td>6433108</td>\n",
       "      <td>43305137</td>\n",
       "      <td>0.148553</td>\n",
       "    </tr>\n",
       "    <tr>\n",
       "      <th>2390</th>\n",
       "      <td>2012-05-18</td>\n",
       "      <td>FB</td>\n",
       "      <td>23641525</td>\n",
       "      <td>77969848</td>\n",
       "      <td>0.303214</td>\n",
       "    </tr>\n",
       "  </tbody>\n",
       "</table></div>"
      ],
      "text/plain": [
       "           Date Ticker  OTC_Short  OTC_Total       DPI\n",
       "2386 2012-05-24     FB    6344764   17180465  0.369301\n",
       "2387 2012-05-23     FB    7021287   22748790  0.308644\n",
       "2388 2012-05-22     FB    7705869   33565864  0.229575\n",
       "2389 2012-05-21     FB    6433108   43305137  0.148553\n",
       "2390 2012-05-18     FB   23641525   77969848  0.303214"
      ]
     },
     "execution_count": 50,
     "metadata": {},
     "output_type": "execute_result"
    }
   ],
   "source": [
    "quiver.offexchange(ticker='FB').tail()"
   ]
  },
  {
   "cell_type": "code",
   "execution_count": 51,
   "id": "2fce021b-d50d-4856-ab25-757705755d9e",
   "metadata": {},
   "outputs": [],
   "source": [
    "otc_data = quiver.offexchange(ticker='FB')[['Date', 'DPI']].sort_values(by='Date', ascending=True)"
   ]
  },
  {
   "cell_type": "markdown",
   "id": "efc17b66-1cb1-4fdc-8294-e953d89d5822",
   "metadata": {},
   "source": [
    "## Function Combining Several Sentiment Indicators  "
   ]
  },
  {
   "cell_type": "code",
   "execution_count": 144,
   "id": "38a4611b-664b-429f-b8af-05a218b1d61d",
   "metadata": {},
   "outputs": [],
   "source": [
    "def alt_dataframe(ticker, start_date, end_date):\n",
    "    wsb_data = quiver.wallstreetbets(ticker ='FB')\n",
    "    wsb_data['Date'] = pd.to_datetime(wsb_data['Date'])\n",
    "    wsb_data.set_index('Date', inplace=True)\n",
    "    congress_data = quiver.congress_trading(ticker='FB', politician=False).sort_values(by='ReportDate', ascending=True)[['ReportDate', 'Transaction']]\n",
    "    congress_data['Transaction'] = congress_data['Transaction'].map({'Purchase' : 1, 'Sale' : -1})\n",
    "    congress_data['ReportDate'] = pd.to_datetime(congress_data['ReportDate'])\n",
    "    congress_data.set_index('ReportDate', inplace=True)\n",
    "    otc_data = quiver.offexchange(ticker='FB')[['Date', 'DPI']].sort_values(by='Date', ascending=True)\n",
    "    otc_data['Date'] = pd.to_datetime(otc_data['Date'])\n",
    "    otc_data.set_index('Date', inplace=True)\n",
    "    df = otc_data.join(congress_data)\n",
    "    df2 = df.join(wsb_data)\n",
    "    df2 = df2[df2.index >= f'{start_date}']\n",
    "    df2 = df2[df2.index <= f'{end_date}']\n",
    "    df2['Transaction'].fillna(0, inplace=True)\n",
    "    return df2"
   ]
  },
  {
   "cell_type": "code",
   "execution_count": 146,
   "id": "8f376bb0-2415-4467-9516-56ab9bb57c8b",
   "metadata": {},
   "outputs": [
    {
     "name": "stdout",
     "output_type": "stream",
     "text": [
      "https://api.quiverquant.com/beta/historical/wallstreetbets/FB\n"
     ]
    },
    {
     "data": {
      "text/html": [
       "<div><div id=712eaa39-0b6d-4986-8394-caba20f1a9a7 style=\"display:none; background-color:#9D6CFF; color:white; width:200px; height:30px; padding-left:5px; border-radius:4px; flex-direction:row; justify-content:space-around; align-items:center;\" onmouseover=\"this.style.backgroundColor='#BA9BF8'\" onmouseout=\"this.style.backgroundColor='#9D6CFF'\" onclick=\"window.commands?.execute('create-mitosheet-from-dataframe-output');\">See Full Dataframe in Mito</div> <script> if (window.commands.hasCommand('create-mitosheet-from-dataframe-output')) document.getElementById('712eaa39-0b6d-4986-8394-caba20f1a9a7').style.display = 'flex' </script> <table border=\"1\" class=\"dataframe\">\n",
       "  <thead>\n",
       "    <tr style=\"text-align: right;\">\n",
       "      <th></th>\n",
       "      <th>DPI</th>\n",
       "      <th>Transaction</th>\n",
       "      <th>Ticker</th>\n",
       "      <th>Mentions</th>\n",
       "      <th>Rank</th>\n",
       "      <th>Sentiment</th>\n",
       "    </tr>\n",
       "  </thead>\n",
       "  <tbody>\n",
       "    <tr>\n",
       "      <th>2021-01-04</th>\n",
       "      <td>0.319705</td>\n",
       "      <td>0.0</td>\n",
       "      <td>FB</td>\n",
       "      <td>22.0</td>\n",
       "      <td>67.0</td>\n",
       "      <td>0.010582</td>\n",
       "    </tr>\n",
       "    <tr>\n",
       "      <th>2021-01-05</th>\n",
       "      <td>0.346115</td>\n",
       "      <td>0.0</td>\n",
       "      <td>FB</td>\n",
       "      <td>37.0</td>\n",
       "      <td>44.0</td>\n",
       "      <td>0.074581</td>\n",
       "    </tr>\n",
       "    <tr>\n",
       "      <th>2021-01-06</th>\n",
       "      <td>0.325061</td>\n",
       "      <td>0.0</td>\n",
       "      <td>FB</td>\n",
       "      <td>98.0</td>\n",
       "      <td>25.0</td>\n",
       "      <td>-0.029316</td>\n",
       "    </tr>\n",
       "    <tr>\n",
       "      <th>2021-01-07</th>\n",
       "      <td>0.301306</td>\n",
       "      <td>0.0</td>\n",
       "      <td>FB</td>\n",
       "      <td>76.0</td>\n",
       "      <td>25.0</td>\n",
       "      <td>0.021668</td>\n",
       "    </tr>\n",
       "    <tr>\n",
       "      <th>2021-01-08</th>\n",
       "      <td>0.341858</td>\n",
       "      <td>0.0</td>\n",
       "      <td>FB</td>\n",
       "      <td>63.0</td>\n",
       "      <td>24.0</td>\n",
       "      <td>-0.074205</td>\n",
       "    </tr>\n",
       "  </tbody>\n",
       "</table></div>"
      ],
      "text/plain": [
       "                 DPI  Transaction Ticker  Mentions  Rank  Sentiment\n",
       "2021-01-04  0.319705          0.0     FB      22.0  67.0   0.010582\n",
       "2021-01-05  0.346115          0.0     FB      37.0  44.0   0.074581\n",
       "2021-01-06  0.325061          0.0     FB      98.0  25.0  -0.029316\n",
       "2021-01-07  0.301306          0.0     FB      76.0  25.0   0.021668\n",
       "2021-01-08  0.341858          0.0     FB      63.0  24.0  -0.074205"
      ]
     },
     "execution_count": 146,
     "metadata": {},
     "output_type": "execute_result"
    }
   ],
   "source": [
    "ticker = 'FB'\n",
    "start_date = '2021-01-01'\n",
    "end_date = '2021-12-10'\n",
    "alt_dataframe(ticker, start_date, end_date).head()"
   ]
  }
 ],
 "metadata": {
  "kernelspec": {
   "display_name": "Python 3 (ipykernel)",
   "language": "python",
   "name": "python3"
  },
  "language_info": {
   "codemirror_mode": {
    "name": "ipython",
    "version": 3
   },
   "file_extension": ".py",
   "mimetype": "text/x-python",
   "name": "python",
   "nbconvert_exporter": "python",
   "pygments_lexer": "ipython3",
   "version": "3.8.8"
  }
 },
 "nbformat": 4,
 "nbformat_minor": 5
}
