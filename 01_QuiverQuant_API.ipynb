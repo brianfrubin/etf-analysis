{
 "cells": [
  {
   "cell_type": "markdown",
   "id": "c034c058-c09b-4549-9e71-f3130361fa02",
   "metadata": {},
   "source": [
    "# Quiver Quant Alternative Data"
   ]
  },
  {
   "cell_type": "markdown",
   "id": "7d7669f7-adaa-41fa-9140-f96d4acbb8c0",
   "metadata": {
    "tags": []
   },
   "source": [
    "#### Imports"
   ]
  },
  {
   "cell_type": "code",
   "execution_count": 2,
   "id": "f0124909-be0f-4a31-9a49-f3e6efaebc8f",
   "metadata": {},
   "outputs": [],
   "source": [
    "#supressing Pandas future warnings when indexing on datetime : https://stackoverflow.com/questions/15777951/how-to-suppress-pandas-future-warning\n",
    "import warnings\n",
    "warnings.simplefilter(action='ignore', category=FutureWarning)\n",
    "import pandas as pd\n",
    "import numpy as np\n",
    "import requests\n",
    "import quiverquant\n",
    "from configparser import ConfigParser\n",
    "from io import BytesIO\n",
    "\n",
    "import plotly.express as px\n",
    "import plotly.graph_objects as go\n",
    "from plotly.subplots import make_subplots\n",
    "\n",
    "parser = ConfigParser()\n",
    "_ = parser.read('notebook.cfg')\n",
    "\n",
    "nasdaq_auth_key = parser.get('my_api', 'nasd_key')\n",
    "quant_auth_key = parser.get('my_api', 'quant_key')\n",
    "alpha_auth_key = parser.get('my_api', 'alpha_key')"
   ]
  },
  {
   "cell_type": "markdown",
   "id": "f34c55c4-4289-44b3-a5d8-ba5385c0facc",
   "metadata": {},
   "source": [
    "## Using QuiverQuant's API to Access Data"
   ]
  },
  {
   "cell_type": "code",
   "execution_count": 2,
   "id": "7a01e24a-957e-4054-b0c3-6d4a68bdba61",
   "metadata": {},
   "outputs": [
    {
     "data": {
      "text/html": [
       "<div><div id=d9946c75-5e5c-40a1-ac0c-f60e03a2feac style=\"display:none; background-color:#9D6CFF; color:white; width:200px; height:30px; padding-left:5px; border-radius:4px; flex-direction:row; justify-content:space-around; align-items:center;\" onmouseover=\"this.style.backgroundColor='#BA9BF8'\" onmouseout=\"this.style.backgroundColor='#9D6CFF'\" onclick=\"window.commands?.execute('create-mitosheet-from-dataframe-output');\">See Full Dataframe in Mito</div> <script> if (window.commands.hasCommand('create-mitosheet-from-dataframe-output')) document.getElementById('d9946c75-5e5c-40a1-ac0c-f60e03a2feac').style.display = 'flex' </script> <table border=\"1\" class=\"dataframe\">\n",
       "  <thead>\n",
       "    <tr style=\"text-align: right;\">\n",
       "      <th></th>\n",
       "      <th>Date</th>\n",
       "      <th>Ticker</th>\n",
       "      <th>Views</th>\n",
       "      <th>pct_change_week</th>\n",
       "      <th>pct_change_month</th>\n",
       "    </tr>\n",
       "  </thead>\n",
       "  <tbody>\n",
       "    <tr>\n",
       "      <th>0</th>\n",
       "      <td>2016-10-17</td>\n",
       "      <td>FB</td>\n",
       "      <td>259</td>\n",
       "      <td>-29.343629</td>\n",
       "      <td>-30.888031</td>\n",
       "    </tr>\n",
       "    <tr>\n",
       "      <th>1</th>\n",
       "      <td>2016-10-24</td>\n",
       "      <td>FB</td>\n",
       "      <td>183</td>\n",
       "      <td>-29.343629</td>\n",
       "      <td>-30.888031</td>\n",
       "    </tr>\n",
       "    <tr>\n",
       "      <th>2</th>\n",
       "      <td>2016-10-31</td>\n",
       "      <td>FB</td>\n",
       "      <td>205</td>\n",
       "      <td>12.021858</td>\n",
       "      <td>-30.888031</td>\n",
       "    </tr>\n",
       "    <tr>\n",
       "      <th>3</th>\n",
       "      <td>2016-11-07</td>\n",
       "      <td>FB</td>\n",
       "      <td>180</td>\n",
       "      <td>-12.195122</td>\n",
       "      <td>-30.888031</td>\n",
       "    </tr>\n",
       "    <tr>\n",
       "      <th>4</th>\n",
       "      <td>2016-11-14</td>\n",
       "      <td>FB</td>\n",
       "      <td>179</td>\n",
       "      <td>-0.555556</td>\n",
       "      <td>-30.888031</td>\n",
       "    </tr>\n",
       "  </tbody>\n",
       "</table></div>"
      ],
      "text/plain": [
       "        Date Ticker  Views  pct_change_week  pct_change_month\n",
       "0 2016-10-17     FB    259       -29.343629        -30.888031\n",
       "1 2016-10-24     FB    183       -29.343629        -30.888031\n",
       "2 2016-10-31     FB    205        12.021858        -30.888031\n",
       "3 2016-11-07     FB    180       -12.195122        -30.888031\n",
       "4 2016-11-14     FB    179        -0.555556        -30.888031"
      ]
     },
     "execution_count": 2,
     "metadata": {},
     "output_type": "execute_result"
    }
   ],
   "source": [
    "parser = ConfigParser()\n",
    "_ = parser.read('notebook.cfg')\n",
    "quant_auth_key = parser.get('my_api', 'quant_key')\n",
    "url = \"https://api.quiverquant.com/beta/historical/wikipedia/FB\"\n",
    "headers = {'accept': 'application/json',\n",
    "'X-CSRFToken': 'TyTJwjuEC7VV7mOqZ622haRaaUr0x0Ng4nrwSRFKQs7vdoBcJlK9qjAS69ghzhFu',\n",
    "'Authorization': f'Token {quant_auth_key}'}\n",
    "r = requests.get(url, headers=headers)\n",
    "df = df = pd.read_json(r.content)\n",
    "df.head()"
   ]
  },
  {
   "cell_type": "markdown",
   "id": "d2bda919-66c6-49a4-bd8c-6b90613b2f88",
   "metadata": {
    "tags": []
   },
   "source": [
    "## Using QuiverQuant Library to Access Data"
   ]
  },
  {
   "cell_type": "code",
   "execution_count": 5,
   "id": "98cbfccc-62d7-4f40-a0fa-af1cc531dfaf",
   "metadata": {},
   "outputs": [],
   "source": [
    "#https://github.com/Quiver-Quantitative/python-api\n",
    "token = quant_auth_key\n",
    "quiver = quiverquant.quiver(token)"
   ]
  },
  {
   "cell_type": "markdown",
   "id": "5a233d0f-6241-4d3f-a3d6-1709cf58e7d1",
   "metadata": {
    "tags": []
   },
   "source": [
    "## Facebook - Data Exploration"
   ]
  },
  {
   "cell_type": "markdown",
   "id": "702584b3-1ae3-43d4-840e-e259a5aadbbf",
   "metadata": {
    "tags": []
   },
   "source": [
    "#### WallStreetBets Data (Historical Daily)"
   ]
  },
  {
   "cell_type": "code",
   "execution_count": 42,
   "id": "bc17375d-acb9-4099-88f5-3b35f5b8003d",
   "metadata": {},
   "outputs": [
    {
     "name": "stdout",
     "output_type": "stream",
     "text": [
      "https://api.quiverquant.com/beta/historical/wallstreetbets/FB\n"
     ]
    }
   ],
   "source": [
    "WSB_quiver = quiver.wallstreetbets(ticker ='FB')"
   ]
  },
  {
   "cell_type": "code",
   "execution_count": 45,
   "id": "ece008c4-3557-41b4-89de-4421f148dbb9",
   "metadata": {},
   "outputs": [
    {
     "data": {
      "text/html": [
       "<div><div id=959547d2-3b4f-4066-a3e2-0066220ee591 style=\"display:none; background-color:#9D6CFF; color:white; width:200px; height:30px; padding-left:5px; border-radius:4px; flex-direction:row; justify-content:space-around; align-items:center;\" onmouseover=\"this.style.backgroundColor='#BA9BF8'\" onmouseout=\"this.style.backgroundColor='#9D6CFF'\" onclick=\"window.commands?.execute('create-mitosheet-from-dataframe-output');\">See Full Dataframe in Mito</div> <script> if (window.commands.hasCommand('create-mitosheet-from-dataframe-output')) document.getElementById('959547d2-3b4f-4066-a3e2-0066220ee591').style.display = 'flex' </script> <table border=\"1\" class=\"dataframe\">\n",
       "  <thead>\n",
       "    <tr style=\"text-align: right;\">\n",
       "      <th></th>\n",
       "      <th>Date</th>\n",
       "      <th>Ticker</th>\n",
       "      <th>Mentions</th>\n",
       "      <th>Rank</th>\n",
       "      <th>Sentiment</th>\n",
       "    </tr>\n",
       "  </thead>\n",
       "  <tbody>\n",
       "    <tr>\n",
       "      <th>1149</th>\n",
       "      <td>2021-12-11</td>\n",
       "      <td>FB</td>\n",
       "      <td>12</td>\n",
       "      <td>8</td>\n",
       "      <td>0.149533</td>\n",
       "    </tr>\n",
       "    <tr>\n",
       "      <th>1150</th>\n",
       "      <td>2021-12-12</td>\n",
       "      <td>FB</td>\n",
       "      <td>16</td>\n",
       "      <td>11</td>\n",
       "      <td>-0.055225</td>\n",
       "    </tr>\n",
       "    <tr>\n",
       "      <th>1151</th>\n",
       "      <td>2021-12-13</td>\n",
       "      <td>FB</td>\n",
       "      <td>67</td>\n",
       "      <td>7</td>\n",
       "      <td>-0.007169</td>\n",
       "    </tr>\n",
       "    <tr>\n",
       "      <th>1152</th>\n",
       "      <td>2021-12-14</td>\n",
       "      <td>FB</td>\n",
       "      <td>32</td>\n",
       "      <td>20</td>\n",
       "      <td>0.027284</td>\n",
       "    </tr>\n",
       "    <tr>\n",
       "      <th>1153</th>\n",
       "      <td>2021-12-15</td>\n",
       "      <td>FB</td>\n",
       "      <td>37</td>\n",
       "      <td>21</td>\n",
       "      <td>0.077130</td>\n",
       "    </tr>\n",
       "  </tbody>\n",
       "</table></div>"
      ],
      "text/plain": [
       "           Date Ticker  Mentions  Rank  Sentiment\n",
       "1149 2021-12-11     FB        12     8   0.149533\n",
       "1150 2021-12-12     FB        16    11  -0.055225\n",
       "1151 2021-12-13     FB        67     7  -0.007169\n",
       "1152 2021-12-14     FB        32    20   0.027284\n",
       "1153 2021-12-15     FB        37    21   0.077130"
      ]
     },
     "execution_count": 45,
     "metadata": {},
     "output_type": "execute_result"
    }
   ],
   "source": [
    "WSB_quiver_weekly.tail()"
   ]
  },
  {
   "cell_type": "code",
   "execution_count": 44,
   "id": "e31ebaf7-7391-4cea-aef8-128c30a2f5ef",
   "metadata": {},
   "outputs": [
    {
     "data": {
      "text/plain": [
       "Mentions    32\n",
       "Rank        20\n",
       "Name: 1152, dtype: int64"
      ]
     },
     "execution_count": 44,
     "metadata": {},
     "output_type": "execute_result"
    }
   ],
   "source": [
    "WSB_quiver[['Mentions', 'Rank']].iloc[-2]"
   ]
  },
  {
   "cell_type": "code",
   "execution_count": 43,
   "id": "7b96fdb9-1114-4c48-9fb8-6ad8735d56df",
   "metadata": {},
   "outputs": [
    {
     "data": {
      "text/plain": [
       "Mentions    37\n",
       "Rank        21\n",
       "Name: 1153, dtype: int64"
      ]
     },
     "execution_count": 43,
     "metadata": {},
     "output_type": "execute_result"
    }
   ],
   "source": [
    "WSB_quiver[['Mentions', 'Rank']].iloc[-1]"
   ]
  },
  {
   "cell_type": "code",
   "execution_count": 55,
   "id": "3f879a05-05aa-4f40-9dba-f944ef96c812",
   "metadata": {},
   "outputs": [
    {
     "data": {
      "text/plain": [
       "37"
      ]
     },
     "execution_count": 55,
     "metadata": {},
     "output_type": "execute_result"
    }
   ],
   "source": [
    "WSB_quiver[['Mentions', 'Rank']].iloc[-1][0] "
   ]
  },
  {
   "cell_type": "code",
   "execution_count": 56,
   "id": "dade1335-0c79-42f0-93b7-f9315e9c80c9",
   "metadata": {},
   "outputs": [
    {
     "data": {
      "text/plain": [
       "32"
      ]
     },
     "execution_count": 56,
     "metadata": {},
     "output_type": "execute_result"
    }
   ],
   "source": [
    "WSB_quiver[['Mentions', 'Rank']].iloc[-2][0]"
   ]
  },
  {
   "cell_type": "code",
   "execution_count": 51,
   "id": "6d351314-15c6-46f0-9d23-7046a22ed67b",
   "metadata": {},
   "outputs": [
    {
     "data": {
      "text/plain": [
       "'Mentions Daily Change : 1.15625'"
      ]
     },
     "execution_count": 51,
     "metadata": {},
     "output_type": "execute_result"
    }
   ],
   "source": [
    "f\"Mentions Daily Change : {WSB_quiver[['Mentions', 'Rank']].iloc[-1][0] / WSB_quiver[['Mentions', 'Rank']].iloc[-2][0]}\""
   ]
  },
  {
   "cell_type": "code",
   "execution_count": 54,
   "id": "34b60f8d-1371-416b-b506-7051559b12ec",
   "metadata": {},
   "outputs": [
    {
     "data": {
      "text/plain": [
       "'115.62%'"
      ]
     },
     "execution_count": 54,
     "metadata": {},
     "output_type": "execute_result"
    }
   ],
   "source": [
    "\"{:.2%}\".format(WSB_quiver[['Mentions', 'Rank']].iloc[-1][0] / WSB_quiver[['Mentions', 'Rank']].iloc[-2][0])"
   ]
  },
  {
   "cell_type": "code",
   "execution_count": null,
   "id": "2f91e662-7b9f-49d0-8d9e-230620d43fc4",
   "metadata": {},
   "outputs": [
    {
     "data": {
      "text/plain": [
       "'Rank Weekly Change : -0.045454545454545414'"
      ]
     },
     "execution_count": 28,
     "metadata": {},
     "output_type": "execute_result"
    }
   ],
   "source": [
    "f\"Rank Weekly Change : {WSB_quiver_monthly[['Mentions', 'Rank']].iloc[-1][1]}\""
   ]
  },
  {
   "cell_type": "code",
   "execution_count": 29,
   "id": "a9e8f8f2-8614-491d-8f5d-747373cb5076",
   "metadata": {},
   "outputs": [
    {
     "data": {
      "text/plain": [
       "-0.045454545454545414"
      ]
     },
     "execution_count": 29,
     "metadata": {},
     "output_type": "execute_result"
    }
   ],
   "source": [
    "WSB_quiver_monthly[['Mentions', 'Rank']].iloc[-1][1]"
   ]
  },
  {
   "cell_type": "code",
   "execution_count": 85,
   "id": "5ce57c9a-d143-4efc-a480-c38f96c21034",
   "metadata": {},
   "outputs": [],
   "source": [
    "def get_wsb_stats(ticker):\n",
    "    WSB_quiver = quiver.wallstreetbets(ticker =f'{ticker}')\n",
    "    return WSB_quiver"
   ]
  },
  {
   "cell_type": "code",
   "execution_count": null,
   "id": "f2660b2b-4805-437f-93c5-e12eb2e0b7ad",
   "metadata": {},
   "outputs": [],
   "source": [
    "WSB_quiver_daily = quiver.wallstreetbets(ticker ='FB')"
   ]
  },
  {
   "cell_type": "code",
   "execution_count": null,
   "id": "45d79131-36ea-4abc-a930-d327c29888ec",
   "metadata": {},
   "outputs": [],
   "source": [
    "WSB_quiver = get_wsb_stats(ticker)"
   ]
  },
  {
   "cell_type": "code",
   "execution_count": 84,
   "id": "dbcac938-5b3d-45be-a373-18e7ac149322",
   "metadata": {},
   "outputs": [
    {
     "data": {
      "application/vnd.plotly.v1+json": {
       "config": {
        "plotlyServerURL": "https://plot.ly"
       },
       "data": [
        {
         "align": "center",
         "delta": {
          "font": {
           "size": 40
          },
          "reference": 32,
          "relative": true,
          "valueformat": ".2%"
         },
         "domain": {
          "x": [
           0,
           0
          ],
          "y": [
           0,
           0.001
          ]
         },
         "mode": "number+delta",
         "number": {
          "font": {
           "size": 40
          }
         },
         "title": {
          "font": {
           "size": 20
          },
          "text": "WSB Mentions<br><span style='font-size:0.8em;color:gray'>+ Daily Change</span><br><span style='font-size:0.8em;color:gray'>"
         },
         "type": "indicator",
         "value": 37
        }
       ],
       "layout": {
        "height": 200,
        "template": {
         "data": {
          "bar": [
           {
            "error_x": {
             "color": "#f2f5fa"
            },
            "error_y": {
             "color": "#f2f5fa"
            },
            "marker": {
             "line": {
              "color": "rgb(17,17,17)",
              "width": 0.5
             },
             "pattern": {
              "fillmode": "overlay",
              "size": 10,
              "solidity": 0.2
             }
            },
            "type": "bar"
           }
          ],
          "barpolar": [
           {
            "marker": {
             "line": {
              "color": "rgb(17,17,17)",
              "width": 0.5
             },
             "pattern": {
              "fillmode": "overlay",
              "size": 10,
              "solidity": 0.2
             }
            },
            "type": "barpolar"
           }
          ],
          "carpet": [
           {
            "aaxis": {
             "endlinecolor": "#A2B1C6",
             "gridcolor": "#506784",
             "linecolor": "#506784",
             "minorgridcolor": "#506784",
             "startlinecolor": "#A2B1C6"
            },
            "baxis": {
             "endlinecolor": "#A2B1C6",
             "gridcolor": "#506784",
             "linecolor": "#506784",
             "minorgridcolor": "#506784",
             "startlinecolor": "#A2B1C6"
            },
            "type": "carpet"
           }
          ],
          "choropleth": [
           {
            "colorbar": {
             "outlinewidth": 0,
             "ticks": ""
            },
            "type": "choropleth"
           }
          ],
          "contour": [
           {
            "colorbar": {
             "outlinewidth": 0,
             "ticks": ""
            },
            "colorscale": [
             [
              0,
              "#0d0887"
             ],
             [
              0.1111111111111111,
              "#46039f"
             ],
             [
              0.2222222222222222,
              "#7201a8"
             ],
             [
              0.3333333333333333,
              "#9c179e"
             ],
             [
              0.4444444444444444,
              "#bd3786"
             ],
             [
              0.5555555555555556,
              "#d8576b"
             ],
             [
              0.6666666666666666,
              "#ed7953"
             ],
             [
              0.7777777777777778,
              "#fb9f3a"
             ],
             [
              0.8888888888888888,
              "#fdca26"
             ],
             [
              1,
              "#f0f921"
             ]
            ],
            "type": "contour"
           }
          ],
          "contourcarpet": [
           {
            "colorbar": {
             "outlinewidth": 0,
             "ticks": ""
            },
            "type": "contourcarpet"
           }
          ],
          "heatmap": [
           {
            "colorbar": {
             "outlinewidth": 0,
             "ticks": ""
            },
            "colorscale": [
             [
              0,
              "#0d0887"
             ],
             [
              0.1111111111111111,
              "#46039f"
             ],
             [
              0.2222222222222222,
              "#7201a8"
             ],
             [
              0.3333333333333333,
              "#9c179e"
             ],
             [
              0.4444444444444444,
              "#bd3786"
             ],
             [
              0.5555555555555556,
              "#d8576b"
             ],
             [
              0.6666666666666666,
              "#ed7953"
             ],
             [
              0.7777777777777778,
              "#fb9f3a"
             ],
             [
              0.8888888888888888,
              "#fdca26"
             ],
             [
              1,
              "#f0f921"
             ]
            ],
            "type": "heatmap"
           }
          ],
          "heatmapgl": [
           {
            "colorbar": {
             "outlinewidth": 0,
             "ticks": ""
            },
            "colorscale": [
             [
              0,
              "#0d0887"
             ],
             [
              0.1111111111111111,
              "#46039f"
             ],
             [
              0.2222222222222222,
              "#7201a8"
             ],
             [
              0.3333333333333333,
              "#9c179e"
             ],
             [
              0.4444444444444444,
              "#bd3786"
             ],
             [
              0.5555555555555556,
              "#d8576b"
             ],
             [
              0.6666666666666666,
              "#ed7953"
             ],
             [
              0.7777777777777778,
              "#fb9f3a"
             ],
             [
              0.8888888888888888,
              "#fdca26"
             ],
             [
              1,
              "#f0f921"
             ]
            ],
            "type": "heatmapgl"
           }
          ],
          "histogram": [
           {
            "marker": {
             "pattern": {
              "fillmode": "overlay",
              "size": 10,
              "solidity": 0.2
             }
            },
            "type": "histogram"
           }
          ],
          "histogram2d": [
           {
            "colorbar": {
             "outlinewidth": 0,
             "ticks": ""
            },
            "colorscale": [
             [
              0,
              "#0d0887"
             ],
             [
              0.1111111111111111,
              "#46039f"
             ],
             [
              0.2222222222222222,
              "#7201a8"
             ],
             [
              0.3333333333333333,
              "#9c179e"
             ],
             [
              0.4444444444444444,
              "#bd3786"
             ],
             [
              0.5555555555555556,
              "#d8576b"
             ],
             [
              0.6666666666666666,
              "#ed7953"
             ],
             [
              0.7777777777777778,
              "#fb9f3a"
             ],
             [
              0.8888888888888888,
              "#fdca26"
             ],
             [
              1,
              "#f0f921"
             ]
            ],
            "type": "histogram2d"
           }
          ],
          "histogram2dcontour": [
           {
            "colorbar": {
             "outlinewidth": 0,
             "ticks": ""
            },
            "colorscale": [
             [
              0,
              "#0d0887"
             ],
             [
              0.1111111111111111,
              "#46039f"
             ],
             [
              0.2222222222222222,
              "#7201a8"
             ],
             [
              0.3333333333333333,
              "#9c179e"
             ],
             [
              0.4444444444444444,
              "#bd3786"
             ],
             [
              0.5555555555555556,
              "#d8576b"
             ],
             [
              0.6666666666666666,
              "#ed7953"
             ],
             [
              0.7777777777777778,
              "#fb9f3a"
             ],
             [
              0.8888888888888888,
              "#fdca26"
             ],
             [
              1,
              "#f0f921"
             ]
            ],
            "type": "histogram2dcontour"
           }
          ],
          "mesh3d": [
           {
            "colorbar": {
             "outlinewidth": 0,
             "ticks": ""
            },
            "type": "mesh3d"
           }
          ],
          "parcoords": [
           {
            "line": {
             "colorbar": {
              "outlinewidth": 0,
              "ticks": ""
             }
            },
            "type": "parcoords"
           }
          ],
          "pie": [
           {
            "automargin": true,
            "type": "pie"
           }
          ],
          "scatter": [
           {
            "marker": {
             "line": {
              "color": "#283442"
             }
            },
            "type": "scatter"
           }
          ],
          "scatter3d": [
           {
            "line": {
             "colorbar": {
              "outlinewidth": 0,
              "ticks": ""
             }
            },
            "marker": {
             "colorbar": {
              "outlinewidth": 0,
              "ticks": ""
             }
            },
            "type": "scatter3d"
           }
          ],
          "scattercarpet": [
           {
            "marker": {
             "colorbar": {
              "outlinewidth": 0,
              "ticks": ""
             }
            },
            "type": "scattercarpet"
           }
          ],
          "scattergeo": [
           {
            "marker": {
             "colorbar": {
              "outlinewidth": 0,
              "ticks": ""
             }
            },
            "type": "scattergeo"
           }
          ],
          "scattergl": [
           {
            "marker": {
             "line": {
              "color": "#283442"
             }
            },
            "type": "scattergl"
           }
          ],
          "scattermapbox": [
           {
            "marker": {
             "colorbar": {
              "outlinewidth": 0,
              "ticks": ""
             }
            },
            "type": "scattermapbox"
           }
          ],
          "scatterpolar": [
           {
            "marker": {
             "colorbar": {
              "outlinewidth": 0,
              "ticks": ""
             }
            },
            "type": "scatterpolar"
           }
          ],
          "scatterpolargl": [
           {
            "marker": {
             "colorbar": {
              "outlinewidth": 0,
              "ticks": ""
             }
            },
            "type": "scatterpolargl"
           }
          ],
          "scatterternary": [
           {
            "marker": {
             "colorbar": {
              "outlinewidth": 0,
              "ticks": ""
             }
            },
            "type": "scatterternary"
           }
          ],
          "surface": [
           {
            "colorbar": {
             "outlinewidth": 0,
             "ticks": ""
            },
            "colorscale": [
             [
              0,
              "#0d0887"
             ],
             [
              0.1111111111111111,
              "#46039f"
             ],
             [
              0.2222222222222222,
              "#7201a8"
             ],
             [
              0.3333333333333333,
              "#9c179e"
             ],
             [
              0.4444444444444444,
              "#bd3786"
             ],
             [
              0.5555555555555556,
              "#d8576b"
             ],
             [
              0.6666666666666666,
              "#ed7953"
             ],
             [
              0.7777777777777778,
              "#fb9f3a"
             ],
             [
              0.8888888888888888,
              "#fdca26"
             ],
             [
              1,
              "#f0f921"
             ]
            ],
            "type": "surface"
           }
          ],
          "table": [
           {
            "cells": {
             "fill": {
              "color": "#506784"
             },
             "line": {
              "color": "rgb(17,17,17)"
             }
            },
            "header": {
             "fill": {
              "color": "#2a3f5f"
             },
             "line": {
              "color": "rgb(17,17,17)"
             }
            },
            "type": "table"
           }
          ]
         },
         "layout": {
          "annotationdefaults": {
           "arrowcolor": "#f2f5fa",
           "arrowhead": 0,
           "arrowwidth": 1
          },
          "autotypenumbers": "strict",
          "coloraxis": {
           "colorbar": {
            "outlinewidth": 0,
            "ticks": ""
           }
          },
          "colorscale": {
           "diverging": [
            [
             0,
             "#8e0152"
            ],
            [
             0.1,
             "#c51b7d"
            ],
            [
             0.2,
             "#de77ae"
            ],
            [
             0.3,
             "#f1b6da"
            ],
            [
             0.4,
             "#fde0ef"
            ],
            [
             0.5,
             "#f7f7f7"
            ],
            [
             0.6,
             "#e6f5d0"
            ],
            [
             0.7,
             "#b8e186"
            ],
            [
             0.8,
             "#7fbc41"
            ],
            [
             0.9,
             "#4d9221"
            ],
            [
             1,
             "#276419"
            ]
           ],
           "sequential": [
            [
             0,
             "#0d0887"
            ],
            [
             0.1111111111111111,
             "#46039f"
            ],
            [
             0.2222222222222222,
             "#7201a8"
            ],
            [
             0.3333333333333333,
             "#9c179e"
            ],
            [
             0.4444444444444444,
             "#bd3786"
            ],
            [
             0.5555555555555556,
             "#d8576b"
            ],
            [
             0.6666666666666666,
             "#ed7953"
            ],
            [
             0.7777777777777778,
             "#fb9f3a"
            ],
            [
             0.8888888888888888,
             "#fdca26"
            ],
            [
             1,
             "#f0f921"
            ]
           ],
           "sequentialminus": [
            [
             0,
             "#0d0887"
            ],
            [
             0.1111111111111111,
             "#46039f"
            ],
            [
             0.2222222222222222,
             "#7201a8"
            ],
            [
             0.3333333333333333,
             "#9c179e"
            ],
            [
             0.4444444444444444,
             "#bd3786"
            ],
            [
             0.5555555555555556,
             "#d8576b"
            ],
            [
             0.6666666666666666,
             "#ed7953"
            ],
            [
             0.7777777777777778,
             "#fb9f3a"
            ],
            [
             0.8888888888888888,
             "#fdca26"
            ],
            [
             1,
             "#f0f921"
            ]
           ]
          },
          "colorway": [
           "#636efa",
           "#EF553B",
           "#00cc96",
           "#ab63fa",
           "#FFA15A",
           "#19d3f3",
           "#FF6692",
           "#B6E880",
           "#FF97FF",
           "#FECB52"
          ],
          "font": {
           "color": "#f2f5fa"
          },
          "geo": {
           "bgcolor": "rgb(17,17,17)",
           "lakecolor": "rgb(17,17,17)",
           "landcolor": "rgb(17,17,17)",
           "showlakes": true,
           "showland": true,
           "subunitcolor": "#506784"
          },
          "hoverlabel": {
           "align": "left"
          },
          "hovermode": "closest",
          "mapbox": {
           "style": "dark"
          },
          "paper_bgcolor": "rgb(17,17,17)",
          "plot_bgcolor": "rgb(17,17,17)",
          "polar": {
           "angularaxis": {
            "gridcolor": "#506784",
            "linecolor": "#506784",
            "ticks": ""
           },
           "bgcolor": "rgb(17,17,17)",
           "radialaxis": {
            "gridcolor": "#506784",
            "linecolor": "#506784",
            "ticks": ""
           }
          },
          "scene": {
           "xaxis": {
            "backgroundcolor": "rgb(17,17,17)",
            "gridcolor": "#506784",
            "gridwidth": 2,
            "linecolor": "#506784",
            "showbackground": true,
            "ticks": "",
            "zerolinecolor": "#C8D4E3"
           },
           "yaxis": {
            "backgroundcolor": "rgb(17,17,17)",
            "gridcolor": "#506784",
            "gridwidth": 2,
            "linecolor": "#506784",
            "showbackground": true,
            "ticks": "",
            "zerolinecolor": "#C8D4E3"
           },
           "zaxis": {
            "backgroundcolor": "rgb(17,17,17)",
            "gridcolor": "#506784",
            "gridwidth": 2,
            "linecolor": "#506784",
            "showbackground": true,
            "ticks": "",
            "zerolinecolor": "#C8D4E3"
           }
          },
          "shapedefaults": {
           "line": {
            "color": "#f2f5fa"
           }
          },
          "sliderdefaults": {
           "bgcolor": "#C8D4E3",
           "bordercolor": "rgb(17,17,17)",
           "borderwidth": 1,
           "tickwidth": 0
          },
          "ternary": {
           "aaxis": {
            "gridcolor": "#506784",
            "linecolor": "#506784",
            "ticks": ""
           },
           "baxis": {
            "gridcolor": "#506784",
            "linecolor": "#506784",
            "ticks": ""
           },
           "bgcolor": "rgb(17,17,17)",
           "caxis": {
            "gridcolor": "#506784",
            "linecolor": "#506784",
            "ticks": ""
           }
          },
          "title": {
           "x": 0.05
          },
          "updatemenudefaults": {
           "bgcolor": "#506784",
           "borderwidth": 0
          },
          "xaxis": {
           "automargin": true,
           "gridcolor": "#283442",
           "linecolor": "#506784",
           "ticks": "",
           "title": {
            "standoff": 15
           },
           "zerolinecolor": "#283442",
           "zerolinewidth": 2
          },
          "yaxis": {
           "automargin": true,
           "gridcolor": "#283442",
           "linecolor": "#506784",
           "ticks": "",
           "title": {
            "standoff": 15
           },
           "zerolinecolor": "#283442",
           "zerolinewidth": 2
          }
         }
        },
        "width": 200
       }
      },
      "image/png": "[encoded data removed]",
      "text/html": [
       "<div>                            <div id=\"088f15ff-3aef-4634-b26d-ec2f725d3cbd\" class=\"plotly-graph-div\" style=\"height:200px; width:200px;\"></div>            <script type=\"text/javascript\">                require([\"plotly\"], function(Plotly) {                    window.PLOTLYENV=window.PLOTLYENV || {};                                    if (document.getElementById(\"088f15ff-3aef-4634-b26d-ec2f725d3cbd\")) {                    Plotly.newPlot(                        \"088f15ff-3aef-4634-b26d-ec2f725d3cbd\",                        [{\"align\":\"center\",\"delta\":{\"font\":{\"size\":40},\"reference\":32,\"relative\":true,\"valueformat\":\".2%\"},\"domain\":{\"x\":[0,0],\"y\":[0,0.001]},\"mode\":\"number+delta\",\"number\":{\"font\":{\"size\":40}},\"title\":{\"font\":{\"size\":20},\"text\":\"WSB Mentions<br><span style='font-size:0.8em;color:gray'>+ Daily Change</span><br><span style='font-size:0.8em;color:gray'>\"},\"type\":\"indicator\",\"value\":37}],                        {\"height\":200,\"template\":{\"data\":{\"bar\":[{\"error_x\":{\"color\":\"#f2f5fa\"},\"error_y\":{\"color\":\"#f2f5fa\"},\"marker\":{\"line\":{\"color\":\"rgb(17,17,17)\",\"width\":0.5},\"pattern\":{\"fillmode\":\"overlay\",\"size\":10,\"solidity\":0.2}},\"type\":\"bar\"}],\"barpolar\":[{\"marker\":{\"line\":{\"color\":\"rgb(17,17,17)\",\"width\":0.5},\"pattern\":{\"fillmode\":\"overlay\",\"size\":10,\"solidity\":0.2}},\"type\":\"barpolar\"}],\"carpet\":[{\"aaxis\":{\"endlinecolor\":\"#A2B1C6\",\"gridcolor\":\"#506784\",\"linecolor\":\"#506784\",\"minorgridcolor\":\"#506784\",\"startlinecolor\":\"#A2B1C6\"},\"baxis\":{\"endlinecolor\":\"#A2B1C6\",\"gridcolor\":\"#506784\",\"linecolor\":\"#506784\",\"minorgridcolor\":\"#506784\",\"startlinecolor\":\"#A2B1C6\"},\"type\":\"carpet\"}],\"choropleth\":[{\"colorbar\":{\"outlinewidth\":0,\"ticks\":\"\"},\"type\":\"choropleth\"}],\"contour\":[{\"colorbar\":{\"outlinewidth\":0,\"ticks\":\"\"},\"colorscale\":[[0.0,\"#0d0887\"],[0.1111111111111111,\"#46039f\"],[0.2222222222222222,\"#7201a8\"],[0.3333333333333333,\"#9c179e\"],[0.4444444444444444,\"#bd3786\"],[0.5555555555555556,\"#d8576b\"],[0.6666666666666666,\"#ed7953\"],[0.7777777777777778,\"#fb9f3a\"],[0.8888888888888888,\"#fdca26\"],[1.0,\"#f0f921\"]],\"type\":\"contour\"}],\"contourcarpet\":[{\"colorbar\":{\"outlinewidth\":0,\"ticks\":\"\"},\"type\":\"contourcarpet\"}],\"heatmap\":[{\"colorbar\":{\"outlinewidth\":0,\"ticks\":\"\"},\"colorscale\":[[0.0,\"#0d0887\"],[0.1111111111111111,\"#46039f\"],[0.2222222222222222,\"#7201a8\"],[0.3333333333333333,\"#9c179e\"],[0.4444444444444444,\"#bd3786\"],[0.5555555555555556,\"#d8576b\"],[0.6666666666666666,\"#ed7953\"],[0.7777777777777778,\"#fb9f3a\"],[0.8888888888888888,\"#fdca26\"],[1.0,\"#f0f921\"]],\"type\":\"heatmap\"}],\"heatmapgl\":[{\"colorbar\":{\"outlinewidth\":0,\"ticks\":\"\"},\"colorscale\":[[0.0,\"#0d0887\"],[0.1111111111111111,\"#46039f\"],[0.2222222222222222,\"#7201a8\"],[0.3333333333333333,\"#9c179e\"],[0.4444444444444444,\"#bd3786\"],[0.5555555555555556,\"#d8576b\"],[0.6666666666666666,\"#ed7953\"],[0.7777777777777778,\"#fb9f3a\"],[0.8888888888888888,\"#fdca26\"],[1.0,\"#f0f921\"]],\"type\":\"heatmapgl\"}],\"histogram\":[{\"marker\":{\"pattern\":{\"fillmode\":\"overlay\",\"size\":10,\"solidity\":0.2}},\"type\":\"histogram\"}],\"histogram2d\":[{\"colorbar\":{\"outlinewidth\":0,\"ticks\":\"\"},\"colorscale\":[[0.0,\"#0d0887\"],[0.1111111111111111,\"#46039f\"],[0.2222222222222222,\"#7201a8\"],[0.3333333333333333,\"#9c179e\"],[0.4444444444444444,\"#bd3786\"],[0.5555555555555556,\"#d8576b\"],[0.6666666666666666,\"#ed7953\"],[0.7777777777777778,\"#fb9f3a\"],[0.8888888888888888,\"#fdca26\"],[1.0,\"#f0f921\"]],\"type\":\"histogram2d\"}],\"histogram2dcontour\":[{\"colorbar\":{\"outlinewidth\":0,\"ticks\":\"\"},\"colorscale\":[[0.0,\"#0d0887\"],[0.1111111111111111,\"#46039f\"],[0.2222222222222222,\"#7201a8\"],[0.3333333333333333,\"#9c179e\"],[0.4444444444444444,\"#bd3786\"],[0.5555555555555556,\"#d8576b\"],[0.6666666666666666,\"#ed7953\"],[0.7777777777777778,\"#fb9f3a\"],[0.8888888888888888,\"#fdca26\"],[1.0,\"#f0f921\"]],\"type\":\"histogram2dcontour\"}],\"mesh3d\":[{\"colorbar\":{\"outlinewidth\":0,\"ticks\":\"\"},\"type\":\"mesh3d\"}],\"parcoords\":[{\"line\":{\"colorbar\":{\"outlinewidth\":0,\"ticks\":\"\"}},\"type\":\"parcoords\"}],\"pie\":[{\"automargin\":true,\"type\":\"pie\"}],\"scatter\":[{\"marker\":{\"line\":{\"color\":\"#283442\"}},\"type\":\"scatter\"}],\"scatter3d\":[{\"line\":{\"colorbar\":{\"outlinewidth\":0,\"ticks\":\"\"}},\"marker\":{\"colorbar\":{\"outlinewidth\":0,\"ticks\":\"\"}},\"type\":\"scatter3d\"}],\"scattercarpet\":[{\"marker\":{\"colorbar\":{\"outlinewidth\":0,\"ticks\":\"\"}},\"type\":\"scattercarpet\"}],\"scattergeo\":[{\"marker\":{\"colorbar\":{\"outlinewidth\":0,\"ticks\":\"\"}},\"type\":\"scattergeo\"}],\"scattergl\":[{\"marker\":{\"line\":{\"color\":\"#283442\"}},\"type\":\"scattergl\"}],\"scattermapbox\":[{\"marker\":{\"colorbar\":{\"outlinewidth\":0,\"ticks\":\"\"}},\"type\":\"scattermapbox\"}],\"scatterpolar\":[{\"marker\":{\"colorbar\":{\"outlinewidth\":0,\"ticks\":\"\"}},\"type\":\"scatterpolar\"}],\"scatterpolargl\":[{\"marker\":{\"colorbar\":{\"outlinewidth\":0,\"ticks\":\"\"}},\"type\":\"scatterpolargl\"}],\"scatterternary\":[{\"marker\":{\"colorbar\":{\"outlinewidth\":0,\"ticks\":\"\"}},\"type\":\"scatterternary\"}],\"surface\":[{\"colorbar\":{\"outlinewidth\":0,\"ticks\":\"\"},\"colorscale\":[[0.0,\"#0d0887\"],[0.1111111111111111,\"#46039f\"],[0.2222222222222222,\"#7201a8\"],[0.3333333333333333,\"#9c179e\"],[0.4444444444444444,\"#bd3786\"],[0.5555555555555556,\"#d8576b\"],[0.6666666666666666,\"#ed7953\"],[0.7777777777777778,\"#fb9f3a\"],[0.8888888888888888,\"#fdca26\"],[1.0,\"#f0f921\"]],\"type\":\"surface\"}],\"table\":[{\"cells\":{\"fill\":{\"color\":\"#506784\"},\"line\":{\"color\":\"rgb(17,17,17)\"}},\"header\":{\"fill\":{\"color\":\"#2a3f5f\"},\"line\":{\"color\":\"rgb(17,17,17)\"}},\"type\":\"table\"}]},\"layout\":{\"annotationdefaults\":{\"arrowcolor\":\"#f2f5fa\",\"arrowhead\":0,\"arrowwidth\":1},\"autotypenumbers\":\"strict\",\"coloraxis\":{\"colorbar\":{\"outlinewidth\":0,\"ticks\":\"\"}},\"colorscale\":{\"diverging\":[[0,\"#8e0152\"],[0.1,\"#c51b7d\"],[0.2,\"#de77ae\"],[0.3,\"#f1b6da\"],[0.4,\"#fde0ef\"],[0.5,\"#f7f7f7\"],[0.6,\"#e6f5d0\"],[0.7,\"#b8e186\"],[0.8,\"#7fbc41\"],[0.9,\"#4d9221\"],[1,\"#276419\"]],\"sequential\":[[0.0,\"#0d0887\"],[0.1111111111111111,\"#46039f\"],[0.2222222222222222,\"#7201a8\"],[0.3333333333333333,\"#9c179e\"],[0.4444444444444444,\"#bd3786\"],[0.5555555555555556,\"#d8576b\"],[0.6666666666666666,\"#ed7953\"],[0.7777777777777778,\"#fb9f3a\"],[0.8888888888888888,\"#fdca26\"],[1.0,\"#f0f921\"]],\"sequentialminus\":[[0.0,\"#0d0887\"],[0.1111111111111111,\"#46039f\"],[0.2222222222222222,\"#7201a8\"],[0.3333333333333333,\"#9c179e\"],[0.4444444444444444,\"#bd3786\"],[0.5555555555555556,\"#d8576b\"],[0.6666666666666666,\"#ed7953\"],[0.7777777777777778,\"#fb9f3a\"],[0.8888888888888888,\"#fdca26\"],[1.0,\"#f0f921\"]]},\"colorway\":[\"#636efa\",\"#EF553B\",\"#00cc96\",\"#ab63fa\",\"#FFA15A\",\"#19d3f3\",\"#FF6692\",\"#B6E880\",\"#FF97FF\",\"#FECB52\"],\"font\":{\"color\":\"#f2f5fa\"},\"geo\":{\"bgcolor\":\"rgb(17,17,17)\",\"lakecolor\":\"rgb(17,17,17)\",\"landcolor\":\"rgb(17,17,17)\",\"showlakes\":true,\"showland\":true,\"subunitcolor\":\"#506784\"},\"hoverlabel\":{\"align\":\"left\"},\"hovermode\":\"closest\",\"mapbox\":{\"style\":\"dark\"},\"paper_bgcolor\":\"rgb(17,17,17)\",\"plot_bgcolor\":\"rgb(17,17,17)\",\"polar\":{\"angularaxis\":{\"gridcolor\":\"#506784\",\"linecolor\":\"#506784\",\"ticks\":\"\"},\"bgcolor\":\"rgb(17,17,17)\",\"radialaxis\":{\"gridcolor\":\"#506784\",\"linecolor\":\"#506784\",\"ticks\":\"\"}},\"scene\":{\"xaxis\":{\"backgroundcolor\":\"rgb(17,17,17)\",\"gridcolor\":\"#506784\",\"gridwidth\":2,\"linecolor\":\"#506784\",\"showbackground\":true,\"ticks\":\"\",\"zerolinecolor\":\"#C8D4E3\"},\"yaxis\":{\"backgroundcolor\":\"rgb(17,17,17)\",\"gridcolor\":\"#506784\",\"gridwidth\":2,\"linecolor\":\"#506784\",\"showbackground\":true,\"ticks\":\"\",\"zerolinecolor\":\"#C8D4E3\"},\"zaxis\":{\"backgroundcolor\":\"rgb(17,17,17)\",\"gridcolor\":\"#506784\",\"gridwidth\":2,\"linecolor\":\"#506784\",\"showbackground\":true,\"ticks\":\"\",\"zerolinecolor\":\"#C8D4E3\"}},\"shapedefaults\":{\"line\":{\"color\":\"#f2f5fa\"}},\"sliderdefaults\":{\"bgcolor\":\"#C8D4E3\",\"bordercolor\":\"rgb(17,17,17)\",\"borderwidth\":1,\"tickwidth\":0},\"ternary\":{\"aaxis\":{\"gridcolor\":\"#506784\",\"linecolor\":\"#506784\",\"ticks\":\"\"},\"baxis\":{\"gridcolor\":\"#506784\",\"linecolor\":\"#506784\",\"ticks\":\"\"},\"bgcolor\":\"rgb(17,17,17)\",\"caxis\":{\"gridcolor\":\"#506784\",\"linecolor\":\"#506784\",\"ticks\":\"\"}},\"title\":{\"x\":0.05},\"updatemenudefaults\":{\"bgcolor\":\"#506784\",\"borderwidth\":0},\"xaxis\":{\"automargin\":true,\"gridcolor\":\"#283442\",\"linecolor\":\"#506784\",\"ticks\":\"\",\"title\":{\"standoff\":15},\"zerolinecolor\":\"#283442\",\"zerolinewidth\":2},\"yaxis\":{\"automargin\":true,\"gridcolor\":\"#283442\",\"linecolor\":\"#506784\",\"ticks\":\"\",\"title\":{\"standoff\":15},\"zerolinecolor\":\"#283442\",\"zerolinewidth\":2}}},\"width\":200},                        {\"responsive\": true}                    ).then(function(){\n",
       "                            \n",
       "var gd = document.getElementById('088f15ff-3aef-4634-b26d-ec2f725d3cbd');\n",
       "var x = new MutationObserver(function (mutations, observer) {{\n",
       "        var display = window.getComputedStyle(gd).display;\n",
       "        if (!display || display === 'none') {{\n",
       "            console.log([gd, 'removed!']);\n",
       "            Plotly.purge(gd);\n",
       "            observer.disconnect();\n",
       "        }}\n",
       "}});\n",
       "\n",
       "// Listen for the removal of the full notebook cells\n",
       "var notebookContainer = gd.closest('#notebook-container');\n",
       "if (notebookContainer) {{\n",
       "    x.observe(notebookContainer, {childList: true});\n",
       "}}\n",
       "\n",
       "// Listen for the clearing of the current output cell\n",
       "var outputEl = gd.closest('.output');\n",
       "if (outputEl) {{\n",
       "    x.observe(outputEl, {childList: true});\n",
       "}}\n",
       "\n",
       "                        })                };                });            </script>        </div>"
      ]
     },
     "metadata": {},
     "output_type": "display_data"
    }
   ],
   "source": [
    "fig = go.Figure()\n",
    "\n",
    "fig.add_trace(go.Indicator(\n",
    "    align = 'center', mode = \"number+delta\", value = WSB_quiver[['Mentions', 'Rank']].iloc[-1][0] ,\n",
    "    title = {\n",
    "        \"text\": \"WSB Mentions<br><span style='font-size:0.8em;color:gray'>+ Daily Change</span><br><span style='font-size:0.8em;color:gray'>\",\n",
    "        'font':{\n",
    "        'size':20}},\n",
    "    delta = {\n",
    "        'reference': WSB_quiver[['Mentions', 'Rank']].iloc[-2][0], 'relative': True, 'valueformat':'.2%',\n",
    "        'font':{\n",
    "        'size':40}},\n",
    "    number = {\n",
    "        'font':{\n",
    "        'size':40}},\n",
    "    domain = {\n",
    "        'x': [0, 0], 'y': [0, 0.001]}))\n",
    "\n",
    "fig.update_layout(\n",
    "    paper_bgcolor=None, height=200, width=200, template='plotly_dark')\n",
    "\n",
    "fig.show()"
   ]
  },
  {
   "cell_type": "markdown",
   "id": "aa2e0fb5-cd61-469b-a877-9db34d5b5cbe",
   "metadata": {},
   "source": [
    "#### Streamlit doesn't allow importing quiverquant library, so have to reproduce with API call"
   ]
  },
  {
   "cell_type": "code",
   "execution_count": 58,
   "id": "9f4ad2d3-9204-4166-b61d-351119a93c92",
   "metadata": {},
   "outputs": [
    {
     "data": {
      "text/html": [
       "<div><div id=65e7aad4-4e37-46da-84bf-44301da061a4 style=\"display:none; background-color:#9D6CFF; color:white; width:200px; height:30px; padding-left:5px; border-radius:4px; flex-direction:row; justify-content:space-around; align-items:center;\" onmouseover=\"this.style.backgroundColor='#BA9BF8'\" onmouseout=\"this.style.backgroundColor='#9D6CFF'\" onclick=\"window.commands?.execute('create-mitosheet-from-dataframe-output');\">See Full Dataframe in Mito</div> <script> if (window.commands.hasCommand('create-mitosheet-from-dataframe-output')) document.getElementById('65e7aad4-4e37-46da-84bf-44301da061a4').style.display = 'flex' </script> <table border=\"1\" class=\"dataframe\">\n",
       "  <thead>\n",
       "    <tr style=\"text-align: right;\">\n",
       "      <th></th>\n",
       "      <th>Date</th>\n",
       "      <th>Ticker</th>\n",
       "      <th>Mentions</th>\n",
       "      <th>Rank</th>\n",
       "      <th>Sentiment</th>\n",
       "    </tr>\n",
       "  </thead>\n",
       "  <tbody>\n",
       "    <tr>\n",
       "      <th>0</th>\n",
       "      <td>2018-08-01</td>\n",
       "      <td>FB</td>\n",
       "      <td>4</td>\n",
       "      <td>8</td>\n",
       "      <td>-0.054825</td>\n",
       "    </tr>\n",
       "    <tr>\n",
       "      <th>1</th>\n",
       "      <td>2018-08-02</td>\n",
       "      <td>FB</td>\n",
       "      <td>10</td>\n",
       "      <td>6</td>\n",
       "      <td>0.299040</td>\n",
       "    </tr>\n",
       "    <tr>\n",
       "      <th>2</th>\n",
       "      <td>2018-08-03</td>\n",
       "      <td>FB</td>\n",
       "      <td>10</td>\n",
       "      <td>5</td>\n",
       "      <td>0.005050</td>\n",
       "    </tr>\n",
       "    <tr>\n",
       "      <th>3</th>\n",
       "      <td>2018-08-06</td>\n",
       "      <td>FB</td>\n",
       "      <td>19</td>\n",
       "      <td>2</td>\n",
       "      <td>0.225889</td>\n",
       "    </tr>\n",
       "    <tr>\n",
       "      <th>4</th>\n",
       "      <td>2018-08-07</td>\n",
       "      <td>FB</td>\n",
       "      <td>13</td>\n",
       "      <td>5</td>\n",
       "      <td>-0.198246</td>\n",
       "    </tr>\n",
       "  </tbody>\n",
       "</table></div>"
      ],
      "text/plain": [
       "        Date Ticker  Mentions  Rank  Sentiment\n",
       "0 2018-08-01     FB         4     8  -0.054825\n",
       "1 2018-08-02     FB        10     6   0.299040\n",
       "2 2018-08-03     FB        10     5   0.005050\n",
       "3 2018-08-06     FB        19     2   0.225889\n",
       "4 2018-08-07     FB        13     5  -0.198246"
      ]
     },
     "execution_count": 58,
     "metadata": {},
     "output_type": "execute_result"
    }
   ],
   "source": [
    "ticker = 'FB'\n",
    "url = f\"https://api.quiverquant.com/beta/historical/wallstreetbets/{ticker}\"\n",
    "headers = {'accept': 'application/json',\n",
    "'X-CSRFToken': 'TyTJwjuEC7VV7mOqZ622haRaaUr0x0Ng4nrwSRFKQs7vdoBcJlK9qjAS69ghzhFu',\n",
    "'Authorization': f'Token {quant_auth_key}'}\n",
    "r = requests.get(url, headers=headers)\n",
    "df = pd.read_json(r.content)\n",
    "df.head()"
   ]
  },
  {
   "cell_type": "code",
   "execution_count": 59,
   "id": "c40e770f-0f69-44b4-bd7d-a599e7822122",
   "metadata": {},
   "outputs": [],
   "source": [
    "df['Date'] = pd.to_datetime(df['Date'])"
   ]
  },
  {
   "cell_type": "code",
   "execution_count": 60,
   "id": "ef63e055-dc17-4dec-b10a-6f362dcfab42",
   "metadata": {},
   "outputs": [],
   "source": [
    "df.set_index('Date', inplace=True)"
   ]
  },
  {
   "cell_type": "code",
   "execution_count": 61,
   "id": "e697aa12-67a7-4efe-ad85-c00c4ce05b93",
   "metadata": {},
   "outputs": [],
   "source": [
    "df = df.resample('M')['Mentions'].mean().to_frame()"
   ]
  },
  {
   "cell_type": "code",
   "execution_count": 62,
   "id": "4c22ae36-d464-4fbc-b4fa-a2eab4af2975",
   "metadata": {},
   "outputs": [
    {
     "data": {
      "text/html": [
       "<div><div id=9ae51d53-5c0d-4ab8-974e-3625aea59529 style=\"display:none; background-color:#9D6CFF; color:white; width:200px; height:30px; padding-left:5px; border-radius:4px; flex-direction:row; justify-content:space-around; align-items:center;\" onmouseover=\"this.style.backgroundColor='#BA9BF8'\" onmouseout=\"this.style.backgroundColor='#9D6CFF'\" onclick=\"window.commands?.execute('create-mitosheet-from-dataframe-output');\">See Full Dataframe in Mito</div> <script> if (window.commands.hasCommand('create-mitosheet-from-dataframe-output')) document.getElementById('9ae51d53-5c0d-4ab8-974e-3625aea59529').style.display = 'flex' </script> <table border=\"1\" class=\"dataframe\">\n",
       "  <thead>\n",
       "    <tr style=\"text-align: right;\">\n",
       "      <th></th>\n",
       "      <th>Mentions</th>\n",
       "    </tr>\n",
       "    <tr>\n",
       "      <th>Date</th>\n",
       "      <th></th>\n",
       "    </tr>\n",
       "  </thead>\n",
       "  <tbody>\n",
       "    <tr>\n",
       "      <th>2021-08-31</th>\n",
       "      <td>9.548387</td>\n",
       "    </tr>\n",
       "    <tr>\n",
       "      <th>2021-09-30</th>\n",
       "      <td>20.344828</td>\n",
       "    </tr>\n",
       "    <tr>\n",
       "      <th>2021-10-31</th>\n",
       "      <td>124.870968</td>\n",
       "    </tr>\n",
       "    <tr>\n",
       "      <th>2021-11-30</th>\n",
       "      <td>52.200000</td>\n",
       "    </tr>\n",
       "    <tr>\n",
       "      <th>2021-12-31</th>\n",
       "      <td>42.066667</td>\n",
       "    </tr>\n",
       "  </tbody>\n",
       "</table></div>"
      ],
      "text/plain": [
       "              Mentions\n",
       "Date                  \n",
       "2021-08-31    9.548387\n",
       "2021-09-30   20.344828\n",
       "2021-10-31  124.870968\n",
       "2021-11-30   52.200000\n",
       "2021-12-31   42.066667"
      ]
     },
     "execution_count": 62,
     "metadata": {},
     "output_type": "execute_result"
    }
   ],
   "source": [
    "df.tail()"
   ]
  },
  {
   "cell_type": "code",
   "execution_count": 63,
   "id": "48ca6389-7e52-4efa-b559-4e98930fe062",
   "metadata": {},
   "outputs": [
    {
     "data": {
      "text/plain": [
       "42.06666666666667"
      ]
     },
     "execution_count": 63,
     "metadata": {},
     "output_type": "execute_result"
    }
   ],
   "source": [
    "# Monthly average mentions\n",
    "df['Mentions'][-1]"
   ]
  },
  {
   "cell_type": "code",
   "execution_count": 51,
   "id": "0e4d4087-58e0-4a98-9676-986e055871eb",
   "metadata": {},
   "outputs": [],
   "source": [
    "df2 = pd.read_json(r.content)"
   ]
  },
  {
   "cell_type": "code",
   "execution_count": 52,
   "id": "68e04517-eb86-4a4f-b9ca-547d8546b860",
   "metadata": {},
   "outputs": [],
   "source": [
    "df2['Date'] = pd.to_datetime(df2['Date'])"
   ]
  },
  {
   "cell_type": "code",
   "execution_count": 53,
   "id": "3b15c422-290c-4514-b985-b4f3df3ebeaa",
   "metadata": {},
   "outputs": [],
   "source": [
    "df2.set_index('Date', inplace=True)"
   ]
  },
  {
   "cell_type": "code",
   "execution_count": 54,
   "id": "e7e51500-ca40-4818-98db-692d1be914d1",
   "metadata": {},
   "outputs": [],
   "source": [
    "df2 = df2.resample('W')['Mentions'].mean().to_frame()"
   ]
  },
  {
   "cell_type": "code",
   "execution_count": 55,
   "id": "34c1cd6f-6252-4069-ba4b-d7921dbbae0e",
   "metadata": {},
   "outputs": [
    {
     "data": {
      "text/html": [
       "<div><div id=50f55fb9-b4f6-4dd7-9e2f-9358cb50538c style=\"display:none; background-color:#9D6CFF; color:white; width:200px; height:30px; padding-left:5px; border-radius:4px; flex-direction:row; justify-content:space-around; align-items:center;\" onmouseover=\"this.style.backgroundColor='#BA9BF8'\" onmouseout=\"this.style.backgroundColor='#9D6CFF'\" onclick=\"window.commands?.execute('create-mitosheet-from-dataframe-output');\">See Full Dataframe in Mito</div> <script> if (window.commands.hasCommand('create-mitosheet-from-dataframe-output')) document.getElementById('50f55fb9-b4f6-4dd7-9e2f-9358cb50538c').style.display = 'flex' </script> <table border=\"1\" class=\"dataframe\">\n",
       "  <thead>\n",
       "    <tr style=\"text-align: right;\">\n",
       "      <th></th>\n",
       "      <th>Mentions</th>\n",
       "    </tr>\n",
       "    <tr>\n",
       "      <th>Date</th>\n",
       "      <th></th>\n",
       "    </tr>\n",
       "  </thead>\n",
       "  <tbody>\n",
       "    <tr>\n",
       "      <th>2021-11-21</th>\n",
       "      <td>56.428571</td>\n",
       "    </tr>\n",
       "    <tr>\n",
       "      <th>2021-11-28</th>\n",
       "      <td>41.142857</td>\n",
       "    </tr>\n",
       "    <tr>\n",
       "      <th>2021-12-05</th>\n",
       "      <td>53.857143</td>\n",
       "    </tr>\n",
       "    <tr>\n",
       "      <th>2021-12-12</th>\n",
       "      <td>32.285714</td>\n",
       "    </tr>\n",
       "    <tr>\n",
       "      <th>2021-12-19</th>\n",
       "      <td>46.000000</td>\n",
       "    </tr>\n",
       "  </tbody>\n",
       "</table></div>"
      ],
      "text/plain": [
       "             Mentions\n",
       "Date                 \n",
       "2021-11-21  56.428571\n",
       "2021-11-28  41.142857\n",
       "2021-12-05  53.857143\n",
       "2021-12-12  32.285714\n",
       "2021-12-19  46.000000"
      ]
     },
     "execution_count": 55,
     "metadata": {},
     "output_type": "execute_result"
    }
   ],
   "source": [
    "df2.tail()"
   ]
  },
  {
   "cell_type": "code",
   "execution_count": 56,
   "id": "e2a89b4c-9865-4957-9b48-1534c0cc290f",
   "metadata": {},
   "outputs": [
    {
     "data": {
      "text/plain": [
       "46.0"
      ]
     },
     "execution_count": 56,
     "metadata": {},
     "output_type": "execute_result"
    }
   ],
   "source": [
    "# Weekly average mentions\n",
    "df2['Mentions'][-1]"
   ]
  },
  {
   "cell_type": "markdown",
   "id": "35643811-9850-4720-b0fa-24c749b61a84",
   "metadata": {},
   "source": [
    "#### Twitter Data (Historical Daily)"
   ]
  },
  {
   "cell_type": "code",
   "execution_count": 15,
   "id": "40d3299a-d036-4890-b6b4-ad7f3773b48f",
   "metadata": {},
   "outputs": [
    {
     "data": {
      "text/html": [
       "<div><div id=40d769a7-91c8-4558-95f4-fed7f1c304d6 style=\"display:none; background-color:#9D6CFF; color:white; width:200px; height:30px; padding-left:5px; border-radius:4px; flex-direction:row; justify-content:space-around; align-items:center;\" onmouseover=\"this.style.backgroundColor='#BA9BF8'\" onmouseout=\"this.style.backgroundColor='#9D6CFF'\" onclick=\"window.commands?.execute('create-mitosheet-from-dataframe-output');\">See Full Dataframe in Mito</div> <script> if (window.commands.hasCommand('create-mitosheet-from-dataframe-output')) document.getElementById('40d769a7-91c8-4558-95f4-fed7f1c304d6').style.display = 'flex' </script> <table border=\"1\" class=\"dataframe\">\n",
       "  <thead>\n",
       "    <tr style=\"text-align: right;\">\n",
       "      <th></th>\n",
       "      <th>Date</th>\n",
       "      <th>Ticker</th>\n",
       "      <th>Followers</th>\n",
       "      <th>pct_change_day</th>\n",
       "      <th>pct_change_week</th>\n",
       "      <th>pct_change_month</th>\n",
       "    </tr>\n",
       "  </thead>\n",
       "  <tbody>\n",
       "    <tr>\n",
       "      <th>0</th>\n",
       "      <td>2021-12-15</td>\n",
       "      <td>GME</td>\n",
       "      <td>1857169</td>\n",
       "      <td>0.041101</td>\n",
       "      <td>0.224067</td>\n",
       "      <td>1.347300</td>\n",
       "    </tr>\n",
       "    <tr>\n",
       "      <th>1</th>\n",
       "      <td>2021-12-13</td>\n",
       "      <td>GME</td>\n",
       "      <td>1856406</td>\n",
       "      <td>0.021929</td>\n",
       "      <td>0.256473</td>\n",
       "      <td>1.366234</td>\n",
       "    </tr>\n",
       "    <tr>\n",
       "      <th>2</th>\n",
       "      <td>2021-12-12</td>\n",
       "      <td>GME</td>\n",
       "      <td>1855999</td>\n",
       "      <td>0.022203</td>\n",
       "      <td>0.249273</td>\n",
       "      <td>1.387247</td>\n",
       "    </tr>\n",
       "    <tr>\n",
       "      <th>3</th>\n",
       "      <td>2021-12-11</td>\n",
       "      <td>GME</td>\n",
       "      <td>1855587</td>\n",
       "      <td>0.022586</td>\n",
       "      <td>0.240826</td>\n",
       "      <td>1.389720</td>\n",
       "    </tr>\n",
       "    <tr>\n",
       "      <th>4</th>\n",
       "      <td>2021-12-10</td>\n",
       "      <td>GME</td>\n",
       "      <td>1855168</td>\n",
       "      <td>0.037369</td>\n",
       "      <td>0.234273</td>\n",
       "      <td>1.398018</td>\n",
       "    </tr>\n",
       "    <tr>\n",
       "      <th>5</th>\n",
       "      <td>2021-12-09</td>\n",
       "      <td>GME</td>\n",
       "      <td>1854475</td>\n",
       "      <td>0.039973</td>\n",
       "      <td>0.227047</td>\n",
       "      <td>1.389733</td>\n",
       "    </tr>\n",
       "  </tbody>\n",
       "</table></div>"
      ],
      "text/plain": [
       "        Date Ticker  Followers  pct_change_day  pct_change_week  \\\n",
       "0 2021-12-15    GME    1857169        0.041101         0.224067   \n",
       "1 2021-12-13    GME    1856406        0.021929         0.256473   \n",
       "2 2021-12-12    GME    1855999        0.022203         0.249273   \n",
       "3 2021-12-11    GME    1855587        0.022586         0.240826   \n",
       "4 2021-12-10    GME    1855168        0.037369         0.234273   \n",
       "5 2021-12-09    GME    1854475        0.039973         0.227047   \n",
       "\n",
       "   pct_change_month  \n",
       "0          1.347300  \n",
       "1          1.366234  \n",
       "2          1.387247  \n",
       "3          1.389720  \n",
       "4          1.398018  \n",
       "5          1.389733  "
      ]
     },
     "execution_count": 15,
     "metadata": {},
     "output_type": "execute_result"
    }
   ],
   "source": [
    "ticker = 'GME'\n",
    "url = f\"https://api.quiverquant.com/beta/historical/twitter/{ticker}\"\n",
    "headers = {'accept': 'application/json',\n",
    "'X-CSRFToken': 'TyTJwjuEC7VV7mOqZ622haRaaUr0x0Ng4nrwSRFKQs7vdoBcJlK9qjAS69ghzhFu',\n",
    "'Authorization': f'Token {quant_auth_key}'}\n",
    "r = requests.get(url, headers=headers)\n",
    "df = pd.read_json(r.content)\n",
    "df.head(6)"
   ]
  },
  {
   "cell_type": "code",
   "execution_count": 19,
   "id": "d53c3184-ae16-4bdf-9925-1c0da62727aa",
   "metadata": {},
   "outputs": [
    {
     "data": {
      "text/plain": [
       "1.0150738690089036"
      ]
     },
     "execution_count": 19,
     "metadata": {},
     "output_type": "execute_result"
    }
   ],
   "source": [
    "df['Followers'][0] / df['Followers'][31]"
   ]
  },
  {
   "cell_type": "code",
   "execution_count": 27,
   "id": "0aed0858-9456-403b-aad9-57ae5209f517",
   "metadata": {},
   "outputs": [
    {
     "data": {
      "text/html": [
       "<div><div id=311e1fac-02b7-4bac-b6bb-83f1f0c925cd style=\"display:none; background-color:#9D6CFF; color:white; width:200px; height:30px; padding-left:5px; border-radius:4px; flex-direction:row; justify-content:space-around; align-items:center;\" onmouseover=\"this.style.backgroundColor='#BA9BF8'\" onmouseout=\"this.style.backgroundColor='#9D6CFF'\" onclick=\"window.commands?.execute('create-mitosheet-from-dataframe-output');\">See Full Dataframe in Mito</div> <script> if (window.commands.hasCommand('create-mitosheet-from-dataframe-output')) document.getElementById('311e1fac-02b7-4bac-b6bb-83f1f0c925cd').style.display = 'flex' </script> <table border=\"1\" class=\"dataframe\">\n",
       "  <thead>\n",
       "    <tr style=\"text-align: right;\">\n",
       "      <th></th>\n",
       "      <th>Date</th>\n",
       "      <th>Ticker</th>\n",
       "      <th>Followers</th>\n",
       "      <th>pct_change_day</th>\n",
       "      <th>pct_change_week</th>\n",
       "      <th>pct_change_month</th>\n",
       "    </tr>\n",
       "  </thead>\n",
       "  <tbody>\n",
       "    <tr>\n",
       "      <th>478</th>\n",
       "      <td>2020-05-02</td>\n",
       "      <td>FB</td>\n",
       "      <td>13467018</td>\n",
       "      <td>0.006579</td>\n",
       "      <td>0.027705</td>\n",
       "      <td>-0.205672</td>\n",
       "    </tr>\n",
       "    <tr>\n",
       "      <th>477</th>\n",
       "      <td>2020-05-03</td>\n",
       "      <td>FB</td>\n",
       "      <td>13467293</td>\n",
       "      <td>0.002042</td>\n",
       "      <td>0.027883</td>\n",
       "      <td>-0.176472</td>\n",
       "    </tr>\n",
       "    <tr>\n",
       "      <th>476</th>\n",
       "      <td>2020-05-05</td>\n",
       "      <td>FB</td>\n",
       "      <td>13465836</td>\n",
       "      <td>-0.010819</td>\n",
       "      <td>0.015531</td>\n",
       "      <td>-0.113410</td>\n",
       "    </tr>\n",
       "    <tr>\n",
       "      <th>475</th>\n",
       "      <td>2020-05-06</td>\n",
       "      <td>FB</td>\n",
       "      <td>13464762</td>\n",
       "      <td>-0.007976</td>\n",
       "      <td>0.010473</td>\n",
       "      <td>-0.065120</td>\n",
       "    </tr>\n",
       "    <tr>\n",
       "      <th>474</th>\n",
       "      <td>2020-05-07</td>\n",
       "      <td>FB</td>\n",
       "      <td>13464234</td>\n",
       "      <td>-0.003921</td>\n",
       "      <td>-0.001255</td>\n",
       "      <td>0.008557</td>\n",
       "    </tr>\n",
       "  </tbody>\n",
       "</table></div>"
      ],
      "text/plain": [
       "           Date Ticker  Followers  pct_change_day  pct_change_week  \\\n",
       "478  2020-05-02     FB   13467018        0.006579         0.027705   \n",
       "477  2020-05-03     FB   13467293        0.002042         0.027883   \n",
       "476  2020-05-05     FB   13465836       -0.010819         0.015531   \n",
       "475  2020-05-06     FB   13464762       -0.007976         0.010473   \n",
       "474  2020-05-07     FB   13464234       -0.003921        -0.001255   \n",
       "\n",
       "     pct_change_month  \n",
       "478         -0.205672  \n",
       "477         -0.176472  \n",
       "476         -0.113410  \n",
       "475         -0.065120  \n",
       "474          0.008557  "
      ]
     },
     "execution_count": 27,
     "metadata": {},
     "output_type": "execute_result"
    }
   ],
   "source": [
    "quiver.twitter(ticker='FB').sort_values('Date', ascending=True).head()"
   ]
  },
  {
   "cell_type": "code",
   "execution_count": 6,
   "id": "f01ccdcd-db8a-4a3c-ae5b-b9d25990ea34",
   "metadata": {},
   "outputs": [],
   "source": [
    "twitter_data = quiver.twitter(ticker='FB')"
   ]
  },
  {
   "cell_type": "code",
   "execution_count": 18,
   "id": "db107efd-9b6b-4203-adab-513168b890a1",
   "metadata": {},
   "outputs": [
    {
     "data": {
      "text/html": [
       "<div><div id=f3c3ead8-be89-41a8-865c-9f38ad123f33 style=\"display:none; background-color:#9D6CFF; color:white; width:200px; height:30px; padding-left:5px; border-radius:4px; flex-direction:row; justify-content:space-around; align-items:center;\" onmouseover=\"this.style.backgroundColor='#BA9BF8'\" onmouseout=\"this.style.backgroundColor='#9D6CFF'\" onclick=\"window.commands?.execute('create-mitosheet-from-dataframe-output');\">See Full Dataframe in Mito</div> <script> if (window.commands.hasCommand('create-mitosheet-from-dataframe-output')) document.getElementById('f3c3ead8-be89-41a8-865c-9f38ad123f33').style.display = 'flex' </script> <table border=\"1\" class=\"dataframe\">\n",
       "  <thead>\n",
       "    <tr style=\"text-align: right;\">\n",
       "      <th></th>\n",
       "      <th>Date</th>\n",
       "      <th>Ticker</th>\n",
       "      <th>Followers</th>\n",
       "    </tr>\n",
       "  </thead>\n",
       "  <tbody>\n",
       "    <tr>\n",
       "      <th>474</th>\n",
       "      <td>2020-05-07</td>\n",
       "      <td>FB</td>\n",
       "      <td>13464234</td>\n",
       "    </tr>\n",
       "    <tr>\n",
       "      <th>475</th>\n",
       "      <td>2020-05-06</td>\n",
       "      <td>FB</td>\n",
       "      <td>13464762</td>\n",
       "    </tr>\n",
       "    <tr>\n",
       "      <th>476</th>\n",
       "      <td>2020-05-05</td>\n",
       "      <td>FB</td>\n",
       "      <td>13465836</td>\n",
       "    </tr>\n",
       "    <tr>\n",
       "      <th>477</th>\n",
       "      <td>2020-05-03</td>\n",
       "      <td>FB</td>\n",
       "      <td>13467293</td>\n",
       "    </tr>\n",
       "    <tr>\n",
       "      <th>478</th>\n",
       "      <td>2020-05-02</td>\n",
       "      <td>FB</td>\n",
       "      <td>13467018</td>\n",
       "    </tr>\n",
       "  </tbody>\n",
       "</table></div>"
      ],
      "text/plain": [
       "           Date Ticker  Followers\n",
       "474  2020-05-07     FB   13464234\n",
       "475  2020-05-06     FB   13464762\n",
       "476  2020-05-05     FB   13465836\n",
       "477  2020-05-03     FB   13467293\n",
       "478  2020-05-02     FB   13467018"
      ]
     },
     "execution_count": 18,
     "metadata": {},
     "output_type": "execute_result"
    }
   ],
   "source": [
    "twitter_data[['Date', 'Ticker', 'Followers']].tail()"
   ]
  },
  {
   "cell_type": "markdown",
   "id": "d5c9514c-a0cd-4f3a-bf38-651beee588c8",
   "metadata": {},
   "source": [
    "#### Wikipedia Pageviews (Historical Weekly)"
   ]
  },
  {
   "cell_type": "code",
   "execution_count": 20,
   "id": "bb75c00f-54d9-4674-a22b-f6bf2759e2c1",
   "metadata": {},
   "outputs": [
    {
     "data": {
      "text/html": [
       "<div><div id=6f1e5a51-ae21-4a1a-a008-f39b41c7764a style=\"display:none; background-color:#9D6CFF; color:white; width:200px; height:30px; padding-left:5px; border-radius:4px; flex-direction:row; justify-content:space-around; align-items:center;\" onmouseover=\"this.style.backgroundColor='#BA9BF8'\" onmouseout=\"this.style.backgroundColor='#9D6CFF'\" onclick=\"window.commands?.execute('create-mitosheet-from-dataframe-output');\">See Full Dataframe in Mito</div> <script> if (window.commands.hasCommand('create-mitosheet-from-dataframe-output')) document.getElementById('6f1e5a51-ae21-4a1a-a008-f39b41c7764a').style.display = 'flex' </script> <table border=\"1\" class=\"dataframe\">\n",
       "  <thead>\n",
       "    <tr style=\"text-align: right;\">\n",
       "      <th></th>\n",
       "      <th>Date</th>\n",
       "      <th>Ticker</th>\n",
       "      <th>Views</th>\n",
       "      <th>pct_change_week</th>\n",
       "      <th>pct_change_month</th>\n",
       "    </tr>\n",
       "  </thead>\n",
       "  <tbody>\n",
       "    <tr>\n",
       "      <th>264</th>\n",
       "      <td>2021-11-08</td>\n",
       "      <td>FB</td>\n",
       "      <td>4532.0</td>\n",
       "      <td>-95.358745</td>\n",
       "      <td>-97.865928</td>\n",
       "    </tr>\n",
       "    <tr>\n",
       "      <th>265</th>\n",
       "      <td>2021-11-15</td>\n",
       "      <td>FB</td>\n",
       "      <td>2966.0</td>\n",
       "      <td>-34.554281</td>\n",
       "      <td>-98.222696</td>\n",
       "    </tr>\n",
       "    <tr>\n",
       "      <th>266</th>\n",
       "      <td>2021-11-22</td>\n",
       "      <td>FB</td>\n",
       "      <td>1626.0</td>\n",
       "      <td>-45.178692</td>\n",
       "      <td>-99.098864</td>\n",
       "    </tr>\n",
       "    <tr>\n",
       "      <th>267</th>\n",
       "      <td>2021-11-29</td>\n",
       "      <td>FB</td>\n",
       "      <td>1644.0</td>\n",
       "      <td>1.107011</td>\n",
       "      <td>-98.316367</td>\n",
       "    </tr>\n",
       "    <tr>\n",
       "      <th>268</th>\n",
       "      <td>2021-12-06</td>\n",
       "      <td>FB</td>\n",
       "      <td>1574.0</td>\n",
       "      <td>-4.257908</td>\n",
       "      <td>-65.269197</td>\n",
       "    </tr>\n",
       "  </tbody>\n",
       "</table></div>"
      ],
      "text/plain": [
       "           Date Ticker   Views  pct_change_week  pct_change_month\n",
       "264  2021-11-08     FB  4532.0       -95.358745        -97.865928\n",
       "265  2021-11-15     FB  2966.0       -34.554281        -98.222696\n",
       "266  2021-11-22     FB  1626.0       -45.178692        -99.098864\n",
       "267  2021-11-29     FB  1644.0         1.107011        -98.316367\n",
       "268  2021-12-06     FB  1574.0        -4.257908        -65.269197"
      ]
     },
     "execution_count": 20,
     "metadata": {},
     "output_type": "execute_result"
    }
   ],
   "source": [
    "quiver.wikipedia(ticker='FB').tail()"
   ]
  },
  {
   "cell_type": "markdown",
   "id": "7de20185-eeb4-4b97-a43b-7ea38804f3bb",
   "metadata": {},
   "source": [
    "#### Congress Trading (Historical)"
   ]
  },
  {
   "cell_type": "code",
   "execution_count": 6,
   "id": "62c19de0-ada4-4a5f-bd61-5b62d8e16f5c",
   "metadata": {},
   "outputs": [
    {
     "data": {
      "text/html": [
       "<div><div id=7d2b27e0-19c7-4eb5-94b9-0ac25d178657 style=\"display:none; background-color:#9D6CFF; color:white; width:200px; height:30px; padding-left:5px; border-radius:4px; flex-direction:row; justify-content:space-around; align-items:center;\" onmouseover=\"this.style.backgroundColor='#BA9BF8'\" onmouseout=\"this.style.backgroundColor='#9D6CFF'\" onclick=\"window.commands?.execute('create-mitosheet-from-dataframe-output');\">See Full Dataframe in Mito</div> <script> if (window.commands.hasCommand('create-mitosheet-from-dataframe-output')) document.getElementById('7d2b27e0-19c7-4eb5-94b9-0ac25d178657').style.display = 'flex' </script> <table border=\"1\" class=\"dataframe\">\n",
       "  <thead>\n",
       "    <tr style=\"text-align: right;\">\n",
       "      <th></th>\n",
       "      <th>ReportDate</th>\n",
       "      <th>TransactionDate</th>\n",
       "      <th>Ticker</th>\n",
       "      <th>Representative</th>\n",
       "      <th>Transaction</th>\n",
       "      <th>Amount</th>\n",
       "      <th>House</th>\n",
       "      <th>Range</th>\n",
       "    </tr>\n",
       "  </thead>\n",
       "  <tbody>\n",
       "    <tr>\n",
       "      <th>0</th>\n",
       "      <td>2021-11-15</td>\n",
       "      <td>2021-10-27</td>\n",
       "      <td>FB</td>\n",
       "      <td>Josh Gottheimer</td>\n",
       "      <td>Sale</td>\n",
       "      <td>1001.0</td>\n",
       "      <td>Representatives</td>\n",
       "      <td>$1,001-$15,000</td>\n",
       "    </tr>\n",
       "    <tr>\n",
       "      <th>1</th>\n",
       "      <td>2021-11-15</td>\n",
       "      <td>2021-10-26</td>\n",
       "      <td>FB</td>\n",
       "      <td>Josh Gottheimer</td>\n",
       "      <td>Sale</td>\n",
       "      <td>1001.0</td>\n",
       "      <td>Representatives</td>\n",
       "      <td>$1,001-$15,000</td>\n",
       "    </tr>\n",
       "    <tr>\n",
       "      <th>2</th>\n",
       "      <td>2021-11-15</td>\n",
       "      <td>2021-10-18</td>\n",
       "      <td>FB</td>\n",
       "      <td>Josh Gottheimer</td>\n",
       "      <td>Sale</td>\n",
       "      <td>1001.0</td>\n",
       "      <td>Representatives</td>\n",
       "      <td>$1,001-$15,000</td>\n",
       "    </tr>\n",
       "    <tr>\n",
       "      <th>3</th>\n",
       "      <td>2021-09-08</td>\n",
       "      <td>2021-08-13</td>\n",
       "      <td>FB</td>\n",
       "      <td>Marie Newman</td>\n",
       "      <td>Sale</td>\n",
       "      <td>15001.0</td>\n",
       "      <td>Representatives</td>\n",
       "      <td>$15,001-$50,000</td>\n",
       "    </tr>\n",
       "    <tr>\n",
       "      <th>4</th>\n",
       "      <td>2021-09-08</td>\n",
       "      <td>2021-08-02</td>\n",
       "      <td>FB</td>\n",
       "      <td>Marie Newman</td>\n",
       "      <td>Purchase</td>\n",
       "      <td>15001.0</td>\n",
       "      <td>Representatives</td>\n",
       "      <td>$15,001-$50,000</td>\n",
       "    </tr>\n",
       "  </tbody>\n",
       "</table></div>"
      ],
      "text/plain": [
       "  ReportDate TransactionDate Ticker    Representative Transaction   Amount  \\\n",
       "0 2021-11-15      2021-10-27     FB   Josh Gottheimer        Sale   1001.0   \n",
       "1 2021-11-15      2021-10-26     FB   Josh Gottheimer        Sale   1001.0   \n",
       "2 2021-11-15      2021-10-18     FB   Josh Gottheimer        Sale   1001.0   \n",
       "3 2021-09-08      2021-08-13     FB      Marie Newman        Sale  15001.0   \n",
       "4 2021-09-08      2021-08-02     FB      Marie Newman    Purchase  15001.0   \n",
       "\n",
       "             House            Range  \n",
       "0  Representatives   $1,001-$15,000  \n",
       "1  Representatives   $1,001-$15,000  \n",
       "2  Representatives   $1,001-$15,000  \n",
       "3  Representatives  $15,001-$50,000  \n",
       "4  Representatives  $15,001-$50,000  "
      ]
     },
     "execution_count": 6,
     "metadata": {},
     "output_type": "execute_result"
    }
   ],
   "source": [
    "quiver.congress_trading(ticker='FB', politician=False).head()"
   ]
  },
  {
   "cell_type": "markdown",
   "id": "180517b0-1dec-4c53-9925-1012aa7e3202",
   "metadata": {},
   "source": [
    "#### OTC Short Percentages (Historical)"
   ]
  },
  {
   "cell_type": "code",
   "execution_count": 21,
   "id": "1a9672d8-6481-4007-ae59-258b83ccd102",
   "metadata": {},
   "outputs": [
    {
     "data": {
      "text/html": [
       "<div><div id=aa09b04d-20c2-4dd6-a06a-8ef4fcf7861f style=\"display:none; background-color:#9D6CFF; color:white; width:200px; height:30px; padding-left:5px; border-radius:4px; flex-direction:row; justify-content:space-around; align-items:center;\" onmouseover=\"this.style.backgroundColor='#BA9BF8'\" onmouseout=\"this.style.backgroundColor='#9D6CFF'\" onclick=\"window.commands?.execute('create-mitosheet-from-dataframe-output');\">See Full Dataframe in Mito</div> <script> if (window.commands.hasCommand('create-mitosheet-from-dataframe-output')) document.getElementById('aa09b04d-20c2-4dd6-a06a-8ef4fcf7861f').style.display = 'flex' </script> <table border=\"1\" class=\"dataframe\">\n",
       "  <thead>\n",
       "    <tr style=\"text-align: right;\">\n",
       "      <th></th>\n",
       "      <th>Date</th>\n",
       "      <th>Ticker</th>\n",
       "      <th>OTC_Short</th>\n",
       "      <th>OTC_Total</th>\n",
       "      <th>DPI</th>\n",
       "    </tr>\n",
       "  </thead>\n",
       "  <tbody>\n",
       "    <tr>\n",
       "      <th>0</th>\n",
       "      <td>2021-12-14</td>\n",
       "      <td>FB</td>\n",
       "      <td>3521984</td>\n",
       "      <td>6869169</td>\n",
       "      <td>0.512723</td>\n",
       "    </tr>\n",
       "    <tr>\n",
       "      <th>1</th>\n",
       "      <td>2021-12-13</td>\n",
       "      <td>FB</td>\n",
       "      <td>3777907</td>\n",
       "      <td>8929714</td>\n",
       "      <td>0.423071</td>\n",
       "    </tr>\n",
       "    <tr>\n",
       "      <th>2</th>\n",
       "      <td>2021-12-10</td>\n",
       "      <td>FB</td>\n",
       "      <td>2344664</td>\n",
       "      <td>4927749</td>\n",
       "      <td>0.475808</td>\n",
       "    </tr>\n",
       "    <tr>\n",
       "      <th>3</th>\n",
       "      <td>2021-12-09</td>\n",
       "      <td>FB</td>\n",
       "      <td>3329667</td>\n",
       "      <td>6122207</td>\n",
       "      <td>0.543867</td>\n",
       "    </tr>\n",
       "    <tr>\n",
       "      <th>4</th>\n",
       "      <td>2021-12-08</td>\n",
       "      <td>FB</td>\n",
       "      <td>3503561</td>\n",
       "      <td>6659048</td>\n",
       "      <td>0.526135</td>\n",
       "    </tr>\n",
       "  </tbody>\n",
       "</table></div>"
      ],
      "text/plain": [
       "        Date Ticker  OTC_Short  OTC_Total       DPI\n",
       "0 2021-12-14     FB    3521984    6869169  0.512723\n",
       "1 2021-12-13     FB    3777907    8929714  0.423071\n",
       "2 2021-12-10     FB    2344664    4927749  0.475808\n",
       "3 2021-12-09     FB    3329667    6122207  0.543867\n",
       "4 2021-12-08     FB    3503561    6659048  0.526135"
      ]
     },
     "execution_count": 21,
     "metadata": {},
     "output_type": "execute_result"
    }
   ],
   "source": [
    "quiver.offexchange(ticker='FB').head()"
   ]
  },
  {
   "cell_type": "code",
   "execution_count": 12,
   "id": "771b7243-4ec5-4c77-9ba0-1886cc442044",
   "metadata": {},
   "outputs": [
    {
     "data": {
      "text/html": [
       "<div><div id=4d0cb4db-6aaf-4979-8709-aac48be0bab9 style=\"display:none; background-color:#9D6CFF; color:white; width:200px; height:30px; padding-left:5px; border-radius:4px; flex-direction:row; justify-content:space-around; align-items:center;\" onmouseover=\"this.style.backgroundColor='#BA9BF8'\" onmouseout=\"this.style.backgroundColor='#9D6CFF'\" onclick=\"window.commands?.execute('create-mitosheet-from-dataframe-output');\">See Full Dataframe in Mito</div> <script> if (window.commands.hasCommand('create-mitosheet-from-dataframe-output')) document.getElementById('4d0cb4db-6aaf-4979-8709-aac48be0bab9').style.display = 'flex' </script> <table border=\"1\" class=\"dataframe\">\n",
       "  <thead>\n",
       "    <tr style=\"text-align: right;\">\n",
       "      <th></th>\n",
       "      <th>Date</th>\n",
       "      <th>Ticker</th>\n",
       "      <th>OTC_Short</th>\n",
       "      <th>OTC_Total</th>\n",
       "      <th>DPI</th>\n",
       "    </tr>\n",
       "  </thead>\n",
       "  <tbody>\n",
       "    <tr>\n",
       "      <th>0</th>\n",
       "      <td>2021-12-14</td>\n",
       "      <td>FB</td>\n",
       "      <td>3521984</td>\n",
       "      <td>6869169</td>\n",
       "      <td>0.512723</td>\n",
       "    </tr>\n",
       "    <tr>\n",
       "      <th>1</th>\n",
       "      <td>2021-12-13</td>\n",
       "      <td>FB</td>\n",
       "      <td>3777907</td>\n",
       "      <td>8929714</td>\n",
       "      <td>0.423071</td>\n",
       "    </tr>\n",
       "    <tr>\n",
       "      <th>2</th>\n",
       "      <td>2021-12-10</td>\n",
       "      <td>FB</td>\n",
       "      <td>2344664</td>\n",
       "      <td>4927749</td>\n",
       "      <td>0.475808</td>\n",
       "    </tr>\n",
       "    <tr>\n",
       "      <th>3</th>\n",
       "      <td>2021-12-09</td>\n",
       "      <td>FB</td>\n",
       "      <td>3329667</td>\n",
       "      <td>6122207</td>\n",
       "      <td>0.543867</td>\n",
       "    </tr>\n",
       "    <tr>\n",
       "      <th>4</th>\n",
       "      <td>2021-12-08</td>\n",
       "      <td>FB</td>\n",
       "      <td>3503561</td>\n",
       "      <td>6659048</td>\n",
       "      <td>0.526135</td>\n",
       "    </tr>\n",
       "  </tbody>\n",
       "</table></div>"
      ],
      "text/plain": [
       "        Date Ticker  OTC_Short  OTC_Total       DPI\n",
       "0 2021-12-14     FB    3521984    6869169  0.512723\n",
       "1 2021-12-13     FB    3777907    8929714  0.423071\n",
       "2 2021-12-10     FB    2344664    4927749  0.475808\n",
       "3 2021-12-09     FB    3329667    6122207  0.543867\n",
       "4 2021-12-08     FB    3503561    6659048  0.526135"
      ]
     },
     "execution_count": 12,
     "metadata": {},
     "output_type": "execute_result"
    }
   ],
   "source": [
    "quiver.offexchange(ticker='FB').head()"
   ]
  },
  {
   "cell_type": "code",
   "execution_count": 51,
   "id": "2fce021b-d50d-4856-ab25-757705755d9e",
   "metadata": {},
   "outputs": [],
   "source": [
    "otc_data = quiver.offexchange(ticker='FB')[['Date', 'DPI']].sort_values(by='Date', ascending=True)"
   ]
  },
  {
   "cell_type": "markdown",
   "id": "efc17b66-1cb1-4fdc-8294-e953d89d5822",
   "metadata": {},
   "source": [
    "## Function Combining Several Sentiment Indicators  "
   ]
  },
  {
   "cell_type": "code",
   "execution_count": 144,
   "id": "38a4611b-664b-429f-b8af-05a218b1d61d",
   "metadata": {},
   "outputs": [],
   "source": [
    "def alt_dataframe(ticker, start_date, end_date):\n",
    "    wsb_data = quiver.wallstreetbets(ticker ='FB')\n",
    "    wsb_data['Date'] = pd.to_datetime(wsb_data['Date'])\n",
    "    wsb_data.set_index('Date', inplace=True)\n",
    "    congress_data = quiver.congress_trading(ticker='FB', politician=False).sort_values(by='ReportDate', ascending=True)[['ReportDate', 'Transaction']]\n",
    "    congress_data['Transaction'] = congress_data['Transaction'].map({'Purchase' : 1, 'Sale' : -1})\n",
    "    congress_data['ReportDate'] = pd.to_datetime(congress_data['ReportDate'])\n",
    "    congress_data.set_index('ReportDate', inplace=True)\n",
    "    otc_data = quiver.offexchange(ticker='FB')[['Date', 'DPI']].sort_values(by='Date', ascending=True)\n",
    "    otc_data['Date'] = pd.to_datetime(otc_data['Date'])\n",
    "    otc_data.set_index('Date', inplace=True)\n",
    "    df = otc_data.join(congress_data)\n",
    "    df2 = df.join(wsb_data)\n",
    "    df2 = df2[df2.index >= f'{start_date}']\n",
    "    df2 = df2[df2.index <= f'{end_date}']\n",
    "    df2['Transaction'].fillna(0, inplace=True)\n",
    "    return df2"
   ]
  },
  {
   "cell_type": "code",
   "execution_count": 146,
   "id": "8f376bb0-2415-4467-9516-56ab9bb57c8b",
   "metadata": {},
   "outputs": [
    {
     "name": "stdout",
     "output_type": "stream",
     "text": [
      "https://api.quiverquant.com/beta/historical/wallstreetbets/FB\n"
     ]
    },
    {
     "data": {
      "text/html": [
       "<div><div id=712eaa39-0b6d-4986-8394-caba20f1a9a7 style=\"display:none; background-color:#9D6CFF; color:white; width:200px; height:30px; padding-left:5px; border-radius:4px; flex-direction:row; justify-content:space-around; align-items:center;\" onmouseover=\"this.style.backgroundColor='#BA9BF8'\" onmouseout=\"this.style.backgroundColor='#9D6CFF'\" onclick=\"window.commands?.execute('create-mitosheet-from-dataframe-output');\">See Full Dataframe in Mito</div> <script> if (window.commands.hasCommand('create-mitosheet-from-dataframe-output')) document.getElementById('712eaa39-0b6d-4986-8394-caba20f1a9a7').style.display = 'flex' </script> <table border=\"1\" class=\"dataframe\">\n",
       "  <thead>\n",
       "    <tr style=\"text-align: right;\">\n",
       "      <th></th>\n",
       "      <th>DPI</th>\n",
       "      <th>Transaction</th>\n",
       "      <th>Ticker</th>\n",
       "      <th>Mentions</th>\n",
       "      <th>Rank</th>\n",
       "      <th>Sentiment</th>\n",
       "    </tr>\n",
       "  </thead>\n",
       "  <tbody>\n",
       "    <tr>\n",
       "      <th>2021-01-04</th>\n",
       "      <td>0.319705</td>\n",
       "      <td>0.0</td>\n",
       "      <td>FB</td>\n",
       "      <td>22.0</td>\n",
       "      <td>67.0</td>\n",
       "      <td>0.010582</td>\n",
       "    </tr>\n",
       "    <tr>\n",
       "      <th>2021-01-05</th>\n",
       "      <td>0.346115</td>\n",
       "      <td>0.0</td>\n",
       "      <td>FB</td>\n",
       "      <td>37.0</td>\n",
       "      <td>44.0</td>\n",
       "      <td>0.074581</td>\n",
       "    </tr>\n",
       "    <tr>\n",
       "      <th>2021-01-06</th>\n",
       "      <td>0.325061</td>\n",
       "      <td>0.0</td>\n",
       "      <td>FB</td>\n",
       "      <td>98.0</td>\n",
       "      <td>25.0</td>\n",
       "      <td>-0.029316</td>\n",
       "    </tr>\n",
       "    <tr>\n",
       "      <th>2021-01-07</th>\n",
       "      <td>0.301306</td>\n",
       "      <td>0.0</td>\n",
       "      <td>FB</td>\n",
       "      <td>76.0</td>\n",
       "      <td>25.0</td>\n",
       "      <td>0.021668</td>\n",
       "    </tr>\n",
       "    <tr>\n",
       "      <th>2021-01-08</th>\n",
       "      <td>0.341858</td>\n",
       "      <td>0.0</td>\n",
       "      <td>FB</td>\n",
       "      <td>63.0</td>\n",
       "      <td>24.0</td>\n",
       "      <td>-0.074205</td>\n",
       "    </tr>\n",
       "  </tbody>\n",
       "</table></div>"
      ],
      "text/plain": [
       "                 DPI  Transaction Ticker  Mentions  Rank  Sentiment\n",
       "2021-01-04  0.319705          0.0     FB      22.0  67.0   0.010582\n",
       "2021-01-05  0.346115          0.0     FB      37.0  44.0   0.074581\n",
       "2021-01-06  0.325061          0.0     FB      98.0  25.0  -0.029316\n",
       "2021-01-07  0.301306          0.0     FB      76.0  25.0   0.021668\n",
       "2021-01-08  0.341858          0.0     FB      63.0  24.0  -0.074205"
      ]
     },
     "execution_count": 146,
     "metadata": {},
     "output_type": "execute_result"
    }
   ],
   "source": [
    "ticker = 'FB'\n",
    "start_date = '2021-01-01'\n",
    "end_date = '2021-12-10'\n",
    "alt_dataframe(ticker, start_date, end_date).head()"
   ]
  }
 ],
 "metadata": {
  "kernelspec": {
   "display_name": "Python 3 (ipykernel)",
   "language": "python",
   "name": "python3"
  },
  "language_info": {
   "codemirror_mode": {
    "name": "ipython",
    "version": 3
   },
   "file_extension": ".py",
   "mimetype": "text/x-python",
   "name": "python",
   "nbconvert_exporter": "python",
   "pygments_lexer": "ipython3",
   "version": "3.8.8"
  }
 },
 "nbformat": 4,
 "nbformat_minor": 5
}
