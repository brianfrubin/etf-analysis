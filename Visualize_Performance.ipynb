{
 "cells": [
  {
   "cell_type": "markdown",
   "id": "5def6e44-6287-40cc-aacc-8e97ab45a909",
   "metadata": {},
   "source": [
    "### Caclulate S&P 500 YTD Performance as Benchmark"
   ]
  },
  {
   "cell_type": "markdown",
   "id": "f67fe858-55c8-40bf-a0e5-03b77c8106ea",
   "metadata": {},
   "source": [
    "#### Creating Function to Pull Historical Daily Prices for Specific Ticker and Date Range"
   ]
  },
  {
   "cell_type": "code",
   "execution_count": 118,
   "id": "85b88c42-de0a-4e20-b379-9f688523068a",
   "metadata": {},
   "outputs": [],
   "source": [
    "#used this source as reference : https://medium.com/codex/creating-a-diversified-portfolio-with-correlation-matrix-in-python-7d7825255a2d\n",
    "def historical_daily(ticker, start_date, end_date):\n",
    "    #alpha vantage API request for daily adjusted prices\n",
    "    token = alpha_auth_key\n",
    "    url = f'https://www.alphavantage.co/query?function=TIME_SERIES_DAILY_ADJUSTED&outputsize=full&symbol={ticker}&interval=5min&apikey={token}&datatype=csv'\n",
    "    r = requests.get(url)\n",
    "\n",
    "    #converting from bytes to pandas dataframe : https://stackoverflow.com/questions/47379476/how-to-convert-bytes-data-into-a-python-pandas-dataframe\n",
    "    df_daily = pd.read_csv(BytesIO(r.content))\n",
    "    \n",
    "    #setting index \n",
    "    df_daily.set_index('timestamp', inplace=True)\n",
    "    df_daily = df_daily[df_daily.index >= start_date]\n",
    "    df_daily = df_daily[df_daily.index <= end_date]\n",
    "    df_daily.index = pd.to_datetime(df_daily.index)\n",
    "    return df_daily"
   ]
  },
  {
   "cell_type": "markdown",
   "id": "9c57b0ac-9d3b-47dc-be30-1a4037ecef49",
   "metadata": {},
   "source": [
    "#### Using Function to Create and Store SPY 2021 YTD Data"
   ]
  },
  {
   "cell_type": "code",
   "execution_count": 119,
   "id": "42c8410e-6ce4-4054-9aa8-e607cbc55867",
   "metadata": {},
   "outputs": [],
   "source": [
    "sp_500 = historical_daily('SPY', '2021-01-01', '2021-12-07')"
   ]
  },
  {
   "cell_type": "code",
   "execution_count": 196,
   "id": "b5224866-b499-41b3-8b55-68b54f852cc4",
   "metadata": {},
   "outputs": [
    {
     "data": {
      "text/html": [
       "<div><div id=7199c84b-098f-4788-8fec-178406411d5b style=\"display:none; background-color:#9D6CFF; color:white; width:200px; height:30px; padding-left:5px; border-radius:4px; flex-direction:row; justify-content:space-around; align-items:center;\" onmouseover=\"this.style.backgroundColor='#BA9BF8'\" onmouseout=\"this.style.backgroundColor='#9D6CFF'\" onclick=\"window.commands?.execute('create-mitosheet-from-dataframe-output');\">See Full Dataframe in Mito</div> <script> if (window.commands.hasCommand('create-mitosheet-from-dataframe-output')) document.getElementById('7199c84b-098f-4788-8fec-178406411d5b').style.display = 'flex' </script> <table border=\"1\" class=\"dataframe\">\n",
       "  <thead>\n",
       "    <tr style=\"text-align: right;\">\n",
       "      <th></th>\n",
       "      <th>timestamp</th>\n",
       "      <th>open</th>\n",
       "      <th>high</th>\n",
       "      <th>low</th>\n",
       "      <th>close</th>\n",
       "      <th>adjusted_close</th>\n",
       "      <th>volume</th>\n",
       "      <th>dividend_amount</th>\n",
       "      <th>split_coefficient</th>\n",
       "    </tr>\n",
       "  </thead>\n",
       "  <tbody>\n",
       "    <tr>\n",
       "      <th>0</th>\n",
       "      <td>2021-12-07</td>\n",
       "      <td>464.41</td>\n",
       "      <td>468.88</td>\n",
       "      <td>458.6546</td>\n",
       "      <td>468.28</td>\n",
       "      <td>468.28</td>\n",
       "      <td>95484688</td>\n",
       "      <td>0.0</td>\n",
       "      <td>1.0</td>\n",
       "    </tr>\n",
       "  </tbody>\n",
       "</table></div>"
      ],
      "text/plain": [
       "    timestamp    open    high       low   close  adjusted_close    volume  \\\n",
       "0  2021-12-07  464.41  468.88  458.6546  468.28          468.28  95484688   \n",
       "\n",
       "   dividend_amount  split_coefficient  \n",
       "0              0.0                1.0  "
      ]
     },
     "execution_count": 196,
     "metadata": {},
     "output_type": "execute_result"
    }
   ],
   "source": [
    "sp_500.head(1)"
   ]
  },
  {
   "cell_type": "code",
   "execution_count": 218,
   "id": "a5aaea88-64aa-4739-9e4f-ba348a904dc0",
   "metadata": {},
   "outputs": [],
   "source": [
    "sp_500 = sp_500.sort_values(by=['timestamp']).reset_index()\n",
    "sp_500.drop(columns='index', inplace=True)"
   ]
  },
  {
   "cell_type": "code",
   "execution_count": 223,
   "id": "bd36cb49-af96-474f-b634-8d3ebb5e3379",
   "metadata": {},
   "outputs": [],
   "source": [
    "sp_500.to_csv('spy_daily_2021.csv')"
   ]
  },
  {
   "cell_type": "code",
   "execution_count": 23,
   "id": "47836800-fc92-4f62-9088-3b5b150c2398",
   "metadata": {},
   "outputs": [],
   "source": [
    "sp_500 = pd.read_csv('spy_daily_2021.csv')"
   ]
  },
  {
   "cell_type": "code",
   "execution_count": 4,
   "id": "0f4af2eb-ff87-47b9-9254-39f8b97e2202",
   "metadata": {},
   "outputs": [
    {
     "data": {
      "text/html": [
       "<div><div id=f491971b-d016-4217-ba31-c2c63a5721e1 style=\"display:none; background-color:#9D6CFF; color:white; width:200px; height:30px; padding-left:5px; border-radius:4px; flex-direction:row; justify-content:space-around; align-items:center;\" onmouseover=\"this.style.backgroundColor='#BA9BF8'\" onmouseout=\"this.style.backgroundColor='#9D6CFF'\" onclick=\"window.commands?.execute('create-mitosheet-from-dataframe-output');\">See Full Dataframe in Mito</div> <script> if (window.commands.hasCommand('create-mitosheet-from-dataframe-output')) document.getElementById('f491971b-d016-4217-ba31-c2c63a5721e1').style.display = 'flex' </script> <table border=\"1\" class=\"dataframe\">\n",
       "  <thead>\n",
       "    <tr style=\"text-align: right;\">\n",
       "      <th></th>\n",
       "      <th>Unnamed: 0</th>\n",
       "      <th>timestamp</th>\n",
       "      <th>open</th>\n",
       "      <th>high</th>\n",
       "      <th>low</th>\n",
       "      <th>close</th>\n",
       "      <th>adjusted_close</th>\n",
       "      <th>volume</th>\n",
       "      <th>dividend_amount</th>\n",
       "      <th>split_coefficient</th>\n",
       "    </tr>\n",
       "  </thead>\n",
       "  <tbody>\n",
       "    <tr>\n",
       "      <th>0</th>\n",
       "      <td>0</td>\n",
       "      <td>2021-01-04</td>\n",
       "      <td>375.31</td>\n",
       "      <td>375.45</td>\n",
       "      <td>364.82</td>\n",
       "      <td>368.79</td>\n",
       "      <td>365.187629</td>\n",
       "      <td>110210810</td>\n",
       "      <td>0.0</td>\n",
       "      <td>1.0</td>\n",
       "    </tr>\n",
       "    <tr>\n",
       "      <th>1</th>\n",
       "      <td>1</td>\n",
       "      <td>2021-01-05</td>\n",
       "      <td>368.10</td>\n",
       "      <td>372.50</td>\n",
       "      <td>368.05</td>\n",
       "      <td>371.33</td>\n",
       "      <td>367.702818</td>\n",
       "      <td>66426229</td>\n",
       "      <td>0.0</td>\n",
       "      <td>1.0</td>\n",
       "    </tr>\n",
       "    <tr>\n",
       "      <th>2</th>\n",
       "      <td>2</td>\n",
       "      <td>2021-01-06</td>\n",
       "      <td>369.71</td>\n",
       "      <td>376.98</td>\n",
       "      <td>369.12</td>\n",
       "      <td>373.55</td>\n",
       "      <td>369.901133</td>\n",
       "      <td>107997675</td>\n",
       "      <td>0.0</td>\n",
       "      <td>1.0</td>\n",
       "    </tr>\n",
       "    <tr>\n",
       "      <th>3</th>\n",
       "      <td>3</td>\n",
       "      <td>2021-01-07</td>\n",
       "      <td>376.10</td>\n",
       "      <td>379.90</td>\n",
       "      <td>375.91</td>\n",
       "      <td>379.10</td>\n",
       "      <td>375.396920</td>\n",
       "      <td>68766812</td>\n",
       "      <td>0.0</td>\n",
       "      <td>1.0</td>\n",
       "    </tr>\n",
       "    <tr>\n",
       "      <th>4</th>\n",
       "      <td>4</td>\n",
       "      <td>2021-01-08</td>\n",
       "      <td>380.59</td>\n",
       "      <td>381.49</td>\n",
       "      <td>377.10</td>\n",
       "      <td>381.26</td>\n",
       "      <td>377.535821</td>\n",
       "      <td>71677208</td>\n",
       "      <td>0.0</td>\n",
       "      <td>1.0</td>\n",
       "    </tr>\n",
       "  </tbody>\n",
       "</table></div>"
      ],
      "text/plain": [
       "   Unnamed: 0   timestamp    open    high     low   close  adjusted_close  \\\n",
       "0           0  2021-01-04  375.31  375.45  364.82  368.79      365.187629   \n",
       "1           1  2021-01-05  368.10  372.50  368.05  371.33      367.702818   \n",
       "2           2  2021-01-06  369.71  376.98  369.12  373.55      369.901133   \n",
       "3           3  2021-01-07  376.10  379.90  375.91  379.10      375.396920   \n",
       "4           4  2021-01-08  380.59  381.49  377.10  381.26      377.535821   \n",
       "\n",
       "      volume  dividend_amount  split_coefficient  \n",
       "0  110210810              0.0                1.0  \n",
       "1   66426229              0.0                1.0  \n",
       "2  107997675              0.0                1.0  \n",
       "3   68766812              0.0                1.0  \n",
       "4   71677208              0.0                1.0  "
      ]
     },
     "execution_count": 4,
     "metadata": {},
     "output_type": "execute_result"
    }
   ],
   "source": [
    "sp_500.head()"
   ]
  },
  {
   "cell_type": "markdown",
   "id": "70879a6e-0cce-4f62-aa72-cbaec856e45b",
   "metadata": {},
   "source": [
    "#### Series for Cumulative SPY YTD Returns 2021"
   ]
  },
  {
   "cell_type": "code",
   "execution_count": 5,
   "id": "4b6e5d74-30b8-4695-83d3-733c95e42bca",
   "metadata": {},
   "outputs": [
    {
     "data": {
      "text/plain": [
       "0    1.000000\n",
       "1    1.006887\n",
       "2    1.012907\n",
       "3    1.027956\n",
       "4    1.033813\n",
       "5    1.026845\n",
       "6    1.027061\n",
       "7    1.029827\n",
       "8    1.026221\n",
       "9    1.018737\n",
       "Name: adjusted_close, dtype: float64"
      ]
     },
     "execution_count": 5,
     "metadata": {},
     "output_type": "execute_result"
    }
   ],
   "source": [
    "#cumulative YTD returns for SPY index. Takes each adjusted close divided by first day of the year's close\n",
    "sp_returns_2021 = sp_500['adjusted_close'] / sp_500['adjusted_close'].iloc[0]\n",
    "(sp_500['adjusted_close'] / sp_500['adjusted_close'].iloc[0])[:10]"
   ]
  },
  {
   "cell_type": "code",
   "execution_count": 136,
   "id": "347aec78-a321-40e7-bc87-2ca5dd4d18c6",
   "metadata": {},
   "outputs": [],
   "source": [
    "#sp_returns, sp_returns.name = sp_500['adjusted_close'].iloc[0] / sp_500['adjusted_close'], 'spy'"
   ]
  },
  {
   "cell_type": "markdown",
   "id": "922224d1-acf4-4a9a-a28d-9c0a94270829",
   "metadata": {},
   "source": [
    "#### Visualizing SPY 2021 YTD Performance  "
   ]
  },
  {
   "cell_type": "code",
   "execution_count": 222,
   "id": "03c099b9-3613-4c90-b963-ff1d690a3f2b",
   "metadata": {},
   "outputs": [
    {
     "data": {
      "image/png": "[encoded data removed]",
      "text/plain": [
       "<Figure size 864x432 with 1 Axes>"
      ]
     },
     "metadata": {},
     "output_type": "display_data"
    }
   ],
   "source": [
    "plt.figure(figsize=(12,6))\n",
    "plt.plot(sp_returns_2021, label = 'SPY')\n",
    "plt.legend(fontsize = 16)\n",
    "plt.title('SPY 2021 YTD Cumulative Returns')\n",
    "\n",
    "#average number of trading days in a month is 21\n",
    "days = [1,22,43,64,85,106,127,\n",
    "                 148,169,191,212,233]\n",
    "#create list of all the months in the year\n",
    "months = ['Jan','Feb','Mar','Apr','May','Jun',\n",
    "               'Jul','Aug','Sep','Oct','Nov','Dec'] \n",
    "#recreate return % for more legible yticks \n",
    "returns = [1, 1.05, 1.10, 1.15, 1.20, 1.25, 1.3, 1.35]\n",
    "returns_percent = ['0%', '5%', '10%', '15%', '20%', '25%', '30%', '35%']\n",
    "#label xticks as months of the year \n",
    "plt.xticks(days, months, rotation='vertical')\n",
    "#label yticks as percentages\n",
    "plt.yticks(returns, returns_percent)\n",
    "\n",
    "plt.show();"
   ]
  },
  {
   "cell_type": "code",
   "execution_count": 24,
   "id": "a6c4c5ce-626b-48aa-b751-ed706c506fcf",
   "metadata": {},
   "outputs": [],
   "source": [
    "sp_500['cum_return'] = sp_returns_2021"
   ]
  },
  {
   "cell_type": "code",
   "execution_count": 26,
   "id": "f9da5c0b-c19b-4639-99cb-e730927a3a97",
   "metadata": {},
   "outputs": [],
   "source": [
    "sp_500.drop(columns=['Unnamed: 0', 'dividend_amount', 'split_coefficient'], inplace=True)\n",
    "sp_500.set_index('timestamp', inplace=True)\n",
    "sp_500.to_csv('sp_2021_cum_returns.csv')"
   ]
  },
  {
   "cell_type": "code",
   "execution_count": 4,
   "id": "a28529cd-cd56-41e6-b3e9-d66bbaf8406f",
   "metadata": {},
   "outputs": [],
   "source": [
    "sp_500_rets_df = pd.read_csv('sp_2021_cum_returns.csv')"
   ]
  },
  {
   "cell_type": "code",
   "execution_count": 5,
   "id": "18a97528-98d9-4ca0-8be6-997e462c41cb",
   "metadata": {},
   "outputs": [],
   "source": [
    "allocation = 100_000\n",
    "sp_500_rets_df['position'] = allocation * sp_500_rets_df['cum_return']"
   ]
  },
  {
   "cell_type": "code",
   "execution_count": 47,
   "id": "a24ea81a-8564-4a25-af21-6df98a298ddb",
   "metadata": {},
   "outputs": [
    {
     "data": {
      "text/html": [
       "<div><div id=8bc1c785-86b4-457c-a8ad-2a0ba490ccff style=\"display:none; background-color:#9D6CFF; color:white; width:200px; height:30px; padding-left:5px; border-radius:4px; flex-direction:row; justify-content:space-around; align-items:center;\" onmouseover=\"this.style.backgroundColor='#BA9BF8'\" onmouseout=\"this.style.backgroundColor='#9D6CFF'\" onclick=\"window.commands?.execute('create-mitosheet-from-dataframe-output');\">See Full Dataframe in Mito</div> <script> if (window.commands.hasCommand('create-mitosheet-from-dataframe-output')) document.getElementById('8bc1c785-86b4-457c-a8ad-2a0ba490ccff').style.display = 'flex' </script> <table border=\"1\" class=\"dataframe\">\n",
       "  <thead>\n",
       "    <tr style=\"text-align: right;\">\n",
       "      <th></th>\n",
       "      <th>timestamp</th>\n",
       "      <th>open</th>\n",
       "      <th>high</th>\n",
       "      <th>low</th>\n",
       "      <th>close</th>\n",
       "      <th>adjusted_close</th>\n",
       "      <th>volume</th>\n",
       "      <th>cum_return</th>\n",
       "      <th>position</th>\n",
       "    </tr>\n",
       "  </thead>\n",
       "  <tbody>\n",
       "    <tr>\n",
       "      <th>230</th>\n",
       "      <td>2021-12-01</td>\n",
       "      <td>461.64</td>\n",
       "      <td>464.67</td>\n",
       "      <td>450.2900</td>\n",
       "      <td>450.50</td>\n",
       "      <td>450.50</td>\n",
       "      <td>132485835</td>\n",
       "      <td>1.233612</td>\n",
       "      <td>123361.243330</td>\n",
       "    </tr>\n",
       "    <tr>\n",
       "      <th>231</th>\n",
       "      <td>2021-12-02</td>\n",
       "      <td>450.73</td>\n",
       "      <td>459.07</td>\n",
       "      <td>450.3100</td>\n",
       "      <td>457.40</td>\n",
       "      <td>457.40</td>\n",
       "      <td>127637758</td>\n",
       "      <td>1.252507</td>\n",
       "      <td>125250.683017</td>\n",
       "    </tr>\n",
       "    <tr>\n",
       "      <th>232</th>\n",
       "      <td>2021-12-03</td>\n",
       "      <td>459.17</td>\n",
       "      <td>460.30</td>\n",
       "      <td>448.9200</td>\n",
       "      <td>453.42</td>\n",
       "      <td>453.42</td>\n",
       "      <td>137331647</td>\n",
       "      <td>1.241608</td>\n",
       "      <td>124160.832299</td>\n",
       "    </tr>\n",
       "    <tr>\n",
       "      <th>233</th>\n",
       "      <td>2021-12-06</td>\n",
       "      <td>456.13</td>\n",
       "      <td>460.79</td>\n",
       "      <td>453.5600</td>\n",
       "      <td>458.79</td>\n",
       "      <td>458.79</td>\n",
       "      <td>98977532</td>\n",
       "      <td>1.256313</td>\n",
       "      <td>125631.309273</td>\n",
       "    </tr>\n",
       "    <tr>\n",
       "      <th>234</th>\n",
       "      <td>2021-12-07</td>\n",
       "      <td>464.41</td>\n",
       "      <td>468.88</td>\n",
       "      <td>458.6546</td>\n",
       "      <td>468.28</td>\n",
       "      <td>468.28</td>\n",
       "      <td>95484688</td>\n",
       "      <td>1.282300</td>\n",
       "      <td>128229.973422</td>\n",
       "    </tr>\n",
       "  </tbody>\n",
       "</table></div>"
      ],
      "text/plain": [
       "      timestamp    open    high       low   close  adjusted_close     volume  \\\n",
       "230  2021-12-01  461.64  464.67  450.2900  450.50          450.50  132485835   \n",
       "231  2021-12-02  450.73  459.07  450.3100  457.40          457.40  127637758   \n",
       "232  2021-12-03  459.17  460.30  448.9200  453.42          453.42  137331647   \n",
       "233  2021-12-06  456.13  460.79  453.5600  458.79          458.79   98977532   \n",
       "234  2021-12-07  464.41  468.88  458.6546  468.28          468.28   95484688   \n",
       "\n",
       "     cum_return       position  \n",
       "230    1.233612  123361.243330  \n",
       "231    1.252507  125250.683017  \n",
       "232    1.241608  124160.832299  \n",
       "233    1.256313  125631.309273  \n",
       "234    1.282300  128229.973422  "
      ]
     },
     "execution_count": 47,
     "metadata": {},
     "output_type": "execute_result"
    }
   ],
   "source": [
    "sp_500_rets_df.tail()"
   ]
  },
  {
   "cell_type": "code",
   "execution_count": 57,
   "id": "f88ef818-09a2-484a-8c25-8d6697eb8abd",
   "metadata": {},
   "outputs": [
    {
     "data": {
      "application/vnd.plotly.v1+json": {
       "config": {
        "plotlyServerURL": "https://plot.ly"
       },
       "data": [
        {
         "hovertemplate": "Time (Months)=%{x}<br>Cumulative Return (%)=%{y}<extra></extra>",
         "legendgroup": "",
         "line": {
          "color": "#636efa",
          "dash": "solid"
         },
         "marker": {
          "symbol": "circle"
         },
         "mode": "lines",
         "name": "",
         "orientation": "v",
         "showlegend": false,
         "type": "scatter",
         "x": [
          0,
          1,
          2,
          3,
          4,
          5,
          6,
          7,
          8,
          9,
          10,
          11,
          12,
          13,
          14,
          15,
          16,
          17,
          18,
          19,
          20,
          21,
          22,
          23,
          24,
          25,
          26,
          27,
          28,
          29,
          30,
          31,
          32,
          33,
          34,
          35,
          36,
          37,
          38,
          39,
          40,
          41,
          42,
          43,
          44,
          45,
          46,
          47,
          48,
          49,
          50,
          51,
          52,
          53,
          54,
          55,
          56,
          57,
          58,
          59,
          60,
          61,
          62,
          63,
          64,
          65,
          66,
          67,
          68,
          69,
          70,
          71,
          72,
          73,
          74,
          75,
          76,
          77,
          78,
          79,
          80,
          81,
          82,
          83,
          84,
          85,
          86,
          87,
          88,
          89,
          90,
          91,
          92,
          93,
          94,
          95,
          96,
          97,
          98,
          99,
          100,
          101,
          102,
          103,
          104,
          105,
          106,
          107,
          108,
          109,
          110,
          111,
          112,
          113,
          114,
          115,
          116,
          117,
          118,
          119,
          120,
          121,
          122,
          123,
          124,
          125,
          126,
          127,
          128,
          129,
          130,
          131,
          132,
          133,
          134,
          135,
          136,
          137,
          138,
          139,
          140,
          141,
          142,
          143,
          144,
          145,
          146,
          147,
          148,
          149,
          150,
          151,
          152,
          153,
          154,
          155,
          156,
          157,
          158,
          159,
          160,
          161,
          162,
          163,
          164,
          165,
          166,
          167,
          168,
          169,
          170,
          171,
          172,
          173,
          174,
          175,
          176,
          177,
          178,
          179,
          180,
          181,
          182,
          183,
          184,
          185,
          186,
          187,
          188,
          189,
          190,
          191,
          192,
          193,
          194,
          195,
          196,
          197,
          198,
          199,
          200,
          201,
          202,
          203,
          204,
          205,
          206,
          207,
          208,
          209,
          210,
          211,
          212,
          213,
          214,
          215,
          216,
          217,
          218,
          219,
          220,
          221,
          222,
          223,
          224,
          225,
          226,
          227,
          228,
          229,
          230,
          231,
          232,
          233,
          234
         ],
         "xaxis": "x",
         "y": [
          1,
          1.006887388485146,
          1.0129070744864974,
          1.0279562894871377,
          1.0338132812698675,
          1.026844545675411,
          1.0270614712984136,
          1.029827272973896,
          1.026220884514071,
          1.0187369505670372,
          1.0267360828639098,
          1.0409447110802073,
          1.041893760676051,
          1.038206025109654,
          1.0423004962171267,
          1.0406735540555616,
          1.015239024918713,
          1.0239702811884273,
          1.003470809946133,
          1.0201740828105288,
          1.034599636649829,
          1.0354131077292423,
          1.047181322704561,
          1.0513029095142248,
          1.0588953062700217,
          1.0581902980021094,
          1.0577293310539138,
          1.0594376203247895,
          1.0646709509461796,
          1.063749017055265,
          1.0639930583804582,
          1.0594647360269802,
          1.0575937525402217,
          1.0494590417296572,
          1.0507334797572665,
          1.0623118848117732,
          1.036714661459042,
          1.0313728680261507,
          1.0563735459197323,
          1.0481303722976665,
          1.0342471325131344,
          1.021448520838138,
          1.040239702812295,
          1.0350606035952865,
          1.0498386615685422,
          1.0563735459197323,
          1.067084248487706,
          1.0685213807311975,
          1.0748935708665053,
          1.073537785732324,
          1.0771984055965305,
          1.0615255294345505,
          1.059567200845055,
          1.06802785093025,
          1.0596216101716736,
          1.0542350869651282,
          1.0601657034241685,
          1.0772502315661998,
          1.0767061383137049,
          1.073849648736053,
          1.0782023947587505,
          1.0898459903730942,
          1.1054886713966985,
          1.1048357594937046,
          1.106114378637752,
          1.11136487852912,
          1.1194446633361994,
          1.1198527332762551,
          1.1231717021178431,
          1.1193358446857005,
          1.1313603055754216,
          1.135141753683684,
          1.1295647978408194,
          1.121294580394682,
          1.1319043988279167,
          1.1215666270222988,
          1.1337271112271974,
          1.1360939168762347,
          1.1358490749132966,
          1.1355226189617995,
          1.1427590592240893,
          1.135250572334183,
          1.1376989919717793,
          1.1306801890104876,
          1.1310338496239247,
          1.1400657976235549,
          1.1483632197316322,
          1.136991670744905,
          1.1268443315756065,
          1.1029042284439248,
          1.1161528991538132,
          1.1332918366224631,
          1.1304081423828711,
          1.1206688731536285,
          1.1177307695874177,
          1.1297552304798772,
          1.1288302719492669,
          1.140337844248433,
          1.1378078106222782,
          1.1400657976235549,
          1.1406643002026684,
          1.1427046499002087,
          1.1416980773810397,
          1.1434935851156418,
          1.1392496577434432,
          1.14966904353762,
          1.1485536523706903,
          1.1487984943336282,
          1.1470846005875848,
          1.152416714464773,
          1.1543210408498743,
          1.156905483802648,
          1.1547835201165486,
          1.1483360150696922,
          1.1479551497915768,
          1.132518884147221,
          1.1487320389034534,
          1.1548733854032298,
          1.153481346861382,
          1.1603050651941624,
          1.1644265910680272,
          1.1667739501738903,
          1.1674017322606924,
          1.1683843477005469,
          1.1748532326775365,
          1.1838332460044725,
          1.1816769510103171,
          1.185853066630384,
          1.176190681470444,
          1.1887463232037458,
          1.193004323443116,
          1.1889373873154534,
          1.1907115540834552,
          1.1866446179557926,
          1.1773370661516436,
          1.15995023184111,
          1.176572809699336,
          1.1860987204910325,
          1.1885825539624009,
          1.2008106572130128,
          1.2037585035325769,
          1.198272233995442,
          1.1977809262741457,
          1.2027485932196211,
          1.1969074903266952,
          1.1943963619822255,
          1.2041133368856294,
          1.1981903493734003,
          1.2057783241584883,
          1.2077708499140372,
          1.2067882344741825,
          1.2082894525056966,
          1.2112918885714627,
          1.214922106724031,
          1.2171329914643885,
          1.2199989531646491,
          1.212001555277568,
          1.198736246840899,
          1.200592298228204,
          1.2101455038930014,
          1.2207905044900578,
          1.222728440496666,
          1.2252941585900765,
          1.218061017158041,
          1.2289516716157458,
          1.2343560565335774,
          1.2325273000221115,
          1.2331823769820147,
          1.2369763643731897,
          1.2366761207663393,
          1.2322543512883624,
          1.2307531332541102,
          1.225485222701784,
          1.2158228375445823,
          1.2189344531027528,
          1.2123563886306208,
          1.222482786636018,
          1.2205448506294097,
          1.2086937359812362,
          1.1885397126535928,
          1.1874170021149604,
          1.1990000888915815,
          1.2135679427099328,
          1.2155669151323758,
          1.2120892507810024,
          1.1876634507697823,
          1.189662423192225,
          1.175121952557743,
          1.1890873763309744,
          1.1737527933642888,
          1.1859656933698992,
          1.1908946664663336,
          1.2011907436011082,
          1.1990000888915815,
          1.190319619605083,
          1.1873896189310913,
          1.191661395614668,
          1.2117058862068353,
          1.2209340191707156,
          1.2245485994414342,
          1.2339957978762672,
          1.2388426214210946,
          1.242073837117646,
          1.2407868274757994,
          1.247440941155986,
          1.2485636516946184,
          1.243032248553064,
          1.2550260830877211,
          1.257572719187546,
          1.2597359907132035,
          1.2648292629128524,
          1.2725513207639334,
          1.278548238031262,
          1.282984313818053,
          1.2840796411728164,
          1.2798352476731087,
          1.2695391705383343,
          1.2699499182963705,
          1.2795340326505489,
          1.2799721635924544,
          1.285038052608234,
          1.281916369647159,
          1.2862702958823429,
          1.28397010843734,
          1.2803555281666217,
          1.2820532855665043,
          1.2854761835501396,
          1.256805990039212,
          1.2722227225575045,
          1.247468324339855,
          1.2336124333021,
          1.252506830171766,
          1.2416083229918715,
          1.2563130927295685,
          1.282299734221326
         ],
         "yaxis": "y"
        }
       ],
       "layout": {
        "height": 600,
        "legend": {
         "tracegroupgap": 0
        },
        "margin": {
         "b": 30,
         "l": 30,
         "r": 30,
         "t": 60
        },
        "paper_bgcolor": "LightSteelBlue",
        "showlegend": false,
        "template": {
         "data": {
          "bar": [
           {
            "error_x": {
             "color": "#2a3f5f"
            },
            "error_y": {
             "color": "#2a3f5f"
            },
            "marker": {
             "line": {
              "color": "#E5ECF6",
              "width": 0.5
             },
             "pattern": {
              "fillmode": "overlay",
              "size": 10,
              "solidity": 0.2
             }
            },
            "type": "bar"
           }
          ],
          "barpolar": [
           {
            "marker": {
             "line": {
              "color": "#E5ECF6",
              "width": 0.5
             },
             "pattern": {
              "fillmode": "overlay",
              "size": 10,
              "solidity": 0.2
             }
            },
            "type": "barpolar"
           }
          ],
          "carpet": [
           {
            "aaxis": {
             "endlinecolor": "#2a3f5f",
             "gridcolor": "white",
             "linecolor": "white",
             "minorgridcolor": "white",
             "startlinecolor": "#2a3f5f"
            },
            "baxis": {
             "endlinecolor": "#2a3f5f",
             "gridcolor": "white",
             "linecolor": "white",
             "minorgridcolor": "white",
             "startlinecolor": "#2a3f5f"
            },
            "type": "carpet"
           }
          ],
          "choropleth": [
           {
            "colorbar": {
             "outlinewidth": 0,
             "ticks": ""
            },
            "type": "choropleth"
           }
          ],
          "contour": [
           {
            "colorbar": {
             "outlinewidth": 0,
             "ticks": ""
            },
            "colorscale": [
             [
              0,
              "#0d0887"
             ],
             [
              0.1111111111111111,
              "#46039f"
             ],
             [
              0.2222222222222222,
              "#7201a8"
             ],
             [
              0.3333333333333333,
              "#9c179e"
             ],
             [
              0.4444444444444444,
              "#bd3786"
             ],
             [
              0.5555555555555556,
              "#d8576b"
             ],
             [
              0.6666666666666666,
              "#ed7953"
             ],
             [
              0.7777777777777778,
              "#fb9f3a"
             ],
             [
              0.8888888888888888,
              "#fdca26"
             ],
             [
              1,
              "#f0f921"
             ]
            ],
            "type": "contour"
           }
          ],
          "contourcarpet": [
           {
            "colorbar": {
             "outlinewidth": 0,
             "ticks": ""
            },
            "type": "contourcarpet"
           }
          ],
          "heatmap": [
           {
            "colorbar": {
             "outlinewidth": 0,
             "ticks": ""
            },
            "colorscale": [
             [
              0,
              "#0d0887"
             ],
             [
              0.1111111111111111,
              "#46039f"
             ],
             [
              0.2222222222222222,
              "#7201a8"
             ],
             [
              0.3333333333333333,
              "#9c179e"
             ],
             [
              0.4444444444444444,
              "#bd3786"
             ],
             [
              0.5555555555555556,
              "#d8576b"
             ],
             [
              0.6666666666666666,
              "#ed7953"
             ],
             [
              0.7777777777777778,
              "#fb9f3a"
             ],
             [
              0.8888888888888888,
              "#fdca26"
             ],
             [
              1,
              "#f0f921"
             ]
            ],
            "type": "heatmap"
           }
          ],
          "heatmapgl": [
           {
            "colorbar": {
             "outlinewidth": 0,
             "ticks": ""
            },
            "colorscale": [
             [
              0,
              "#0d0887"
             ],
             [
              0.1111111111111111,
              "#46039f"
             ],
             [
              0.2222222222222222,
              "#7201a8"
             ],
             [
              0.3333333333333333,
              "#9c179e"
             ],
             [
              0.4444444444444444,
              "#bd3786"
             ],
             [
              0.5555555555555556,
              "#d8576b"
             ],
             [
              0.6666666666666666,
              "#ed7953"
             ],
             [
              0.7777777777777778,
              "#fb9f3a"
             ],
             [
              0.8888888888888888,
              "#fdca26"
             ],
             [
              1,
              "#f0f921"
             ]
            ],
            "type": "heatmapgl"
           }
          ],
          "histogram": [
           {
            "marker": {
             "pattern": {
              "fillmode": "overlay",
              "size": 10,
              "solidity": 0.2
             }
            },
            "type": "histogram"
           }
          ],
          "histogram2d": [
           {
            "colorbar": {
             "outlinewidth": 0,
             "ticks": ""
            },
            "colorscale": [
             [
              0,
              "#0d0887"
             ],
             [
              0.1111111111111111,
              "#46039f"
             ],
             [
              0.2222222222222222,
              "#7201a8"
             ],
             [
              0.3333333333333333,
              "#9c179e"
             ],
             [
              0.4444444444444444,
              "#bd3786"
             ],
             [
              0.5555555555555556,
              "#d8576b"
             ],
             [
              0.6666666666666666,
              "#ed7953"
             ],
             [
              0.7777777777777778,
              "#fb9f3a"
             ],
             [
              0.8888888888888888,
              "#fdca26"
             ],
             [
              1,
              "#f0f921"
             ]
            ],
            "type": "histogram2d"
           }
          ],
          "histogram2dcontour": [
           {
            "colorbar": {
             "outlinewidth": 0,
             "ticks": ""
            },
            "colorscale": [
             [
              0,
              "#0d0887"
             ],
             [
              0.1111111111111111,
              "#46039f"
             ],
             [
              0.2222222222222222,
              "#7201a8"
             ],
             [
              0.3333333333333333,
              "#9c179e"
             ],
             [
              0.4444444444444444,
              "#bd3786"
             ],
             [
              0.5555555555555556,
              "#d8576b"
             ],
             [
              0.6666666666666666,
              "#ed7953"
             ],
             [
              0.7777777777777778,
              "#fb9f3a"
             ],
             [
              0.8888888888888888,
              "#fdca26"
             ],
             [
              1,
              "#f0f921"
             ]
            ],
            "type": "histogram2dcontour"
           }
          ],
          "mesh3d": [
           {
            "colorbar": {
             "outlinewidth": 0,
             "ticks": ""
            },
            "type": "mesh3d"
           }
          ],
          "parcoords": [
           {
            "line": {
             "colorbar": {
              "outlinewidth": 0,
              "ticks": ""
             }
            },
            "type": "parcoords"
           }
          ],
          "pie": [
           {
            "automargin": true,
            "type": "pie"
           }
          ],
          "scatter": [
           {
            "marker": {
             "colorbar": {
              "outlinewidth": 0,
              "ticks": ""
             }
            },
            "type": "scatter"
           }
          ],
          "scatter3d": [
           {
            "line": {
             "colorbar": {
              "outlinewidth": 0,
              "ticks": ""
             }
            },
            "marker": {
             "colorbar": {
              "outlinewidth": 0,
              "ticks": ""
             }
            },
            "type": "scatter3d"
           }
          ],
          "scattercarpet": [
           {
            "marker": {
             "colorbar": {
              "outlinewidth": 0,
              "ticks": ""
             }
            },
            "type": "scattercarpet"
           }
          ],
          "scattergeo": [
           {
            "marker": {
             "colorbar": {
              "outlinewidth": 0,
              "ticks": ""
             }
            },
            "type": "scattergeo"
           }
          ],
          "scattergl": [
           {
            "marker": {
             "colorbar": {
              "outlinewidth": 0,
              "ticks": ""
             }
            },
            "type": "scattergl"
           }
          ],
          "scattermapbox": [
           {
            "marker": {
             "colorbar": {
              "outlinewidth": 0,
              "ticks": ""
             }
            },
            "type": "scattermapbox"
           }
          ],
          "scatterpolar": [
           {
            "marker": {
             "colorbar": {
              "outlinewidth": 0,
              "ticks": ""
             }
            },
            "type": "scatterpolar"
           }
          ],
          "scatterpolargl": [
           {
            "marker": {
             "colorbar": {
              "outlinewidth": 0,
              "ticks": ""
             }
            },
            "type": "scatterpolargl"
           }
          ],
          "scatterternary": [
           {
            "marker": {
             "colorbar": {
              "outlinewidth": 0,
              "ticks": ""
             }
            },
            "type": "scatterternary"
           }
          ],
          "surface": [
           {
            "colorbar": {
             "outlinewidth": 0,
             "ticks": ""
            },
            "colorscale": [
             [
              0,
              "#0d0887"
             ],
             [
              0.1111111111111111,
              "#46039f"
             ],
             [
              0.2222222222222222,
              "#7201a8"
             ],
             [
              0.3333333333333333,
              "#9c179e"
             ],
             [
              0.4444444444444444,
              "#bd3786"
             ],
             [
              0.5555555555555556,
              "#d8576b"
             ],
             [
              0.6666666666666666,
              "#ed7953"
             ],
             [
              0.7777777777777778,
              "#fb9f3a"
             ],
             [
              0.8888888888888888,
              "#fdca26"
             ],
             [
              1,
              "#f0f921"
             ]
            ],
            "type": "surface"
           }
          ],
          "table": [
           {
            "cells": {
             "fill": {
              "color": "#EBF0F8"
             },
             "line": {
              "color": "white"
             }
            },
            "header": {
             "fill": {
              "color": "#C8D4E3"
             },
             "line": {
              "color": "white"
             }
            },
            "type": "table"
           }
          ]
         },
         "layout": {
          "annotationdefaults": {
           "arrowcolor": "#2a3f5f",
           "arrowhead": 0,
           "arrowwidth": 1
          },
          "autotypenumbers": "strict",
          "coloraxis": {
           "colorbar": {
            "outlinewidth": 0,
            "ticks": ""
           }
          },
          "colorscale": {
           "diverging": [
            [
             0,
             "#8e0152"
            ],
            [
             0.1,
             "#c51b7d"
            ],
            [
             0.2,
             "#de77ae"
            ],
            [
             0.3,
             "#f1b6da"
            ],
            [
             0.4,
             "#fde0ef"
            ],
            [
             0.5,
             "#f7f7f7"
            ],
            [
             0.6,
             "#e6f5d0"
            ],
            [
             0.7,
             "#b8e186"
            ],
            [
             0.8,
             "#7fbc41"
            ],
            [
             0.9,
             "#4d9221"
            ],
            [
             1,
             "#276419"
            ]
           ],
           "sequential": [
            [
             0,
             "#0d0887"
            ],
            [
             0.1111111111111111,
             "#46039f"
            ],
            [
             0.2222222222222222,
             "#7201a8"
            ],
            [
             0.3333333333333333,
             "#9c179e"
            ],
            [
             0.4444444444444444,
             "#bd3786"
            ],
            [
             0.5555555555555556,
             "#d8576b"
            ],
            [
             0.6666666666666666,
             "#ed7953"
            ],
            [
             0.7777777777777778,
             "#fb9f3a"
            ],
            [
             0.8888888888888888,
             "#fdca26"
            ],
            [
             1,
             "#f0f921"
            ]
           ],
           "sequentialminus": [
            [
             0,
             "#0d0887"
            ],
            [
             0.1111111111111111,
             "#46039f"
            ],
            [
             0.2222222222222222,
             "#7201a8"
            ],
            [
             0.3333333333333333,
             "#9c179e"
            ],
            [
             0.4444444444444444,
             "#bd3786"
            ],
            [
             0.5555555555555556,
             "#d8576b"
            ],
            [
             0.6666666666666666,
             "#ed7953"
            ],
            [
             0.7777777777777778,
             "#fb9f3a"
            ],
            [
             0.8888888888888888,
             "#fdca26"
            ],
            [
             1,
             "#f0f921"
            ]
           ]
          },
          "colorway": [
           "#636efa",
           "#EF553B",
           "#00cc96",
           "#ab63fa",
           "#FFA15A",
           "#19d3f3",
           "#FF6692",
           "#B6E880",
           "#FF97FF",
           "#FECB52"
          ],
          "font": {
           "color": "#2a3f5f"
          },
          "geo": {
           "bgcolor": "white",
           "lakecolor": "white",
           "landcolor": "#E5ECF6",
           "showlakes": true,
           "showland": true,
           "subunitcolor": "white"
          },
          "hoverlabel": {
           "align": "left"
          },
          "hovermode": "closest",
          "mapbox": {
           "style": "light"
          },
          "paper_bgcolor": "white",
          "plot_bgcolor": "#E5ECF6",
          "polar": {
           "angularaxis": {
            "gridcolor": "white",
            "linecolor": "white",
            "ticks": ""
           },
           "bgcolor": "#E5ECF6",
           "radialaxis": {
            "gridcolor": "white",
            "linecolor": "white",
            "ticks": ""
           }
          },
          "scene": {
           "xaxis": {
            "backgroundcolor": "#E5ECF6",
            "gridcolor": "white",
            "gridwidth": 2,
            "linecolor": "white",
            "showbackground": true,
            "ticks": "",
            "zerolinecolor": "white"
           },
           "yaxis": {
            "backgroundcolor": "#E5ECF6",
            "gridcolor": "white",
            "gridwidth": 2,
            "linecolor": "white",
            "showbackground": true,
            "ticks": "",
            "zerolinecolor": "white"
           },
           "zaxis": {
            "backgroundcolor": "#E5ECF6",
            "gridcolor": "white",
            "gridwidth": 2,
            "linecolor": "white",
            "showbackground": true,
            "ticks": "",
            "zerolinecolor": "white"
           }
          },
          "shapedefaults": {
           "line": {
            "color": "#2a3f5f"
           }
          },
          "ternary": {
           "aaxis": {
            "gridcolor": "white",
            "linecolor": "white",
            "ticks": ""
           },
           "baxis": {
            "gridcolor": "white",
            "linecolor": "white",
            "ticks": ""
           },
           "bgcolor": "#E5ECF6",
           "caxis": {
            "gridcolor": "white",
            "linecolor": "white",
            "ticks": ""
           }
          },
          "title": {
           "x": 0.05
          },
          "xaxis": {
           "automargin": true,
           "gridcolor": "white",
           "linecolor": "white",
           "ticks": "",
           "title": {
            "standoff": 15
           },
           "zerolinecolor": "white",
           "zerolinewidth": 2
          },
          "yaxis": {
           "automargin": true,
           "gridcolor": "white",
           "linecolor": "white",
           "ticks": "",
           "title": {
            "standoff": 15
           },
           "zerolinecolor": "white",
           "zerolinewidth": 2
          }
         }
        },
        "title": {
         "text": "SPY 2021 YTD Cumulative Return (%)",
         "x": 0.5,
         "xanchor": "center",
         "y": 0.965,
         "yanchor": "top"
        },
        "width": 1000,
        "xaxis": {
         "anchor": "y",
         "autorange": true,
         "domain": [
          0,
          1
         ],
         "range": [
          0,
          234
         ],
         "rangeslider": {
          "visible": false,
          "yaxis": {}
         },
         "tickmode": "array",
         "ticktext": [
          "Jan",
          "Feb",
          "Mar",
          "Apr",
          "May",
          "Jun",
          "Jul",
          "Aug",
          "Sep",
          "Oct",
          "Nov",
          "Dec"
         ],
         "tickvals": [
          1,
          22,
          43,
          64,
          85,
          106,
          127,
          148,
          169,
          191,
          212,
          233
         ],
         "title": {
          "text": "Time (Months)"
         },
         "type": "linear"
        },
        "yaxis": {
         "anchor": "x",
         "autorange": true,
         "domain": [
          0,
          1
         ],
         "range": [
          0.9840960946732031,
          1.3021742012091397
         ],
         "tickmode": "array",
         "ticktext": [
          "0%",
          "5%",
          "10%",
          "15%",
          "20%",
          "25%",
          "30%",
          "35%"
         ],
         "tickvals": [
          1,
          1.05,
          1.1,
          1.15,
          1.2,
          1.25,
          1.3,
          1.35
         ],
         "title": {
          "text": "Cumulative Return (%)"
         },
         "type": "linear"
        }
       }
      },
      "image/png": "[encoded data removed]",
      "text/html": [
       "<div>                            <div id=\"a6a9bb75-8298-47b9-b15c-e07728316900\" class=\"plotly-graph-div\" style=\"height:600px; width:1000px;\"></div>            <script type=\"text/javascript\">                require([\"plotly\"], function(Plotly) {                    window.PLOTLYENV=window.PLOTLYENV || {};                                    if (document.getElementById(\"a6a9bb75-8298-47b9-b15c-e07728316900\")) {                    Plotly.newPlot(                        \"a6a9bb75-8298-47b9-b15c-e07728316900\",                        [{\"hovertemplate\":\"Time (Months)=%{x}<br>Cumulative Return (%)=%{y}<extra></extra>\",\"legendgroup\":\"\",\"line\":{\"color\":\"#636efa\",\"dash\":\"solid\"},\"marker\":{\"symbol\":\"circle\"},\"mode\":\"lines\",\"name\":\"\",\"orientation\":\"v\",\"showlegend\":false,\"type\":\"scatter\",\"x\":[0,1,2,3,4,5,6,7,8,9,10,11,12,13,14,15,16,17,18,19,20,21,22,23,24,25,26,27,28,29,30,31,32,33,34,35,36,37,38,39,40,41,42,43,44,45,46,47,48,49,50,51,52,53,54,55,56,57,58,59,60,61,62,63,64,65,66,67,68,69,70,71,72,73,74,75,76,77,78,79,80,81,82,83,84,85,86,87,88,89,90,91,92,93,94,95,96,97,98,99,100,101,102,103,104,105,106,107,108,109,110,111,112,113,114,115,116,117,118,119,120,121,122,123,124,125,126,127,128,129,130,131,132,133,134,135,136,137,138,139,140,141,142,143,144,145,146,147,148,149,150,151,152,153,154,155,156,157,158,159,160,161,162,163,164,165,166,167,168,169,170,171,172,173,174,175,176,177,178,179,180,181,182,183,184,185,186,187,188,189,190,191,192,193,194,195,196,197,198,199,200,201,202,203,204,205,206,207,208,209,210,211,212,213,214,215,216,217,218,219,220,221,222,223,224,225,226,227,228,229,230,231,232,233,234],\"xaxis\":\"x\",\"y\":[1.0,1.006887388485146,1.0129070744864974,1.0279562894871377,1.0338132812698675,1.026844545675411,1.0270614712984136,1.029827272973896,1.026220884514071,1.0187369505670372,1.0267360828639098,1.0409447110802073,1.041893760676051,1.038206025109654,1.0423004962171267,1.0406735540555616,1.015239024918713,1.0239702811884273,1.003470809946133,1.0201740828105288,1.034599636649829,1.0354131077292423,1.047181322704561,1.0513029095142248,1.0588953062700217,1.0581902980021094,1.0577293310539138,1.0594376203247895,1.0646709509461796,1.063749017055265,1.0639930583804582,1.0594647360269802,1.0575937525402217,1.0494590417296572,1.0507334797572665,1.0623118848117732,1.036714661459042,1.0313728680261507,1.0563735459197323,1.0481303722976665,1.0342471325131344,1.021448520838138,1.040239702812295,1.0350606035952865,1.0498386615685422,1.0563735459197323,1.067084248487706,1.0685213807311975,1.0748935708665053,1.073537785732324,1.0771984055965305,1.0615255294345505,1.059567200845055,1.06802785093025,1.0596216101716736,1.0542350869651282,1.0601657034241685,1.0772502315661998,1.0767061383137049,1.073849648736053,1.0782023947587505,1.0898459903730942,1.1054886713966985,1.1048357594937046,1.106114378637752,1.11136487852912,1.1194446633361994,1.1198527332762551,1.1231717021178431,1.1193358446857005,1.1313603055754216,1.135141753683684,1.1295647978408194,1.121294580394682,1.1319043988279167,1.1215666270222988,1.1337271112271974,1.1360939168762347,1.1358490749132966,1.1355226189617995,1.1427590592240893,1.135250572334183,1.1376989919717793,1.1306801890104876,1.1310338496239247,1.1400657976235549,1.1483632197316322,1.136991670744905,1.1268443315756065,1.1029042284439248,1.1161528991538132,1.1332918366224631,1.1304081423828711,1.1206688731536285,1.1177307695874177,1.1297552304798772,1.1288302719492669,1.140337844248433,1.1378078106222782,1.1400657976235549,1.1406643002026684,1.1427046499002087,1.1416980773810397,1.1434935851156418,1.1392496577434432,1.14966904353762,1.1485536523706903,1.1487984943336282,1.1470846005875848,1.152416714464773,1.1543210408498743,1.156905483802648,1.1547835201165486,1.1483360150696922,1.1479551497915768,1.132518884147221,1.1487320389034534,1.1548733854032298,1.153481346861382,1.1603050651941624,1.1644265910680272,1.1667739501738903,1.1674017322606924,1.1683843477005469,1.1748532326775365,1.1838332460044725,1.1816769510103171,1.185853066630384,1.176190681470444,1.1887463232037458,1.193004323443116,1.1889373873154534,1.1907115540834552,1.1866446179557926,1.1773370661516436,1.15995023184111,1.176572809699336,1.1860987204910325,1.1885825539624009,1.2008106572130128,1.2037585035325769,1.198272233995442,1.1977809262741457,1.2027485932196211,1.1969074903266952,1.1943963619822255,1.2041133368856294,1.1981903493734003,1.2057783241584883,1.2077708499140372,1.2067882344741825,1.2082894525056966,1.2112918885714627,1.214922106724031,1.2171329914643885,1.2199989531646491,1.212001555277568,1.198736246840899,1.200592298228204,1.2101455038930014,1.2207905044900578,1.222728440496666,1.2252941585900765,1.218061017158041,1.2289516716157458,1.2343560565335774,1.2325273000221115,1.2331823769820147,1.2369763643731897,1.2366761207663393,1.2322543512883624,1.2307531332541102,1.225485222701784,1.2158228375445823,1.2189344531027528,1.2123563886306208,1.222482786636018,1.2205448506294097,1.2086937359812362,1.1885397126535928,1.1874170021149604,1.1990000888915815,1.2135679427099328,1.2155669151323758,1.2120892507810024,1.1876634507697823,1.189662423192225,1.175121952557743,1.1890873763309744,1.1737527933642888,1.1859656933698992,1.1908946664663336,1.2011907436011082,1.1990000888915815,1.190319619605083,1.1873896189310913,1.191661395614668,1.2117058862068353,1.2209340191707156,1.2245485994414342,1.2339957978762672,1.2388426214210946,1.242073837117646,1.2407868274757994,1.247440941155986,1.2485636516946184,1.243032248553064,1.2550260830877211,1.257572719187546,1.2597359907132035,1.2648292629128524,1.2725513207639334,1.278548238031262,1.282984313818053,1.2840796411728164,1.2798352476731087,1.2695391705383343,1.2699499182963705,1.2795340326505489,1.2799721635924544,1.285038052608234,1.281916369647159,1.2862702958823429,1.28397010843734,1.2803555281666217,1.2820532855665043,1.2854761835501396,1.256805990039212,1.2722227225575045,1.247468324339855,1.2336124333021,1.252506830171766,1.2416083229918715,1.2563130927295685,1.282299734221326],\"yaxis\":\"y\"}],                        {\"height\":600,\"legend\":{\"tracegroupgap\":0},\"margin\":{\"b\":30,\"l\":30,\"r\":30,\"t\":60},\"paper_bgcolor\":\"LightSteelBlue\",\"showlegend\":false,\"template\":{\"data\":{\"bar\":[{\"error_x\":{\"color\":\"#2a3f5f\"},\"error_y\":{\"color\":\"#2a3f5f\"},\"marker\":{\"line\":{\"color\":\"#E5ECF6\",\"width\":0.5},\"pattern\":{\"fillmode\":\"overlay\",\"size\":10,\"solidity\":0.2}},\"type\":\"bar\"}],\"barpolar\":[{\"marker\":{\"line\":{\"color\":\"#E5ECF6\",\"width\":0.5},\"pattern\":{\"fillmode\":\"overlay\",\"size\":10,\"solidity\":0.2}},\"type\":\"barpolar\"}],\"carpet\":[{\"aaxis\":{\"endlinecolor\":\"#2a3f5f\",\"gridcolor\":\"white\",\"linecolor\":\"white\",\"minorgridcolor\":\"white\",\"startlinecolor\":\"#2a3f5f\"},\"baxis\":{\"endlinecolor\":\"#2a3f5f\",\"gridcolor\":\"white\",\"linecolor\":\"white\",\"minorgridcolor\":\"white\",\"startlinecolor\":\"#2a3f5f\"},\"type\":\"carpet\"}],\"choropleth\":[{\"colorbar\":{\"outlinewidth\":0,\"ticks\":\"\"},\"type\":\"choropleth\"}],\"contour\":[{\"colorbar\":{\"outlinewidth\":0,\"ticks\":\"\"},\"colorscale\":[[0.0,\"#0d0887\"],[0.1111111111111111,\"#46039f\"],[0.2222222222222222,\"#7201a8\"],[0.3333333333333333,\"#9c179e\"],[0.4444444444444444,\"#bd3786\"],[0.5555555555555556,\"#d8576b\"],[0.6666666666666666,\"#ed7953\"],[0.7777777777777778,\"#fb9f3a\"],[0.8888888888888888,\"#fdca26\"],[1.0,\"#f0f921\"]],\"type\":\"contour\"}],\"contourcarpet\":[{\"colorbar\":{\"outlinewidth\":0,\"ticks\":\"\"},\"type\":\"contourcarpet\"}],\"heatmap\":[{\"colorbar\":{\"outlinewidth\":0,\"ticks\":\"\"},\"colorscale\":[[0.0,\"#0d0887\"],[0.1111111111111111,\"#46039f\"],[0.2222222222222222,\"#7201a8\"],[0.3333333333333333,\"#9c179e\"],[0.4444444444444444,\"#bd3786\"],[0.5555555555555556,\"#d8576b\"],[0.6666666666666666,\"#ed7953\"],[0.7777777777777778,\"#fb9f3a\"],[0.8888888888888888,\"#fdca26\"],[1.0,\"#f0f921\"]],\"type\":\"heatmap\"}],\"heatmapgl\":[{\"colorbar\":{\"outlinewidth\":0,\"ticks\":\"\"},\"colorscale\":[[0.0,\"#0d0887\"],[0.1111111111111111,\"#46039f\"],[0.2222222222222222,\"#7201a8\"],[0.3333333333333333,\"#9c179e\"],[0.4444444444444444,\"#bd3786\"],[0.5555555555555556,\"#d8576b\"],[0.6666666666666666,\"#ed7953\"],[0.7777777777777778,\"#fb9f3a\"],[0.8888888888888888,\"#fdca26\"],[1.0,\"#f0f921\"]],\"type\":\"heatmapgl\"}],\"histogram\":[{\"marker\":{\"pattern\":{\"fillmode\":\"overlay\",\"size\":10,\"solidity\":0.2}},\"type\":\"histogram\"}],\"histogram2d\":[{\"colorbar\":{\"outlinewidth\":0,\"ticks\":\"\"},\"colorscale\":[[0.0,\"#0d0887\"],[0.1111111111111111,\"#46039f\"],[0.2222222222222222,\"#7201a8\"],[0.3333333333333333,\"#9c179e\"],[0.4444444444444444,\"#bd3786\"],[0.5555555555555556,\"#d8576b\"],[0.6666666666666666,\"#ed7953\"],[0.7777777777777778,\"#fb9f3a\"],[0.8888888888888888,\"#fdca26\"],[1.0,\"#f0f921\"]],\"type\":\"histogram2d\"}],\"histogram2dcontour\":[{\"colorbar\":{\"outlinewidth\":0,\"ticks\":\"\"},\"colorscale\":[[0.0,\"#0d0887\"],[0.1111111111111111,\"#46039f\"],[0.2222222222222222,\"#7201a8\"],[0.3333333333333333,\"#9c179e\"],[0.4444444444444444,\"#bd3786\"],[0.5555555555555556,\"#d8576b\"],[0.6666666666666666,\"#ed7953\"],[0.7777777777777778,\"#fb9f3a\"],[0.8888888888888888,\"#fdca26\"],[1.0,\"#f0f921\"]],\"type\":\"histogram2dcontour\"}],\"mesh3d\":[{\"colorbar\":{\"outlinewidth\":0,\"ticks\":\"\"},\"type\":\"mesh3d\"}],\"parcoords\":[{\"line\":{\"colorbar\":{\"outlinewidth\":0,\"ticks\":\"\"}},\"type\":\"parcoords\"}],\"pie\":[{\"automargin\":true,\"type\":\"pie\"}],\"scatter\":[{\"marker\":{\"colorbar\":{\"outlinewidth\":0,\"ticks\":\"\"}},\"type\":\"scatter\"}],\"scatter3d\":[{\"line\":{\"colorbar\":{\"outlinewidth\":0,\"ticks\":\"\"}},\"marker\":{\"colorbar\":{\"outlinewidth\":0,\"ticks\":\"\"}},\"type\":\"scatter3d\"}],\"scattercarpet\":[{\"marker\":{\"colorbar\":{\"outlinewidth\":0,\"ticks\":\"\"}},\"type\":\"scattercarpet\"}],\"scattergeo\":[{\"marker\":{\"colorbar\":{\"outlinewidth\":0,\"ticks\":\"\"}},\"type\":\"scattergeo\"}],\"scattergl\":[{\"marker\":{\"colorbar\":{\"outlinewidth\":0,\"ticks\":\"\"}},\"type\":\"scattergl\"}],\"scattermapbox\":[{\"marker\":{\"colorbar\":{\"outlinewidth\":0,\"ticks\":\"\"}},\"type\":\"scattermapbox\"}],\"scatterpolar\":[{\"marker\":{\"colorbar\":{\"outlinewidth\":0,\"ticks\":\"\"}},\"type\":\"scatterpolar\"}],\"scatterpolargl\":[{\"marker\":{\"colorbar\":{\"outlinewidth\":0,\"ticks\":\"\"}},\"type\":\"scatterpolargl\"}],\"scatterternary\":[{\"marker\":{\"colorbar\":{\"outlinewidth\":0,\"ticks\":\"\"}},\"type\":\"scatterternary\"}],\"surface\":[{\"colorbar\":{\"outlinewidth\":0,\"ticks\":\"\"},\"colorscale\":[[0.0,\"#0d0887\"],[0.1111111111111111,\"#46039f\"],[0.2222222222222222,\"#7201a8\"],[0.3333333333333333,\"#9c179e\"],[0.4444444444444444,\"#bd3786\"],[0.5555555555555556,\"#d8576b\"],[0.6666666666666666,\"#ed7953\"],[0.7777777777777778,\"#fb9f3a\"],[0.8888888888888888,\"#fdca26\"],[1.0,\"#f0f921\"]],\"type\":\"surface\"}],\"table\":[{\"cells\":{\"fill\":{\"color\":\"#EBF0F8\"},\"line\":{\"color\":\"white\"}},\"header\":{\"fill\":{\"color\":\"#C8D4E3\"},\"line\":{\"color\":\"white\"}},\"type\":\"table\"}]},\"layout\":{\"annotationdefaults\":{\"arrowcolor\":\"#2a3f5f\",\"arrowhead\":0,\"arrowwidth\":1},\"autotypenumbers\":\"strict\",\"coloraxis\":{\"colorbar\":{\"outlinewidth\":0,\"ticks\":\"\"}},\"colorscale\":{\"diverging\":[[0,\"#8e0152\"],[0.1,\"#c51b7d\"],[0.2,\"#de77ae\"],[0.3,\"#f1b6da\"],[0.4,\"#fde0ef\"],[0.5,\"#f7f7f7\"],[0.6,\"#e6f5d0\"],[0.7,\"#b8e186\"],[0.8,\"#7fbc41\"],[0.9,\"#4d9221\"],[1,\"#276419\"]],\"sequential\":[[0.0,\"#0d0887\"],[0.1111111111111111,\"#46039f\"],[0.2222222222222222,\"#7201a8\"],[0.3333333333333333,\"#9c179e\"],[0.4444444444444444,\"#bd3786\"],[0.5555555555555556,\"#d8576b\"],[0.6666666666666666,\"#ed7953\"],[0.7777777777777778,\"#fb9f3a\"],[0.8888888888888888,\"#fdca26\"],[1.0,\"#f0f921\"]],\"sequentialminus\":[[0.0,\"#0d0887\"],[0.1111111111111111,\"#46039f\"],[0.2222222222222222,\"#7201a8\"],[0.3333333333333333,\"#9c179e\"],[0.4444444444444444,\"#bd3786\"],[0.5555555555555556,\"#d8576b\"],[0.6666666666666666,\"#ed7953\"],[0.7777777777777778,\"#fb9f3a\"],[0.8888888888888888,\"#fdca26\"],[1.0,\"#f0f921\"]]},\"colorway\":[\"#636efa\",\"#EF553B\",\"#00cc96\",\"#ab63fa\",\"#FFA15A\",\"#19d3f3\",\"#FF6692\",\"#B6E880\",\"#FF97FF\",\"#FECB52\"],\"font\":{\"color\":\"#2a3f5f\"},\"geo\":{\"bgcolor\":\"white\",\"lakecolor\":\"white\",\"landcolor\":\"#E5ECF6\",\"showlakes\":true,\"showland\":true,\"subunitcolor\":\"white\"},\"hoverlabel\":{\"align\":\"left\"},\"hovermode\":\"closest\",\"mapbox\":{\"style\":\"light\"},\"paper_bgcolor\":\"white\",\"plot_bgcolor\":\"#E5ECF6\",\"polar\":{\"angularaxis\":{\"gridcolor\":\"white\",\"linecolor\":\"white\",\"ticks\":\"\"},\"bgcolor\":\"#E5ECF6\",\"radialaxis\":{\"gridcolor\":\"white\",\"linecolor\":\"white\",\"ticks\":\"\"}},\"scene\":{\"xaxis\":{\"backgroundcolor\":\"#E5ECF6\",\"gridcolor\":\"white\",\"gridwidth\":2,\"linecolor\":\"white\",\"showbackground\":true,\"ticks\":\"\",\"zerolinecolor\":\"white\"},\"yaxis\":{\"backgroundcolor\":\"#E5ECF6\",\"gridcolor\":\"white\",\"gridwidth\":2,\"linecolor\":\"white\",\"showbackground\":true,\"ticks\":\"\",\"zerolinecolor\":\"white\"},\"zaxis\":{\"backgroundcolor\":\"#E5ECF6\",\"gridcolor\":\"white\",\"gridwidth\":2,\"linecolor\":\"white\",\"showbackground\":true,\"ticks\":\"\",\"zerolinecolor\":\"white\"}},\"shapedefaults\":{\"line\":{\"color\":\"#2a3f5f\"}},\"ternary\":{\"aaxis\":{\"gridcolor\":\"white\",\"linecolor\":\"white\",\"ticks\":\"\"},\"baxis\":{\"gridcolor\":\"white\",\"linecolor\":\"white\",\"ticks\":\"\"},\"bgcolor\":\"#E5ECF6\",\"caxis\":{\"gridcolor\":\"white\",\"linecolor\":\"white\",\"ticks\":\"\"}},\"title\":{\"x\":0.05},\"xaxis\":{\"automargin\":true,\"gridcolor\":\"white\",\"linecolor\":\"white\",\"ticks\":\"\",\"title\":{\"standoff\":15},\"zerolinecolor\":\"white\",\"zerolinewidth\":2},\"yaxis\":{\"automargin\":true,\"gridcolor\":\"white\",\"linecolor\":\"white\",\"ticks\":\"\",\"title\":{\"standoff\":15},\"zerolinecolor\":\"white\",\"zerolinewidth\":2}}},\"title\":{\"text\":\"SPY 2021 YTD Cumulative Return (%)\",\"x\":0.5,\"xanchor\":\"center\",\"y\":0.965,\"yanchor\":\"top\"},\"width\":1000,\"xaxis\":{\"anchor\":\"y\",\"domain\":[0.0,1.0],\"rangeslider\":{\"visible\":false},\"tickmode\":\"array\",\"ticktext\":[\"Jan\",\"Feb\",\"Mar\",\"Apr\",\"May\",\"Jun\",\"Jul\",\"Aug\",\"Sep\",\"Oct\",\"Nov\",\"Dec\"],\"tickvals\":[1,22,43,64,85,106,127,148,169,191,212,233],\"title\":{\"text\":\"Time (Months)\"}},\"yaxis\":{\"anchor\":\"x\",\"domain\":[0.0,1.0],\"tickmode\":\"array\",\"ticktext\":[\"0%\",\"5%\",\"10%\",\"15%\",\"20%\",\"25%\",\"30%\",\"35%\"],\"tickvals\":[1,1.05,1.1,1.15,1.2,1.25,1.3,1.35],\"title\":{\"text\":\"Cumulative Return (%)\"}}},                        {\"responsive\": true}                    ).then(function(){\n",
       "                            \n",
       "var gd = document.getElementById('a6a9bb75-8298-47b9-b15c-e07728316900');\n",
       "var x = new MutationObserver(function (mutations, observer) {{\n",
       "        var display = window.getComputedStyle(gd).display;\n",
       "        if (!display || display === 'none') {{\n",
       "            console.log([gd, 'removed!']);\n",
       "            Plotly.purge(gd);\n",
       "            observer.disconnect();\n",
       "        }}\n",
       "}});\n",
       "\n",
       "// Listen for the removal of the full notebook cells\n",
       "var notebookContainer = gd.closest('#notebook-container');\n",
       "if (notebookContainer) {{\n",
       "    x.observe(notebookContainer, {childList: true});\n",
       "}}\n",
       "\n",
       "// Listen for the clearing of the current output cell\n",
       "var outputEl = gd.closest('.output');\n",
       "if (outputEl) {{\n",
       "    x.observe(outputEl, {childList: true});\n",
       "}}\n",
       "\n",
       "                        })                };                });            </script>        </div>"
      ]
     },
     "metadata": {},
     "output_type": "display_data"
    }
   ],
   "source": [
    "import plotly.express as px\n",
    "import plotly.graph_objects as go\n",
    "ticker = 'SPY'\n",
    "df = sp_500_rets_df\n",
    "fig = px.line(df, x=sp_500_rets_df.index, y='cum_return', \n",
    "              labels={\n",
    "                     \"index\": \"Time (Months)\",\n",
    "                     \"cum_return\": \"Cumulative Return (%)\"})\n",
    "               \n",
    "fig.update_layout(\n",
    "        title={'text': f\"{ticker} 2021 YTD Cumulative Return (%)\", 'y':0.965, 'x':0.5,\n",
    "               'xanchor': 'center', 'yanchor': 'top'},\n",
    "        xaxis = dict(\n",
    "        tickmode = 'array',\n",
    "        tickvals = [1,22,43,64,85,106,127,\n",
    "                 148,169,191,212,233],\n",
    "        ticktext = ['Jan','Feb','Mar','Apr','May','Jun',\n",
    "               'Jul','Aug','Sep','Oct','Nov','Dec']),\n",
    "       \n",
    "        yaxis = dict(\n",
    "        tickmode = 'array',\n",
    "        tickvals = [1, 1.05, 1.10, 1.15, 1.20, 1.25, 1.3, 1.35],\n",
    "        ticktext = ['0%', '5%', '10%', '15%', '20%', '25%', '30%', '35%'])\n",
    "        )\n",
    "\n",
    "fig.update_layout(height=600, width=1000, \n",
    "                  showlegend=False, \n",
    "                  xaxis_rangeslider_visible=False\n",
    "                 )\n",
    "\n",
    "fig.update_layout(margin=go.layout.Margin(\n",
    "        l=30, #left margin\n",
    "        r=30, #right margin\n",
    "        b=30, #bottom margin\n",
    "        t=60),  #top margin\n",
    "        paper_bgcolor=\"LightSteelBlue\")\n",
    "fig.show()"
   ]
  },
  {
   "cell_type": "code",
   "execution_count": 7,
   "id": "de6c9a69-1add-4f46-9565-6920339fcc00",
   "metadata": {},
   "outputs": [
    {
     "data": {
      "text/html": [
       "<div><div id=e9eeac6c-faf5-4c3b-8cad-9dd7940b1386 style=\"display:none; background-color:#9D6CFF; color:white; width:200px; height:30px; padding-left:5px; border-radius:4px; flex-direction:row; justify-content:space-around; align-items:center;\" onmouseover=\"this.style.backgroundColor='#BA9BF8'\" onmouseout=\"this.style.backgroundColor='#9D6CFF'\" onclick=\"window.commands?.execute('create-mitosheet-from-dataframe-output');\">See Full Dataframe in Mito</div> <script> if (window.commands.hasCommand('create-mitosheet-from-dataframe-output')) document.getElementById('e9eeac6c-faf5-4c3b-8cad-9dd7940b1386').style.display = 'flex' </script> <table border=\"1\" class=\"dataframe\">\n",
       "  <thead>\n",
       "    <tr style=\"text-align: right;\">\n",
       "      <th></th>\n",
       "      <th>timestamp</th>\n",
       "      <th>open</th>\n",
       "      <th>high</th>\n",
       "      <th>low</th>\n",
       "      <th>close</th>\n",
       "      <th>adjusted_close</th>\n",
       "      <th>volume</th>\n",
       "      <th>cum_return</th>\n",
       "      <th>position</th>\n",
       "    </tr>\n",
       "  </thead>\n",
       "  <tbody>\n",
       "    <tr>\n",
       "      <th>0</th>\n",
       "      <td>2021-01-04</td>\n",
       "      <td>375.31</td>\n",
       "      <td>375.45</td>\n",
       "      <td>364.82</td>\n",
       "      <td>368.79</td>\n",
       "      <td>365.187629</td>\n",
       "      <td>110210810</td>\n",
       "      <td>1.0</td>\n",
       "      <td>100000.0</td>\n",
       "    </tr>\n",
       "  </tbody>\n",
       "</table></div>"
      ],
      "text/plain": [
       "    timestamp    open    high     low   close  adjusted_close     volume  \\\n",
       "0  2021-01-04  375.31  375.45  364.82  368.79      365.187629  110210810   \n",
       "\n",
       "   cum_return  position  \n",
       "0         1.0  100000.0  "
      ]
     },
     "execution_count": 7,
     "metadata": {},
     "output_type": "execute_result"
    }
   ],
   "source": [
    "sp_500_rets_df.head(1)"
   ]
  },
  {
   "cell_type": "code",
   "execution_count": 8,
   "id": "cbcbd550-11dc-42d3-96aa-f0b85694ef39",
   "metadata": {},
   "outputs": [],
   "source": [
    "from plotly.subplots import make_subplots\n",
    "fig = make_subplots(rows=2, cols=1, shared_xaxes=True)"
   ]
  },
  {
   "cell_type": "code",
   "execution_count": 59,
   "id": "24476f38-1976-4638-b013-16a05753c2f5",
   "metadata": {},
   "outputs": [
    {
     "data": {
      "application/vnd.plotly.v1+json": {
       "config": {
        "plotlyServerURL": "https://plot.ly"
       },
       "data": [
        {
         "close": [
          368.79,
          371.33,
          373.55,
          379.1,
          381.26,
          378.69,
          378.77,
          379.79,
          378.46,
          375.7,
          378.65,
          383.89,
          384.24,
          382.88,
          384.39,
          383.79,
          374.41,
          377.63,
          370.07,
          376.23,
          381.55,
          381.85,
          386.19,
          387.71,
          390.51,
          390.25,
          390.08,
          390.71,
          392.64,
          392.3,
          392.39,
          390.72,
          390.03,
          387.03,
          387.5,
          391.77,
          382.33,
          380.36,
          389.58,
          386.54,
          381.42,
          376.7,
          383.63,
          381.72,
          387.17,
          389.58,
          393.53,
          394.06,
          396.41,
          395.91,
          397.26,
          391.48,
          389.48,
          392.59,
          389.5,
          387.52,
          389.7,
          395.98,
          395.78,
          394.73,
          396.33,
          400.61,
          406.36,
          406.12,
          406.59,
          408.52,
          411.49,
          411.64,
          412.86,
          411.45,
          415.87,
          417.26,
          415.21,
          412.17,
          416.07,
          412.27,
          416.74,
          417.61,
          417.52,
          417.4,
          420.06,
          417.3,
          418.2,
          415.62,
          415.75,
          419.07,
          422.12,
          417.94,
          414.21,
          405.41,
          410.28,
          416.58,
          415.52,
          411.94,
          410.86,
          415.28,
          414.94,
          419.17,
          418.24,
          419.07,
          419.29,
          420.04,
          419.67,
          420.33,
          418.77,
          422.6,
          422.19,
          422.28,
          421.65,
          423.61,
          424.31,
          425.26,
          424.48,
          422.11,
          421.97,
          414.92,
          420.86,
          423.11,
          422.6,
          425.1,
          426.61,
          427.47,
          427.7,
          428.06,
          430.43,
          433.72,
          432.93,
          434.46,
          430.92,
          435.52,
          437.08,
          435.59,
          436.24,
          434.75,
          431.34,
          424.97,
          431.06,
          434.55,
          435.46,
          439.94,
          441.02,
          439.01,
          438.83,
          440.65,
          438.51,
          437.59,
          441.15,
          438.98,
          441.76,
          442.49,
          442.13,
          442.68,
          443.78,
          445.11,
          445.92,
          446.97,
          444.04,
          439.18,
          439.86,
          443.36,
          447.26,
          447.97,
          448.91,
          446.26,
          450.25,
          452.23,
          451.56,
          451.8,
          453.19,
          453.08,
          451.46,
          450.91,
          448.98,
          445.44,
          446.58,
          444.17,
          447.88,
          447.17,
          441.4,
          434.04,
          433.63,
          437.86,
          443.18,
          443.91,
          442.64,
          433.72,
          434.45,
          429.14,
          434.24,
          428.64,
          433.1,
          434.9,
          438.66,
          437.86,
          434.69,
          433.62,
          435.18,
          442.5,
          445.87,
          447.19,
          450.64,
          452.41,
          453.59,
          453.12,
          455.55,
          455.96,
          453.94,
          458.32,
          459.25,
          460.04,
          461.9,
          464.72,
          466.91,
          468.53,
          468.93,
          467.38,
          463.62,
          463.77,
          467.27,
          467.43,
          469.28,
          468.14,
          469.73,
          468.89,
          467.57,
          468.19,
          469.44,
          458.97,
          464.6,
          455.56,
          450.5,
          457.4,
          453.42,
          458.79,
          468.28
         ],
         "high": [
          375.45,
          372.5,
          376.98,
          379.9,
          381.49,
          380.58,
          379.86,
          380.86,
          381.13,
          377.58,
          379.23,
          384.79,
          384.95,
          384.1256,
          384.77,
          385.85,
          380.32,
          381.93,
          376.67,
          377.34,
          383.22,
          383.7,
          386.24,
          388.47,
          390.56,
          390.89,
          392.28,
          391.69,
          392.9,
          394.17,
          392.66,
          391.515,
          392.38,
          389.62,
          388.945,
          392.23,
          391.88,
          385.58,
          390.92,
          390.07,
          386.83,
          384,
          384.76,
          387.68,
          389.91,
          391.4,
          395.65,
          394.21,
          396.685,
          397.83,
          398.12,
          396.72,
          391.569,
          394.07,
          393.46,
          392.75,
          390.55,
          396.41,
          396.75,
          395.45,
          398,
          400.67,
          406.94,
          407.24,
          406.96,
          408.58,
          411.67,
          411.93,
          413.529,
          413.96,
          416.16,
          417.91,
          416.74,
          415.0859,
          416.29,
          416.78,
          418.25,
          418.22,
          418.14,
          419.01,
          420.72,
          418.54,
          419.84,
          416.6,
          417.63,
          419.21,
          422.815,
          422.74,
          415.27,
          412.59,
          412.35,
          417.49,
          416.39,
          416.06,
          411.05,
          416.625,
          418.2,
          420.32,
          420.71,
          419.61,
          420.72,
          421.25,
          422.72,
          421.23,
          419.99,
          422.92,
          422.78,
          423.21,
          423.26,
          424.63,
          424.43,
          425.37,
          425.46,
          424.87,
          423.02,
          417.8281,
          421.06,
          424,
          424.05,
          425.55,
          427.0943,
          427.65,
          428.56,
          428.78,
          430.6,
          434.1,
          434.01,
          434.76,
          431.73,
          435.84,
          437.35,
          437.84,
          437.92,
          435.53,
          436.06,
          431.4089,
          432.42,
          434.7,
          435.72,
          440.3,
          441.03,
          439.94,
          440.3,
          441.8,
          440.06,
          440.93,
          441.28,
          441.1243,
          441.85,
          442.94,
          442.795,
          443.44,
          443.882,
          445.2572,
          445.94,
          447.11,
          444.96,
          444.625,
          441.14,
          443.71,
          448.23,
          448.54,
          449.457,
          448.86,
          450.65,
          453.07,
          452.49,
          453.11,
          454.05,
          453.63,
          452.81,
          451.67,
          452.57,
          451.49,
          448.92,
          448.34,
          448.41,
          448.36,
          445.37,
          436.56,
          437.91,
          440.03,
          444.89,
          444.67,
          444.05,
          440.04,
          437.04,
          436.77,
          436.0329,
          433.96,
          435.49,
          435.1199,
          441.68,
          439.89,
          440.26,
          436.1,
          436.05,
          442.66,
          446.26,
          447.55,
          450.71,
          452.732,
          453.829,
          454.67,
          455.9,
          458.49,
          457.16,
          458.4,
          459.56,
          460.7021,
          462.23,
          465.15,
          467,
          470.65,
          470.23,
          469.57,
          467.38,
          465.29,
          467.86,
          468.81,
          470.485,
          469.19,
          470.01,
          470.94,
          473.54,
          469.095,
          469.57,
          463.9,
          466.56,
          464.03,
          464.67,
          459.07,
          460.3,
          460.79,
          468.88
         ],
         "low": [
          364.82,
          368.05,
          369.12,
          375.91,
          377.1,
          377.7189,
          376.36,
          377.85,
          378.1,
          373.7,
          376.75,
          380.69,
          383.25,
          381.835,
          378.46,
          383.54,
          372.01,
          375.89,
          368.27,
          370.376,
          376.3181,
          380.48,
          381.9655,
          386.1444,
          388.35,
          389.17,
          387.5,
          388.1,
          389.77,
          391.53,
          389.33,
          387.74,
          389.55,
          386.74,
          380.2,
          385.27,
          380.7789,
          378.23,
          380.572,
          386,
          381.31,
          371.88,
          372.64,
          381.42,
          381.7299,
          388.1702,
          391.74,
          391.2,
          392.03,
          395.08,
          393.3,
          390.75,
          387.15,
          389.97,
          388.66,
          387.47,
          383.9,
          390.29,
          392.81,
          393.02,
          395.31,
          398.18,
          403.38,
          405.4,
          405.45,
          406.93,
          408.26,
          410.2,
          411.12,
          410.87,
          413.69,
          415.73,
          413.79,
          410.59,
          411.36,
          411.13,
          412.79,
          416.8111,
          416.3,
          416.9,
          416.44,
          416.34,
          417.665,
          411.67,
          415.15,
          413.675,
          419.16,
          417.81,
          410.06,
          404,
          407.02,
          413.18,
          413.36,
          411.77,
          405.33,
          411.67,
          414.45,
          417.08,
          417.62,
          417.76,
          418.9851,
          419.79,
          419.2,
          419.29,
          416.28,
          418.8422,
          421.19,
          420.32,
          421.41,
          421.55,
          422.82,
          423.1,
          423.54,
          419.92,
          419.32,
          414.7,
          415.93,
          420.08,
          422.51,
          424.62,
          425.55,
          425.89,
          427.13,
          427.18,
          428.8,
          430.5218,
          430.01,
          431.51,
          427.52,
          430.714,
          434.97,
          435.31,
          434.91,
          432.72,
          430.92,
          421.97,
          424.83,
          431.0111,
          433.69,
          436.79,
          439.26,
          435.99,
          437.31,
          439.81,
          437.77,
          437.21,
          436.1,
          438.73,
          439.88,
          441.8,
          441.31,
          441.88,
          442.62,
          442.66,
          445.07,
          442.87,
          440.85,
          438.92,
          436.12,
          439.71,
          443.4355,
          447.42,
          447.77,
          446.16,
          447.06,
          450.71,
          450.92,
          451.545,
          451.91,
          451.55,
          450.7423,
          448.86,
          448.72,
          445.31,
          444.11,
          443.22,
          443.44,
          444.02,
          441.02,
          428.86,
          433.07,
          433.747,
          439.6,
          441.21,
          441.9,
          432.94,
          433.85,
          428.78,
          427.23,
          426.36,
          429.39,
          427.54,
          438.2,
          437.19,
          434.62,
          432.78,
          431.54,
          438.58,
          444.09,
          443.27,
          448.27,
          451.01,
          451.31,
          451.05,
          452.39,
          455.56,
          453.86,
          455.45,
          455.56,
          458.2,
          460.08,
          460.83,
          464.99,
          466.92,
          468.2031,
          465.88,
          462.04,
          463.75,
          464.11,
          466.23,
          467.07,
          467.48,
          466.34,
          468.5,
          467.35,
          464.45,
          465.19,
          457.77,
          461.73,
          455.3,
          450.29,
          450.31,
          448.92,
          453.56,
          458.6546
         ],
         "open": [
          375.31,
          368.1,
          369.71,
          376.1,
          380.59,
          377.85,
          378.89,
          378.69,
          380.59,
          376.72,
          378.34,
          381.11,
          384.49,
          382.25,
          383.67,
          385.41,
          380.22,
          376.36,
          375.63,
          373.72,
          379.65,
          382.435,
          382.96,
          388.2,
          389.27,
          389.61,
          392.12,
          391.24,
          389.85,
          393.96,
          390.42,
          389.59,
          392.07,
          387.06,
          384.66,
          386.33,
          390.41,
          384.35,
          385.59,
          389.82,
          385.79,
          381.22,
          380.46,
          384.66,
          385.85,
          389.69,
          392.23,
          392.07,
          394.33,
          397.07,
          394.53,
          394.475,
          389.88,
          390.03,
          391.91,
          391,
          385.98,
          390.93,
          394.4,
          394.42,
          395.34,
          398.4,
          403.46,
          405.76,
          405.94,
          407.93,
          408.39,
          410.85,
          411.53,
          412.83,
          413.74,
          417.25,
          416.26,
          413.91,
          411.51,
          415.89,
          412.87,
          417.44,
          417.93,
          417.81,
          420.32,
          417.63,
          419.43,
          416.07,
          417.38,
          415.83,
          419.89,
          422.5,
          413.1,
          411.23,
          407.07,
          413.21,
          415.39,
          415.8,
          406.92,
          411.8,
          416.87,
          417.34,
          420.33,
          418.87,
          420.17,
          420.97,
          422.57,
          420.37,
          417.85,
          420.75,
          422.59,
          423.11,
          423.18,
          422.96,
          424.2,
          424.43,
          425.42,
          424.63,
          421.67,
          417.09,
          416.8,
          420.85,
          423.19,
          424.89,
          425.9,
          427.17,
          427.88,
          427.21,
          428.87,
          431.67,
          433.78,
          433.66,
          428.78,
          432.53,
          435.43,
          436.24,
          437.4,
          434.81,
          436.01,
          426.19,
          425.68,
          432.34,
          434.74,
          437.52,
          439.31,
          439.91,
          439.68,
          439.815,
          437.91,
          440.34,
          438.44,
          439.78,
          440.22,
          442.1,
          442.46,
          442.61,
          443.82,
          443.62,
          445.59,
          444.53,
          444.24,
          442.96,
          436.27,
          440.23,
          445.16,
          447.97,
          448.17,
          448.61,
          447.12,
          450.97,
          452.13,
          452.56,
          453.32,
          451.98,
          452.71,
          450.89,
          450.7,
          451.04,
          448.64,
          448.12,
          444.62,
          447.32,
          444.92,
          434.88,
          436.53,
          436.05,
          439.85,
          441.44,
          442.81,
          439.69,
          435.19,
          436.02,
          430.98,
          433,
          430.24,
          429.27,
          438.39,
          439.48,
          437.16,
          435.67,
          434.71,
          439.08,
          444.75,
          443.97,
          448.92,
          451.13,
          451.77,
          453.13,
          454.28,
          457.2,
          456.45,
          455.46,
          455.87,
          460.3,
          460.22,
          461.3,
          465.36,
          469.28,
          469.7,
          469.32,
          465.58,
          465.21,
          465.12,
          468.64,
          467.15,
          469,
          469.24,
          469.61,
          470.89,
          467.22,
          466.06,
          462.34,
          464.07,
          462,
          461.64,
          450.73,
          459.17,
          456.13,
          464.41
         ],
         "type": "candlestick",
         "x": [
          "2021-01-04",
          "2021-01-05",
          "2021-01-06",
          "2021-01-07",
          "2021-01-08",
          "2021-01-11",
          "2021-01-12",
          "2021-01-13",
          "2021-01-14",
          "2021-01-15",
          "2021-01-19",
          "2021-01-20",
          "2021-01-21",
          "2021-01-22",
          "2021-01-25",
          "2021-01-26",
          "2021-01-27",
          "2021-01-28",
          "2021-01-29",
          "2021-02-01",
          "2021-02-02",
          "2021-02-03",
          "2021-02-04",
          "2021-02-05",
          "2021-02-08",
          "2021-02-09",
          "2021-02-10",
          "2021-02-11",
          "2021-02-12",
          "2021-02-16",
          "2021-02-17",
          "2021-02-18",
          "2021-02-19",
          "2021-02-22",
          "2021-02-23",
          "2021-02-24",
          "2021-02-25",
          "2021-02-26",
          "2021-03-01",
          "2021-03-02",
          "2021-03-03",
          "2021-03-04",
          "2021-03-05",
          "2021-03-08",
          "2021-03-09",
          "2021-03-10",
          "2021-03-11",
          "2021-03-12",
          "2021-03-15",
          "2021-03-16",
          "2021-03-17",
          "2021-03-18",
          "2021-03-19",
          "2021-03-22",
          "2021-03-23",
          "2021-03-24",
          "2021-03-25",
          "2021-03-26",
          "2021-03-29",
          "2021-03-30",
          "2021-03-31",
          "2021-04-01",
          "2021-04-05",
          "2021-04-06",
          "2021-04-07",
          "2021-04-08",
          "2021-04-09",
          "2021-04-12",
          "2021-04-13",
          "2021-04-14",
          "2021-04-15",
          "2021-04-16",
          "2021-04-19",
          "2021-04-20",
          "2021-04-21",
          "2021-04-22",
          "2021-04-23",
          "2021-04-26",
          "2021-04-27",
          "2021-04-28",
          "2021-04-29",
          "2021-04-30",
          "2021-05-03",
          "2021-05-04",
          "2021-05-05",
          "2021-05-06",
          "2021-05-07",
          "2021-05-10",
          "2021-05-11",
          "2021-05-12",
          "2021-05-13",
          "2021-05-14",
          "2021-05-17",
          "2021-05-18",
          "2021-05-19",
          "2021-05-20",
          "2021-05-21",
          "2021-05-24",
          "2021-05-25",
          "2021-05-26",
          "2021-05-27",
          "2021-05-28",
          "2021-06-01",
          "2021-06-02",
          "2021-06-03",
          "2021-06-04",
          "2021-06-07",
          "2021-06-08",
          "2021-06-09",
          "2021-06-10",
          "2021-06-11",
          "2021-06-14",
          "2021-06-15",
          "2021-06-16",
          "2021-06-17",
          "2021-06-18",
          "2021-06-21",
          "2021-06-22",
          "2021-06-23",
          "2021-06-24",
          "2021-06-25",
          "2021-06-28",
          "2021-06-29",
          "2021-06-30",
          "2021-07-01",
          "2021-07-02",
          "2021-07-06",
          "2021-07-07",
          "2021-07-08",
          "2021-07-09",
          "2021-07-12",
          "2021-07-13",
          "2021-07-14",
          "2021-07-15",
          "2021-07-16",
          "2021-07-19",
          "2021-07-20",
          "2021-07-21",
          "2021-07-22",
          "2021-07-23",
          "2021-07-26",
          "2021-07-27",
          "2021-07-28",
          "2021-07-29",
          "2021-07-30",
          "2021-08-02",
          "2021-08-03",
          "2021-08-04",
          "2021-08-05",
          "2021-08-06",
          "2021-08-09",
          "2021-08-10",
          "2021-08-11",
          "2021-08-12",
          "2021-08-13",
          "2021-08-16",
          "2021-08-17",
          "2021-08-18",
          "2021-08-19",
          "2021-08-20",
          "2021-08-23",
          "2021-08-24",
          "2021-08-25",
          "2021-08-26",
          "2021-08-27",
          "2021-08-30",
          "2021-08-31",
          "2021-09-01",
          "2021-09-02",
          "2021-09-03",
          "2021-09-07",
          "2021-09-08",
          "2021-09-09",
          "2021-09-10",
          "2021-09-13",
          "2021-09-14",
          "2021-09-15",
          "2021-09-16",
          "2021-09-17",
          "2021-09-20",
          "2021-09-21",
          "2021-09-22",
          "2021-09-23",
          "2021-09-24",
          "2021-09-27",
          "2021-09-28",
          "2021-09-29",
          "2021-09-30",
          "2021-10-01",
          "2021-10-04",
          "2021-10-05",
          "2021-10-06",
          "2021-10-07",
          "2021-10-08",
          "2021-10-11",
          "2021-10-12",
          "2021-10-13",
          "2021-10-14",
          "2021-10-15",
          "2021-10-18",
          "2021-10-19",
          "2021-10-20",
          "2021-10-21",
          "2021-10-22",
          "2021-10-25",
          "2021-10-26",
          "2021-10-27",
          "2021-10-28",
          "2021-10-29",
          "2021-11-01",
          "2021-11-02",
          "2021-11-03",
          "2021-11-04",
          "2021-11-05",
          "2021-11-08",
          "2021-11-09",
          "2021-11-10",
          "2021-11-11",
          "2021-11-12",
          "2021-11-15",
          "2021-11-16",
          "2021-11-17",
          "2021-11-18",
          "2021-11-19",
          "2021-11-22",
          "2021-11-23",
          "2021-11-24",
          "2021-11-26",
          "2021-11-29",
          "2021-11-30",
          "2021-12-01",
          "2021-12-02",
          "2021-12-03",
          "2021-12-06",
          "2021-12-07"
         ],
         "xaxis": "x",
         "yaxis": "y"
        },
        {
         "marker": {
          "color": "LightSkyBlue"
         },
         "type": "bar",
         "x": [
          0,
          1,
          2,
          3,
          4,
          5,
          6,
          7,
          8,
          9,
          10,
          11,
          12,
          13,
          14,
          15,
          16,
          17,
          18,
          19,
          20,
          21,
          22,
          23,
          24,
          25,
          26,
          27,
          28,
          29,
          30,
          31,
          32,
          33,
          34,
          35,
          36,
          37,
          38,
          39,
          40,
          41,
          42,
          43,
          44,
          45,
          46,
          47,
          48,
          49,
          50,
          51,
          52,
          53,
          54,
          55,
          56,
          57,
          58,
          59,
          60,
          61,
          62,
          63,
          64,
          65,
          66,
          67,
          68,
          69,
          70,
          71,
          72,
          73,
          74,
          75,
          76,
          77,
          78,
          79,
          80,
          81,
          82,
          83,
          84,
          85,
          86,
          87,
          88,
          89,
          90,
          91,
          92,
          93,
          94,
          95,
          96,
          97,
          98,
          99,
          100,
          101,
          102,
          103,
          104,
          105,
          106,
          107,
          108,
          109,
          110,
          111,
          112,
          113,
          114,
          115,
          116,
          117,
          118,
          119,
          120,
          121,
          122,
          123,
          124,
          125,
          126,
          127,
          128,
          129,
          130,
          131,
          132,
          133,
          134,
          135,
          136,
          137,
          138,
          139,
          140,
          141,
          142,
          143,
          144,
          145,
          146,
          147,
          148,
          149,
          150,
          151,
          152,
          153,
          154,
          155,
          156,
          157,
          158,
          159,
          160,
          161,
          162,
          163,
          164,
          165,
          166,
          167,
          168,
          169,
          170,
          171,
          172,
          173,
          174,
          175,
          176,
          177,
          178,
          179,
          180,
          181,
          182,
          183,
          184,
          185,
          186,
          187,
          188,
          189,
          190,
          191,
          192,
          193,
          194,
          195,
          196,
          197,
          198,
          199,
          200,
          201,
          202,
          203,
          204,
          205,
          206,
          207,
          208,
          209,
          210,
          211,
          212,
          213,
          214,
          215,
          216,
          217,
          218,
          219,
          220,
          221,
          222,
          223,
          224,
          225,
          226,
          227,
          228,
          229,
          230,
          231,
          232,
          233,
          234
         ],
         "xaxis": "x2",
         "y": [
          110210810,
          66426229,
          107997675,
          68766812,
          71677208,
          51176719,
          51440114,
          45303619,
          49989113,
          107159962,
          51233300,
          61836062,
          47955809,
          52136931,
          70401971,
          42665281,
          123351078,
          94198104,
          126765121,
          75817597,
          62923781,
          52427090,
          47142555,
          48669773,
          38365185,
          34142633,
          58362935,
          42913288,
          50593270,
          50972366,
          51746878,
          59712773,
          83240971,
          66517089,
          107284127,
          72433946,
          144712701,
          149530614,
          105348798,
          79595332,
          119940211,
          183433020,
          152039624,
          123149245,
          113633556,
          109899410,
          86245040,
          64653565,
          73592302,
          73722506,
          97959265,
          115349101,
          113624490,
          73778646,
          90686552,
          97588644,
          116128622,
          114409114,
          108107626,
          76262249,
          112734214,
          99682876,
          91684764,
          62020953,
          55836280,
          57863114,
          61104559,
          56704899,
          56550988,
          61659907,
          60229842,
          82037278,
          78498496,
          81851828,
          66792983,
          97582788,
          73276195,
          52182392,
          51303056,
          51238854,
          78544329,
          85527030,
          68128289,
          101591166,
          39960661,
          74321368,
          67733790,
          81852446,
          116887975,
          134811046,
          106393963,
          82201629,
          65129221,
          59810238,
          106467052,
          78022218,
          76578662,
          51376702,
          57451396,
          43088618,
          56707677,
          58520164,
          54216625,
          49097061,
          58138763,
          55938789,
          51555032,
          47134279,
          48436342,
          51020147,
          45570828,
          42358478,
          51508508,
          79250069,
          90949659,
          118676302,
          72822028,
          57700303,
          49445414,
          45110288,
          58129525,
          53159581,
          35970515,
          64827858,
          53441027,
          57697668,
          68710419,
          63549456,
          97595232,
          76238584,
          52889585,
          52911312,
          64130352,
          55126358,
          75874662,
          147987000,
          99608174,
          64724389,
          47878539,
          63766637,
          43719187,
          67397137,
          52472360,
          45910298,
          68951202,
          58783297,
          58053896,
          46732212,
          38969659,
          46930008,
          41222585,
          43339275,
          44034340,
          38942418,
          38673164,
          73930864,
          92673933,
          89351931,
          92812246,
          72008712,
          54973038,
          38744714,
          40529711,
          57829572,
          77235113,
          48357355,
          59300213,
          48721378,
          42830867,
          47234364,
          51671534,
          56181907,
          57970407,
          89948174,
          83738649,
          78197140,
          78792222,
          77786735,
          118425037,
          166445534,
          92526112,
          102350143,
          76395981,
          62094837,
          61371108,
          130436306,
          82329213,
          140505979,
          129240106,
          128569957,
          90682520,
          113032245,
          72437499,
          74557404,
          65233285,
          71181163,
          72973979,
          70236825,
          66260210,
          62213228,
          46996827,
          49571569,
          41305438,
          58845088,
          45214507,
          56075116,
          72437997,
          51437944,
          70162424,
          47474495,
          47840033,
          52509825,
          52847087,
          66390563,
          50405194,
          50232447,
          69429653,
          34848495,
          51018081,
          46980500,
          48857502,
          47858289,
          50625607,
          57315573,
          72761954,
          73206538,
          61858813,
          112669636,
          86268818,
          148559598,
          132485835,
          127637758,
          137331647,
          98977532,
          95484688
         ],
         "yaxis": "y2"
        }
       ],
       "layout": {
        "height": 600,
        "margin": {
         "b": 30,
         "l": 30,
         "r": 30,
         "t": 60
        },
        "paper_bgcolor": "LightSteelBlue",
        "showlegend": false,
        "template": {
         "data": {
          "bar": [
           {
            "error_x": {
             "color": "#2a3f5f"
            },
            "error_y": {
             "color": "#2a3f5f"
            },
            "marker": {
             "line": {
              "color": "#E5ECF6",
              "width": 0.5
             },
             "pattern": {
              "fillmode": "overlay",
              "size": 10,
              "solidity": 0.2
             }
            },
            "type": "bar"
           }
          ],
          "barpolar": [
           {
            "marker": {
             "line": {
              "color": "#E5ECF6",
              "width": 0.5
             },
             "pattern": {
              "fillmode": "overlay",
              "size": 10,
              "solidity": 0.2
             }
            },
            "type": "barpolar"
           }
          ],
          "carpet": [
           {
            "aaxis": {
             "endlinecolor": "#2a3f5f",
             "gridcolor": "white",
             "linecolor": "white",
             "minorgridcolor": "white",
             "startlinecolor": "#2a3f5f"
            },
            "baxis": {
             "endlinecolor": "#2a3f5f",
             "gridcolor": "white",
             "linecolor": "white",
             "minorgridcolor": "white",
             "startlinecolor": "#2a3f5f"
            },
            "type": "carpet"
           }
          ],
          "choropleth": [
           {
            "colorbar": {
             "outlinewidth": 0,
             "ticks": ""
            },
            "type": "choropleth"
           }
          ],
          "contour": [
           {
            "colorbar": {
             "outlinewidth": 0,
             "ticks": ""
            },
            "colorscale": [
             [
              0,
              "#0d0887"
             ],
             [
              0.1111111111111111,
              "#46039f"
             ],
             [
              0.2222222222222222,
              "#7201a8"
             ],
             [
              0.3333333333333333,
              "#9c179e"
             ],
             [
              0.4444444444444444,
              "#bd3786"
             ],
             [
              0.5555555555555556,
              "#d8576b"
             ],
             [
              0.6666666666666666,
              "#ed7953"
             ],
             [
              0.7777777777777778,
              "#fb9f3a"
             ],
             [
              0.8888888888888888,
              "#fdca26"
             ],
             [
              1,
              "#f0f921"
             ]
            ],
            "type": "contour"
           }
          ],
          "contourcarpet": [
           {
            "colorbar": {
             "outlinewidth": 0,
             "ticks": ""
            },
            "type": "contourcarpet"
           }
          ],
          "heatmap": [
           {
            "colorbar": {
             "outlinewidth": 0,
             "ticks": ""
            },
            "colorscale": [
             [
              0,
              "#0d0887"
             ],
             [
              0.1111111111111111,
              "#46039f"
             ],
             [
              0.2222222222222222,
              "#7201a8"
             ],
             [
              0.3333333333333333,
              "#9c179e"
             ],
             [
              0.4444444444444444,
              "#bd3786"
             ],
             [
              0.5555555555555556,
              "#d8576b"
             ],
             [
              0.6666666666666666,
              "#ed7953"
             ],
             [
              0.7777777777777778,
              "#fb9f3a"
             ],
             [
              0.8888888888888888,
              "#fdca26"
             ],
             [
              1,
              "#f0f921"
             ]
            ],
            "type": "heatmap"
           }
          ],
          "heatmapgl": [
           {
            "colorbar": {
             "outlinewidth": 0,
             "ticks": ""
            },
            "colorscale": [
             [
              0,
              "#0d0887"
             ],
             [
              0.1111111111111111,
              "#46039f"
             ],
             [
              0.2222222222222222,
              "#7201a8"
             ],
             [
              0.3333333333333333,
              "#9c179e"
             ],
             [
              0.4444444444444444,
              "#bd3786"
             ],
             [
              0.5555555555555556,
              "#d8576b"
             ],
             [
              0.6666666666666666,
              "#ed7953"
             ],
             [
              0.7777777777777778,
              "#fb9f3a"
             ],
             [
              0.8888888888888888,
              "#fdca26"
             ],
             [
              1,
              "#f0f921"
             ]
            ],
            "type": "heatmapgl"
           }
          ],
          "histogram": [
           {
            "marker": {
             "pattern": {
              "fillmode": "overlay",
              "size": 10,
              "solidity": 0.2
             }
            },
            "type": "histogram"
           }
          ],
          "histogram2d": [
           {
            "colorbar": {
             "outlinewidth": 0,
             "ticks": ""
            },
            "colorscale": [
             [
              0,
              "#0d0887"
             ],
             [
              0.1111111111111111,
              "#46039f"
             ],
             [
              0.2222222222222222,
              "#7201a8"
             ],
             [
              0.3333333333333333,
              "#9c179e"
             ],
             [
              0.4444444444444444,
              "#bd3786"
             ],
             [
              0.5555555555555556,
              "#d8576b"
             ],
             [
              0.6666666666666666,
              "#ed7953"
             ],
             [
              0.7777777777777778,
              "#fb9f3a"
             ],
             [
              0.8888888888888888,
              "#fdca26"
             ],
             [
              1,
              "#f0f921"
             ]
            ],
            "type": "histogram2d"
           }
          ],
          "histogram2dcontour": [
           {
            "colorbar": {
             "outlinewidth": 0,
             "ticks": ""
            },
            "colorscale": [
             [
              0,
              "#0d0887"
             ],
             [
              0.1111111111111111,
              "#46039f"
             ],
             [
              0.2222222222222222,
              "#7201a8"
             ],
             [
              0.3333333333333333,
              "#9c179e"
             ],
             [
              0.4444444444444444,
              "#bd3786"
             ],
             [
              0.5555555555555556,
              "#d8576b"
             ],
             [
              0.6666666666666666,
              "#ed7953"
             ],
             [
              0.7777777777777778,
              "#fb9f3a"
             ],
             [
              0.8888888888888888,
              "#fdca26"
             ],
             [
              1,
              "#f0f921"
             ]
            ],
            "type": "histogram2dcontour"
           }
          ],
          "mesh3d": [
           {
            "colorbar": {
             "outlinewidth": 0,
             "ticks": ""
            },
            "type": "mesh3d"
           }
          ],
          "parcoords": [
           {
            "line": {
             "colorbar": {
              "outlinewidth": 0,
              "ticks": ""
             }
            },
            "type": "parcoords"
           }
          ],
          "pie": [
           {
            "automargin": true,
            "type": "pie"
           }
          ],
          "scatter": [
           {
            "marker": {
             "colorbar": {
              "outlinewidth": 0,
              "ticks": ""
             }
            },
            "type": "scatter"
           }
          ],
          "scatter3d": [
           {
            "line": {
             "colorbar": {
              "outlinewidth": 0,
              "ticks": ""
             }
            },
            "marker": {
             "colorbar": {
              "outlinewidth": 0,
              "ticks": ""
             }
            },
            "type": "scatter3d"
           }
          ],
          "scattercarpet": [
           {
            "marker": {
             "colorbar": {
              "outlinewidth": 0,
              "ticks": ""
             }
            },
            "type": "scattercarpet"
           }
          ],
          "scattergeo": [
           {
            "marker": {
             "colorbar": {
              "outlinewidth": 0,
              "ticks": ""
             }
            },
            "type": "scattergeo"
           }
          ],
          "scattergl": [
           {
            "marker": {
             "colorbar": {
              "outlinewidth": 0,
              "ticks": ""
             }
            },
            "type": "scattergl"
           }
          ],
          "scattermapbox": [
           {
            "marker": {
             "colorbar": {
              "outlinewidth": 0,
              "ticks": ""
             }
            },
            "type": "scattermapbox"
           }
          ],
          "scatterpolar": [
           {
            "marker": {
             "colorbar": {
              "outlinewidth": 0,
              "ticks": ""
             }
            },
            "type": "scatterpolar"
           }
          ],
          "scatterpolargl": [
           {
            "marker": {
             "colorbar": {
              "outlinewidth": 0,
              "ticks": ""
             }
            },
            "type": "scatterpolargl"
           }
          ],
          "scatterternary": [
           {
            "marker": {
             "colorbar": {
              "outlinewidth": 0,
              "ticks": ""
             }
            },
            "type": "scatterternary"
           }
          ],
          "surface": [
           {
            "colorbar": {
             "outlinewidth": 0,
             "ticks": ""
            },
            "colorscale": [
             [
              0,
              "#0d0887"
             ],
             [
              0.1111111111111111,
              "#46039f"
             ],
             [
              0.2222222222222222,
              "#7201a8"
             ],
             [
              0.3333333333333333,
              "#9c179e"
             ],
             [
              0.4444444444444444,
              "#bd3786"
             ],
             [
              0.5555555555555556,
              "#d8576b"
             ],
             [
              0.6666666666666666,
              "#ed7953"
             ],
             [
              0.7777777777777778,
              "#fb9f3a"
             ],
             [
              0.8888888888888888,
              "#fdca26"
             ],
             [
              1,
              "#f0f921"
             ]
            ],
            "type": "surface"
           }
          ],
          "table": [
           {
            "cells": {
             "fill": {
              "color": "#EBF0F8"
             },
             "line": {
              "color": "white"
             }
            },
            "header": {
             "fill": {
              "color": "#C8D4E3"
             },
             "line": {
              "color": "white"
             }
            },
            "type": "table"
           }
          ]
         },
         "layout": {
          "annotationdefaults": {
           "arrowcolor": "#2a3f5f",
           "arrowhead": 0,
           "arrowwidth": 1
          },
          "autotypenumbers": "strict",
          "coloraxis": {
           "colorbar": {
            "outlinewidth": 0,
            "ticks": ""
           }
          },
          "colorscale": {
           "diverging": [
            [
             0,
             "#8e0152"
            ],
            [
             0.1,
             "#c51b7d"
            ],
            [
             0.2,
             "#de77ae"
            ],
            [
             0.3,
             "#f1b6da"
            ],
            [
             0.4,
             "#fde0ef"
            ],
            [
             0.5,
             "#f7f7f7"
            ],
            [
             0.6,
             "#e6f5d0"
            ],
            [
             0.7,
             "#b8e186"
            ],
            [
             0.8,
             "#7fbc41"
            ],
            [
             0.9,
             "#4d9221"
            ],
            [
             1,
             "#276419"
            ]
           ],
           "sequential": [
            [
             0,
             "#0d0887"
            ],
            [
             0.1111111111111111,
             "#46039f"
            ],
            [
             0.2222222222222222,
             "#7201a8"
            ],
            [
             0.3333333333333333,
             "#9c179e"
            ],
            [
             0.4444444444444444,
             "#bd3786"
            ],
            [
             0.5555555555555556,
             "#d8576b"
            ],
            [
             0.6666666666666666,
             "#ed7953"
            ],
            [
             0.7777777777777778,
             "#fb9f3a"
            ],
            [
             0.8888888888888888,
             "#fdca26"
            ],
            [
             1,
             "#f0f921"
            ]
           ],
           "sequentialminus": [
            [
             0,
             "#0d0887"
            ],
            [
             0.1111111111111111,
             "#46039f"
            ],
            [
             0.2222222222222222,
             "#7201a8"
            ],
            [
             0.3333333333333333,
             "#9c179e"
            ],
            [
             0.4444444444444444,
             "#bd3786"
            ],
            [
             0.5555555555555556,
             "#d8576b"
            ],
            [
             0.6666666666666666,
             "#ed7953"
            ],
            [
             0.7777777777777778,
             "#fb9f3a"
            ],
            [
             0.8888888888888888,
             "#fdca26"
            ],
            [
             1,
             "#f0f921"
            ]
           ]
          },
          "colorway": [
           "#636efa",
           "#EF553B",
           "#00cc96",
           "#ab63fa",
           "#FFA15A",
           "#19d3f3",
           "#FF6692",
           "#B6E880",
           "#FF97FF",
           "#FECB52"
          ],
          "font": {
           "color": "#2a3f5f"
          },
          "geo": {
           "bgcolor": "white",
           "lakecolor": "white",
           "landcolor": "#E5ECF6",
           "showlakes": true,
           "showland": true,
           "subunitcolor": "white"
          },
          "hoverlabel": {
           "align": "left"
          },
          "hovermode": "closest",
          "mapbox": {
           "style": "light"
          },
          "paper_bgcolor": "white",
          "plot_bgcolor": "#E5ECF6",
          "polar": {
           "angularaxis": {
            "gridcolor": "white",
            "linecolor": "white",
            "ticks": ""
           },
           "bgcolor": "#E5ECF6",
           "radialaxis": {
            "gridcolor": "white",
            "linecolor": "white",
            "ticks": ""
           }
          },
          "scene": {
           "xaxis": {
            "backgroundcolor": "#E5ECF6",
            "gridcolor": "white",
            "gridwidth": 2,
            "linecolor": "white",
            "showbackground": true,
            "ticks": "",
            "zerolinecolor": "white"
           },
           "yaxis": {
            "backgroundcolor": "#E5ECF6",
            "gridcolor": "white",
            "gridwidth": 2,
            "linecolor": "white",
            "showbackground": true,
            "ticks": "",
            "zerolinecolor": "white"
           },
           "zaxis": {
            "backgroundcolor": "#E5ECF6",
            "gridcolor": "white",
            "gridwidth": 2,
            "linecolor": "white",
            "showbackground": true,
            "ticks": "",
            "zerolinecolor": "white"
           }
          },
          "shapedefaults": {
           "line": {
            "color": "#2a3f5f"
           }
          },
          "ternary": {
           "aaxis": {
            "gridcolor": "white",
            "linecolor": "white",
            "ticks": ""
           },
           "baxis": {
            "gridcolor": "white",
            "linecolor": "white",
            "ticks": ""
           },
           "bgcolor": "#E5ECF6",
           "caxis": {
            "gridcolor": "white",
            "linecolor": "white",
            "ticks": ""
           }
          },
          "title": {
           "x": 0.05
          },
          "xaxis": {
           "automargin": true,
           "gridcolor": "white",
           "linecolor": "white",
           "ticks": "",
           "title": {
            "standoff": 15
           },
           "zerolinecolor": "white",
           "zerolinewidth": 2
          },
          "yaxis": {
           "automargin": true,
           "gridcolor": "white",
           "linecolor": "white",
           "ticks": "",
           "title": {
            "standoff": 15
           },
           "zerolinecolor": "white",
           "zerolinewidth": 2
          }
         }
        },
        "title": {
         "text": "SPY 2021 YTD Cumulative Return (%)",
         "x": 0.5,
         "xanchor": "center",
         "y": 0.965,
         "yanchor": "top"
        },
        "width": 1000,
        "xaxis": {
         "anchor": "y",
         "autorange": true,
         "domain": [
          0,
          1
         ],
         "matches": "x2",
         "range": [
          "2021-01-03 12:00",
          "2021-12-07 12:00"
         ],
         "rangebreaks": [
          {
           "bounds": [
            "sat",
            "mon"
           ]
          }
         ],
         "rangeslider": {
          "visible": false,
          "yaxis": {}
         },
         "showticklabels": false,
         "type": "date"
        },
        "xaxis2": {
         "anchor": "y2",
         "autorange": true,
         "domain": [
          0,
          1
         ],
         "range": [
          -0.5,
          234.5
         ],
         "rangebreaks": [
          {
           "bounds": [
            "sat",
            "mon"
           ]
          }
         ],
         "type": "linear"
        },
        "yaxis": {
         "anchor": "x",
         "autorange": true,
         "domain": [
          0.20833333333333337,
          1
         ],
         "range": [
          358.78,
          479.58000000000004
         ],
         "title": {
          "text": "Price"
         }
        },
        "yaxis2": {
         "anchor": "x2",
         "autorange": true,
         "domain": [
          0,
          0.15833333333333335
         ],
         "range": [
          0,
          193087389.47368422
         ],
         "title": {
          "text": "Volume"
         },
         "type": "linear"
        }
       }
      },
      "image/png": "[encoded data removed]",
      "text/html": [
       "<div>                            <div id=\"424f34c4-86ec-4049-bbef-5411a61f89a9\" class=\"plotly-graph-div\" style=\"height:600px; width:1000px;\"></div>            <script type=\"text/javascript\">                require([\"plotly\"], function(Plotly) {                    window.PLOTLYENV=window.PLOTLYENV || {};                                    if (document.getElementById(\"424f34c4-86ec-4049-bbef-5411a61f89a9\")) {                    Plotly.newPlot(                        \"424f34c4-86ec-4049-bbef-5411a61f89a9\",                        [{\"close\":[368.79,371.33,373.55,379.1,381.26,378.69,378.77,379.79,378.46,375.7,378.65,383.89,384.24,382.88,384.39,383.79,374.41,377.63,370.07,376.23,381.55,381.85,386.19,387.71,390.51,390.25,390.08,390.71,392.64,392.3,392.39,390.72,390.03,387.03,387.5,391.77,382.33,380.36,389.58,386.54,381.42,376.7,383.63,381.72,387.17,389.58,393.53,394.06,396.41,395.91,397.26,391.48,389.48,392.59,389.5,387.52,389.7,395.98,395.78,394.73,396.33,400.61,406.36,406.12,406.59,408.52,411.49,411.64,412.86,411.45,415.87,417.26,415.21,412.17,416.07,412.27,416.74,417.61,417.52,417.4,420.06,417.3,418.2,415.62,415.75,419.07,422.12,417.94,414.21,405.41,410.28,416.58,415.52,411.94,410.86,415.28,414.94,419.17,418.24,419.07,419.29,420.04,419.67,420.33,418.77,422.6,422.19,422.28,421.65,423.61,424.31,425.26,424.48,422.11,421.97,414.92,420.86,423.11,422.6,425.1,426.61,427.47,427.7,428.06,430.43,433.72,432.93,434.46,430.92,435.52,437.08,435.59,436.24,434.75,431.34,424.97,431.06,434.55,435.46,439.94,441.02,439.01,438.83,440.65,438.51,437.59,441.15,438.98,441.76,442.49,442.13,442.68,443.78,445.11,445.92,446.97,444.04,439.18,439.86,443.36,447.26,447.97,448.91,446.26,450.25,452.23,451.56,451.8,453.19,453.08,451.46,450.91,448.98,445.44,446.58,444.17,447.88,447.17,441.4,434.04,433.63,437.86,443.18,443.91,442.64,433.72,434.45,429.14,434.24,428.64,433.1,434.9,438.66,437.86,434.69,433.62,435.18,442.5,445.87,447.19,450.64,452.41,453.59,453.12,455.55,455.96,453.94,458.32,459.25,460.04,461.9,464.72,466.91,468.53,468.93,467.38,463.62,463.77,467.27,467.43,469.28,468.14,469.73,468.89,467.57,468.19,469.44,458.97,464.6,455.56,450.5,457.4,453.42,458.79,468.28],\"high\":[375.45,372.5,376.98,379.9,381.49,380.58,379.86,380.86,381.13,377.58,379.23,384.79,384.95,384.1256,384.77,385.85,380.32,381.93,376.67,377.34,383.22,383.7,386.24,388.47,390.56,390.89,392.28,391.69,392.9,394.17,392.66,391.515,392.38,389.62,388.945,392.23,391.88,385.58,390.92,390.07,386.83,384.0,384.76,387.68,389.91,391.4,395.65,394.21,396.685,397.83,398.12,396.72,391.569,394.07,393.46,392.75,390.55,396.41,396.75,395.45,398.0,400.67,406.94,407.24,406.96,408.58,411.67,411.93,413.529,413.96,416.16,417.91,416.74,415.0859,416.29,416.78,418.25,418.22,418.14,419.01,420.72,418.54,419.84,416.6,417.63,419.21,422.815,422.74,415.27,412.59,412.35,417.49,416.39,416.06,411.05,416.625,418.2,420.32,420.71,419.61,420.72,421.25,422.72,421.23,419.99,422.92,422.78,423.21,423.26,424.63,424.43,425.37,425.46,424.87,423.02,417.8281,421.06,424.0,424.05,425.55,427.0943,427.65,428.56,428.78,430.6,434.1,434.01,434.76,431.73,435.84,437.35,437.84,437.92,435.53,436.06,431.4089,432.42,434.7,435.72,440.3,441.03,439.94,440.3,441.8,440.06,440.93,441.28,441.1243,441.85,442.94,442.795,443.44,443.882,445.2572,445.94,447.11,444.96,444.625,441.14,443.71,448.23,448.54,449.457,448.86,450.65,453.07,452.49,453.11,454.05,453.63,452.81,451.67,452.57,451.49,448.92,448.34,448.41,448.36,445.37,436.56,437.91,440.03,444.89,444.67,444.05,440.04,437.04,436.77,436.0329,433.96,435.49,435.1199,441.68,439.89,440.26,436.1,436.05,442.66,446.26,447.55,450.71,452.732,453.829,454.67,455.9,458.49,457.16,458.4,459.56,460.7021,462.23,465.15,467.0,470.65,470.23,469.57,467.38,465.29,467.86,468.81,470.485,469.19,470.01,470.94,473.54,469.095,469.57,463.9,466.56,464.03,464.67,459.07,460.3,460.79,468.88],\"low\":[364.82,368.05,369.12,375.91,377.1,377.7189,376.36,377.85,378.1,373.7,376.75,380.69,383.25,381.835,378.46,383.54,372.01,375.89,368.27,370.376,376.3181,380.48,381.9655,386.1444,388.35,389.17,387.5,388.1,389.77,391.53,389.33,387.74,389.55,386.74,380.2,385.27,380.7789,378.23,380.572,386.0,381.31,371.88,372.64,381.42,381.7299,388.1702,391.74,391.2,392.03,395.08,393.3,390.75,387.15,389.97,388.66,387.47,383.9,390.29,392.81,393.02,395.31,398.18,403.38,405.4,405.45,406.93,408.26,410.2,411.12,410.87,413.69,415.73,413.79,410.59,411.36,411.13,412.79,416.8111,416.3,416.9,416.44,416.34,417.665,411.67,415.15,413.675,419.16,417.81,410.06,404.0,407.02,413.18,413.36,411.77,405.33,411.67,414.45,417.08,417.62,417.76,418.9851,419.79,419.2,419.29,416.28,418.8422,421.19,420.32,421.41,421.55,422.82,423.1,423.54,419.92,419.32,414.7,415.93,420.08,422.51,424.62,425.55,425.89,427.13,427.18,428.8,430.5218,430.01,431.51,427.52,430.714,434.97,435.31,434.91,432.72,430.92,421.97,424.83,431.0111,433.69,436.79,439.26,435.99,437.31,439.81,437.77,437.21,436.1,438.73,439.88,441.8,441.31,441.88,442.62,442.66,445.07,442.87,440.85,438.92,436.12,439.71,443.4355,447.42,447.77,446.16,447.06,450.71,450.92,451.545,451.91,451.55,450.7423,448.86,448.72,445.31,444.11,443.22,443.44,444.02,441.02,428.86,433.07,433.747,439.6,441.21,441.9,432.94,433.85,428.78,427.23,426.36,429.39,427.54,438.2,437.19,434.62,432.78,431.54,438.58,444.09,443.27,448.27,451.01,451.31,451.05,452.39,455.56,453.86,455.45,455.56,458.2,460.08,460.83,464.99,466.92,468.2031,465.88,462.04,463.75,464.11,466.23,467.07,467.48,466.34,468.5,467.35,464.45,465.19,457.77,461.73,455.3,450.29,450.31,448.92,453.56,458.6546],\"open\":[375.31,368.1,369.71,376.1,380.59,377.85,378.89,378.69,380.59,376.72,378.34,381.11,384.49,382.25,383.67,385.41,380.22,376.36,375.63,373.72,379.65,382.435,382.96,388.2,389.27,389.61,392.12,391.24,389.85,393.96,390.42,389.59,392.07,387.06,384.66,386.33,390.41,384.35,385.59,389.82,385.79,381.22,380.46,384.66,385.85,389.69,392.23,392.07,394.33,397.07,394.53,394.475,389.88,390.03,391.91,391.0,385.98,390.93,394.4,394.42,395.34,398.4,403.46,405.76,405.94,407.93,408.39,410.85,411.53,412.83,413.74,417.25,416.26,413.91,411.51,415.89,412.87,417.44,417.93,417.81,420.32,417.63,419.43,416.07,417.38,415.83,419.89,422.5,413.1,411.23,407.07,413.21,415.39,415.8,406.92,411.8,416.87,417.34,420.33,418.87,420.17,420.97,422.57,420.37,417.85,420.75,422.59,423.11,423.18,422.96,424.2,424.43,425.42,424.63,421.67,417.09,416.8,420.85,423.19,424.89,425.9,427.17,427.88,427.21,428.87,431.67,433.78,433.66,428.78,432.53,435.43,436.24,437.4,434.81,436.01,426.19,425.68,432.34,434.74,437.52,439.31,439.91,439.68,439.815,437.91,440.34,438.44,439.78,440.22,442.1,442.46,442.61,443.82,443.62,445.59,444.53,444.24,442.96,436.27,440.23,445.16,447.97,448.17,448.61,447.12,450.97,452.13,452.56,453.32,451.98,452.71,450.89,450.7,451.04,448.64,448.12,444.62,447.32,444.92,434.88,436.53,436.05,439.85,441.44,442.81,439.69,435.19,436.02,430.98,433.0,430.24,429.27,438.39,439.48,437.16,435.67,434.71,439.08,444.75,443.97,448.92,451.13,451.77,453.13,454.28,457.2,456.45,455.46,455.87,460.3,460.22,461.3,465.36,469.28,469.7,469.32,465.58,465.21,465.12,468.64,467.15,469.0,469.24,469.61,470.89,467.22,466.06,462.34,464.07,462.0,461.64,450.73,459.17,456.13,464.41],\"type\":\"candlestick\",\"x\":[\"2021-01-04\",\"2021-01-05\",\"2021-01-06\",\"2021-01-07\",\"2021-01-08\",\"2021-01-11\",\"2021-01-12\",\"2021-01-13\",\"2021-01-14\",\"2021-01-15\",\"2021-01-19\",\"2021-01-20\",\"2021-01-21\",\"2021-01-22\",\"2021-01-25\",\"2021-01-26\",\"2021-01-27\",\"2021-01-28\",\"2021-01-29\",\"2021-02-01\",\"2021-02-02\",\"2021-02-03\",\"2021-02-04\",\"2021-02-05\",\"2021-02-08\",\"2021-02-09\",\"2021-02-10\",\"2021-02-11\",\"2021-02-12\",\"2021-02-16\",\"2021-02-17\",\"2021-02-18\",\"2021-02-19\",\"2021-02-22\",\"2021-02-23\",\"2021-02-24\",\"2021-02-25\",\"2021-02-26\",\"2021-03-01\",\"2021-03-02\",\"2021-03-03\",\"2021-03-04\",\"2021-03-05\",\"2021-03-08\",\"2021-03-09\",\"2021-03-10\",\"2021-03-11\",\"2021-03-12\",\"2021-03-15\",\"2021-03-16\",\"2021-03-17\",\"2021-03-18\",\"2021-03-19\",\"2021-03-22\",\"2021-03-23\",\"2021-03-24\",\"2021-03-25\",\"2021-03-26\",\"2021-03-29\",\"2021-03-30\",\"2021-03-31\",\"2021-04-01\",\"2021-04-05\",\"2021-04-06\",\"2021-04-07\",\"2021-04-08\",\"2021-04-09\",\"2021-04-12\",\"2021-04-13\",\"2021-04-14\",\"2021-04-15\",\"2021-04-16\",\"2021-04-19\",\"2021-04-20\",\"2021-04-21\",\"2021-04-22\",\"2021-04-23\",\"2021-04-26\",\"2021-04-27\",\"2021-04-28\",\"2021-04-29\",\"2021-04-30\",\"2021-05-03\",\"2021-05-04\",\"2021-05-05\",\"2021-05-06\",\"2021-05-07\",\"2021-05-10\",\"2021-05-11\",\"2021-05-12\",\"2021-05-13\",\"2021-05-14\",\"2021-05-17\",\"2021-05-18\",\"2021-05-19\",\"2021-05-20\",\"2021-05-21\",\"2021-05-24\",\"2021-05-25\",\"2021-05-26\",\"2021-05-27\",\"2021-05-28\",\"2021-06-01\",\"2021-06-02\",\"2021-06-03\",\"2021-06-04\",\"2021-06-07\",\"2021-06-08\",\"2021-06-09\",\"2021-06-10\",\"2021-06-11\",\"2021-06-14\",\"2021-06-15\",\"2021-06-16\",\"2021-06-17\",\"2021-06-18\",\"2021-06-21\",\"2021-06-22\",\"2021-06-23\",\"2021-06-24\",\"2021-06-25\",\"2021-06-28\",\"2021-06-29\",\"2021-06-30\",\"2021-07-01\",\"2021-07-02\",\"2021-07-06\",\"2021-07-07\",\"2021-07-08\",\"2021-07-09\",\"2021-07-12\",\"2021-07-13\",\"2021-07-14\",\"2021-07-15\",\"2021-07-16\",\"2021-07-19\",\"2021-07-20\",\"2021-07-21\",\"2021-07-22\",\"2021-07-23\",\"2021-07-26\",\"2021-07-27\",\"2021-07-28\",\"2021-07-29\",\"2021-07-30\",\"2021-08-02\",\"2021-08-03\",\"2021-08-04\",\"2021-08-05\",\"2021-08-06\",\"2021-08-09\",\"2021-08-10\",\"2021-08-11\",\"2021-08-12\",\"2021-08-13\",\"2021-08-16\",\"2021-08-17\",\"2021-08-18\",\"2021-08-19\",\"2021-08-20\",\"2021-08-23\",\"2021-08-24\",\"2021-08-25\",\"2021-08-26\",\"2021-08-27\",\"2021-08-30\",\"2021-08-31\",\"2021-09-01\",\"2021-09-02\",\"2021-09-03\",\"2021-09-07\",\"2021-09-08\",\"2021-09-09\",\"2021-09-10\",\"2021-09-13\",\"2021-09-14\",\"2021-09-15\",\"2021-09-16\",\"2021-09-17\",\"2021-09-20\",\"2021-09-21\",\"2021-09-22\",\"2021-09-23\",\"2021-09-24\",\"2021-09-27\",\"2021-09-28\",\"2021-09-29\",\"2021-09-30\",\"2021-10-01\",\"2021-10-04\",\"2021-10-05\",\"2021-10-06\",\"2021-10-07\",\"2021-10-08\",\"2021-10-11\",\"2021-10-12\",\"2021-10-13\",\"2021-10-14\",\"2021-10-15\",\"2021-10-18\",\"2021-10-19\",\"2021-10-20\",\"2021-10-21\",\"2021-10-22\",\"2021-10-25\",\"2021-10-26\",\"2021-10-27\",\"2021-10-28\",\"2021-10-29\",\"2021-11-01\",\"2021-11-02\",\"2021-11-03\",\"2021-11-04\",\"2021-11-05\",\"2021-11-08\",\"2021-11-09\",\"2021-11-10\",\"2021-11-11\",\"2021-11-12\",\"2021-11-15\",\"2021-11-16\",\"2021-11-17\",\"2021-11-18\",\"2021-11-19\",\"2021-11-22\",\"2021-11-23\",\"2021-11-24\",\"2021-11-26\",\"2021-11-29\",\"2021-11-30\",\"2021-12-01\",\"2021-12-02\",\"2021-12-03\",\"2021-12-06\",\"2021-12-07\"],\"xaxis\":\"x\",\"yaxis\":\"y\"},{\"marker\":{\"color\":\"LightSkyBlue\"},\"type\":\"bar\",\"x\":[0,1,2,3,4,5,6,7,8,9,10,11,12,13,14,15,16,17,18,19,20,21,22,23,24,25,26,27,28,29,30,31,32,33,34,35,36,37,38,39,40,41,42,43,44,45,46,47,48,49,50,51,52,53,54,55,56,57,58,59,60,61,62,63,64,65,66,67,68,69,70,71,72,73,74,75,76,77,78,79,80,81,82,83,84,85,86,87,88,89,90,91,92,93,94,95,96,97,98,99,100,101,102,103,104,105,106,107,108,109,110,111,112,113,114,115,116,117,118,119,120,121,122,123,124,125,126,127,128,129,130,131,132,133,134,135,136,137,138,139,140,141,142,143,144,145,146,147,148,149,150,151,152,153,154,155,156,157,158,159,160,161,162,163,164,165,166,167,168,169,170,171,172,173,174,175,176,177,178,179,180,181,182,183,184,185,186,187,188,189,190,191,192,193,194,195,196,197,198,199,200,201,202,203,204,205,206,207,208,209,210,211,212,213,214,215,216,217,218,219,220,221,222,223,224,225,226,227,228,229,230,231,232,233,234],\"xaxis\":\"x2\",\"y\":[110210810,66426229,107997675,68766812,71677208,51176719,51440114,45303619,49989113,107159962,51233300,61836062,47955809,52136931,70401971,42665281,123351078,94198104,126765121,75817597,62923781,52427090,47142555,48669773,38365185,34142633,58362935,42913288,50593270,50972366,51746878,59712773,83240971,66517089,107284127,72433946,144712701,149530614,105348798,79595332,119940211,183433020,152039624,123149245,113633556,109899410,86245040,64653565,73592302,73722506,97959265,115349101,113624490,73778646,90686552,97588644,116128622,114409114,108107626,76262249,112734214,99682876,91684764,62020953,55836280,57863114,61104559,56704899,56550988,61659907,60229842,82037278,78498496,81851828,66792983,97582788,73276195,52182392,51303056,51238854,78544329,85527030,68128289,101591166,39960661,74321368,67733790,81852446,116887975,134811046,106393963,82201629,65129221,59810238,106467052,78022218,76578662,51376702,57451396,43088618,56707677,58520164,54216625,49097061,58138763,55938789,51555032,47134279,48436342,51020147,45570828,42358478,51508508,79250069,90949659,118676302,72822028,57700303,49445414,45110288,58129525,53159581,35970515,64827858,53441027,57697668,68710419,63549456,97595232,76238584,52889585,52911312,64130352,55126358,75874662,147987000,99608174,64724389,47878539,63766637,43719187,67397137,52472360,45910298,68951202,58783297,58053896,46732212,38969659,46930008,41222585,43339275,44034340,38942418,38673164,73930864,92673933,89351931,92812246,72008712,54973038,38744714,40529711,57829572,77235113,48357355,59300213,48721378,42830867,47234364,51671534,56181907,57970407,89948174,83738649,78197140,78792222,77786735,118425037,166445534,92526112,102350143,76395981,62094837,61371108,130436306,82329213,140505979,129240106,128569957,90682520,113032245,72437499,74557404,65233285,71181163,72973979,70236825,66260210,62213228,46996827,49571569,41305438,58845088,45214507,56075116,72437997,51437944,70162424,47474495,47840033,52509825,52847087,66390563,50405194,50232447,69429653,34848495,51018081,46980500,48857502,47858289,50625607,57315573,72761954,73206538,61858813,112669636,86268818,148559598,132485835,127637758,137331647,98977532,95484688],\"yaxis\":\"y2\"}],                        {\"height\":600,\"margin\":{\"b\":30,\"l\":30,\"r\":30,\"t\":60},\"paper_bgcolor\":\"LightSteelBlue\",\"showlegend\":false,\"template\":{\"data\":{\"bar\":[{\"error_x\":{\"color\":\"#2a3f5f\"},\"error_y\":{\"color\":\"#2a3f5f\"},\"marker\":{\"line\":{\"color\":\"#E5ECF6\",\"width\":0.5},\"pattern\":{\"fillmode\":\"overlay\",\"size\":10,\"solidity\":0.2}},\"type\":\"bar\"}],\"barpolar\":[{\"marker\":{\"line\":{\"color\":\"#E5ECF6\",\"width\":0.5},\"pattern\":{\"fillmode\":\"overlay\",\"size\":10,\"solidity\":0.2}},\"type\":\"barpolar\"}],\"carpet\":[{\"aaxis\":{\"endlinecolor\":\"#2a3f5f\",\"gridcolor\":\"white\",\"linecolor\":\"white\",\"minorgridcolor\":\"white\",\"startlinecolor\":\"#2a3f5f\"},\"baxis\":{\"endlinecolor\":\"#2a3f5f\",\"gridcolor\":\"white\",\"linecolor\":\"white\",\"minorgridcolor\":\"white\",\"startlinecolor\":\"#2a3f5f\"},\"type\":\"carpet\"}],\"choropleth\":[{\"colorbar\":{\"outlinewidth\":0,\"ticks\":\"\"},\"type\":\"choropleth\"}],\"contour\":[{\"colorbar\":{\"outlinewidth\":0,\"ticks\":\"\"},\"colorscale\":[[0.0,\"#0d0887\"],[0.1111111111111111,\"#46039f\"],[0.2222222222222222,\"#7201a8\"],[0.3333333333333333,\"#9c179e\"],[0.4444444444444444,\"#bd3786\"],[0.5555555555555556,\"#d8576b\"],[0.6666666666666666,\"#ed7953\"],[0.7777777777777778,\"#fb9f3a\"],[0.8888888888888888,\"#fdca26\"],[1.0,\"#f0f921\"]],\"type\":\"contour\"}],\"contourcarpet\":[{\"colorbar\":{\"outlinewidth\":0,\"ticks\":\"\"},\"type\":\"contourcarpet\"}],\"heatmap\":[{\"colorbar\":{\"outlinewidth\":0,\"ticks\":\"\"},\"colorscale\":[[0.0,\"#0d0887\"],[0.1111111111111111,\"#46039f\"],[0.2222222222222222,\"#7201a8\"],[0.3333333333333333,\"#9c179e\"],[0.4444444444444444,\"#bd3786\"],[0.5555555555555556,\"#d8576b\"],[0.6666666666666666,\"#ed7953\"],[0.7777777777777778,\"#fb9f3a\"],[0.8888888888888888,\"#fdca26\"],[1.0,\"#f0f921\"]],\"type\":\"heatmap\"}],\"heatmapgl\":[{\"colorbar\":{\"outlinewidth\":0,\"ticks\":\"\"},\"colorscale\":[[0.0,\"#0d0887\"],[0.1111111111111111,\"#46039f\"],[0.2222222222222222,\"#7201a8\"],[0.3333333333333333,\"#9c179e\"],[0.4444444444444444,\"#bd3786\"],[0.5555555555555556,\"#d8576b\"],[0.6666666666666666,\"#ed7953\"],[0.7777777777777778,\"#fb9f3a\"],[0.8888888888888888,\"#fdca26\"],[1.0,\"#f0f921\"]],\"type\":\"heatmapgl\"}],\"histogram\":[{\"marker\":{\"pattern\":{\"fillmode\":\"overlay\",\"size\":10,\"solidity\":0.2}},\"type\":\"histogram\"}],\"histogram2d\":[{\"colorbar\":{\"outlinewidth\":0,\"ticks\":\"\"},\"colorscale\":[[0.0,\"#0d0887\"],[0.1111111111111111,\"#46039f\"],[0.2222222222222222,\"#7201a8\"],[0.3333333333333333,\"#9c179e\"],[0.4444444444444444,\"#bd3786\"],[0.5555555555555556,\"#d8576b\"],[0.6666666666666666,\"#ed7953\"],[0.7777777777777778,\"#fb9f3a\"],[0.8888888888888888,\"#fdca26\"],[1.0,\"#f0f921\"]],\"type\":\"histogram2d\"}],\"histogram2dcontour\":[{\"colorbar\":{\"outlinewidth\":0,\"ticks\":\"\"},\"colorscale\":[[0.0,\"#0d0887\"],[0.1111111111111111,\"#46039f\"],[0.2222222222222222,\"#7201a8\"],[0.3333333333333333,\"#9c179e\"],[0.4444444444444444,\"#bd3786\"],[0.5555555555555556,\"#d8576b\"],[0.6666666666666666,\"#ed7953\"],[0.7777777777777778,\"#fb9f3a\"],[0.8888888888888888,\"#fdca26\"],[1.0,\"#f0f921\"]],\"type\":\"histogram2dcontour\"}],\"mesh3d\":[{\"colorbar\":{\"outlinewidth\":0,\"ticks\":\"\"},\"type\":\"mesh3d\"}],\"parcoords\":[{\"line\":{\"colorbar\":{\"outlinewidth\":0,\"ticks\":\"\"}},\"type\":\"parcoords\"}],\"pie\":[{\"automargin\":true,\"type\":\"pie\"}],\"scatter\":[{\"marker\":{\"colorbar\":{\"outlinewidth\":0,\"ticks\":\"\"}},\"type\":\"scatter\"}],\"scatter3d\":[{\"line\":{\"colorbar\":{\"outlinewidth\":0,\"ticks\":\"\"}},\"marker\":{\"colorbar\":{\"outlinewidth\":0,\"ticks\":\"\"}},\"type\":\"scatter3d\"}],\"scattercarpet\":[{\"marker\":{\"colorbar\":{\"outlinewidth\":0,\"ticks\":\"\"}},\"type\":\"scattercarpet\"}],\"scattergeo\":[{\"marker\":{\"colorbar\":{\"outlinewidth\":0,\"ticks\":\"\"}},\"type\":\"scattergeo\"}],\"scattergl\":[{\"marker\":{\"colorbar\":{\"outlinewidth\":0,\"ticks\":\"\"}},\"type\":\"scattergl\"}],\"scattermapbox\":[{\"marker\":{\"colorbar\":{\"outlinewidth\":0,\"ticks\":\"\"}},\"type\":\"scattermapbox\"}],\"scatterpolar\":[{\"marker\":{\"colorbar\":{\"outlinewidth\":0,\"ticks\":\"\"}},\"type\":\"scatterpolar\"}],\"scatterpolargl\":[{\"marker\":{\"colorbar\":{\"outlinewidth\":0,\"ticks\":\"\"}},\"type\":\"scatterpolargl\"}],\"scatterternary\":[{\"marker\":{\"colorbar\":{\"outlinewidth\":0,\"ticks\":\"\"}},\"type\":\"scatterternary\"}],\"surface\":[{\"colorbar\":{\"outlinewidth\":0,\"ticks\":\"\"},\"colorscale\":[[0.0,\"#0d0887\"],[0.1111111111111111,\"#46039f\"],[0.2222222222222222,\"#7201a8\"],[0.3333333333333333,\"#9c179e\"],[0.4444444444444444,\"#bd3786\"],[0.5555555555555556,\"#d8576b\"],[0.6666666666666666,\"#ed7953\"],[0.7777777777777778,\"#fb9f3a\"],[0.8888888888888888,\"#fdca26\"],[1.0,\"#f0f921\"]],\"type\":\"surface\"}],\"table\":[{\"cells\":{\"fill\":{\"color\":\"#EBF0F8\"},\"line\":{\"color\":\"white\"}},\"header\":{\"fill\":{\"color\":\"#C8D4E3\"},\"line\":{\"color\":\"white\"}},\"type\":\"table\"}]},\"layout\":{\"annotationdefaults\":{\"arrowcolor\":\"#2a3f5f\",\"arrowhead\":0,\"arrowwidth\":1},\"autotypenumbers\":\"strict\",\"coloraxis\":{\"colorbar\":{\"outlinewidth\":0,\"ticks\":\"\"}},\"colorscale\":{\"diverging\":[[0,\"#8e0152\"],[0.1,\"#c51b7d\"],[0.2,\"#de77ae\"],[0.3,\"#f1b6da\"],[0.4,\"#fde0ef\"],[0.5,\"#f7f7f7\"],[0.6,\"#e6f5d0\"],[0.7,\"#b8e186\"],[0.8,\"#7fbc41\"],[0.9,\"#4d9221\"],[1,\"#276419\"]],\"sequential\":[[0.0,\"#0d0887\"],[0.1111111111111111,\"#46039f\"],[0.2222222222222222,\"#7201a8\"],[0.3333333333333333,\"#9c179e\"],[0.4444444444444444,\"#bd3786\"],[0.5555555555555556,\"#d8576b\"],[0.6666666666666666,\"#ed7953\"],[0.7777777777777778,\"#fb9f3a\"],[0.8888888888888888,\"#fdca26\"],[1.0,\"#f0f921\"]],\"sequentialminus\":[[0.0,\"#0d0887\"],[0.1111111111111111,\"#46039f\"],[0.2222222222222222,\"#7201a8\"],[0.3333333333333333,\"#9c179e\"],[0.4444444444444444,\"#bd3786\"],[0.5555555555555556,\"#d8576b\"],[0.6666666666666666,\"#ed7953\"],[0.7777777777777778,\"#fb9f3a\"],[0.8888888888888888,\"#fdca26\"],[1.0,\"#f0f921\"]]},\"colorway\":[\"#636efa\",\"#EF553B\",\"#00cc96\",\"#ab63fa\",\"#FFA15A\",\"#19d3f3\",\"#FF6692\",\"#B6E880\",\"#FF97FF\",\"#FECB52\"],\"font\":{\"color\":\"#2a3f5f\"},\"geo\":{\"bgcolor\":\"white\",\"lakecolor\":\"white\",\"landcolor\":\"#E5ECF6\",\"showlakes\":true,\"showland\":true,\"subunitcolor\":\"white\"},\"hoverlabel\":{\"align\":\"left\"},\"hovermode\":\"closest\",\"mapbox\":{\"style\":\"light\"},\"paper_bgcolor\":\"white\",\"plot_bgcolor\":\"#E5ECF6\",\"polar\":{\"angularaxis\":{\"gridcolor\":\"white\",\"linecolor\":\"white\",\"ticks\":\"\"},\"bgcolor\":\"#E5ECF6\",\"radialaxis\":{\"gridcolor\":\"white\",\"linecolor\":\"white\",\"ticks\":\"\"}},\"scene\":{\"xaxis\":{\"backgroundcolor\":\"#E5ECF6\",\"gridcolor\":\"white\",\"gridwidth\":2,\"linecolor\":\"white\",\"showbackground\":true,\"ticks\":\"\",\"zerolinecolor\":\"white\"},\"yaxis\":{\"backgroundcolor\":\"#E5ECF6\",\"gridcolor\":\"white\",\"gridwidth\":2,\"linecolor\":\"white\",\"showbackground\":true,\"ticks\":\"\",\"zerolinecolor\":\"white\"},\"zaxis\":{\"backgroundcolor\":\"#E5ECF6\",\"gridcolor\":\"white\",\"gridwidth\":2,\"linecolor\":\"white\",\"showbackground\":true,\"ticks\":\"\",\"zerolinecolor\":\"white\"}},\"shapedefaults\":{\"line\":{\"color\":\"#2a3f5f\"}},\"ternary\":{\"aaxis\":{\"gridcolor\":\"white\",\"linecolor\":\"white\",\"ticks\":\"\"},\"baxis\":{\"gridcolor\":\"white\",\"linecolor\":\"white\",\"ticks\":\"\"},\"bgcolor\":\"#E5ECF6\",\"caxis\":{\"gridcolor\":\"white\",\"linecolor\":\"white\",\"ticks\":\"\"}},\"title\":{\"x\":0.05},\"xaxis\":{\"automargin\":true,\"gridcolor\":\"white\",\"linecolor\":\"white\",\"ticks\":\"\",\"title\":{\"standoff\":15},\"zerolinecolor\":\"white\",\"zerolinewidth\":2},\"yaxis\":{\"automargin\":true,\"gridcolor\":\"white\",\"linecolor\":\"white\",\"ticks\":\"\",\"title\":{\"standoff\":15},\"zerolinecolor\":\"white\",\"zerolinewidth\":2}}},\"title\":{\"text\":\"SPY 2021 YTD Cumulative Return (%)\",\"x\":0.5,\"xanchor\":\"center\",\"y\":0.965,\"yanchor\":\"top\"},\"width\":1000,\"xaxis\":{\"anchor\":\"y\",\"domain\":[0.0,1.0],\"matches\":\"x2\",\"rangebreaks\":[{\"bounds\":[\"sat\",\"mon\"]}],\"rangeslider\":{\"visible\":false},\"showticklabels\":false},\"xaxis2\":{\"anchor\":\"y2\",\"domain\":[0.0,1.0],\"rangebreaks\":[{\"bounds\":[\"sat\",\"mon\"]}]},\"yaxis\":{\"anchor\":\"x\",\"domain\":[0.20833333333333337,1.0],\"title\":{\"text\":\"Price\"}},\"yaxis2\":{\"anchor\":\"x2\",\"domain\":[0.0,0.15833333333333335],\"title\":{\"text\":\"Volume\"}}},                        {\"responsive\": true}                    ).then(function(){\n",
       "                            \n",
       "var gd = document.getElementById('424f34c4-86ec-4049-bbef-5411a61f89a9');\n",
       "var x = new MutationObserver(function (mutations, observer) {{\n",
       "        var display = window.getComputedStyle(gd).display;\n",
       "        if (!display || display === 'none') {{\n",
       "            console.log([gd, 'removed!']);\n",
       "            Plotly.purge(gd);\n",
       "            observer.disconnect();\n",
       "        }}\n",
       "}});\n",
       "\n",
       "// Listen for the removal of the full notebook cells\n",
       "var notebookContainer = gd.closest('#notebook-container');\n",
       "if (notebookContainer) {{\n",
       "    x.observe(notebookContainer, {childList: true});\n",
       "}}\n",
       "\n",
       "// Listen for the clearing of the current output cell\n",
       "var outputEl = gd.closest('.output');\n",
       "if (outputEl) {{\n",
       "    x.observe(outputEl, {childList: true});\n",
       "}}\n",
       "\n",
       "                        })                };                });            </script>        </div>"
      ]
     },
     "metadata": {},
     "output_type": "display_data"
    }
   ],
   "source": [
    "fig = make_subplots(rows=2, cols=1, shared_xaxes=True, \n",
    "                    vertical_spacing=0.05, \n",
    "                    row_heights=[0.25,0.05])\n",
    "                     \n",
    "\n",
    "fig.add_trace(go.Candlestick(x=sp_500_rets_df['timestamp'],\n",
    "                open=sp_500_rets_df['open'],\n",
    "                high=sp_500_rets_df['high'],\n",
    "                low=sp_500_rets_df['low'],\n",
    "                close=sp_500_rets_df['close']), row=1, col=1)\n",
    "fig.add_trace(go.Bar(x=sp_500_rets_df.index, \n",
    "                     y=sp_500_rets_df['volume'],\n",
    "                     marker_color = 'LightSkyBlue'\n",
    "                    ), row=2, col=1)\n",
    "fig.update_layout(\n",
    "        title={'text': f\"{ticker} 2021 YTD Cumulative Return (%)\", 'y':0.965, 'x':0.5,\n",
    "               'xanchor': 'center', 'yanchor': 'top'})\n",
    "\n",
    "fig.update_layout(height=600, width=1000, \n",
    "                  showlegend=False, \n",
    "                  xaxis_rangeslider_visible=False\n",
    "                 )\n",
    "  \n",
    "fig.update_xaxes(rangebreaks=[dict(bounds=[\"sat\", \"mon\"])])   #removes gaps in data by removing weekends(non, trading days)\n",
    "fig.update_yaxes(title_text=\"Price\", row=1, col=1)\n",
    "fig.update_yaxes(title_text=\"Volume\", row=2, col=1)\n",
    "fig.update_layout(margin=go.layout.Margin(\n",
    "        l=30, #left margin\n",
    "        r=30, #right margin\n",
    "        b=30, #bottom margin\n",
    "        t=60), #top margin     \n",
    "        paper_bgcolor=\"LightSteelBlue\"              \n",
    "    )\n",
    "fig.show()"
   ]
  },
  {
   "cell_type": "code",
   "execution_count": 27,
   "id": "ef5e28a3-ea83-4deb-8abf-fa32343851d6",
   "metadata": {},
   "outputs": [
    {
     "data": {
      "application/vnd.plotly.v1+json": {
       "config": {
        "plotlyServerURL": "https://plot.ly"
       },
       "data": [
        {
         "delta": {
          "reference": 100000,
          "relative": true,
          "valueformat": ".2%"
         },
         "domain": {
          "x": [
           0,
           1
          ],
          "y": [
           0,
           0
          ]
         },
         "mode": "number+delta",
         "number": {
          "prefix": "$"
         },
         "title": {
          "text": "$100,000 Investment SPY<br><span style='font-size:0.8em;color:gray'>2021 YTD</span><br><span style='font-size:0.8em;color:gray'>"
         },
         "type": "indicator",
         "value": 128229
        }
       ],
       "layout": {
        "autosize": true,
        "paper_bgcolor": "LightSteelBlue",
        "template": {
         "data": {
          "bar": [
           {
            "error_x": {
             "color": "#2a3f5f"
            },
            "error_y": {
             "color": "#2a3f5f"
            },
            "marker": {
             "line": {
              "color": "#E5ECF6",
              "width": 0.5
             },
             "pattern": {
              "fillmode": "overlay",
              "size": 10,
              "solidity": 0.2
             }
            },
            "type": "bar"
           }
          ],
          "barpolar": [
           {
            "marker": {
             "line": {
              "color": "#E5ECF6",
              "width": 0.5
             },
             "pattern": {
              "fillmode": "overlay",
              "size": 10,
              "solidity": 0.2
             }
            },
            "type": "barpolar"
           }
          ],
          "carpet": [
           {
            "aaxis": {
             "endlinecolor": "#2a3f5f",
             "gridcolor": "white",
             "linecolor": "white",
             "minorgridcolor": "white",
             "startlinecolor": "#2a3f5f"
            },
            "baxis": {
             "endlinecolor": "#2a3f5f",
             "gridcolor": "white",
             "linecolor": "white",
             "minorgridcolor": "white",
             "startlinecolor": "#2a3f5f"
            },
            "type": "carpet"
           }
          ],
          "choropleth": [
           {
            "colorbar": {
             "outlinewidth": 0,
             "ticks": ""
            },
            "type": "choropleth"
           }
          ],
          "contour": [
           {
            "colorbar": {
             "outlinewidth": 0,
             "ticks": ""
            },
            "colorscale": [
             [
              0,
              "#0d0887"
             ],
             [
              0.1111111111111111,
              "#46039f"
             ],
             [
              0.2222222222222222,
              "#7201a8"
             ],
             [
              0.3333333333333333,
              "#9c179e"
             ],
             [
              0.4444444444444444,
              "#bd3786"
             ],
             [
              0.5555555555555556,
              "#d8576b"
             ],
             [
              0.6666666666666666,
              "#ed7953"
             ],
             [
              0.7777777777777778,
              "#fb9f3a"
             ],
             [
              0.8888888888888888,
              "#fdca26"
             ],
             [
              1,
              "#f0f921"
             ]
            ],
            "type": "contour"
           }
          ],
          "contourcarpet": [
           {
            "colorbar": {
             "outlinewidth": 0,
             "ticks": ""
            },
            "type": "contourcarpet"
           }
          ],
          "heatmap": [
           {
            "colorbar": {
             "outlinewidth": 0,
             "ticks": ""
            },
            "colorscale": [
             [
              0,
              "#0d0887"
             ],
             [
              0.1111111111111111,
              "#46039f"
             ],
             [
              0.2222222222222222,
              "#7201a8"
             ],
             [
              0.3333333333333333,
              "#9c179e"
             ],
             [
              0.4444444444444444,
              "#bd3786"
             ],
             [
              0.5555555555555556,
              "#d8576b"
             ],
             [
              0.6666666666666666,
              "#ed7953"
             ],
             [
              0.7777777777777778,
              "#fb9f3a"
             ],
             [
              0.8888888888888888,
              "#fdca26"
             ],
             [
              1,
              "#f0f921"
             ]
            ],
            "type": "heatmap"
           }
          ],
          "heatmapgl": [
           {
            "colorbar": {
             "outlinewidth": 0,
             "ticks": ""
            },
            "colorscale": [
             [
              0,
              "#0d0887"
             ],
             [
              0.1111111111111111,
              "#46039f"
             ],
             [
              0.2222222222222222,
              "#7201a8"
             ],
             [
              0.3333333333333333,
              "#9c179e"
             ],
             [
              0.4444444444444444,
              "#bd3786"
             ],
             [
              0.5555555555555556,
              "#d8576b"
             ],
             [
              0.6666666666666666,
              "#ed7953"
             ],
             [
              0.7777777777777778,
              "#fb9f3a"
             ],
             [
              0.8888888888888888,
              "#fdca26"
             ],
             [
              1,
              "#f0f921"
             ]
            ],
            "type": "heatmapgl"
           }
          ],
          "histogram": [
           {
            "marker": {
             "pattern": {
              "fillmode": "overlay",
              "size": 10,
              "solidity": 0.2
             }
            },
            "type": "histogram"
           }
          ],
          "histogram2d": [
           {
            "colorbar": {
             "outlinewidth": 0,
             "ticks": ""
            },
            "colorscale": [
             [
              0,
              "#0d0887"
             ],
             [
              0.1111111111111111,
              "#46039f"
             ],
             [
              0.2222222222222222,
              "#7201a8"
             ],
             [
              0.3333333333333333,
              "#9c179e"
             ],
             [
              0.4444444444444444,
              "#bd3786"
             ],
             [
              0.5555555555555556,
              "#d8576b"
             ],
             [
              0.6666666666666666,
              "#ed7953"
             ],
             [
              0.7777777777777778,
              "#fb9f3a"
             ],
             [
              0.8888888888888888,
              "#fdca26"
             ],
             [
              1,
              "#f0f921"
             ]
            ],
            "type": "histogram2d"
           }
          ],
          "histogram2dcontour": [
           {
            "colorbar": {
             "outlinewidth": 0,
             "ticks": ""
            },
            "colorscale": [
             [
              0,
              "#0d0887"
             ],
             [
              0.1111111111111111,
              "#46039f"
             ],
             [
              0.2222222222222222,
              "#7201a8"
             ],
             [
              0.3333333333333333,
              "#9c179e"
             ],
             [
              0.4444444444444444,
              "#bd3786"
             ],
             [
              0.5555555555555556,
              "#d8576b"
             ],
             [
              0.6666666666666666,
              "#ed7953"
             ],
             [
              0.7777777777777778,
              "#fb9f3a"
             ],
             [
              0.8888888888888888,
              "#fdca26"
             ],
             [
              1,
              "#f0f921"
             ]
            ],
            "type": "histogram2dcontour"
           }
          ],
          "mesh3d": [
           {
            "colorbar": {
             "outlinewidth": 0,
             "ticks": ""
            },
            "type": "mesh3d"
           }
          ],
          "parcoords": [
           {
            "line": {
             "colorbar": {
              "outlinewidth": 0,
              "ticks": ""
             }
            },
            "type": "parcoords"
           }
          ],
          "pie": [
           {
            "automargin": true,
            "type": "pie"
           }
          ],
          "scatter": [
           {
            "marker": {
             "colorbar": {
              "outlinewidth": 0,
              "ticks": ""
             }
            },
            "type": "scatter"
           }
          ],
          "scatter3d": [
           {
            "line": {
             "colorbar": {
              "outlinewidth": 0,
              "ticks": ""
             }
            },
            "marker": {
             "colorbar": {
              "outlinewidth": 0,
              "ticks": ""
             }
            },
            "type": "scatter3d"
           }
          ],
          "scattercarpet": [
           {
            "marker": {
             "colorbar": {
              "outlinewidth": 0,
              "ticks": ""
             }
            },
            "type": "scattercarpet"
           }
          ],
          "scattergeo": [
           {
            "marker": {
             "colorbar": {
              "outlinewidth": 0,
              "ticks": ""
             }
            },
            "type": "scattergeo"
           }
          ],
          "scattergl": [
           {
            "marker": {
             "colorbar": {
              "outlinewidth": 0,
              "ticks": ""
             }
            },
            "type": "scattergl"
           }
          ],
          "scattermapbox": [
           {
            "marker": {
             "colorbar": {
              "outlinewidth": 0,
              "ticks": ""
             }
            },
            "type": "scattermapbox"
           }
          ],
          "scatterpolar": [
           {
            "marker": {
             "colorbar": {
              "outlinewidth": 0,
              "ticks": ""
             }
            },
            "type": "scatterpolar"
           }
          ],
          "scatterpolargl": [
           {
            "marker": {
             "colorbar": {
              "outlinewidth": 0,
              "ticks": ""
             }
            },
            "type": "scatterpolargl"
           }
          ],
          "scatterternary": [
           {
            "marker": {
             "colorbar": {
              "outlinewidth": 0,
              "ticks": ""
             }
            },
            "type": "scatterternary"
           }
          ],
          "surface": [
           {
            "colorbar": {
             "outlinewidth": 0,
             "ticks": ""
            },
            "colorscale": [
             [
              0,
              "#0d0887"
             ],
             [
              0.1111111111111111,
              "#46039f"
             ],
             [
              0.2222222222222222,
              "#7201a8"
             ],
             [
              0.3333333333333333,
              "#9c179e"
             ],
             [
              0.4444444444444444,
              "#bd3786"
             ],
             [
              0.5555555555555556,
              "#d8576b"
             ],
             [
              0.6666666666666666,
              "#ed7953"
             ],
             [
              0.7777777777777778,
              "#fb9f3a"
             ],
             [
              0.8888888888888888,
              "#fdca26"
             ],
             [
              1,
              "#f0f921"
             ]
            ],
            "type": "surface"
           }
          ],
          "table": [
           {
            "cells": {
             "fill": {
              "color": "#EBF0F8"
             },
             "line": {
              "color": "white"
             }
            },
            "header": {
             "fill": {
              "color": "#C8D4E3"
             },
             "line": {
              "color": "white"
             }
            },
            "type": "table"
           }
          ]
         },
         "layout": {
          "annotationdefaults": {
           "arrowcolor": "#2a3f5f",
           "arrowhead": 0,
           "arrowwidth": 1
          },
          "autotypenumbers": "strict",
          "coloraxis": {
           "colorbar": {
            "outlinewidth": 0,
            "ticks": ""
           }
          },
          "colorscale": {
           "diverging": [
            [
             0,
             "#8e0152"
            ],
            [
             0.1,
             "#c51b7d"
            ],
            [
             0.2,
             "#de77ae"
            ],
            [
             0.3,
             "#f1b6da"
            ],
            [
             0.4,
             "#fde0ef"
            ],
            [
             0.5,
             "#f7f7f7"
            ],
            [
             0.6,
             "#e6f5d0"
            ],
            [
             0.7,
             "#b8e186"
            ],
            [
             0.8,
             "#7fbc41"
            ],
            [
             0.9,
             "#4d9221"
            ],
            [
             1,
             "#276419"
            ]
           ],
           "sequential": [
            [
             0,
             "#0d0887"
            ],
            [
             0.1111111111111111,
             "#46039f"
            ],
            [
             0.2222222222222222,
             "#7201a8"
            ],
            [
             0.3333333333333333,
             "#9c179e"
            ],
            [
             0.4444444444444444,
             "#bd3786"
            ],
            [
             0.5555555555555556,
             "#d8576b"
            ],
            [
             0.6666666666666666,
             "#ed7953"
            ],
            [
             0.7777777777777778,
             "#fb9f3a"
            ],
            [
             0.8888888888888888,
             "#fdca26"
            ],
            [
             1,
             "#f0f921"
            ]
           ],
           "sequentialminus": [
            [
             0,
             "#0d0887"
            ],
            [
             0.1111111111111111,
             "#46039f"
            ],
            [
             0.2222222222222222,
             "#7201a8"
            ],
            [
             0.3333333333333333,
             "#9c179e"
            ],
            [
             0.4444444444444444,
             "#bd3786"
            ],
            [
             0.5555555555555556,
             "#d8576b"
            ],
            [
             0.6666666666666666,
             "#ed7953"
            ],
            [
             0.7777777777777778,
             "#fb9f3a"
            ],
            [
             0.8888888888888888,
             "#fdca26"
            ],
            [
             1,
             "#f0f921"
            ]
           ]
          },
          "colorway": [
           "#636efa",
           "#EF553B",
           "#00cc96",
           "#ab63fa",
           "#FFA15A",
           "#19d3f3",
           "#FF6692",
           "#B6E880",
           "#FF97FF",
           "#FECB52"
          ],
          "font": {
           "color": "#2a3f5f"
          },
          "geo": {
           "bgcolor": "white",
           "lakecolor": "white",
           "landcolor": "#E5ECF6",
           "showlakes": true,
           "showland": true,
           "subunitcolor": "white"
          },
          "hoverlabel": {
           "align": "left"
          },
          "hovermode": "closest",
          "mapbox": {
           "style": "light"
          },
          "paper_bgcolor": "white",
          "plot_bgcolor": "#E5ECF6",
          "polar": {
           "angularaxis": {
            "gridcolor": "white",
            "linecolor": "white",
            "ticks": ""
           },
           "bgcolor": "#E5ECF6",
           "radialaxis": {
            "gridcolor": "white",
            "linecolor": "white",
            "ticks": ""
           }
          },
          "scene": {
           "xaxis": {
            "backgroundcolor": "#E5ECF6",
            "gridcolor": "white",
            "gridwidth": 2,
            "linecolor": "white",
            "showbackground": true,
            "ticks": "",
            "zerolinecolor": "white"
           },
           "yaxis": {
            "backgroundcolor": "#E5ECF6",
            "gridcolor": "white",
            "gridwidth": 2,
            "linecolor": "white",
            "showbackground": true,
            "ticks": "",
            "zerolinecolor": "white"
           },
           "zaxis": {
            "backgroundcolor": "#E5ECF6",
            "gridcolor": "white",
            "gridwidth": 2,
            "linecolor": "white",
            "showbackground": true,
            "ticks": "",
            "zerolinecolor": "white"
           }
          },
          "shapedefaults": {
           "line": {
            "color": "#2a3f5f"
           }
          },
          "ternary": {
           "aaxis": {
            "gridcolor": "white",
            "linecolor": "white",
            "ticks": ""
           },
           "baxis": {
            "gridcolor": "white",
            "linecolor": "white",
            "ticks": ""
           },
           "bgcolor": "#E5ECF6",
           "caxis": {
            "gridcolor": "white",
            "linecolor": "white",
            "ticks": ""
           }
          },
          "title": {
           "x": 0.05
          },
          "xaxis": {
           "automargin": true,
           "gridcolor": "white",
           "linecolor": "white",
           "ticks": "",
           "title": {
            "standoff": 15
           },
           "zerolinecolor": "white",
           "zerolinewidth": 2
          },
          "yaxis": {
           "automargin": true,
           "gridcolor": "white",
           "linecolor": "white",
           "ticks": "",
           "title": {
            "standoff": 15
           },
           "zerolinecolor": "white",
           "zerolinewidth": 2
          }
         }
        }
       }
      },
      "image/png": "[encoded data removed]",
      "text/html": [
       "<div>                            <div id=\"0a184d59-4698-4add-9f43-c12bcb958623\" class=\"plotly-graph-div\" style=\"height:525px; width:100%;\"></div>            <script type=\"text/javascript\">                require([\"plotly\"], function(Plotly) {                    window.PLOTLYENV=window.PLOTLYENV || {};                                    if (document.getElementById(\"0a184d59-4698-4add-9f43-c12bcb958623\")) {                    Plotly.newPlot(                        \"0a184d59-4698-4add-9f43-c12bcb958623\",                        [{\"delta\":{\"reference\":100000,\"relative\":true,\"valueformat\":\".2%\"},\"domain\":{\"x\":[0,1],\"y\":[0,0]},\"mode\":\"number+delta\",\"number\":{\"prefix\":\"$\"},\"title\":{\"text\":\"$100,000 Investment SPY<br><span style='font-size:0.8em;color:gray'>2021 YTD</span><br><span style='font-size:0.8em;color:gray'>\"},\"type\":\"indicator\",\"value\":128229}],                        {\"paper_bgcolor\":\"LightSteelBlue\",\"template\":{\"data\":{\"bar\":[{\"error_x\":{\"color\":\"#2a3f5f\"},\"error_y\":{\"color\":\"#2a3f5f\"},\"marker\":{\"line\":{\"color\":\"#E5ECF6\",\"width\":0.5},\"pattern\":{\"fillmode\":\"overlay\",\"size\":10,\"solidity\":0.2}},\"type\":\"bar\"}],\"barpolar\":[{\"marker\":{\"line\":{\"color\":\"#E5ECF6\",\"width\":0.5},\"pattern\":{\"fillmode\":\"overlay\",\"size\":10,\"solidity\":0.2}},\"type\":\"barpolar\"}],\"carpet\":[{\"aaxis\":{\"endlinecolor\":\"#2a3f5f\",\"gridcolor\":\"white\",\"linecolor\":\"white\",\"minorgridcolor\":\"white\",\"startlinecolor\":\"#2a3f5f\"},\"baxis\":{\"endlinecolor\":\"#2a3f5f\",\"gridcolor\":\"white\",\"linecolor\":\"white\",\"minorgridcolor\":\"white\",\"startlinecolor\":\"#2a3f5f\"},\"type\":\"carpet\"}],\"choropleth\":[{\"colorbar\":{\"outlinewidth\":0,\"ticks\":\"\"},\"type\":\"choropleth\"}],\"contour\":[{\"colorbar\":{\"outlinewidth\":0,\"ticks\":\"\"},\"colorscale\":[[0.0,\"#0d0887\"],[0.1111111111111111,\"#46039f\"],[0.2222222222222222,\"#7201a8\"],[0.3333333333333333,\"#9c179e\"],[0.4444444444444444,\"#bd3786\"],[0.5555555555555556,\"#d8576b\"],[0.6666666666666666,\"#ed7953\"],[0.7777777777777778,\"#fb9f3a\"],[0.8888888888888888,\"#fdca26\"],[1.0,\"#f0f921\"]],\"type\":\"contour\"}],\"contourcarpet\":[{\"colorbar\":{\"outlinewidth\":0,\"ticks\":\"\"},\"type\":\"contourcarpet\"}],\"heatmap\":[{\"colorbar\":{\"outlinewidth\":0,\"ticks\":\"\"},\"colorscale\":[[0.0,\"#0d0887\"],[0.1111111111111111,\"#46039f\"],[0.2222222222222222,\"#7201a8\"],[0.3333333333333333,\"#9c179e\"],[0.4444444444444444,\"#bd3786\"],[0.5555555555555556,\"#d8576b\"],[0.6666666666666666,\"#ed7953\"],[0.7777777777777778,\"#fb9f3a\"],[0.8888888888888888,\"#fdca26\"],[1.0,\"#f0f921\"]],\"type\":\"heatmap\"}],\"heatmapgl\":[{\"colorbar\":{\"outlinewidth\":0,\"ticks\":\"\"},\"colorscale\":[[0.0,\"#0d0887\"],[0.1111111111111111,\"#46039f\"],[0.2222222222222222,\"#7201a8\"],[0.3333333333333333,\"#9c179e\"],[0.4444444444444444,\"#bd3786\"],[0.5555555555555556,\"#d8576b\"],[0.6666666666666666,\"#ed7953\"],[0.7777777777777778,\"#fb9f3a\"],[0.8888888888888888,\"#fdca26\"],[1.0,\"#f0f921\"]],\"type\":\"heatmapgl\"}],\"histogram\":[{\"marker\":{\"pattern\":{\"fillmode\":\"overlay\",\"size\":10,\"solidity\":0.2}},\"type\":\"histogram\"}],\"histogram2d\":[{\"colorbar\":{\"outlinewidth\":0,\"ticks\":\"\"},\"colorscale\":[[0.0,\"#0d0887\"],[0.1111111111111111,\"#46039f\"],[0.2222222222222222,\"#7201a8\"],[0.3333333333333333,\"#9c179e\"],[0.4444444444444444,\"#bd3786\"],[0.5555555555555556,\"#d8576b\"],[0.6666666666666666,\"#ed7953\"],[0.7777777777777778,\"#fb9f3a\"],[0.8888888888888888,\"#fdca26\"],[1.0,\"#f0f921\"]],\"type\":\"histogram2d\"}],\"histogram2dcontour\":[{\"colorbar\":{\"outlinewidth\":0,\"ticks\":\"\"},\"colorscale\":[[0.0,\"#0d0887\"],[0.1111111111111111,\"#46039f\"],[0.2222222222222222,\"#7201a8\"],[0.3333333333333333,\"#9c179e\"],[0.4444444444444444,\"#bd3786\"],[0.5555555555555556,\"#d8576b\"],[0.6666666666666666,\"#ed7953\"],[0.7777777777777778,\"#fb9f3a\"],[0.8888888888888888,\"#fdca26\"],[1.0,\"#f0f921\"]],\"type\":\"histogram2dcontour\"}],\"mesh3d\":[{\"colorbar\":{\"outlinewidth\":0,\"ticks\":\"\"},\"type\":\"mesh3d\"}],\"parcoords\":[{\"line\":{\"colorbar\":{\"outlinewidth\":0,\"ticks\":\"\"}},\"type\":\"parcoords\"}],\"pie\":[{\"automargin\":true,\"type\":\"pie\"}],\"scatter\":[{\"marker\":{\"colorbar\":{\"outlinewidth\":0,\"ticks\":\"\"}},\"type\":\"scatter\"}],\"scatter3d\":[{\"line\":{\"colorbar\":{\"outlinewidth\":0,\"ticks\":\"\"}},\"marker\":{\"colorbar\":{\"outlinewidth\":0,\"ticks\":\"\"}},\"type\":\"scatter3d\"}],\"scattercarpet\":[{\"marker\":{\"colorbar\":{\"outlinewidth\":0,\"ticks\":\"\"}},\"type\":\"scattercarpet\"}],\"scattergeo\":[{\"marker\":{\"colorbar\":{\"outlinewidth\":0,\"ticks\":\"\"}},\"type\":\"scattergeo\"}],\"scattergl\":[{\"marker\":{\"colorbar\":{\"outlinewidth\":0,\"ticks\":\"\"}},\"type\":\"scattergl\"}],\"scattermapbox\":[{\"marker\":{\"colorbar\":{\"outlinewidth\":0,\"ticks\":\"\"}},\"type\":\"scattermapbox\"}],\"scatterpolar\":[{\"marker\":{\"colorbar\":{\"outlinewidth\":0,\"ticks\":\"\"}},\"type\":\"scatterpolar\"}],\"scatterpolargl\":[{\"marker\":{\"colorbar\":{\"outlinewidth\":0,\"ticks\":\"\"}},\"type\":\"scatterpolargl\"}],\"scatterternary\":[{\"marker\":{\"colorbar\":{\"outlinewidth\":0,\"ticks\":\"\"}},\"type\":\"scatterternary\"}],\"surface\":[{\"colorbar\":{\"outlinewidth\":0,\"ticks\":\"\"},\"colorscale\":[[0.0,\"#0d0887\"],[0.1111111111111111,\"#46039f\"],[0.2222222222222222,\"#7201a8\"],[0.3333333333333333,\"#9c179e\"],[0.4444444444444444,\"#bd3786\"],[0.5555555555555556,\"#d8576b\"],[0.6666666666666666,\"#ed7953\"],[0.7777777777777778,\"#fb9f3a\"],[0.8888888888888888,\"#fdca26\"],[1.0,\"#f0f921\"]],\"type\":\"surface\"}],\"table\":[{\"cells\":{\"fill\":{\"color\":\"#EBF0F8\"},\"line\":{\"color\":\"white\"}},\"header\":{\"fill\":{\"color\":\"#C8D4E3\"},\"line\":{\"color\":\"white\"}},\"type\":\"table\"}]},\"layout\":{\"annotationdefaults\":{\"arrowcolor\":\"#2a3f5f\",\"arrowhead\":0,\"arrowwidth\":1},\"autotypenumbers\":\"strict\",\"coloraxis\":{\"colorbar\":{\"outlinewidth\":0,\"ticks\":\"\"}},\"colorscale\":{\"diverging\":[[0,\"#8e0152\"],[0.1,\"#c51b7d\"],[0.2,\"#de77ae\"],[0.3,\"#f1b6da\"],[0.4,\"#fde0ef\"],[0.5,\"#f7f7f7\"],[0.6,\"#e6f5d0\"],[0.7,\"#b8e186\"],[0.8,\"#7fbc41\"],[0.9,\"#4d9221\"],[1,\"#276419\"]],\"sequential\":[[0.0,\"#0d0887\"],[0.1111111111111111,\"#46039f\"],[0.2222222222222222,\"#7201a8\"],[0.3333333333333333,\"#9c179e\"],[0.4444444444444444,\"#bd3786\"],[0.5555555555555556,\"#d8576b\"],[0.6666666666666666,\"#ed7953\"],[0.7777777777777778,\"#fb9f3a\"],[0.8888888888888888,\"#fdca26\"],[1.0,\"#f0f921\"]],\"sequentialminus\":[[0.0,\"#0d0887\"],[0.1111111111111111,\"#46039f\"],[0.2222222222222222,\"#7201a8\"],[0.3333333333333333,\"#9c179e\"],[0.4444444444444444,\"#bd3786\"],[0.5555555555555556,\"#d8576b\"],[0.6666666666666666,\"#ed7953\"],[0.7777777777777778,\"#fb9f3a\"],[0.8888888888888888,\"#fdca26\"],[1.0,\"#f0f921\"]]},\"colorway\":[\"#636efa\",\"#EF553B\",\"#00cc96\",\"#ab63fa\",\"#FFA15A\",\"#19d3f3\",\"#FF6692\",\"#B6E880\",\"#FF97FF\",\"#FECB52\"],\"font\":{\"color\":\"#2a3f5f\"},\"geo\":{\"bgcolor\":\"white\",\"lakecolor\":\"white\",\"landcolor\":\"#E5ECF6\",\"showlakes\":true,\"showland\":true,\"subunitcolor\":\"white\"},\"hoverlabel\":{\"align\":\"left\"},\"hovermode\":\"closest\",\"mapbox\":{\"style\":\"light\"},\"paper_bgcolor\":\"white\",\"plot_bgcolor\":\"#E5ECF6\",\"polar\":{\"angularaxis\":{\"gridcolor\":\"white\",\"linecolor\":\"white\",\"ticks\":\"\"},\"bgcolor\":\"#E5ECF6\",\"radialaxis\":{\"gridcolor\":\"white\",\"linecolor\":\"white\",\"ticks\":\"\"}},\"scene\":{\"xaxis\":{\"backgroundcolor\":\"#E5ECF6\",\"gridcolor\":\"white\",\"gridwidth\":2,\"linecolor\":\"white\",\"showbackground\":true,\"ticks\":\"\",\"zerolinecolor\":\"white\"},\"yaxis\":{\"backgroundcolor\":\"#E5ECF6\",\"gridcolor\":\"white\",\"gridwidth\":2,\"linecolor\":\"white\",\"showbackground\":true,\"ticks\":\"\",\"zerolinecolor\":\"white\"},\"zaxis\":{\"backgroundcolor\":\"#E5ECF6\",\"gridcolor\":\"white\",\"gridwidth\":2,\"linecolor\":\"white\",\"showbackground\":true,\"ticks\":\"\",\"zerolinecolor\":\"white\"}},\"shapedefaults\":{\"line\":{\"color\":\"#2a3f5f\"}},\"ternary\":{\"aaxis\":{\"gridcolor\":\"white\",\"linecolor\":\"white\",\"ticks\":\"\"},\"baxis\":{\"gridcolor\":\"white\",\"linecolor\":\"white\",\"ticks\":\"\"},\"bgcolor\":\"#E5ECF6\",\"caxis\":{\"gridcolor\":\"white\",\"linecolor\":\"white\",\"ticks\":\"\"}},\"title\":{\"x\":0.05},\"xaxis\":{\"automargin\":true,\"gridcolor\":\"white\",\"linecolor\":\"white\",\"ticks\":\"\",\"title\":{\"standoff\":15},\"zerolinecolor\":\"white\",\"zerolinewidth\":2},\"yaxis\":{\"automargin\":true,\"gridcolor\":\"white\",\"linecolor\":\"white\",\"ticks\":\"\",\"title\":{\"standoff\":15},\"zerolinecolor\":\"white\",\"zerolinewidth\":2}}}},                        {\"responsive\": true}                    ).then(function(){\n",
       "                            \n",
       "var gd = document.getElementById('0a184d59-4698-4add-9f43-c12bcb958623');\n",
       "var x = new MutationObserver(function (mutations, observer) {{\n",
       "        var display = window.getComputedStyle(gd).display;\n",
       "        if (!display || display === 'none') {{\n",
       "            console.log([gd, 'removed!']);\n",
       "            Plotly.purge(gd);\n",
       "            observer.disconnect();\n",
       "        }}\n",
       "}});\n",
       "\n",
       "// Listen for the removal of the full notebook cells\n",
       "var notebookContainer = gd.closest('#notebook-container');\n",
       "if (notebookContainer) {{\n",
       "    x.observe(notebookContainer, {childList: true});\n",
       "}}\n",
       "\n",
       "// Listen for the clearing of the current output cell\n",
       "var outputEl = gd.closest('.output');\n",
       "if (outputEl) {{\n",
       "    x.observe(outputEl, {childList: true});\n",
       "}}\n",
       "\n",
       "                        })                };                });            </script>        </div>"
      ]
     },
     "metadata": {},
     "output_type": "display_data"
    }
   ],
   "source": [
    "fig = go.Figure()\n",
    "\n",
    "fig.add_trace(go.Indicator(\n",
    "    mode = \"number+delta\",\n",
    "    value = 128_229,\n",
    "    title = {\"text\": \"$100,000 Investment SPY<br><span style='font-size:0.8em;color:gray'>2021 YTD</span><br><span style='font-size:0.8em;color:gray'>\"},\n",
    "    delta = {'reference': 100_000, 'relative': True, 'valueformat':'.2%'},\n",
    "    number = {'prefix': \"$\"},\n",
    "    domain = {'x': [0, 1], 'y': [0, 0]}))\n",
    "fig.update_layout(paper_bgcolor=\"LightSteelBlue\")\n",
    "fig.show()"
   ]
  },
  {
   "cell_type": "markdown",
   "id": "8a5136d3-f436-4935-af8f-0e35ed78dcc1",
   "metadata": {
    "tags": []
   },
   "source": [
    "### Function to Plot Cumulative Returns for Two or More Tickers"
   ]
  },
  {
   "cell_type": "code",
   "execution_count": null,
   "id": "09cc8f6f-210a-40e9-b438-f1fcc0fe8f05",
   "metadata": {},
   "outputs": [],
   "source": [
    "def ticker_comp(ticker1, ticker2, start_date, end_date):\n",
    "    "
   ]
  },
  {
   "cell_type": "code",
   "execution_count": null,
   "id": "a3e3e8db-3133-4d05-bec4-564097a6b2f3",
   "metadata": {},
   "outputs": [],
   "source": []
  },
  {
   "cell_type": "code",
   "execution_count": null,
   "id": "84aa37ea-cfc0-4cc2-82de-0a1d631c4cc8",
   "metadata": {},
   "outputs": [],
   "source": []
  },
  {
   "cell_type": "code",
   "execution_count": null,
   "id": "429241cf-ca6e-40f2-98e6-012ffc3c8bfc",
   "metadata": {},
   "outputs": [],
   "source": []
  },
  {
   "cell_type": "code",
   "execution_count": null,
   "id": "482f523a-fb56-4d6d-bcf1-fc851535ed8a",
   "metadata": {},
   "outputs": [],
   "source": []
  },
  {
   "cell_type": "code",
   "execution_count": null,
   "id": "7db9dd88-4eda-4e4f-bd0f-4dad096ca07e",
   "metadata": {},
   "outputs": [],
   "source": []
  },
  {
   "cell_type": "code",
   "execution_count": null,
   "id": "5161ebb9-66ab-4ec9-9494-de3a367e69eb",
   "metadata": {},
   "outputs": [],
   "source": []
  },
  {
   "cell_type": "code",
   "execution_count": null,
   "id": "cb5e9bb8-d198-4890-92f4-3d664bb9abfc",
   "metadata": {},
   "outputs": [],
   "source": []
  },
  {
   "cell_type": "markdown",
   "id": "7a974a55-80fd-46c2-b222-2b36cb39d0ed",
   "metadata": {},
   "source": [
    "### Plotting WSB Portfolio Return YTD "
   ]
  },
  {
   "cell_type": "code",
   "execution_count": null,
   "id": "63c4434a-7ebc-4001-bae8-16b51b782dec",
   "metadata": {},
   "outputs": [],
   "source": []
  },
  {
   "cell_type": "code",
   "execution_count": null,
   "id": "6aa5beef-1123-4cd8-8523-8e6fd356de5d",
   "metadata": {},
   "outputs": [],
   "source": []
  },
  {
   "cell_type": "code",
   "execution_count": null,
   "id": "ac956812-971c-426b-bb1e-63dfa6c84ae9",
   "metadata": {},
   "outputs": [],
   "source": []
  },
  {
   "cell_type": "code",
   "execution_count": null,
   "id": "b969c55d-0f84-4c36-8dca-dc7ef16ff41f",
   "metadata": {},
   "outputs": [],
   "source": []
  },
  {
   "cell_type": "code",
   "execution_count": null,
   "id": "6b891149-5225-4be9-90a4-075ccaaea9ee",
   "metadata": {},
   "outputs": [],
   "source": []
  },
  {
   "cell_type": "code",
   "execution_count": null,
   "id": "8579eece-b6ad-43ba-a9f2-eff73507dd0b",
   "metadata": {},
   "outputs": [],
   "source": []
  },
  {
   "cell_type": "code",
   "execution_count": null,
   "id": "0e7df218-0d1a-4c1c-8d5c-37321ed4bdaa",
   "metadata": {},
   "outputs": [],
   "source": []
  }
 ],
 "metadata": {
  "kernelspec": {
   "display_name": "Python 3 (ipykernel)",
   "language": "python",
   "name": "python3"
  },
  "language_info": {
   "codemirror_mode": {
    "name": "ipython",
    "version": 3
   },
   "file_extension": ".py",
   "mimetype": "text/x-python",
   "name": "python",
   "nbconvert_exporter": "python",
   "pygments_lexer": "ipython3",
   "version": "3.8.8"
  }
 },
 "nbformat": 4,
 "nbformat_minor": 5
}
