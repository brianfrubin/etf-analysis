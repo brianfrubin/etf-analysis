{
 "cells": [
  {
   "cell_type": "markdown",
   "id": "MHrX9exOZDHq",
   "metadata": {
    "id": "MHrX9exOZDHq",
    "tags": []
   },
   "source": [
    "#### Imports"
   ]
  },
  {
   "cell_type": "code",
   "execution_count": 52,
   "id": "64fecd6e-cdb1-46f1-91ff-600db09995dd",
   "metadata": {
    "executionInfo": {
     "elapsed": 145,
     "status": "ok",
     "timestamp": 1639423537407,
     "user": {
      "displayName": "Brian Rubin",
      "photoUrl": "https://lh3.googleusercontent.com/a-/AOh14GheW1F5LYvdmNe_kkX9ReTZeLK_gJyikneCiBem=s64",
      "userId": "07554507789296481506"
     },
     "user_tz": 300
    },
    "id": "64fecd6e-cdb1-46f1-91ff-600db09995dd"
   },
   "outputs": [],
   "source": [
    "#supressing Pandas future warnings when indexing on datetime : https://stackoverflow.com/questions/15777951/how-to-suppress-pandas-future-warning\n",
    "import warnings\n",
    "warnings.simplefilter(action='ignore', category=FutureWarning)\n",
    "\n",
    "import pandas as pd\n",
    "import numpy as np\n",
    "import requests\n",
    "from configparser import ConfigParser\n",
    "from io import BytesIO\n",
    "import matplotlib.pyplot as plt\n",
    "from matplotlib import style\n",
    "style.use('fivethirtyeight')\n",
    "\n",
    "from sklearn.preprocessing import MinMaxScaler\n",
    "from keras.models import Sequential, load_model\n",
    "from keras.layers import LSTM, Dense, Dropout, GRU\n",
    "from sklearn.preprocessing import StandardScaler\n",
    "from sklearn.model_selection import train_test_split\n",
    "from sklearn.metrics import accuracy_score\n",
    "from tensorflow.keras.optimizers import Adam\n",
    "from tensorflow.keras.preprocessing.sequence import TimeseriesGenerator\n",
    "from tensorflow.keras.callbacks import EarlyStopping"
   ]
  },
  {
   "cell_type": "markdown",
   "id": "ad63d70d-210b-47e4-9fa9-232d6319c131",
   "metadata": {
    "id": "ad63d70d-210b-47e4-9fa9-232d6319c131",
    "tags": []
   },
   "source": [
    "### Historical Daily Function (From Viz_EDA_Main Notebook)"
   ]
  },
  {
   "cell_type": "code",
   "execution_count": null,
   "id": "7cf9f011-15c4-42ca-b932-18933c209c70",
   "metadata": {
    "id": "7cf9f011-15c4-42ca-b932-18933c209c70"
   },
   "outputs": [],
   "source": [
    "def alpha_historical_daily(ticker, start_date, end_date):\n",
    "    # Alpha vantage API request for daily adjusted prices\n",
    "    token = alpha_auth_key\n",
    "    url = f'https://www.alphavantage.co/query?function=TIME_SERIES_DAILY_ADJUSTED&outputsize=full&symbol={ticker}&interval=5min&apikey={token}&datatype=csv'\n",
    "    r = requests.get(url)\n",
    "\n",
    "    # Converting from bytes to pandas dataframe : https://stackoverflow.com/questions/47379476/how-to-convert-bytes-data-into-a-python-pandas-dataframe\n",
    "    df_daily = pd.read_csv(BytesIO(r.content))\n",
    "    \n",
    "    # Creating Sorted Datetime index based on inputted date range\n",
    "    df_daily.set_index('timestamp', inplace=True)\n",
    "    df_daily = df_daily[df_daily.index >= start_date]\n",
    "    df_daily = df_daily[df_daily.index <= end_date]\n",
    "    df_daily.index = pd.to_datetime(df_daily.index)\n",
    "    df_daily.sort_index(inplace=True)\n",
    "    df_daily.drop(columns=['dividend_amount', 'split_coefficient'], inplace=True)\n",
    "    \n",
    "    # Engineering Cumulative Return and Total Position Column for $100,000 Investment\n",
    "    daily_returns = df_daily['adjusted_close'] / df_daily['adjusted_close'].iloc[0]      \n",
    "    df_daily['cum_return'] = daily_returns\n",
    "    \n",
    "    # Position column to track performane (Using $100,000 as initial outlay investment)\n",
    "    allocation = 100_000\n",
    "    df_daily['position'] = allocation * df_daily['cum_return']\n",
    "    \n",
    "    # Engineering Moving Average 10 & 20 days columns\n",
    "    df_daily['MA10'] = df_daily['adjusted_close'].rolling(10).mean()\n",
    "    df_daily['MA20'] = df_daily['adjusted_close'].rolling(20).mean()\n",
    "    \n",
    "    # Engineering RSI-14 Indicator and 70/30 Bands\n",
    "    ticker_rsi = df_daily.ta.rsi(close='adjusted_close', length=14, signal_indicators=True, xa=70, xb=30)\n",
    "    \n",
    "    # Creating Final DataFrame \n",
    "    ticker_final = pd.concat([df_daily.reset_index(drop=True),ticker_rsi.reset_index(drop=True)], axis=1)\n",
    "    \n",
    "    # Finalizing with a new Cumulative Return % column\n",
    "    ticker_final['cum_return_percent'] = ticker_final.cum_return -1\n",
    "    \n",
    "    # Setting Datetime index \n",
    "    ticker_final.index = df_daily.index\n",
    "    return ticker_final"
   ]
  },
  {
   "cell_type": "markdown",
   "id": "07bfcaf9-9ee1-4650-9c25-b02e014c9b96",
   "metadata": {
    "id": "07bfcaf9-9ee1-4650-9c25-b02e014c9b96",
    "tags": []
   },
   "source": [
    "### Quiver Quant Alt Data Function (From Quant_Overview Notebook)"
   ]
  },
  {
   "cell_type": "code",
   "execution_count": null,
   "id": "36f90991-8058-4959-a199-6d2827ec5ae6",
   "metadata": {
    "id": "36f90991-8058-4959-a199-6d2827ec5ae6"
   },
   "outputs": [],
   "source": [
    "def alt_dataframe(ticker, start_date, end_date):\n",
    "    wsb_data = quiver.wallstreetbets(ticker ='FB')\n",
    "    wsb_data['Date'] = pd.to_datetime(wsb_data['Date'])\n",
    "    wsb_data.set_index('Date', inplace=True)\n",
    "    congress_data = quiver.congress_trading(ticker='FB', politician=False).sort_values(by='ReportDate', ascending=True)[['ReportDate', 'Transaction']]\n",
    "    congress_data['Transaction'] = congress_data['Transaction'].map({'Purchase' : 1, 'Sale' : -1})\n",
    "    congress_data['ReportDate'] = pd.to_datetime(congress_data['ReportDate'])\n",
    "    congress_data.set_index('ReportDate', inplace=True)\n",
    "    otc_data = quiver.offexchange(ticker='FB')[['Date', 'DPI']].sort_values(by='Date', ascending=True)\n",
    "    otc_data['Date'] = pd.to_datetime(otc_data['Date'])\n",
    "    otc_data.set_index('Date', inplace=True)\n",
    "    df = otc_data.join(congress_data)\n",
    "    df2 = df.join(wsb_data)\n",
    "    df2 = df2[df2.index >= f'{start_date}']\n",
    "    df2 = df2[df2.index <= f'{end_date}']\n",
    "    df2['Transaction'].fillna(0, inplace=True)\n",
    "    return df2"
   ]
  },
  {
   "cell_type": "markdown",
   "id": "98cf4456-dd49-491a-b3e9-47eb69419cd3",
   "metadata": {
    "id": "98cf4456-dd49-491a-b3e9-47eb69419cd3",
    "tags": []
   },
   "source": [
    "### Main DataFrame for Modeling "
   ]
  },
  {
   "cell_type": "code",
   "execution_count": 238,
   "id": "210aedd3-22f8-4ef9-b5bb-32549845f1b0",
   "metadata": {
    "id": "210aedd3-22f8-4ef9-b5bb-32549845f1b0"
   },
   "outputs": [],
   "source": [
    "ticker = 'FB'\n",
    "start_date = '2020-06-01'\n",
    "end_date = '2021-12-10'\n",
    "\n",
    "def single_stock_modeling_df(ticker, start_date, end_date):\n",
    "    #historical daily prices from alpha vantage\n",
    "    model_df = alpha_historical_daily(ticker, start_date, end_date)\n",
    "    #dropping close since we are predicting adjusted close, no need for returns or position columns anymore for modeling\n",
    "    model_df.drop(columns=['close', 'cum_return', 'position', 'cum_return_percent'], inplace=True)\n",
    "    #creating dataframe using quant quiver alt data for ticker\n",
    "    model_df2 = alt_dataframe(ticker, start_date, end_date)\n",
    "    #combining into one master dataframe for ticker\n",
    "    main_model = model_df.join(model_df2)\n",
    "    #starting at 21st row because of null values for MA20 before then\n",
    "    main_model = main_model[21: ]\n",
    "    #removing any nulls\n",
    "    main_model.dropna(inplace=True)\n",
    "    return main_model"
   ]
  },
  {
   "cell_type": "code",
   "execution_count": null,
   "id": "3b427a3c-bb7e-4cd6-9cdd-05f213b40c4f",
   "metadata": {
    "id": "3b427a3c-bb7e-4cd6-9cdd-05f213b40c4f",
    "outputId": "ba5b62a0-bfaa-472a-f07c-75002db7478d"
   },
   "outputs": [
    {
     "name": "stdout",
     "output_type": "stream",
     "text": [
      "https://api.quiverquant.com/beta/historical/wallstreetbets/FB\n"
     ]
    }
   ],
   "source": [
    "ticker = 'FB'\n",
    "start_date = '2020-06-01'\n",
    "end_date = '2021-12-10'\n",
    "final_model_df = single_stock_modeling_df(ticker, start_date, end_date)"
   ]
  },
  {
   "cell_type": "code",
   "execution_count": null,
   "id": "3abc50c3-9775-4631-819a-e00887e71af6",
   "metadata": {
    "id": "3abc50c3-9775-4631-819a-e00887e71af6",
    "outputId": "dbb0cb4b-3cf3-4dc9-914b-3f74dd4df921"
   },
   "outputs": [
    {
     "data": {
      "text/html": [
       "<div><div id=ee48da91-2646-4e2d-a7af-17c8e8f4cf81 style=\"display:none; background-color:#9D6CFF; color:white; width:200px; height:30px; padding-left:5px; border-radius:4px; flex-direction:row; justify-content:space-around; align-items:center;\" onmouseover=\"this.style.backgroundColor='#BA9BF8'\" onmouseout=\"this.style.backgroundColor='#9D6CFF'\" onclick=\"window.commands?.execute('create-mitosheet-from-dataframe-output');\">See Full Dataframe in Mito</div> <script> if (window.commands.hasCommand('create-mitosheet-from-dataframe-output')) document.getElementById('ee48da91-2646-4e2d-a7af-17c8e8f4cf81').style.display = 'flex' </script> <table border=\"1\" class=\"dataframe\">\n",
       "  <thead>\n",
       "    <tr style=\"text-align: right;\">\n",
       "      <th></th>\n",
       "      <th>open</th>\n",
       "      <th>high</th>\n",
       "      <th>low</th>\n",
       "      <th>adjusted_close</th>\n",
       "      <th>volume</th>\n",
       "      <th>MA10</th>\n",
       "      <th>MA20</th>\n",
       "      <th>RSI_14</th>\n",
       "      <th>RSI_14_A_70</th>\n",
       "      <th>RSI_14_B_30</th>\n",
       "      <th>DPI</th>\n",
       "      <th>Transaction</th>\n",
       "      <th>Ticker</th>\n",
       "      <th>Mentions</th>\n",
       "      <th>Rank</th>\n",
       "      <th>Sentiment</th>\n",
       "    </tr>\n",
       "  </thead>\n",
       "  <tbody>\n",
       "    <tr>\n",
       "      <th>2020-06-26</th>\n",
       "      <td>232.64</td>\n",
       "      <td>233.09</td>\n",
       "      <td>215.40</td>\n",
       "      <td>216.08</td>\n",
       "      <td>76343939</td>\n",
       "      <td>234.565</td>\n",
       "      <td>232.8655</td>\n",
       "      <td>32.653059</td>\n",
       "      <td>0</td>\n",
       "      <td>0</td>\n",
       "      <td>0.564179</td>\n",
       "      <td>0.0</td>\n",
       "      <td>FB</td>\n",
       "      <td>686.0</td>\n",
       "      <td>2.0</td>\n",
       "      <td>-0.021040</td>\n",
       "    </tr>\n",
       "    <tr>\n",
       "      <th>2020-06-29</th>\n",
       "      <td>209.75</td>\n",
       "      <td>220.75</td>\n",
       "      <td>207.11</td>\n",
       "      <td>220.64</td>\n",
       "      <td>58514281</td>\n",
       "      <td>233.379</td>\n",
       "      <td>232.3020</td>\n",
       "      <td>38.481385</td>\n",
       "      <td>0</td>\n",
       "      <td>0</td>\n",
       "      <td>0.596480</td>\n",
       "      <td>0.0</td>\n",
       "      <td>FB</td>\n",
       "      <td>726.0</td>\n",
       "      <td>2.0</td>\n",
       "      <td>-0.010247</td>\n",
       "    </tr>\n",
       "    <tr>\n",
       "      <th>2020-06-30</th>\n",
       "      <td>220.59</td>\n",
       "      <td>227.50</td>\n",
       "      <td>218.47</td>\n",
       "      <td>227.07</td>\n",
       "      <td>33927068</td>\n",
       "      <td>232.521</td>\n",
       "      <td>232.0195</td>\n",
       "      <td>45.627008</td>\n",
       "      <td>0</td>\n",
       "      <td>0</td>\n",
       "      <td>0.598574</td>\n",
       "      <td>0.0</td>\n",
       "      <td>FB</td>\n",
       "      <td>278.0</td>\n",
       "      <td>5.0</td>\n",
       "      <td>0.024049</td>\n",
       "    </tr>\n",
       "    <tr>\n",
       "      <th>2020-07-01</th>\n",
       "      <td>228.50</td>\n",
       "      <td>239.00</td>\n",
       "      <td>227.56</td>\n",
       "      <td>237.55</td>\n",
       "      <td>43403869</td>\n",
       "      <td>232.723</td>\n",
       "      <td>232.3890</td>\n",
       "      <td>54.835098</td>\n",
       "      <td>0</td>\n",
       "      <td>0</td>\n",
       "      <td>0.563958</td>\n",
       "      <td>0.0</td>\n",
       "      <td>FB</td>\n",
       "      <td>497.0</td>\n",
       "      <td>3.0</td>\n",
       "      <td>0.006460</td>\n",
       "    </tr>\n",
       "    <tr>\n",
       "      <th>2020-07-02</th>\n",
       "      <td>239.00</td>\n",
       "      <td>240.00</td>\n",
       "      <td>232.61</td>\n",
       "      <td>233.42</td>\n",
       "      <td>30635970</td>\n",
       "      <td>232.471</td>\n",
       "      <td>232.7455</td>\n",
       "      <td>51.158251</td>\n",
       "      <td>0</td>\n",
       "      <td>0</td>\n",
       "      <td>0.589858</td>\n",
       "      <td>1.0</td>\n",
       "      <td>FB</td>\n",
       "      <td>263.0</td>\n",
       "      <td>6.0</td>\n",
       "      <td>-0.016154</td>\n",
       "    </tr>\n",
       "  </tbody>\n",
       "</table></div>"
      ],
      "text/plain": [
       "              open    high     low  adjusted_close    volume     MA10  \\\n",
       "2020-06-26  232.64  233.09  215.40          216.08  76343939  234.565   \n",
       "2020-06-29  209.75  220.75  207.11          220.64  58514281  233.379   \n",
       "2020-06-30  220.59  227.50  218.47          227.07  33927068  232.521   \n",
       "2020-07-01  228.50  239.00  227.56          237.55  43403869  232.723   \n",
       "2020-07-02  239.00  240.00  232.61          233.42  30635970  232.471   \n",
       "\n",
       "                MA20     RSI_14  RSI_14_A_70  RSI_14_B_30       DPI  \\\n",
       "2020-06-26  232.8655  32.653059            0            0  0.564179   \n",
       "2020-06-29  232.3020  38.481385            0            0  0.596480   \n",
       "2020-06-30  232.0195  45.627008            0            0  0.598574   \n",
       "2020-07-01  232.3890  54.835098            0            0  0.563958   \n",
       "2020-07-02  232.7455  51.158251            0            0  0.589858   \n",
       "\n",
       "            Transaction Ticker  Mentions  Rank  Sentiment  \n",
       "2020-06-26          0.0     FB     686.0   2.0  -0.021040  \n",
       "2020-06-29          0.0     FB     726.0   2.0  -0.010247  \n",
       "2020-06-30          0.0     FB     278.0   5.0   0.024049  \n",
       "2020-07-01          0.0     FB     497.0   3.0   0.006460  \n",
       "2020-07-02          1.0     FB     263.0   6.0  -0.016154  "
      ]
     },
     "execution_count": 26,
     "metadata": {},
     "output_type": "execute_result"
    }
   ],
   "source": [
    "#confirming time oldest date on top\n",
    "final_model_df.head()"
   ]
  },
  {
   "cell_type": "code",
   "execution_count": null,
   "id": "9e9576d5-188a-485e-904f-420969f94103",
   "metadata": {
    "id": "9e9576d5-188a-485e-904f-420969f94103",
    "outputId": "c391ab32-bd04-48ca-ee07-32161aed2294"
   },
   "outputs": [
    {
     "data": {
      "text/html": [
       "<div><div id=a33748c2-5d90-4e9c-bb18-6ccc90134ce9 style=\"display:none; background-color:#9D6CFF; color:white; width:200px; height:30px; padding-left:5px; border-radius:4px; flex-direction:row; justify-content:space-around; align-items:center;\" onmouseover=\"this.style.backgroundColor='#BA9BF8'\" onmouseout=\"this.style.backgroundColor='#9D6CFF'\" onclick=\"window.commands?.execute('create-mitosheet-from-dataframe-output');\">See Full Dataframe in Mito</div> <script> if (window.commands.hasCommand('create-mitosheet-from-dataframe-output')) document.getElementById('a33748c2-5d90-4e9c-bb18-6ccc90134ce9').style.display = 'flex' </script> <table border=\"1\" class=\"dataframe\">\n",
       "  <thead>\n",
       "    <tr style=\"text-align: right;\">\n",
       "      <th></th>\n",
       "      <th>open</th>\n",
       "      <th>high</th>\n",
       "      <th>low</th>\n",
       "      <th>adjusted_close</th>\n",
       "      <th>volume</th>\n",
       "      <th>MA10</th>\n",
       "      <th>MA20</th>\n",
       "      <th>RSI_14</th>\n",
       "      <th>RSI_14_A_70</th>\n",
       "      <th>RSI_14_B_30</th>\n",
       "      <th>DPI</th>\n",
       "      <th>Transaction</th>\n",
       "      <th>Ticker</th>\n",
       "      <th>Mentions</th>\n",
       "      <th>Rank</th>\n",
       "      <th>Sentiment</th>\n",
       "    </tr>\n",
       "  </thead>\n",
       "  <tbody>\n",
       "    <tr>\n",
       "      <th>2021-12-03</th>\n",
       "      <td>313.730</td>\n",
       "      <td>313.75</td>\n",
       "      <td>299.50</td>\n",
       "      <td>306.84</td>\n",
       "      <td>27471010</td>\n",
       "      <td>328.806</td>\n",
       "      <td>333.4715</td>\n",
       "      <td>33.588095</td>\n",
       "      <td>0</td>\n",
       "      <td>0</td>\n",
       "      <td>0.358649</td>\n",
       "      <td>0.0</td>\n",
       "      <td>FB</td>\n",
       "      <td>69.0</td>\n",
       "      <td>15.0</td>\n",
       "      <td>-0.031870</td>\n",
       "    </tr>\n",
       "    <tr>\n",
       "      <th>2021-12-06</th>\n",
       "      <td>308.130</td>\n",
       "      <td>320.10</td>\n",
       "      <td>306.34</td>\n",
       "      <td>317.87</td>\n",
       "      <td>21758340</td>\n",
       "      <td>326.063</td>\n",
       "      <td>332.3085</td>\n",
       "      <td>42.315873</td>\n",
       "      <td>0</td>\n",
       "      <td>0</td>\n",
       "      <td>0.552784</td>\n",
       "      <td>0.0</td>\n",
       "      <td>FB</td>\n",
       "      <td>48.0</td>\n",
       "      <td>18.0</td>\n",
       "      <td>-0.106515</td>\n",
       "    </tr>\n",
       "    <tr>\n",
       "      <th>2021-12-08</th>\n",
       "      <td>325.000</td>\n",
       "      <td>332.75</td>\n",
       "      <td>323.07</td>\n",
       "      <td>330.56</td>\n",
       "      <td>19937722</td>\n",
       "      <td>323.574</td>\n",
       "      <td>331.2775</td>\n",
       "      <td>50.717426</td>\n",
       "      <td>0</td>\n",
       "      <td>0</td>\n",
       "      <td>0.526135</td>\n",
       "      <td>0.0</td>\n",
       "      <td>FB</td>\n",
       "      <td>51.0</td>\n",
       "      <td>16.0</td>\n",
       "      <td>0.026290</td>\n",
       "    </tr>\n",
       "    <tr>\n",
       "      <th>2021-12-09</th>\n",
       "      <td>329.540</td>\n",
       "      <td>336.13</td>\n",
       "      <td>328.00</td>\n",
       "      <td>329.82</td>\n",
       "      <td>16879168</td>\n",
       "      <td>322.450</td>\n",
       "      <td>331.3865</td>\n",
       "      <td>50.244715</td>\n",
       "      <td>0</td>\n",
       "      <td>0</td>\n",
       "      <td>0.543867</td>\n",
       "      <td>0.0</td>\n",
       "      <td>FB</td>\n",
       "      <td>37.0</td>\n",
       "      <td>17.0</td>\n",
       "      <td>0.044022</td>\n",
       "    </tr>\n",
       "    <tr>\n",
       "      <th>2021-12-10</th>\n",
       "      <td>332.555</td>\n",
       "      <td>335.03</td>\n",
       "      <td>326.37</td>\n",
       "      <td>329.75</td>\n",
       "      <td>14527969</td>\n",
       "      <td>322.113</td>\n",
       "      <td>331.4870</td>\n",
       "      <td>50.197054</td>\n",
       "      <td>0</td>\n",
       "      <td>0</td>\n",
       "      <td>0.475808</td>\n",
       "      <td>-1.0</td>\n",
       "      <td>FB</td>\n",
       "      <td>25.0</td>\n",
       "      <td>22.0</td>\n",
       "      <td>-0.129272</td>\n",
       "    </tr>\n",
       "  </tbody>\n",
       "</table></div>"
      ],
      "text/plain": [
       "               open    high     low  adjusted_close    volume     MA10  \\\n",
       "2021-12-03  313.730  313.75  299.50          306.84  27471010  328.806   \n",
       "2021-12-06  308.130  320.10  306.34          317.87  21758340  326.063   \n",
       "2021-12-08  325.000  332.75  323.07          330.56  19937722  323.574   \n",
       "2021-12-09  329.540  336.13  328.00          329.82  16879168  322.450   \n",
       "2021-12-10  332.555  335.03  326.37          329.75  14527969  322.113   \n",
       "\n",
       "                MA20     RSI_14  RSI_14_A_70  RSI_14_B_30       DPI  \\\n",
       "2021-12-03  333.4715  33.588095            0            0  0.358649   \n",
       "2021-12-06  332.3085  42.315873            0            0  0.552784   \n",
       "2021-12-08  331.2775  50.717426            0            0  0.526135   \n",
       "2021-12-09  331.3865  50.244715            0            0  0.543867   \n",
       "2021-12-10  331.4870  50.197054            0            0  0.475808   \n",
       "\n",
       "            Transaction Ticker  Mentions  Rank  Sentiment  \n",
       "2021-12-03          0.0     FB      69.0  15.0  -0.031870  \n",
       "2021-12-06          0.0     FB      48.0  18.0  -0.106515  \n",
       "2021-12-08          0.0     FB      51.0  16.0   0.026290  \n",
       "2021-12-09          0.0     FB      37.0  17.0   0.044022  \n",
       "2021-12-10         -1.0     FB      25.0  22.0  -0.129272  "
      ]
     },
     "execution_count": 27,
     "metadata": {},
     "output_type": "execute_result"
    }
   ],
   "source": [
    "#confirming time most recent date on top\n",
    "final_model_df.tail()"
   ]
  },
  {
   "cell_type": "code",
   "execution_count": null,
   "id": "69ada801-8cd7-4123-9a64-cb8e8101f396",
   "metadata": {
    "id": "69ada801-8cd7-4123-9a64-cb8e8101f396",
    "outputId": "92e1d118-1fa5-4ff0-b8a5-ddcd29fcf76e"
   },
   "outputs": [
    {
     "data": {
      "text/plain": [
       "(368, 16)"
      ]
     },
     "execution_count": 28,
     "metadata": {},
     "output_type": "execute_result"
    }
   ],
   "source": [
    "final_model_df.shape"
   ]
  },
  {
   "cell_type": "code",
   "execution_count": null,
   "id": "3a737656-f2e9-4671-b0f3-d5a4d594b478",
   "metadata": {
    "id": "3a737656-f2e9-4671-b0f3-d5a4d594b478",
    "outputId": "f7d395d4-7e05-4073-cfed-5229633b99e4"
   },
   "outputs": [
    {
     "data": {
      "text/plain": [
       "open              0\n",
       "high              0\n",
       "low               0\n",
       "adjusted_close    0\n",
       "volume            0\n",
       "MA10              0\n",
       "MA20              0\n",
       "RSI_14            0\n",
       "RSI_14_A_70       0\n",
       "RSI_14_B_30       0\n",
       "DPI               0\n",
       "Transaction       0\n",
       "Ticker            0\n",
       "Mentions          0\n",
       "Rank              0\n",
       "Sentiment         0\n",
       "dtype: int64"
      ]
     },
     "execution_count": 29,
     "metadata": {},
     "output_type": "execute_result"
    }
   ],
   "source": [
    "#making sure no nulls for modeling\n",
    "final_model_df.isna().sum()"
   ]
  },
  {
   "cell_type": "code",
   "execution_count": null,
   "id": "48cafd06-aff1-451e-bebe-46fdec6a2818",
   "metadata": {
    "id": "48cafd06-aff1-451e-bebe-46fdec6a2818"
   },
   "outputs": [],
   "source": [
    "#create csv for modeling in Google Colab\n",
    "final_model_df.to_csv('FB_final_model.csv')"
   ]
  },
  {
   "cell_type": "markdown",
   "id": "30007b18-b301-43fa-83e4-57f4b01e1d70",
   "metadata": {
    "tags": []
   },
   "source": [
    "### Incorporating NASDAQ Retail Activity Tracker"
   ]
  },
  {
   "cell_type": "code",
   "execution_count": null,
   "id": "d69f50ca-1a60-449b-8469-748545642f39",
   "metadata": {},
   "outputs": [],
   "source": [
    "import quandl\n",
    "from configparser import ConfigParser\n",
    "parser = ConfigParser()\n",
    "_ = parser.read('notebook.cfg')\n",
    "quandl.ApiConfig.api_key = parser.get('my_api', 'nasd_key')"
   ]
  },
  {
   "cell_type": "code",
   "execution_count": null,
   "id": "f3e2b449-0356-4e6b-b943-ce846f926c6d",
   "metadata": {},
   "outputs": [],
   "source": [
    "def nasdaq_retail(ticker):\n",
    "    retail_tracker = quandl.get_table('NDAQ/RTAT', ticker=f'{ticker}', paginate=True)\n",
    "    # Sorted date in retail_tracker in ascending order\n",
    "    retail_tracker = retail_tracker.sort_values(by='date', ascending=True, na_position='first')\n",
    "    # Deleted column ticker from retail_tracker\n",
    "    retail_tracker.drop('ticker', axis=1, inplace=True)\n",
    "    # Renamed sentiment to nasdaq_sentiment in retail_tracker\n",
    "    retail_tracker.rename(columns={\"sentiment\": \"nasdaq_sentiment\"}, inplace=True)\n",
    "    # Renamed activity to nasdaq_activity in retail_tracker\n",
    "    retail_tracker.rename(columns={\"activity\": \"nasdaq_activity\"}, inplace=True)\n",
    "    # Setting date as index\n",
    "    retail_tracker.set_index('date', inplace=True)\n",
    "    return retail_tracker"
   ]
  },
  {
   "cell_type": "code",
   "execution_count": 239,
   "id": "84c797ba-8097-460d-b841-4fb476605a85",
   "metadata": {},
   "outputs": [
    {
     "name": "stdout",
     "output_type": "stream",
     "text": [
      "https://api.quiverquant.com/beta/historical/wallstreetbets/FB\n"
     ]
    }
   ],
   "source": [
    "ticker = 'FB'\n",
    "start_date = '2020-06-01'\n",
    "end_date = '2021-12-10'\n",
    "final_model_df = single_stock_modeling_df(ticker, start_date, end_date)\n",
    "retail_tracker_df = nasdaq_retail(ticker)"
   ]
  },
  {
   "cell_type": "code",
   "execution_count": 240,
   "id": "36acb62b-9fa7-45db-8890-692072841fc1",
   "metadata": {},
   "outputs": [],
   "source": [
    "final_model_with_nasdaq = final_model_df.join(retail_tracker_df)"
   ]
  },
  {
   "cell_type": "code",
   "execution_count": 244,
   "id": "44a4c11e-ecb0-4fe4-982f-d49ce689f702",
   "metadata": {},
   "outputs": [],
   "source": [
    "final_model_with_nasdaq.to_csv('Meta_ModelingDF_PlusNDAQ.csv')"
   ]
  },
  {
   "cell_type": "code",
   "execution_count": 245,
   "id": "4597fd38-f63a-49d4-ad4b-e65b51c3a47b",
   "metadata": {},
   "outputs": [
    {
     "data": {
      "text/html": [
       "<div><div id=9ad307e6-b6e9-45d3-8826-2e0831c1dbe1 style=\"display:none; background-color:#9D6CFF; color:white; width:200px; height:30px; padding-left:5px; border-radius:4px; flex-direction:row; justify-content:space-around; align-items:center;\" onmouseover=\"this.style.backgroundColor='#BA9BF8'\" onmouseout=\"this.style.backgroundColor='#9D6CFF'\" onclick=\"window.commands?.execute('create-mitosheet-from-dataframe-output');\">See Full Dataframe in Mito</div> <script> if (window.commands.hasCommand('create-mitosheet-from-dataframe-output')) document.getElementById('9ad307e6-b6e9-45d3-8826-2e0831c1dbe1').style.display = 'flex' </script> <table border=\"1\" class=\"dataframe\">\n",
       "  <thead>\n",
       "    <tr style=\"text-align: right;\">\n",
       "      <th></th>\n",
       "      <th>open</th>\n",
       "      <th>high</th>\n",
       "      <th>low</th>\n",
       "      <th>adjusted_close</th>\n",
       "      <th>volume</th>\n",
       "      <th>MA10</th>\n",
       "      <th>MA20</th>\n",
       "      <th>RSI_14</th>\n",
       "      <th>RSI_14_A_70</th>\n",
       "      <th>RSI_14_B_30</th>\n",
       "      <th>DPI</th>\n",
       "      <th>Transaction</th>\n",
       "      <th>Ticker</th>\n",
       "      <th>Mentions</th>\n",
       "      <th>Rank</th>\n",
       "      <th>Sentiment</th>\n",
       "      <th>nasdaq_activity</th>\n",
       "      <th>nasdaq_sentiment</th>\n",
       "    </tr>\n",
       "  </thead>\n",
       "  <tbody>\n",
       "    <tr>\n",
       "      <th>2020-06-26</th>\n",
       "      <td>232.64</td>\n",
       "      <td>233.09</td>\n",
       "      <td>215.4</td>\n",
       "      <td>216.08</td>\n",
       "      <td>76343939</td>\n",
       "      <td>234.565</td>\n",
       "      <td>232.8655</td>\n",
       "      <td>32.653059</td>\n",
       "      <td>0</td>\n",
       "      <td>0</td>\n",
       "      <td>0.564179</td>\n",
       "      <td>0.0</td>\n",
       "      <td>FB</td>\n",
       "      <td>686.0</td>\n",
       "      <td>2.0</td>\n",
       "      <td>-0.02104</td>\n",
       "      <td>0.0404</td>\n",
       "      <td>0.0</td>\n",
       "    </tr>\n",
       "  </tbody>\n",
       "</table></div>"
      ],
      "text/plain": [
       "              open    high    low  adjusted_close    volume     MA10  \\\n",
       "2020-06-26  232.64  233.09  215.4          216.08  76343939  234.565   \n",
       "\n",
       "                MA20     RSI_14  RSI_14_A_70  RSI_14_B_30       DPI  \\\n",
       "2020-06-26  232.8655  32.653059            0            0  0.564179   \n",
       "\n",
       "            Transaction Ticker  Mentions  Rank  Sentiment  nasdaq_activity  \\\n",
       "2020-06-26          0.0     FB     686.0   2.0   -0.02104           0.0404   \n",
       "\n",
       "            nasdaq_sentiment  \n",
       "2020-06-26               0.0  "
      ]
     },
     "execution_count": 245,
     "metadata": {},
     "output_type": "execute_result"
    }
   ],
   "source": [
    "final_model_with_nasdaq.head(1)"
   ]
  },
  {
   "cell_type": "markdown",
   "id": "6dcfb025-7542-4d86-bcad-64c9bc04f522",
   "metadata": {
    "id": "ETuJMcT9VR4C",
    "tags": []
   },
   "source": [
    "## Logistic Regression Model - Using All Features"
   ]
  },
  {
   "cell_type": "code",
   "execution_count": 192,
   "id": "2f0afc0f-9f39-401c-89a3-2d0256abf3e3",
   "metadata": {
    "executionInfo": {
     "elapsed": 139,
     "status": "ok",
     "timestamp": 1639422277799,
     "user": {
      "displayName": "Brian Rubin",
      "photoUrl": "https://lh3.googleusercontent.com/a-/AOh14GheW1F5LYvdmNe_kkX9ReTZeLK_gJyikneCiBem=s64",
      "userId": "07554507789296481506"
     },
     "user_tz": 300
    },
    "id": "f74dd421-3b00-40f8-a6b6-2c0877db07f6"
   },
   "outputs": [],
   "source": [
    "# read in saved FB file\n",
    "df_main = pd.read_csv('FB_final_model.csv')"
   ]
  },
  {
   "cell_type": "code",
   "execution_count": 193,
   "id": "5dba0f4b-689a-43f4-8317-7a2a0d368f1b",
   "metadata": {
    "executionInfo": {
     "elapsed": 133,
     "status": "ok",
     "timestamp": 1639422278723,
     "user": {
      "displayName": "Brian Rubin",
      "photoUrl": "https://lh3.googleusercontent.com/a-/AOh14GheW1F5LYvdmNe_kkX9ReTZeLK_gJyikneCiBem=s64",
      "userId": "07554507789296481506"
     },
     "user_tz": 300
    },
    "id": "5f3d76df-4caf-4964-bdc8-9b64f2184ff3"
   },
   "outputs": [],
   "source": [
    "# set Unnammed: 0 as index datetime\n",
    "df_main.set_index('Unnamed: 0', inplace=True)\n",
    "df_main.index = pd.to_datetime(df_main.index)\n",
    "# drop ticker column , not needed for model\n",
    "df_main.drop(columns='Ticker', inplace=True)"
   ]
  },
  {
   "cell_type": "code",
   "execution_count": 194,
   "id": "ddfec35e-34ac-40e7-af2e-27bb865cfb17",
   "metadata": {
    "executionInfo": {
     "elapsed": 133,
     "status": "ok",
     "timestamp": 1639422279450,
     "user": {
      "displayName": "Brian Rubin",
      "photoUrl": "https://lh3.googleusercontent.com/a-/AOh14GheW1F5LYvdmNe_kkX9ReTZeLK_gJyikneCiBem=s64",
      "userId": "07554507789296481506"
     },
     "user_tz": 300
    },
    "id": "1c737410-9292-4333-84ac-085b020a433a"
   },
   "outputs": [],
   "source": [
    "#de-trending numerical data by using percent change\n",
    "df_main[['open', 'high','low','adjusted_close','volume','MA10','MA20', 'RSI_14','DPI', 'Mentions','Rank','Sentiment']] = df_main[['open', 'high','low','adjusted_close','volume','MA10','MA20',\n",
    "                   'RSI_14','DPI','Mentions','Rank','Sentiment']].pct_change()\n",
    "#dropping the first row as all 0 values\n",
    "df_main = df_main.iloc[1: , :]"
   ]
  },
  {
   "cell_type": "code",
   "execution_count": 195,
   "id": "37334e89-b258-4fe1-b867-c258b989a7ce",
   "metadata": {
    "executionInfo": {
     "elapsed": 132,
     "status": "ok",
     "timestamp": 1639422280285,
     "user": {
      "displayName": "Brian Rubin",
      "photoUrl": "https://lh3.googleusercontent.com/a-/AOh14GheW1F5LYvdmNe_kkX9ReTZeLK_gJyikneCiBem=s64",
      "userId": "07554507789296481506"
     },
     "user_tz": 300
    },
    "id": "eb434130-83e1-4714-80a1-e41c676e7f77"
   },
   "outputs": [],
   "source": [
    "# creating target column where the adjusted closing price is compared to the previous day, 1 for higher, 0 for lower\n",
    "df_main['Target'] = (df_main['adjusted_close'] > 0).astype(int)\n",
    "df_main.Target = df_main.Target.shift(-1)\n",
    "df_main.dropna(inplace=True)"
   ]
  },
  {
   "cell_type": "markdown",
   "id": "e0f3db17-7f19-438a-bdde-38e2f1edf56a",
   "metadata": {
    "id": "1a13bae6-da7f-436b-885c-2e1f0a0508e4"
   },
   "source": [
    "### Train/Test Split & MinMaxScaler"
   ]
  },
  {
   "cell_type": "code",
   "execution_count": 196,
   "id": "c0e6d06a-7849-4224-9f7f-73ab1378fae1",
   "metadata": {
    "executionInfo": {
     "elapsed": 142,
     "status": "ok",
     "timestamp": 1639423234046,
     "user": {
      "displayName": "Brian Rubin",
      "photoUrl": "https://lh3.googleusercontent.com/a-/AOh14GheW1F5LYvdmNe_kkX9ReTZeLK_gJyikneCiBem=s64",
      "userId": "07554507789296481506"
     },
     "user_tz": 300
    },
    "id": "bq2iMWO2PBby"
   },
   "outputs": [],
   "source": [
    "features = [col for col in df_main.columns if not col == 'Target']\n",
    "X = df_main[features]\n",
    "minmax = MinMaxScaler()\n",
    "X = minmax.fit_transform(X)\n",
    "y = df_main['Target']\n",
    "\n",
    "X_train, X_test, y_train, y_test = train_test_split(X, y, shuffle=False, train_size=0.8, random_state=0)"
   ]
  },
  {
   "cell_type": "code",
   "execution_count": 197,
   "id": "c140b7f9-f7ff-4509-9f0d-29d0fd5718f2",
   "metadata": {},
   "outputs": [],
   "source": [
    "logreg = LogisticRegression()"
   ]
  },
  {
   "cell_type": "code",
   "execution_count": 198,
   "id": "e8fd28e5-2290-4038-babb-b6dc893754c5",
   "metadata": {},
   "outputs": [
    {
     "data": {
      "text/plain": [
       "LogisticRegression()"
      ]
     },
     "execution_count": 198,
     "metadata": {},
     "output_type": "execute_result"
    }
   ],
   "source": [
    "logreg.fit(X_train, y_train)"
   ]
  },
  {
   "cell_type": "code",
   "execution_count": 199,
   "id": "6e16e481-f2cd-4d6c-b68d-59dd59fb9ca9",
   "metadata": {},
   "outputs": [
    {
     "data": {
      "text/plain": [
       "0.5616438356164384"
      ]
     },
     "execution_count": 199,
     "metadata": {},
     "output_type": "execute_result"
    }
   ],
   "source": [
    "logreg.score(X_train, y_train)"
   ]
  },
  {
   "cell_type": "code",
   "execution_count": 200,
   "id": "5410821c-5fad-4ef7-bf92-eafc1066fdbf",
   "metadata": {},
   "outputs": [
    {
     "data": {
      "text/plain": [
       "0.6351351351351351"
      ]
     },
     "execution_count": 200,
     "metadata": {},
     "output_type": "execute_result"
    }
   ],
   "source": [
    "logreg.score(X_test, y_test)"
   ]
  },
  {
   "cell_type": "markdown",
   "id": "4f4f5898-be63-4f17-8e5b-2a59c678c219",
   "metadata": {
    "tags": []
   },
   "source": [
    "## Logistic Regression - Using only Price & Volume"
   ]
  },
  {
   "cell_type": "code",
   "execution_count": 179,
   "id": "ab232437-d298-44e1-afe5-a32d111255f9",
   "metadata": {},
   "outputs": [],
   "source": [
    "# read in saved FB file\n",
    "df_main2 = pd.read_csv('FB_final_model.csv')"
   ]
  },
  {
   "cell_type": "code",
   "execution_count": 180,
   "id": "12bf67dd-042e-4cc0-9421-43e0850fa2b1",
   "metadata": {},
   "outputs": [],
   "source": [
    "# set Unnammed: 0 as index datetime\n",
    "df_main2.set_index('Unnamed: 0', inplace=True)\n",
    "df_main2.index = pd.to_datetime(df_main2.index)\n",
    "# drop ticker column , not needed for model\n",
    "df_main2.drop(columns='Ticker', inplace=True)"
   ]
  },
  {
   "cell_type": "code",
   "execution_count": 181,
   "id": "5acdbfa0-b8c4-4d6a-868d-e1f0625b4dfb",
   "metadata": {},
   "outputs": [],
   "source": [
    "#de-trending numerical data by using percent change\n",
    "df_main2 = df_main2[['open', 'adjusted_close','volume']].pct_change()\n",
    "#dropping the first row as all 0 values\n",
    "df_main2 = df_main2.iloc[1: , :]"
   ]
  },
  {
   "cell_type": "code",
   "execution_count": 182,
   "id": "1c01bc68-3e43-4220-ac61-5c46cde521d7",
   "metadata": {},
   "outputs": [],
   "source": [
    "# creating target column where the adjusted closing price is compared to the previous day, 1 for higher, 0 for lower\n",
    "df_main2['Target'] = (df_main2['adjusted_close'] > 0).astype(int)\n",
    "df_main2.Target = df_main2.Target.shift(-1)\n",
    "df_main2.dropna(inplace=True)"
   ]
  },
  {
   "cell_type": "code",
   "execution_count": 183,
   "id": "2b223dc6-0150-40c6-8ab6-847d57607a27",
   "metadata": {},
   "outputs": [],
   "source": [
    "features = [col for col in df_main2.columns if not col == 'Target']\n",
    "X2 = df_main2[features]\n",
    "minmax = MinMaxScaler()\n",
    "X2 = minmax.fit_transform(X2)\n",
    "y2 = df_main2['Target']\n",
    "\n",
    "X_train2, X_test2, y_train2, y_test2 = train_test_split(X2, y2, shuffle=False, train_size=0.8, random_state=0)"
   ]
  },
  {
   "cell_type": "code",
   "execution_count": 184,
   "id": "350c750c-8cc4-46b7-b8d5-4cd41e547f22",
   "metadata": {},
   "outputs": [],
   "source": [
    "logreg2 = LogisticRegression()"
   ]
  },
  {
   "cell_type": "code",
   "execution_count": 185,
   "id": "6b418773-2f39-4c63-a748-d779bb05ac1a",
   "metadata": {},
   "outputs": [
    {
     "data": {
      "text/plain": [
       "LogisticRegression()"
      ]
     },
     "execution_count": 185,
     "metadata": {},
     "output_type": "execute_result"
    }
   ],
   "source": [
    "logreg2.fit(X_train2, y_train2)"
   ]
  },
  {
   "cell_type": "code",
   "execution_count": 186,
   "id": "c135f991-6b35-4567-ac4b-5b927e9e8f42",
   "metadata": {},
   "outputs": [
    {
     "data": {
      "text/plain": [
       "0.5342465753424658"
      ]
     },
     "execution_count": 186,
     "metadata": {},
     "output_type": "execute_result"
    }
   ],
   "source": [
    "logreg2.score(X_train2, y_train2)"
   ]
  },
  {
   "cell_type": "code",
   "execution_count": 187,
   "id": "3da30175-8fb9-4632-8ebf-1ddcf61c72e5",
   "metadata": {},
   "outputs": [
    {
     "data": {
      "text/plain": [
       "0.581081081081081"
      ]
     },
     "execution_count": 187,
     "metadata": {},
     "output_type": "execute_result"
    }
   ],
   "source": [
    "logreg2.score(X_test2, y_test2)"
   ]
  },
  {
   "cell_type": "code",
   "execution_count": 188,
   "id": "dd3ede9a-0530-4820-913a-a4a4dd4960b3",
   "metadata": {},
   "outputs": [
    {
     "data": {
      "text/plain": [
       "array([[-0.9983874 , -0.25194478, -0.05792579]])"
      ]
     },
     "execution_count": 188,
     "metadata": {},
     "output_type": "execute_result"
    }
   ],
   "source": [
    "logreg2.coef_"
   ]
  },
  {
   "cell_type": "markdown",
   "id": "65d37f23-9584-434f-980d-8a7c6d17449c",
   "metadata": {
    "tags": []
   },
   "source": [
    "## Logistic Regression - Using All Features + NASDAQ Retail Sentiment"
   ]
  },
  {
   "cell_type": "code",
   "execution_count": 281,
   "id": "e52a7911-1929-4a9c-8770-c014ef807a8f",
   "metadata": {
    "executionInfo": {
     "elapsed": 139,
     "status": "ok",
     "timestamp": 1639422277799,
     "user": {
      "displayName": "Brian Rubin",
      "photoUrl": "https://lh3.googleusercontent.com/a-/AOh14GheW1F5LYvdmNe_kkX9ReTZeLK_gJyikneCiBem=s64",
      "userId": "07554507789296481506"
     },
     "user_tz": 300
    },
    "id": "f74dd421-3b00-40f8-a6b6-2c0877db07f6"
   },
   "outputs": [],
   "source": [
    "# read in saved FB file\n",
    "df_main3 = pd.read_csv('Meta_ModelingDF_PlusNDAQ.csv')"
   ]
  },
  {
   "cell_type": "code",
   "execution_count": 282,
   "id": "c91b6de6-311b-42d2-ae41-04633d801ad5",
   "metadata": {
    "executionInfo": {
     "elapsed": 133,
     "status": "ok",
     "timestamp": 1639422278723,
     "user": {
      "displayName": "Brian Rubin",
      "photoUrl": "https://lh3.googleusercontent.com/a-/AOh14GheW1F5LYvdmNe_kkX9ReTZeLK_gJyikneCiBem=s64",
      "userId": "07554507789296481506"
     },
     "user_tz": 300
    },
    "id": "5f3d76df-4caf-4964-bdc8-9b64f2184ff3"
   },
   "outputs": [],
   "source": [
    "# set Unnammed: 0 as index datetime\n",
    "df_main3.set_index('Unnamed: 0', inplace=True)\n",
    "df_main3.index = pd.to_datetime(df_main3.index)\n",
    "# drop ticker column , not needed for model\n",
    "df_main3.drop(columns='Ticker', inplace=True)"
   ]
  },
  {
   "cell_type": "code",
   "execution_count": 283,
   "id": "62eae7a5-0213-4431-a71e-e6dae47c33ad",
   "metadata": {
    "executionInfo": {
     "elapsed": 133,
     "status": "ok",
     "timestamp": 1639422279450,
     "user": {
      "displayName": "Brian Rubin",
      "photoUrl": "https://lh3.googleusercontent.com/a-/AOh14GheW1F5LYvdmNe_kkX9ReTZeLK_gJyikneCiBem=s64",
      "userId": "07554507789296481506"
     },
     "user_tz": 300
    },
    "id": "1c737410-9292-4333-84ac-085b020a433a"
   },
   "outputs": [],
   "source": [
    "#de-trending numerical data by using percent change\n",
    "df_main3= df_main3[['open', 'high','low','adjusted_close','volume','MA10','MA20',\n",
    "                   'RSI_14','DPI','Mentions','Rank','Sentiment', 'nasdaq_sentiment']].pct_change()\n",
    "#dropping the first row as all 0 values\n",
    "df_main3 = df_main3.iloc[1: , :]"
   ]
  },
  {
   "cell_type": "code",
   "execution_count": 284,
   "id": "bdb62db8-29ee-41e8-a7af-150d50ff4230",
   "metadata": {
    "executionInfo": {
     "elapsed": 132,
     "status": "ok",
     "timestamp": 1639422280285,
     "user": {
      "displayName": "Brian Rubin",
      "photoUrl": "https://lh3.googleusercontent.com/a-/AOh14GheW1F5LYvdmNe_kkX9ReTZeLK_gJyikneCiBem=s64",
      "userId": "07554507789296481506"
     },
     "user_tz": 300
    },
    "id": "eb434130-83e1-4714-80a1-e41c676e7f77"
   },
   "outputs": [],
   "source": [
    "# creating target column where the adjusted closing price is compared to the previous day, 1 for higher, 0 for lower\n",
    "df_main3['Target'] = (df_main3['adjusted_close'] > 0).astype(int)\n",
    "df_main3.Target = df_main3.Target.shift(-1)\n",
    "df_main3.dropna(inplace=True)"
   ]
  },
  {
   "cell_type": "markdown",
   "id": "074842ca-eb19-401b-83fc-018d835b6fd7",
   "metadata": {
    "id": "1a13bae6-da7f-436b-885c-2e1f0a0508e4"
   },
   "source": [
    "### Train/Test Split & MinMaxScaler"
   ]
  },
  {
   "cell_type": "code",
   "execution_count": 285,
   "id": "bc2d1385-9051-41c4-8afb-ad1b449101fd",
   "metadata": {},
   "outputs": [],
   "source": [
    "#Remove -inf values causing train/test/split error\n",
    "df_main3.replace([np.inf, -np.inf], 0, inplace=True)"
   ]
  },
  {
   "cell_type": "code",
   "execution_count": 286,
   "id": "9a6288f0-5ef4-44ec-80c2-c00c52dcbcf4",
   "metadata": {
    "executionInfo": {
     "elapsed": 142,
     "status": "ok",
     "timestamp": 1639423234046,
     "user": {
      "displayName": "Brian Rubin",
      "photoUrl": "https://lh3.googleusercontent.com/a-/AOh14GheW1F5LYvdmNe_kkX9ReTZeLK_gJyikneCiBem=s64",
      "userId": "07554507789296481506"
     },
     "user_tz": 300
    },
    "id": "bq2iMWO2PBby"
   },
   "outputs": [],
   "source": [
    "features3 = [col for col in df_main3.columns if not col == 'Target']\n",
    "X3 = df_main3[features3]\n",
    "minmax = MinMaxScaler()\n",
    "X3 = minmax.fit_transform(X3)\n",
    "y3 = df_main3['Target']\n",
    "\n",
    "X_train3, X_test3, y_train3, y_test3 = train_test_split(X3, y3, shuffle=False, train_size=0.8, random_state=0)"
   ]
  },
  {
   "cell_type": "code",
   "execution_count": 287,
   "id": "5f979200-5ee0-4432-ab8e-2ae682e9c354",
   "metadata": {},
   "outputs": [],
   "source": [
    "logreg = LogisticRegression()"
   ]
  },
  {
   "cell_type": "code",
   "execution_count": 288,
   "id": "e39600a7-e193-4a96-9aef-485809542576",
   "metadata": {},
   "outputs": [
    {
     "data": {
      "text/plain": [
       "LogisticRegression()"
      ]
     },
     "execution_count": 288,
     "metadata": {},
     "output_type": "execute_result"
    }
   ],
   "source": [
    "logreg.fit(X_train3, y_train3)"
   ]
  },
  {
   "cell_type": "code",
   "execution_count": 289,
   "id": "1a2abdf4-d9dd-4873-b7f6-aa038ab1a9de",
   "metadata": {},
   "outputs": [
    {
     "data": {
      "text/plain": [
       "0.5819672131147541"
      ]
     },
     "execution_count": 289,
     "metadata": {},
     "output_type": "execute_result"
    }
   ],
   "source": [
    "logreg.score(X_train3, y_train3)"
   ]
  },
  {
   "cell_type": "code",
   "execution_count": 290,
   "id": "76586d69-a9c7-4aa1-9c3e-6682691cff9c",
   "metadata": {},
   "outputs": [
    {
     "data": {
      "text/plain": [
       "0.6065573770491803"
      ]
     },
     "execution_count": 290,
     "metadata": {},
     "output_type": "execute_result"
    }
   ],
   "source": [
    "logreg.score(X_test3, y_test3)"
   ]
  },
  {
   "cell_type": "markdown",
   "id": "4cc38807-9dd4-4c1f-ad4f-57054d89c365",
   "metadata": {
    "tags": []
   },
   "source": [
    "## Logistic Regression - All Features + NASDAQ Retail\n",
    "## (1-Week Outlook)"
   ]
  },
  {
   "cell_type": "code",
   "execution_count": 315,
   "id": "76d0b08d-c0b1-4c64-a530-08bc3da1dfb4",
   "metadata": {
    "executionInfo": {
     "elapsed": 139,
     "status": "ok",
     "timestamp": 1639422277799,
     "user": {
      "displayName": "Brian Rubin",
      "photoUrl": "https://lh3.googleusercontent.com/a-/AOh14GheW1F5LYvdmNe_kkX9ReTZeLK_gJyikneCiBem=s64",
      "userId": "07554507789296481506"
     },
     "user_tz": 300
    },
    "id": "f74dd421-3b00-40f8-a6b6-2c0877db07f6"
   },
   "outputs": [],
   "source": [
    "# read in saved FB file\n",
    "df_main4 = pd.read_csv('Meta_ModelingDF_PlusNDAQ.csv')"
   ]
  },
  {
   "cell_type": "code",
   "execution_count": 316,
   "id": "df30a5b8-3bed-4938-8203-556e4bf2266b",
   "metadata": {
    "executionInfo": {
     "elapsed": 133,
     "status": "ok",
     "timestamp": 1639422278723,
     "user": {
      "displayName": "Brian Rubin",
      "photoUrl": "https://lh3.googleusercontent.com/a-/AOh14GheW1F5LYvdmNe_kkX9ReTZeLK_gJyikneCiBem=s64",
      "userId": "07554507789296481506"
     },
     "user_tz": 300
    },
    "id": "5f3d76df-4caf-4964-bdc8-9b64f2184ff3"
   },
   "outputs": [],
   "source": [
    "# set Unnammed: 0 as index datetime\n",
    "df_main4.set_index('Unnamed: 0', inplace=True)\n",
    "df_main4.index = pd.to_datetime(df_main4.index)\n",
    "# drop ticker column , not needed for model\n",
    "df_main4.drop(columns='Ticker', inplace=True)"
   ]
  },
  {
   "cell_type": "code",
   "execution_count": 317,
   "id": "e753a508-7092-473f-895c-a6afc495e6e8",
   "metadata": {
    "executionInfo": {
     "elapsed": 133,
     "status": "ok",
     "timestamp": 1639422279450,
     "user": {
      "displayName": "Brian Rubin",
      "photoUrl": "https://lh3.googleusercontent.com/a-/AOh14GheW1F5LYvdmNe_kkX9ReTZeLK_gJyikneCiBem=s64",
      "userId": "07554507789296481506"
     },
     "user_tz": 300
    },
    "id": "1c737410-9292-4333-84ac-085b020a433a"
   },
   "outputs": [],
   "source": [
    "#de-trending numerical data by using percent change\n",
    "df_main4= df_main4[['open', 'high','low','adjusted_close','volume','MA10','MA20',\n",
    "                   'RSI_14','DPI','Mentions','Rank','Sentiment', 'nasdaq_sentiment']].pct_change(3)\n",
    "#dropping the first row as all 0 values\n",
    "df_main4 = df_main4.iloc[3: , :]"
   ]
  },
  {
   "cell_type": "code",
   "execution_count": 318,
   "id": "37f8b09f-97ac-4420-bb97-1532ae8fee85",
   "metadata": {
    "executionInfo": {
     "elapsed": 132,
     "status": "ok",
     "timestamp": 1639422280285,
     "user": {
      "displayName": "Brian Rubin",
      "photoUrl": "https://lh3.googleusercontent.com/a-/AOh14GheW1F5LYvdmNe_kkX9ReTZeLK_gJyikneCiBem=s64",
      "userId": "07554507789296481506"
     },
     "user_tz": 300
    },
    "id": "eb434130-83e1-4714-80a1-e41c676e7f77"
   },
   "outputs": [],
   "source": [
    "# creating target column where the adjusted closing price is compared to the previous day, 1 for higher, 0 for lower\n",
    "df_main4['Target'] = (df_main4['adjusted_close'] > 0).astype(int)\n",
    "df_main4.Target = df_main4.Target.shift(-3)\n",
    "df_main4.dropna(inplace=True)"
   ]
  },
  {
   "cell_type": "markdown",
   "id": "326d8068-fb5b-4b00-b790-f844244c3d10",
   "metadata": {
    "id": "1a13bae6-da7f-436b-885c-2e1f0a0508e4"
   },
   "source": [
    "### Train/Test Split & MinMaxScaler"
   ]
  },
  {
   "cell_type": "code",
   "execution_count": 319,
   "id": "80b9130d-889b-49a1-9c2e-eb3b0726b30c",
   "metadata": {},
   "outputs": [],
   "source": [
    "#Remove -inf values causing train/test/split error\n",
    "df_main4.replace([np.inf, -np.inf], 0, inplace=True)"
   ]
  },
  {
   "cell_type": "code",
   "execution_count": 320,
   "id": "63cfec73-e018-438c-86b5-8f035f50ebda",
   "metadata": {
    "executionInfo": {
     "elapsed": 142,
     "status": "ok",
     "timestamp": 1639423234046,
     "user": {
      "displayName": "Brian Rubin",
      "photoUrl": "https://lh3.googleusercontent.com/a-/AOh14GheW1F5LYvdmNe_kkX9ReTZeLK_gJyikneCiBem=s64",
      "userId": "07554507789296481506"
     },
     "user_tz": 300
    },
    "id": "bq2iMWO2PBby"
   },
   "outputs": [],
   "source": [
    "features4 = [col for col in df_main4.columns if not col == 'Target']\n",
    "X4 = df_main4[features4]\n",
    "minmax = MinMaxScaler()\n",
    "X4 = minmax.fit_transform(X4)\n",
    "y4 = df_main4['Target']\n",
    "\n",
    "X_train4, X_test4, y_train4, y_test4 = train_test_split(X4, y4, shuffle=False, train_size=0.8, random_state=0)"
   ]
  },
  {
   "cell_type": "code",
   "execution_count": 321,
   "id": "99cd22e6-cf9e-4787-a531-5cef0f4dbf69",
   "metadata": {},
   "outputs": [],
   "source": [
    "logreg4 = LogisticRegression()"
   ]
  },
  {
   "cell_type": "code",
   "execution_count": 322,
   "id": "32fed8b2-ee3c-4732-ad08-4d9d08e25725",
   "metadata": {},
   "outputs": [
    {
     "data": {
      "text/plain": [
       "LogisticRegression()"
      ]
     },
     "execution_count": 322,
     "metadata": {},
     "output_type": "execute_result"
    }
   ],
   "source": [
    "logreg4.fit(X_train4, y_train4)"
   ]
  },
  {
   "cell_type": "code",
   "execution_count": 323,
   "id": "f834c9e9-b955-4a63-8cdc-9d39ad71447e",
   "metadata": {},
   "outputs": [
    {
     "data": {
      "text/plain": [
       "0.5731225296442688"
      ]
     },
     "execution_count": 323,
     "metadata": {},
     "output_type": "execute_result"
    }
   ],
   "source": [
    "logreg.score(X_train4, y_train4)"
   ]
  },
  {
   "cell_type": "code",
   "execution_count": 324,
   "id": "4f7018dc-b53c-4231-aa7a-ba5f83024e67",
   "metadata": {},
   "outputs": [
    {
     "data": {
      "text/plain": [
       "0.546875"
      ]
     },
     "execution_count": 324,
     "metadata": {},
     "output_type": "execute_result"
    }
   ],
   "source": [
    "logreg.score(X_test4, y_test4)"
   ]
  }
 ],
 "metadata": {
  "colab": {
   "name": "PricePredictor.ipynb",
   "provenance": []
  },
  "kernelspec": {
   "display_name": "Python 3 (ipykernel)",
   "language": "python",
   "name": "python3"
  },
  "language_info": {
   "codemirror_mode": {
    "name": "ipython",
    "version": 3
   },
   "file_extension": ".py",
   "mimetype": "text/x-python",
   "name": "python",
   "nbconvert_exporter": "python",
   "pygments_lexer": "ipython3",
   "version": "3.8.8"
  }
 },
 "nbformat": 4,
 "nbformat_minor": 5
}
