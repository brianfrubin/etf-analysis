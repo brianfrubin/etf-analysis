{
 "cells": [
  {
   "cell_type": "markdown",
   "id": "5def6e44-6287-40cc-aacc-8e97ab45a909",
   "metadata": {},
   "source": [
    "## Initial Visualizations / Analysis"
   ]
  },
  {
   "cell_type": "markdown",
   "id": "24f38594-a125-4c66-a2b8-38be25f5d61b",
   "metadata": {},
   "source": [
    "#### Imports / Keys"
   ]
  },
  {
   "cell_type": "code",
   "execution_count": 3,
   "id": "1620e70d-e33a-4e3a-80a9-baa0de4ff78e",
   "metadata": {},
   "outputs": [],
   "source": [
    "import pandas as pd\n",
    "import pandas_ta as ta\n",
    "\n",
    "import plotly.express as px\n",
    "import plotly.graph_objects as go\n",
    "from plotly.subplots import make_subplots\n",
    "\n",
    "import requests\n",
    "from configparser import ConfigParser\n",
    "from io import BytesIO\n",
    "parser = ConfigParser()\n",
    "_ = parser.read('notebook.cfg')\n",
    "\n",
    "nasdaq_auth_key = parser.get('my_api', 'nasd_key')\n",
    "quant_auth_key = parser.get('my_api', 'quant_key')\n",
    "alpha_auth_key = parser.get('my_api', 'alpha_key')"
   ]
  },
  {
   "cell_type": "markdown",
   "id": "f67fe858-55c8-40bf-a0e5-03b77c8106ea",
   "metadata": {},
   "source": [
    "#### Creating Function to Pull Historical Daily Prices for Specific Ticker and Date Range"
   ]
  },
  {
   "cell_type": "code",
   "execution_count": 118,
   "id": "85b88c42-de0a-4e20-b379-9f688523068a",
   "metadata": {},
   "outputs": [],
   "source": [
    "#used this source as reference : https://medium.com/codex/creating-a-diversified-portfolio-with-correlation-matrix-in-python-7d7825255a2d\n",
    "def historical_daily(ticker, start_date, end_date):\n",
    "    #alpha vantage API request for daily adjusted prices\n",
    "    token = alpha_auth_key\n",
    "    url = f'https://www.alphavantage.co/query?function=TIME_SERIES_DAILY_ADJUSTED&outputsize=full&symbol={ticker}&interval=5min&apikey={token}&datatype=csv'\n",
    "    r = requests.get(url)\n",
    "\n",
    "    #converting from bytes to pandas dataframe : https://stackoverflow.com/questions/47379476/how-to-convert-bytes-data-into-a-python-pandas-dataframe\n",
    "    df_daily = pd.read_csv(BytesIO(r.content))\n",
    "    \n",
    "    #setting index \n",
    "    df_daily.set_index('timestamp', inplace=True)\n",
    "    df_daily = df_daily[df_daily.index >= start_date]\n",
    "    df_daily = df_daily[df_daily.index <= end_date]\n",
    "    df_daily.index = pd.to_datetime(df_daily.index)\n",
    "    return df_daily"
   ]
  },
  {
   "cell_type": "markdown",
   "id": "9c57b0ac-9d3b-47dc-be30-1a4037ecef49",
   "metadata": {},
   "source": [
    "#### Using Function to Create and Store SPY 2021 YTD Data"
   ]
  },
  {
   "cell_type": "code",
   "execution_count": 119,
   "id": "42c8410e-6ce4-4054-9aa8-e607cbc55867",
   "metadata": {},
   "outputs": [],
   "source": [
    "sp_500 = historical_daily('SPY', '2021-01-01', '2021-12-07')"
   ]
  },
  {
   "cell_type": "code",
   "execution_count": 196,
   "id": "b5224866-b499-41b3-8b55-68b54f852cc4",
   "metadata": {},
   "outputs": [
    {
     "data": {
      "text/html": [
       "<div><div id=7199c84b-098f-4788-8fec-178406411d5b style=\"display:none; background-color:#9D6CFF; color:white; width:200px; height:30px; padding-left:5px; border-radius:4px; flex-direction:row; justify-content:space-around; align-items:center;\" onmouseover=\"this.style.backgroundColor='#BA9BF8'\" onmouseout=\"this.style.backgroundColor='#9D6CFF'\" onclick=\"window.commands?.execute('create-mitosheet-from-dataframe-output');\">See Full Dataframe in Mito</div> <script> if (window.commands.hasCommand('create-mitosheet-from-dataframe-output')) document.getElementById('7199c84b-098f-4788-8fec-178406411d5b').style.display = 'flex' </script> <table border=\"1\" class=\"dataframe\">\n",
       "  <thead>\n",
       "    <tr style=\"text-align: right;\">\n",
       "      <th></th>\n",
       "      <th>timestamp</th>\n",
       "      <th>open</th>\n",
       "      <th>high</th>\n",
       "      <th>low</th>\n",
       "      <th>close</th>\n",
       "      <th>adjusted_close</th>\n",
       "      <th>volume</th>\n",
       "      <th>dividend_amount</th>\n",
       "      <th>split_coefficient</th>\n",
       "    </tr>\n",
       "  </thead>\n",
       "  <tbody>\n",
       "    <tr>\n",
       "      <th>0</th>\n",
       "      <td>2021-12-07</td>\n",
       "      <td>464.41</td>\n",
       "      <td>468.88</td>\n",
       "      <td>458.6546</td>\n",
       "      <td>468.28</td>\n",
       "      <td>468.28</td>\n",
       "      <td>95484688</td>\n",
       "      <td>0.0</td>\n",
       "      <td>1.0</td>\n",
       "    </tr>\n",
       "  </tbody>\n",
       "</table></div>"
      ],
      "text/plain": [
       "    timestamp    open    high       low   close  adjusted_close    volume  \\\n",
       "0  2021-12-07  464.41  468.88  458.6546  468.28          468.28  95484688   \n",
       "\n",
       "   dividend_amount  split_coefficient  \n",
       "0              0.0                1.0  "
      ]
     },
     "execution_count": 196,
     "metadata": {},
     "output_type": "execute_result"
    }
   ],
   "source": [
    "sp_500.head(1)"
   ]
  },
  {
   "cell_type": "code",
   "execution_count": 218,
   "id": "a5aaea88-64aa-4739-9e4f-ba348a904dc0",
   "metadata": {},
   "outputs": [],
   "source": [
    "sp_500 = sp_500.sort_values(by=['timestamp']).reset_index()\n",
    "sp_500.drop(columns='index', inplace=True)"
   ]
  },
  {
   "cell_type": "code",
   "execution_count": 223,
   "id": "bd36cb49-af96-474f-b634-8d3ebb5e3379",
   "metadata": {},
   "outputs": [],
   "source": [
    "sp_500.to_csv('spy_daily_2021.csv')"
   ]
  },
  {
   "cell_type": "code",
   "execution_count": 49,
   "id": "47836800-fc92-4f62-9088-3b5b150c2398",
   "metadata": {},
   "outputs": [],
   "source": [
    "sp_500 = pd.read_csv('spy_daily_2021.csv')"
   ]
  },
  {
   "cell_type": "code",
   "execution_count": 4,
   "id": "0f4af2eb-ff87-47b9-9254-39f8b97e2202",
   "metadata": {},
   "outputs": [
    {
     "data": {
      "text/html": [
       "<div><div id=f491971b-d016-4217-ba31-c2c63a5721e1 style=\"display:none; background-color:#9D6CFF; color:white; width:200px; height:30px; padding-left:5px; border-radius:4px; flex-direction:row; justify-content:space-around; align-items:center;\" onmouseover=\"this.style.backgroundColor='#BA9BF8'\" onmouseout=\"this.style.backgroundColor='#9D6CFF'\" onclick=\"window.commands?.execute('create-mitosheet-from-dataframe-output');\">See Full Dataframe in Mito</div> <script> if (window.commands.hasCommand('create-mitosheet-from-dataframe-output')) document.getElementById('f491971b-d016-4217-ba31-c2c63a5721e1').style.display = 'flex' </script> <table border=\"1\" class=\"dataframe\">\n",
       "  <thead>\n",
       "    <tr style=\"text-align: right;\">\n",
       "      <th></th>\n",
       "      <th>Unnamed: 0</th>\n",
       "      <th>timestamp</th>\n",
       "      <th>open</th>\n",
       "      <th>high</th>\n",
       "      <th>low</th>\n",
       "      <th>close</th>\n",
       "      <th>adjusted_close</th>\n",
       "      <th>volume</th>\n",
       "      <th>dividend_amount</th>\n",
       "      <th>split_coefficient</th>\n",
       "    </tr>\n",
       "  </thead>\n",
       "  <tbody>\n",
       "    <tr>\n",
       "      <th>0</th>\n",
       "      <td>0</td>\n",
       "      <td>2021-01-04</td>\n",
       "      <td>375.31</td>\n",
       "      <td>375.45</td>\n",
       "      <td>364.82</td>\n",
       "      <td>368.79</td>\n",
       "      <td>365.187629</td>\n",
       "      <td>110210810</td>\n",
       "      <td>0.0</td>\n",
       "      <td>1.0</td>\n",
       "    </tr>\n",
       "    <tr>\n",
       "      <th>1</th>\n",
       "      <td>1</td>\n",
       "      <td>2021-01-05</td>\n",
       "      <td>368.10</td>\n",
       "      <td>372.50</td>\n",
       "      <td>368.05</td>\n",
       "      <td>371.33</td>\n",
       "      <td>367.702818</td>\n",
       "      <td>66426229</td>\n",
       "      <td>0.0</td>\n",
       "      <td>1.0</td>\n",
       "    </tr>\n",
       "    <tr>\n",
       "      <th>2</th>\n",
       "      <td>2</td>\n",
       "      <td>2021-01-06</td>\n",
       "      <td>369.71</td>\n",
       "      <td>376.98</td>\n",
       "      <td>369.12</td>\n",
       "      <td>373.55</td>\n",
       "      <td>369.901133</td>\n",
       "      <td>107997675</td>\n",
       "      <td>0.0</td>\n",
       "      <td>1.0</td>\n",
       "    </tr>\n",
       "    <tr>\n",
       "      <th>3</th>\n",
       "      <td>3</td>\n",
       "      <td>2021-01-07</td>\n",
       "      <td>376.10</td>\n",
       "      <td>379.90</td>\n",
       "      <td>375.91</td>\n",
       "      <td>379.10</td>\n",
       "      <td>375.396920</td>\n",
       "      <td>68766812</td>\n",
       "      <td>0.0</td>\n",
       "      <td>1.0</td>\n",
       "    </tr>\n",
       "    <tr>\n",
       "      <th>4</th>\n",
       "      <td>4</td>\n",
       "      <td>2021-01-08</td>\n",
       "      <td>380.59</td>\n",
       "      <td>381.49</td>\n",
       "      <td>377.10</td>\n",
       "      <td>381.26</td>\n",
       "      <td>377.535821</td>\n",
       "      <td>71677208</td>\n",
       "      <td>0.0</td>\n",
       "      <td>1.0</td>\n",
       "    </tr>\n",
       "  </tbody>\n",
       "</table></div>"
      ],
      "text/plain": [
       "   Unnamed: 0   timestamp    open    high     low   close  adjusted_close  \\\n",
       "0           0  2021-01-04  375.31  375.45  364.82  368.79      365.187629   \n",
       "1           1  2021-01-05  368.10  372.50  368.05  371.33      367.702818   \n",
       "2           2  2021-01-06  369.71  376.98  369.12  373.55      369.901133   \n",
       "3           3  2021-01-07  376.10  379.90  375.91  379.10      375.396920   \n",
       "4           4  2021-01-08  380.59  381.49  377.10  381.26      377.535821   \n",
       "\n",
       "      volume  dividend_amount  split_coefficient  \n",
       "0  110210810              0.0                1.0  \n",
       "1   66426229              0.0                1.0  \n",
       "2  107997675              0.0                1.0  \n",
       "3   68766812              0.0                1.0  \n",
       "4   71677208              0.0                1.0  "
      ]
     },
     "execution_count": 4,
     "metadata": {},
     "output_type": "execute_result"
    }
   ],
   "source": [
    "sp_500.head()"
   ]
  },
  {
   "cell_type": "markdown",
   "id": "694162a2-a60b-42a8-b042-40e37abb14ef",
   "metadata": {
    "tags": []
   },
   "source": [
    "#### Cleaning/Feautre Engineering - Returns / Moving Averages / RSI"
   ]
  },
  {
   "cell_type": "markdown",
   "id": "49b7d616-5faa-4cfe-9ffe-7404880b5e3d",
   "metadata": {},
   "source": [
    "##### Series for Cumulative SPY YTD Returns 2021"
   ]
  },
  {
   "cell_type": "code",
   "execution_count": 50,
   "id": "4b6e5d74-30b8-4695-83d3-733c95e42bca",
   "metadata": {},
   "outputs": [
    {
     "data": {
      "text/plain": [
       "0    1.000000\n",
       "1    1.006887\n",
       "2    1.012907\n",
       "3    1.027956\n",
       "4    1.033813\n",
       "5    1.026845\n",
       "6    1.027061\n",
       "7    1.029827\n",
       "8    1.026221\n",
       "9    1.018737\n",
       "Name: adjusted_close, dtype: float64"
      ]
     },
     "execution_count": 50,
     "metadata": {},
     "output_type": "execute_result"
    }
   ],
   "source": [
    "#cumulative YTD returns for SPY index. Takes each adjusted close divided by first day of the year's close\n",
    "sp_returns_2021 = sp_500['adjusted_close'] / sp_500['adjusted_close'].iloc[0]\n",
    "(sp_500['adjusted_close'] / sp_500['adjusted_close'].iloc[0])[:10]"
   ]
  },
  {
   "cell_type": "markdown",
   "id": "76be261e-b170-41bb-a37e-de6d8d731b87",
   "metadata": {},
   "source": [
    "##### Creating Total Position ($) and Moving Averages (10,20) "
   ]
  },
  {
   "cell_type": "code",
   "execution_count": 51,
   "id": "29255403-5120-44b2-8d7d-77fa503ff954",
   "metadata": {},
   "outputs": [],
   "source": [
    "sp_500['cum_return'] = sp_returns_2021\n",
    "sp_500.drop(columns=['Unnamed: 0', 'dividend_amount', 'split_coefficient'], inplace=True)\n",
    "sp_500.set_index('timestamp', inplace=True)\n",
    "allocation = 100_000\n",
    "sp_500['position'] = allocation * sp_500['cum_return']\n",
    "sp_500['MA10'] = sp_500['adjusted_close'].rolling(10).mean()\n",
    "sp_500['MA20'] = sp_500['adjusted_close'].rolling(20).mean()\n",
    "sp_500.to_csv('sp_2021_cum_returns.csv')"
   ]
  },
  {
   "cell_type": "markdown",
   "id": "4b5add03-37c6-47e8-bacf-57c26c077503",
   "metadata": {},
   "source": [
    "##### Incorporating RSI-14 Indicator "
   ]
  },
  {
   "cell_type": "code",
   "execution_count": null,
   "id": "cd59bc35-93d3-4a8f-a7a5-40961295fbfc",
   "metadata": {},
   "outputs": [],
   "source": [
    "sp_500_rsi = sp_500_rets_df.ta.rsi(close='adjusted_close', length=14, signal_indicators=True, xa=70, xb=30)\n",
    "# kept getting errors when trying merge, used this solution : https://stackoverflow.com/questions/47655296/pandas-merge-two-datasets-with-same-number-of-rows\n",
    "spy_final_2021 = pd.concat([sp_500_rets_df.reset_index(drop=True),sp_500_rsi.reset_index(drop=True)], axis=1)\n",
    "spy_final_2021.to_csv('spy_final_2021.csv')"
   ]
  },
  {
   "cell_type": "code",
   "execution_count": 59,
   "id": "3683e3cd-9703-4489-9f02-d6aaaaeb952f",
   "metadata": {},
   "outputs": [
    {
     "data": {
      "text/html": [
       "<div><div id=01dda996-37c6-42f0-b3ea-e2edf1c316b8 style=\"display:none; background-color:#9D6CFF; color:white; width:200px; height:30px; padding-left:5px; border-radius:4px; flex-direction:row; justify-content:space-around; align-items:center;\" onmouseover=\"this.style.backgroundColor='#BA9BF8'\" onmouseout=\"this.style.backgroundColor='#9D6CFF'\" onclick=\"window.commands?.execute('create-mitosheet-from-dataframe-output');\">See Full Dataframe in Mito</div> <script> if (window.commands.hasCommand('create-mitosheet-from-dataframe-output')) document.getElementById('01dda996-37c6-42f0-b3ea-e2edf1c316b8').style.display = 'flex' </script> <table border=\"1\" class=\"dataframe\">\n",
       "  <thead>\n",
       "    <tr style=\"text-align: right;\">\n",
       "      <th></th>\n",
       "      <th>open</th>\n",
       "      <th>high</th>\n",
       "      <th>low</th>\n",
       "      <th>close</th>\n",
       "      <th>adjusted_close</th>\n",
       "      <th>volume</th>\n",
       "      <th>cum_return</th>\n",
       "      <th>position</th>\n",
       "      <th>MA10</th>\n",
       "      <th>MA20</th>\n",
       "    </tr>\n",
       "    <tr>\n",
       "      <th>timestamp</th>\n",
       "      <th></th>\n",
       "      <th></th>\n",
       "      <th></th>\n",
       "      <th></th>\n",
       "      <th></th>\n",
       "      <th></th>\n",
       "      <th></th>\n",
       "      <th></th>\n",
       "      <th></th>\n",
       "      <th></th>\n",
       "    </tr>\n",
       "  </thead>\n",
       "  <tbody>\n",
       "    <tr>\n",
       "      <th>2021-12-01</th>\n",
       "      <td>461.64</td>\n",
       "      <td>464.67</td>\n",
       "      <td>450.2900</td>\n",
       "      <td>450.50</td>\n",
       "      <td>450.50</td>\n",
       "      <td>132485835</td>\n",
       "      <td>1.233612</td>\n",
       "      <td>123361.243330</td>\n",
       "      <td>464.159</td>\n",
       "      <td>465.4715</td>\n",
       "    </tr>\n",
       "    <tr>\n",
       "      <th>2021-12-02</th>\n",
       "      <td>450.73</td>\n",
       "      <td>459.07</td>\n",
       "      <td>450.3100</td>\n",
       "      <td>457.40</td>\n",
       "      <td>457.40</td>\n",
       "      <td>127637758</td>\n",
       "      <td>1.252507</td>\n",
       "      <td>125250.683017</td>\n",
       "      <td>463.085</td>\n",
       "      <td>465.1055</td>\n",
       "    </tr>\n",
       "    <tr>\n",
       "      <th>2021-12-03</th>\n",
       "      <td>459.17</td>\n",
       "      <td>460.30</td>\n",
       "      <td>448.9200</td>\n",
       "      <td>453.42</td>\n",
       "      <td>453.42</td>\n",
       "      <td>137331647</td>\n",
       "      <td>1.241608</td>\n",
       "      <td>124160.832299</td>\n",
       "      <td>461.454</td>\n",
       "      <td>464.4310</td>\n",
       "    </tr>\n",
       "    <tr>\n",
       "      <th>2021-12-06</th>\n",
       "      <td>456.13</td>\n",
       "      <td>460.79</td>\n",
       "      <td>453.5600</td>\n",
       "      <td>458.79</td>\n",
       "      <td>458.79</td>\n",
       "      <td>98977532</td>\n",
       "      <td>1.256313</td>\n",
       "      <td>125631.309273</td>\n",
       "      <td>460.444</td>\n",
       "      <td>463.9440</td>\n",
       "    </tr>\n",
       "    <tr>\n",
       "      <th>2021-12-07</th>\n",
       "      <td>464.41</td>\n",
       "      <td>468.88</td>\n",
       "      <td>458.6546</td>\n",
       "      <td>468.28</td>\n",
       "      <td>468.28</td>\n",
       "      <td>95484688</td>\n",
       "      <td>1.282300</td>\n",
       "      <td>128229.973422</td>\n",
       "      <td>460.515</td>\n",
       "      <td>463.9115</td>\n",
       "    </tr>\n",
       "  </tbody>\n",
       "</table></div>"
      ],
      "text/plain": [
       "              open    high       low   close  adjusted_close     volume  \\\n",
       "timestamp                                                                 \n",
       "2021-12-01  461.64  464.67  450.2900  450.50          450.50  132485835   \n",
       "2021-12-02  450.73  459.07  450.3100  457.40          457.40  127637758   \n",
       "2021-12-03  459.17  460.30  448.9200  453.42          453.42  137331647   \n",
       "2021-12-06  456.13  460.79  453.5600  458.79          458.79   98977532   \n",
       "2021-12-07  464.41  468.88  458.6546  468.28          468.28   95484688   \n",
       "\n",
       "            cum_return       position     MA10      MA20  \n",
       "timestamp                                                 \n",
       "2021-12-01    1.233612  123361.243330  464.159  465.4715  \n",
       "2021-12-02    1.252507  125250.683017  463.085  465.1055  \n",
       "2021-12-03    1.241608  124160.832299  461.454  464.4310  \n",
       "2021-12-06    1.256313  125631.309273  460.444  463.9440  \n",
       "2021-12-07    1.282300  128229.973422  460.515  463.9115  "
      ]
     },
     "execution_count": 59,
     "metadata": {},
     "output_type": "execute_result"
    }
   ],
   "source": [
    "spy_final_2021.tail()"
   ]
  },
  {
   "cell_type": "markdown",
   "id": "922224d1-acf4-4a9a-a28d-9c0a94270829",
   "metadata": {},
   "source": [
    "#### Visualizing SPY 2021 YTD Performance - Matplotlib Example"
   ]
  },
  {
   "cell_type": "code",
   "execution_count": 222,
   "id": "03c099b9-3613-4c90-b963-ff1d690a3f2b",
   "metadata": {},
   "outputs": [
    {
     "data": {
      "image/png": "[encoded data removed]",
      "text/plain": [
       "<Figure size 864x432 with 1 Axes>"
      ]
     },
     "metadata": {},
     "output_type": "display_data"
    }
   ],
   "source": [
    "plt.figure(figsize=(12,6))\n",
    "plt.plot(sp_returns_2021, label = 'SPY')\n",
    "plt.legend(fontsize = 16)\n",
    "plt.title('SPY 2021 YTD Cumulative Returns')\n",
    "\n",
    "#average number of trading days in a month is 21\n",
    "days = [1,22,43,64,85,106,127,\n",
    "                 148,169,191,212,233]\n",
    "#create list of all the months in the year\n",
    "months = ['Jan','Feb','Mar','Apr','May','Jun',\n",
    "               'Jul','Aug','Sep','Oct','Nov','Dec'] \n",
    "#recreate return % for more legible yticks \n",
    "returns = [1, 1.05, 1.10, 1.15, 1.20, 1.25, 1.3, 1.35]\n",
    "returns_percent = ['0%', '5%', '10%', '15%', '20%', '25%', '30%', '35%']\n",
    "#label xticks as months of the year \n",
    "plt.xticks(days, months, rotation='vertical')\n",
    "#label yticks as percentages\n",
    "plt.yticks(returns, returns_percent)\n",
    "\n",
    "plt.show();"
   ]
  },
  {
   "cell_type": "code",
   "execution_count": 305,
   "id": "9e44aac7-f01b-48a7-8870-48316972e4b1",
   "metadata": {},
   "outputs": [],
   "source": [
    "sp_500_rets_df = pd.read_csv('sp_2021_cum_returns.csv')"
   ]
  },
  {
   "cell_type": "markdown",
   "id": "c0416ad8-1bd8-4f18-a8a7-827fa861d537",
   "metadata": {},
   "source": [
    "#### Visualizing SPY 2021 YTD Performance - Plotly Example"
   ]
  },
  {
   "cell_type": "code",
   "execution_count": 517,
   "id": "f88ef818-09a2-484a-8c25-8d6697eb8abd",
   "metadata": {},
   "outputs": [
    {
     "data": {
      "application/vnd.plotly.v1+json": {
       "config": {
        "plotlyServerURL": "https://plot.ly"
       },
       "data": [
        {
         "hovertemplate": "=%{x}<br>Cumulative Return (%)=%{y}<extra></extra>",
         "legendgroup": "",
         "line": {
          "color": "#636efa",
          "dash": "solid"
         },
         "marker": {
          "symbol": "circle"
         },
         "mode": "lines",
         "name": "",
         "orientation": "v",
         "showlegend": false,
         "type": "scatter",
         "x": [
          0,
          1,
          2,
          3,
          4,
          5,
          6,
          7,
          8,
          9,
          10,
          11,
          12,
          13,
          14,
          15,
          16,
          17,
          18,
          19,
          20,
          21,
          22,
          23,
          24,
          25,
          26,
          27,
          28,
          29,
          30,
          31,
          32,
          33,
          34,
          35,
          36,
          37,
          38,
          39,
          40,
          41,
          42,
          43,
          44,
          45,
          46,
          47,
          48,
          49,
          50,
          51,
          52,
          53,
          54,
          55,
          56,
          57,
          58,
          59,
          60,
          61,
          62,
          63,
          64,
          65,
          66,
          67,
          68,
          69,
          70,
          71,
          72,
          73,
          74,
          75,
          76,
          77,
          78,
          79,
          80,
          81,
          82,
          83,
          84,
          85,
          86,
          87,
          88,
          89,
          90,
          91,
          92,
          93,
          94,
          95,
          96,
          97,
          98,
          99,
          100,
          101,
          102,
          103,
          104,
          105,
          106,
          107,
          108,
          109,
          110,
          111,
          112,
          113,
          114,
          115,
          116,
          117,
          118,
          119,
          120,
          121,
          122,
          123,
          124,
          125,
          126,
          127,
          128,
          129,
          130,
          131,
          132,
          133,
          134,
          135,
          136,
          137,
          138,
          139,
          140,
          141,
          142,
          143,
          144,
          145,
          146,
          147,
          148,
          149,
          150,
          151,
          152,
          153,
          154,
          155,
          156,
          157,
          158,
          159,
          160,
          161,
          162,
          163,
          164,
          165,
          166,
          167,
          168,
          169,
          170,
          171,
          172,
          173,
          174,
          175,
          176,
          177,
          178,
          179,
          180,
          181,
          182,
          183,
          184,
          185,
          186,
          187,
          188,
          189,
          190,
          191,
          192,
          193,
          194,
          195,
          196,
          197,
          198,
          199,
          200,
          201,
          202,
          203,
          204,
          205,
          206,
          207,
          208,
          209,
          210,
          211,
          212,
          213,
          214,
          215,
          216,
          217,
          218,
          219,
          220,
          221,
          222,
          223,
          224,
          225,
          226,
          227,
          228,
          229,
          230,
          231,
          232,
          233,
          234
         ],
         "xaxis": "x",
         "y": [
          1,
          1.006887388485146,
          1.0129070744864974,
          1.0279562894871377,
          1.0338132812698675,
          1.026844545675411,
          1.0270614712984136,
          1.029827272973896,
          1.026220884514071,
          1.0187369505670372,
          1.0267360828639098,
          1.0409447110802073,
          1.041893760676051,
          1.038206025109654,
          1.0423004962171267,
          1.0406735540555616,
          1.015239024918713,
          1.0239702811884273,
          1.003470809946133,
          1.0201740828105288,
          1.034599636649829,
          1.0354131077292423,
          1.047181322704561,
          1.0513029095142248,
          1.0588953062700217,
          1.0581902980021094,
          1.0577293310539138,
          1.0594376203247895,
          1.0646709509461796,
          1.063749017055265,
          1.0639930583804582,
          1.0594647360269802,
          1.0575937525402217,
          1.0494590417296572,
          1.0507334797572665,
          1.0623118848117732,
          1.036714661459042,
          1.0313728680261507,
          1.0563735459197323,
          1.0481303722976665,
          1.0342471325131344,
          1.021448520838138,
          1.040239702812295,
          1.0350606035952865,
          1.0498386615685422,
          1.0563735459197323,
          1.067084248487706,
          1.0685213807311975,
          1.0748935708665053,
          1.073537785732324,
          1.0771984055965305,
          1.0615255294345505,
          1.059567200845055,
          1.06802785093025,
          1.0596216101716736,
          1.0542350869651282,
          1.0601657034241685,
          1.0772502315661998,
          1.0767061383137049,
          1.073849648736053,
          1.0782023947587505,
          1.0898459903730942,
          1.1054886713966985,
          1.1048357594937046,
          1.106114378637752,
          1.11136487852912,
          1.1194446633361994,
          1.1198527332762551,
          1.1231717021178431,
          1.1193358446857005,
          1.1313603055754216,
          1.135141753683684,
          1.1295647978408194,
          1.121294580394682,
          1.1319043988279167,
          1.1215666270222988,
          1.1337271112271974,
          1.1360939168762347,
          1.1358490749132966,
          1.1355226189617995,
          1.1427590592240893,
          1.135250572334183,
          1.1376989919717793,
          1.1306801890104876,
          1.1310338496239247,
          1.1400657976235549,
          1.1483632197316322,
          1.136991670744905,
          1.1268443315756065,
          1.1029042284439248,
          1.1161528991538132,
          1.1332918366224631,
          1.1304081423828711,
          1.1206688731536285,
          1.1177307695874177,
          1.1297552304798772,
          1.1288302719492669,
          1.140337844248433,
          1.1378078106222782,
          1.1400657976235549,
          1.1406643002026684,
          1.1427046499002087,
          1.1416980773810397,
          1.1434935851156418,
          1.1392496577434432,
          1.14966904353762,
          1.1485536523706903,
          1.1487984943336282,
          1.1470846005875848,
          1.152416714464773,
          1.1543210408498743,
          1.156905483802648,
          1.1547835201165486,
          1.1483360150696922,
          1.1479551497915768,
          1.132518884147221,
          1.1487320389034534,
          1.1548733854032298,
          1.153481346861382,
          1.1603050651941624,
          1.1644265910680272,
          1.1667739501738903,
          1.1674017322606924,
          1.1683843477005469,
          1.1748532326775365,
          1.1838332460044725,
          1.1816769510103171,
          1.185853066630384,
          1.176190681470444,
          1.1887463232037458,
          1.193004323443116,
          1.1889373873154534,
          1.1907115540834552,
          1.1866446179557926,
          1.1773370661516436,
          1.15995023184111,
          1.176572809699336,
          1.1860987204910325,
          1.1885825539624009,
          1.2008106572130128,
          1.2037585035325769,
          1.198272233995442,
          1.1977809262741457,
          1.2027485932196211,
          1.1969074903266952,
          1.1943963619822255,
          1.2041133368856294,
          1.1981903493734003,
          1.2057783241584883,
          1.2077708499140372,
          1.2067882344741825,
          1.2082894525056966,
          1.2112918885714627,
          1.214922106724031,
          1.2171329914643885,
          1.2199989531646491,
          1.212001555277568,
          1.198736246840899,
          1.200592298228204,
          1.2101455038930014,
          1.2207905044900578,
          1.222728440496666,
          1.2252941585900765,
          1.218061017158041,
          1.2289516716157458,
          1.2343560565335774,
          1.2325273000221115,
          1.2331823769820147,
          1.2369763643731897,
          1.2366761207663393,
          1.2322543512883624,
          1.2307531332541102,
          1.225485222701784,
          1.2158228375445823,
          1.2189344531027528,
          1.2123563886306208,
          1.222482786636018,
          1.2205448506294097,
          1.2086937359812362,
          1.1885397126535928,
          1.1874170021149604,
          1.1990000888915815,
          1.2135679427099328,
          1.2155669151323758,
          1.2120892507810024,
          1.1876634507697823,
          1.189662423192225,
          1.175121952557743,
          1.1890873763309744,
          1.1737527933642888,
          1.1859656933698992,
          1.1908946664663336,
          1.2011907436011082,
          1.1990000888915815,
          1.190319619605083,
          1.1873896189310913,
          1.191661395614668,
          1.2117058862068353,
          1.2209340191707156,
          1.2245485994414342,
          1.2339957978762672,
          1.2388426214210946,
          1.242073837117646,
          1.2407868274757994,
          1.247440941155986,
          1.2485636516946184,
          1.243032248553064,
          1.2550260830877211,
          1.257572719187546,
          1.2597359907132035,
          1.2648292629128524,
          1.2725513207639334,
          1.278548238031262,
          1.282984313818053,
          1.2840796411728164,
          1.2798352476731087,
          1.2695391705383343,
          1.2699499182963705,
          1.2795340326505489,
          1.2799721635924544,
          1.285038052608234,
          1.281916369647159,
          1.2862702958823429,
          1.28397010843734,
          1.2803555281666217,
          1.2820532855665043,
          1.2854761835501396,
          1.256805990039212,
          1.2722227225575045,
          1.247468324339855,
          1.2336124333021,
          1.252506830171766,
          1.2416083229918715,
          1.2563130927295685,
          1.282299734221326
         ],
         "yaxis": "y"
        }
       ],
       "layout": {
        "height": 500,
        "legend": {
         "tracegroupgap": 0
        },
        "margin": {
         "b": 10,
         "l": 30,
         "r": 30,
         "t": 60
        },
        "showlegend": false,
        "template": {
         "data": {
          "bar": [
           {
            "error_x": {
             "color": "#f2f5fa"
            },
            "error_y": {
             "color": "#f2f5fa"
            },
            "marker": {
             "line": {
              "color": "rgb(17,17,17)",
              "width": 0.5
             },
             "pattern": {
              "fillmode": "overlay",
              "size": 10,
              "solidity": 0.2
             }
            },
            "type": "bar"
           }
          ],
          "barpolar": [
           {
            "marker": {
             "line": {
              "color": "rgb(17,17,17)",
              "width": 0.5
             },
             "pattern": {
              "fillmode": "overlay",
              "size": 10,
              "solidity": 0.2
             }
            },
            "type": "barpolar"
           }
          ],
          "carpet": [
           {
            "aaxis": {
             "endlinecolor": "#A2B1C6",
             "gridcolor": "#506784",
             "linecolor": "#506784",
             "minorgridcolor": "#506784",
             "startlinecolor": "#A2B1C6"
            },
            "baxis": {
             "endlinecolor": "#A2B1C6",
             "gridcolor": "#506784",
             "linecolor": "#506784",
             "minorgridcolor": "#506784",
             "startlinecolor": "#A2B1C6"
            },
            "type": "carpet"
           }
          ],
          "choropleth": [
           {
            "colorbar": {
             "outlinewidth": 0,
             "ticks": ""
            },
            "type": "choropleth"
           }
          ],
          "contour": [
           {
            "colorbar": {
             "outlinewidth": 0,
             "ticks": ""
            },
            "colorscale": [
             [
              0,
              "#0d0887"
             ],
             [
              0.1111111111111111,
              "#46039f"
             ],
             [
              0.2222222222222222,
              "#7201a8"
             ],
             [
              0.3333333333333333,
              "#9c179e"
             ],
             [
              0.4444444444444444,
              "#bd3786"
             ],
             [
              0.5555555555555556,
              "#d8576b"
             ],
             [
              0.6666666666666666,
              "#ed7953"
             ],
             [
              0.7777777777777778,
              "#fb9f3a"
             ],
             [
              0.8888888888888888,
              "#fdca26"
             ],
             [
              1,
              "#f0f921"
             ]
            ],
            "type": "contour"
           }
          ],
          "contourcarpet": [
           {
            "colorbar": {
             "outlinewidth": 0,
             "ticks": ""
            },
            "type": "contourcarpet"
           }
          ],
          "heatmap": [
           {
            "colorbar": {
             "outlinewidth": 0,
             "ticks": ""
            },
            "colorscale": [
             [
              0,
              "#0d0887"
             ],
             [
              0.1111111111111111,
              "#46039f"
             ],
             [
              0.2222222222222222,
              "#7201a8"
             ],
             [
              0.3333333333333333,
              "#9c179e"
             ],
             [
              0.4444444444444444,
              "#bd3786"
             ],
             [
              0.5555555555555556,
              "#d8576b"
             ],
             [
              0.6666666666666666,
              "#ed7953"
             ],
             [
              0.7777777777777778,
              "#fb9f3a"
             ],
             [
              0.8888888888888888,
              "#fdca26"
             ],
             [
              1,
              "#f0f921"
             ]
            ],
            "type": "heatmap"
           }
          ],
          "heatmapgl": [
           {
            "colorbar": {
             "outlinewidth": 0,
             "ticks": ""
            },
            "colorscale": [
             [
              0,
              "#0d0887"
             ],
             [
              0.1111111111111111,
              "#46039f"
             ],
             [
              0.2222222222222222,
              "#7201a8"
             ],
             [
              0.3333333333333333,
              "#9c179e"
             ],
             [
              0.4444444444444444,
              "#bd3786"
             ],
             [
              0.5555555555555556,
              "#d8576b"
             ],
             [
              0.6666666666666666,
              "#ed7953"
             ],
             [
              0.7777777777777778,
              "#fb9f3a"
             ],
             [
              0.8888888888888888,
              "#fdca26"
             ],
             [
              1,
              "#f0f921"
             ]
            ],
            "type": "heatmapgl"
           }
          ],
          "histogram": [
           {
            "marker": {
             "pattern": {
              "fillmode": "overlay",
              "size": 10,
              "solidity": 0.2
             }
            },
            "type": "histogram"
           }
          ],
          "histogram2d": [
           {
            "colorbar": {
             "outlinewidth": 0,
             "ticks": ""
            },
            "colorscale": [
             [
              0,
              "#0d0887"
             ],
             [
              0.1111111111111111,
              "#46039f"
             ],
             [
              0.2222222222222222,
              "#7201a8"
             ],
             [
              0.3333333333333333,
              "#9c179e"
             ],
             [
              0.4444444444444444,
              "#bd3786"
             ],
             [
              0.5555555555555556,
              "#d8576b"
             ],
             [
              0.6666666666666666,
              "#ed7953"
             ],
             [
              0.7777777777777778,
              "#fb9f3a"
             ],
             [
              0.8888888888888888,
              "#fdca26"
             ],
             [
              1,
              "#f0f921"
             ]
            ],
            "type": "histogram2d"
           }
          ],
          "histogram2dcontour": [
           {
            "colorbar": {
             "outlinewidth": 0,
             "ticks": ""
            },
            "colorscale": [
             [
              0,
              "#0d0887"
             ],
             [
              0.1111111111111111,
              "#46039f"
             ],
             [
              0.2222222222222222,
              "#7201a8"
             ],
             [
              0.3333333333333333,
              "#9c179e"
             ],
             [
              0.4444444444444444,
              "#bd3786"
             ],
             [
              0.5555555555555556,
              "#d8576b"
             ],
             [
              0.6666666666666666,
              "#ed7953"
             ],
             [
              0.7777777777777778,
              "#fb9f3a"
             ],
             [
              0.8888888888888888,
              "#fdca26"
             ],
             [
              1,
              "#f0f921"
             ]
            ],
            "type": "histogram2dcontour"
           }
          ],
          "mesh3d": [
           {
            "colorbar": {
             "outlinewidth": 0,
             "ticks": ""
            },
            "type": "mesh3d"
           }
          ],
          "parcoords": [
           {
            "line": {
             "colorbar": {
              "outlinewidth": 0,
              "ticks": ""
             }
            },
            "type": "parcoords"
           }
          ],
          "pie": [
           {
            "automargin": true,
            "type": "pie"
           }
          ],
          "scatter": [
           {
            "marker": {
             "line": {
              "color": "#283442"
             }
            },
            "type": "scatter"
           }
          ],
          "scatter3d": [
           {
            "line": {
             "colorbar": {
              "outlinewidth": 0,
              "ticks": ""
             }
            },
            "marker": {
             "colorbar": {
              "outlinewidth": 0,
              "ticks": ""
             }
            },
            "type": "scatter3d"
           }
          ],
          "scattercarpet": [
           {
            "marker": {
             "colorbar": {
              "outlinewidth": 0,
              "ticks": ""
             }
            },
            "type": "scattercarpet"
           }
          ],
          "scattergeo": [
           {
            "marker": {
             "colorbar": {
              "outlinewidth": 0,
              "ticks": ""
             }
            },
            "type": "scattergeo"
           }
          ],
          "scattergl": [
           {
            "marker": {
             "line": {
              "color": "#283442"
             }
            },
            "type": "scattergl"
           }
          ],
          "scattermapbox": [
           {
            "marker": {
             "colorbar": {
              "outlinewidth": 0,
              "ticks": ""
             }
            },
            "type": "scattermapbox"
           }
          ],
          "scatterpolar": [
           {
            "marker": {
             "colorbar": {
              "outlinewidth": 0,
              "ticks": ""
             }
            },
            "type": "scatterpolar"
           }
          ],
          "scatterpolargl": [
           {
            "marker": {
             "colorbar": {
              "outlinewidth": 0,
              "ticks": ""
             }
            },
            "type": "scatterpolargl"
           }
          ],
          "scatterternary": [
           {
            "marker": {
             "colorbar": {
              "outlinewidth": 0,
              "ticks": ""
             }
            },
            "type": "scatterternary"
           }
          ],
          "surface": [
           {
            "colorbar": {
             "outlinewidth": 0,
             "ticks": ""
            },
            "colorscale": [
             [
              0,
              "#0d0887"
             ],
             [
              0.1111111111111111,
              "#46039f"
             ],
             [
              0.2222222222222222,
              "#7201a8"
             ],
             [
              0.3333333333333333,
              "#9c179e"
             ],
             [
              0.4444444444444444,
              "#bd3786"
             ],
             [
              0.5555555555555556,
              "#d8576b"
             ],
             [
              0.6666666666666666,
              "#ed7953"
             ],
             [
              0.7777777777777778,
              "#fb9f3a"
             ],
             [
              0.8888888888888888,
              "#fdca26"
             ],
             [
              1,
              "#f0f921"
             ]
            ],
            "type": "surface"
           }
          ],
          "table": [
           {
            "cells": {
             "fill": {
              "color": "#506784"
             },
             "line": {
              "color": "rgb(17,17,17)"
             }
            },
            "header": {
             "fill": {
              "color": "#2a3f5f"
             },
             "line": {
              "color": "rgb(17,17,17)"
             }
            },
            "type": "table"
           }
          ]
         },
         "layout": {
          "annotationdefaults": {
           "arrowcolor": "#f2f5fa",
           "arrowhead": 0,
           "arrowwidth": 1
          },
          "autotypenumbers": "strict",
          "coloraxis": {
           "colorbar": {
            "outlinewidth": 0,
            "ticks": ""
           }
          },
          "colorscale": {
           "diverging": [
            [
             0,
             "#8e0152"
            ],
            [
             0.1,
             "#c51b7d"
            ],
            [
             0.2,
             "#de77ae"
            ],
            [
             0.3,
             "#f1b6da"
            ],
            [
             0.4,
             "#fde0ef"
            ],
            [
             0.5,
             "#f7f7f7"
            ],
            [
             0.6,
             "#e6f5d0"
            ],
            [
             0.7,
             "#b8e186"
            ],
            [
             0.8,
             "#7fbc41"
            ],
            [
             0.9,
             "#4d9221"
            ],
            [
             1,
             "#276419"
            ]
           ],
           "sequential": [
            [
             0,
             "#0d0887"
            ],
            [
             0.1111111111111111,
             "#46039f"
            ],
            [
             0.2222222222222222,
             "#7201a8"
            ],
            [
             0.3333333333333333,
             "#9c179e"
            ],
            [
             0.4444444444444444,
             "#bd3786"
            ],
            [
             0.5555555555555556,
             "#d8576b"
            ],
            [
             0.6666666666666666,
             "#ed7953"
            ],
            [
             0.7777777777777778,
             "#fb9f3a"
            ],
            [
             0.8888888888888888,
             "#fdca26"
            ],
            [
             1,
             "#f0f921"
            ]
           ],
           "sequentialminus": [
            [
             0,
             "#0d0887"
            ],
            [
             0.1111111111111111,
             "#46039f"
            ],
            [
             0.2222222222222222,
             "#7201a8"
            ],
            [
             0.3333333333333333,
             "#9c179e"
            ],
            [
             0.4444444444444444,
             "#bd3786"
            ],
            [
             0.5555555555555556,
             "#d8576b"
            ],
            [
             0.6666666666666666,
             "#ed7953"
            ],
            [
             0.7777777777777778,
             "#fb9f3a"
            ],
            [
             0.8888888888888888,
             "#fdca26"
            ],
            [
             1,
             "#f0f921"
            ]
           ]
          },
          "colorway": [
           "#636efa",
           "#EF553B",
           "#00cc96",
           "#ab63fa",
           "#FFA15A",
           "#19d3f3",
           "#FF6692",
           "#B6E880",
           "#FF97FF",
           "#FECB52"
          ],
          "font": {
           "color": "#f2f5fa"
          },
          "geo": {
           "bgcolor": "rgb(17,17,17)",
           "lakecolor": "rgb(17,17,17)",
           "landcolor": "rgb(17,17,17)",
           "showlakes": true,
           "showland": true,
           "subunitcolor": "#506784"
          },
          "hoverlabel": {
           "align": "left"
          },
          "hovermode": "closest",
          "mapbox": {
           "style": "dark"
          },
          "paper_bgcolor": "rgb(17,17,17)",
          "plot_bgcolor": "rgb(17,17,17)",
          "polar": {
           "angularaxis": {
            "gridcolor": "#506784",
            "linecolor": "#506784",
            "ticks": ""
           },
           "bgcolor": "rgb(17,17,17)",
           "radialaxis": {
            "gridcolor": "#506784",
            "linecolor": "#506784",
            "ticks": ""
           }
          },
          "scene": {
           "xaxis": {
            "backgroundcolor": "rgb(17,17,17)",
            "gridcolor": "#506784",
            "gridwidth": 2,
            "linecolor": "#506784",
            "showbackground": true,
            "ticks": "",
            "zerolinecolor": "#C8D4E3"
           },
           "yaxis": {
            "backgroundcolor": "rgb(17,17,17)",
            "gridcolor": "#506784",
            "gridwidth": 2,
            "linecolor": "#506784",
            "showbackground": true,
            "ticks": "",
            "zerolinecolor": "#C8D4E3"
           },
           "zaxis": {
            "backgroundcolor": "rgb(17,17,17)",
            "gridcolor": "#506784",
            "gridwidth": 2,
            "linecolor": "#506784",
            "showbackground": true,
            "ticks": "",
            "zerolinecolor": "#C8D4E3"
           }
          },
          "shapedefaults": {
           "line": {
            "color": "#f2f5fa"
           }
          },
          "sliderdefaults": {
           "bgcolor": "#C8D4E3",
           "bordercolor": "rgb(17,17,17)",
           "borderwidth": 1,
           "tickwidth": 0
          },
          "ternary": {
           "aaxis": {
            "gridcolor": "#506784",
            "linecolor": "#506784",
            "ticks": ""
           },
           "baxis": {
            "gridcolor": "#506784",
            "linecolor": "#506784",
            "ticks": ""
           },
           "bgcolor": "rgb(17,17,17)",
           "caxis": {
            "gridcolor": "#506784",
            "linecolor": "#506784",
            "ticks": ""
           }
          },
          "title": {
           "x": 0.05
          },
          "updatemenudefaults": {
           "bgcolor": "#506784",
           "borderwidth": 0
          },
          "xaxis": {
           "automargin": true,
           "gridcolor": "#283442",
           "linecolor": "#506784",
           "ticks": "",
           "title": {
            "standoff": 15
           },
           "zerolinecolor": "#283442",
           "zerolinewidth": 2
          },
          "yaxis": {
           "automargin": true,
           "gridcolor": "#283442",
           "linecolor": "#506784",
           "ticks": "",
           "title": {
            "standoff": 15
           },
           "zerolinecolor": "#283442",
           "zerolinewidth": 2
          }
         }
        },
        "title": {
         "text": "SPY 2021 YTD Cumulative Return (%)",
         "x": 0.5,
         "xanchor": "center",
         "y": 0.95,
         "yanchor": "top"
        },
        "width": 800,
        "xaxis": {
         "anchor": "y",
         "autorange": true,
         "domain": [
          0,
          1
         ],
         "range": [
          0,
          234
         ],
         "rangeslider": {
          "visible": false,
          "yaxis": {}
         },
         "tickmode": "array",
         "ticktext": [
          "Jan",
          "Feb",
          "Mar",
          "Apr",
          "May",
          "Jun",
          "Jul",
          "Aug",
          "Sep",
          "Oct",
          "Nov",
          "Dec"
         ],
         "tickvals": [
          1,
          22,
          43,
          64,
          85,
          106,
          127,
          148,
          169,
          191,
          212,
          233
         ],
         "title": {
          "text": ""
         },
         "type": "linear"
        },
        "yaxis": {
         "anchor": "x",
         "autorange": true,
         "domain": [
          0,
          1
         ],
         "range": [
          0.9840960946732031,
          1.3021742012091397
         ],
         "tickmode": "array",
         "ticktext": [
          "0%",
          "5%",
          "10%",
          "15%",
          "20%",
          "25%",
          "30%",
          "35%"
         ],
         "tickvals": [
          1,
          1.05,
          1.1,
          1.15,
          1.2,
          1.25,
          1.3,
          1.35
         ],
         "title": {
          "text": "Cumulative Return (%)"
         },
         "type": "linear"
        }
       }
      },
      "image/png": "[encoded data removed]",
      "text/html": [
       "<div>                            <div id=\"bc9ad50e-9180-4969-923a-eee28afd3446\" class=\"plotly-graph-div\" style=\"height:500px; width:800px;\"></div>            <script type=\"text/javascript\">                require([\"plotly\"], function(Plotly) {                    window.PLOTLYENV=window.PLOTLYENV || {};                                    if (document.getElementById(\"bc9ad50e-9180-4969-923a-eee28afd3446\")) {                    Plotly.newPlot(                        \"bc9ad50e-9180-4969-923a-eee28afd3446\",                        [{\"hovertemplate\":\"=%{x}<br>Cumulative Return (%)=%{y}<extra></extra>\",\"legendgroup\":\"\",\"line\":{\"color\":\"#636efa\",\"dash\":\"solid\"},\"marker\":{\"symbol\":\"circle\"},\"mode\":\"lines\",\"name\":\"\",\"orientation\":\"v\",\"showlegend\":false,\"type\":\"scatter\",\"x\":[0,1,2,3,4,5,6,7,8,9,10,11,12,13,14,15,16,17,18,19,20,21,22,23,24,25,26,27,28,29,30,31,32,33,34,35,36,37,38,39,40,41,42,43,44,45,46,47,48,49,50,51,52,53,54,55,56,57,58,59,60,61,62,63,64,65,66,67,68,69,70,71,72,73,74,75,76,77,78,79,80,81,82,83,84,85,86,87,88,89,90,91,92,93,94,95,96,97,98,99,100,101,102,103,104,105,106,107,108,109,110,111,112,113,114,115,116,117,118,119,120,121,122,123,124,125,126,127,128,129,130,131,132,133,134,135,136,137,138,139,140,141,142,143,144,145,146,147,148,149,150,151,152,153,154,155,156,157,158,159,160,161,162,163,164,165,166,167,168,169,170,171,172,173,174,175,176,177,178,179,180,181,182,183,184,185,186,187,188,189,190,191,192,193,194,195,196,197,198,199,200,201,202,203,204,205,206,207,208,209,210,211,212,213,214,215,216,217,218,219,220,221,222,223,224,225,226,227,228,229,230,231,232,233,234],\"xaxis\":\"x\",\"y\":[1.0,1.006887388485146,1.0129070744864974,1.0279562894871377,1.0338132812698675,1.026844545675411,1.0270614712984136,1.029827272973896,1.026220884514071,1.0187369505670372,1.0267360828639098,1.0409447110802073,1.041893760676051,1.038206025109654,1.0423004962171267,1.0406735540555616,1.015239024918713,1.0239702811884273,1.003470809946133,1.0201740828105288,1.034599636649829,1.0354131077292423,1.047181322704561,1.0513029095142248,1.0588953062700217,1.0581902980021094,1.0577293310539138,1.0594376203247895,1.0646709509461796,1.063749017055265,1.0639930583804582,1.0594647360269802,1.0575937525402217,1.0494590417296572,1.0507334797572665,1.0623118848117732,1.036714661459042,1.0313728680261507,1.0563735459197323,1.0481303722976665,1.0342471325131344,1.021448520838138,1.040239702812295,1.0350606035952865,1.0498386615685422,1.0563735459197323,1.067084248487706,1.0685213807311975,1.0748935708665053,1.073537785732324,1.0771984055965305,1.0615255294345505,1.059567200845055,1.06802785093025,1.0596216101716736,1.0542350869651282,1.0601657034241685,1.0772502315661998,1.0767061383137049,1.073849648736053,1.0782023947587505,1.0898459903730942,1.1054886713966985,1.1048357594937046,1.106114378637752,1.11136487852912,1.1194446633361994,1.1198527332762551,1.1231717021178431,1.1193358446857005,1.1313603055754216,1.135141753683684,1.1295647978408194,1.121294580394682,1.1319043988279167,1.1215666270222988,1.1337271112271974,1.1360939168762347,1.1358490749132966,1.1355226189617995,1.1427590592240893,1.135250572334183,1.1376989919717793,1.1306801890104876,1.1310338496239247,1.1400657976235549,1.1483632197316322,1.136991670744905,1.1268443315756065,1.1029042284439248,1.1161528991538132,1.1332918366224631,1.1304081423828711,1.1206688731536285,1.1177307695874177,1.1297552304798772,1.1288302719492669,1.140337844248433,1.1378078106222782,1.1400657976235549,1.1406643002026684,1.1427046499002087,1.1416980773810397,1.1434935851156418,1.1392496577434432,1.14966904353762,1.1485536523706903,1.1487984943336282,1.1470846005875848,1.152416714464773,1.1543210408498743,1.156905483802648,1.1547835201165486,1.1483360150696922,1.1479551497915768,1.132518884147221,1.1487320389034534,1.1548733854032298,1.153481346861382,1.1603050651941624,1.1644265910680272,1.1667739501738903,1.1674017322606924,1.1683843477005469,1.1748532326775365,1.1838332460044725,1.1816769510103171,1.185853066630384,1.176190681470444,1.1887463232037458,1.193004323443116,1.1889373873154534,1.1907115540834552,1.1866446179557926,1.1773370661516436,1.15995023184111,1.176572809699336,1.1860987204910325,1.1885825539624009,1.2008106572130128,1.2037585035325769,1.198272233995442,1.1977809262741457,1.2027485932196211,1.1969074903266952,1.1943963619822255,1.2041133368856294,1.1981903493734003,1.2057783241584883,1.2077708499140372,1.2067882344741825,1.2082894525056966,1.2112918885714627,1.214922106724031,1.2171329914643885,1.2199989531646491,1.212001555277568,1.198736246840899,1.200592298228204,1.2101455038930014,1.2207905044900578,1.222728440496666,1.2252941585900765,1.218061017158041,1.2289516716157458,1.2343560565335774,1.2325273000221115,1.2331823769820147,1.2369763643731897,1.2366761207663393,1.2322543512883624,1.2307531332541102,1.225485222701784,1.2158228375445823,1.2189344531027528,1.2123563886306208,1.222482786636018,1.2205448506294097,1.2086937359812362,1.1885397126535928,1.1874170021149604,1.1990000888915815,1.2135679427099328,1.2155669151323758,1.2120892507810024,1.1876634507697823,1.189662423192225,1.175121952557743,1.1890873763309744,1.1737527933642888,1.1859656933698992,1.1908946664663336,1.2011907436011082,1.1990000888915815,1.190319619605083,1.1873896189310913,1.191661395614668,1.2117058862068353,1.2209340191707156,1.2245485994414342,1.2339957978762672,1.2388426214210946,1.242073837117646,1.2407868274757994,1.247440941155986,1.2485636516946184,1.243032248553064,1.2550260830877211,1.257572719187546,1.2597359907132035,1.2648292629128524,1.2725513207639334,1.278548238031262,1.282984313818053,1.2840796411728164,1.2798352476731087,1.2695391705383343,1.2699499182963705,1.2795340326505489,1.2799721635924544,1.285038052608234,1.281916369647159,1.2862702958823429,1.28397010843734,1.2803555281666217,1.2820532855665043,1.2854761835501396,1.256805990039212,1.2722227225575045,1.247468324339855,1.2336124333021,1.252506830171766,1.2416083229918715,1.2563130927295685,1.282299734221326],\"yaxis\":\"y\"}],                        {\"height\":500,\"legend\":{\"tracegroupgap\":0},\"margin\":{\"b\":10,\"l\":30,\"r\":30,\"t\":60},\"showlegend\":false,\"template\":{\"data\":{\"bar\":[{\"error_x\":{\"color\":\"#f2f5fa\"},\"error_y\":{\"color\":\"#f2f5fa\"},\"marker\":{\"line\":{\"color\":\"rgb(17,17,17)\",\"width\":0.5},\"pattern\":{\"fillmode\":\"overlay\",\"size\":10,\"solidity\":0.2}},\"type\":\"bar\"}],\"barpolar\":[{\"marker\":{\"line\":{\"color\":\"rgb(17,17,17)\",\"width\":0.5},\"pattern\":{\"fillmode\":\"overlay\",\"size\":10,\"solidity\":0.2}},\"type\":\"barpolar\"}],\"carpet\":[{\"aaxis\":{\"endlinecolor\":\"#A2B1C6\",\"gridcolor\":\"#506784\",\"linecolor\":\"#506784\",\"minorgridcolor\":\"#506784\",\"startlinecolor\":\"#A2B1C6\"},\"baxis\":{\"endlinecolor\":\"#A2B1C6\",\"gridcolor\":\"#506784\",\"linecolor\":\"#506784\",\"minorgridcolor\":\"#506784\",\"startlinecolor\":\"#A2B1C6\"},\"type\":\"carpet\"}],\"choropleth\":[{\"colorbar\":{\"outlinewidth\":0,\"ticks\":\"\"},\"type\":\"choropleth\"}],\"contour\":[{\"colorbar\":{\"outlinewidth\":0,\"ticks\":\"\"},\"colorscale\":[[0.0,\"#0d0887\"],[0.1111111111111111,\"#46039f\"],[0.2222222222222222,\"#7201a8\"],[0.3333333333333333,\"#9c179e\"],[0.4444444444444444,\"#bd3786\"],[0.5555555555555556,\"#d8576b\"],[0.6666666666666666,\"#ed7953\"],[0.7777777777777778,\"#fb9f3a\"],[0.8888888888888888,\"#fdca26\"],[1.0,\"#f0f921\"]],\"type\":\"contour\"}],\"contourcarpet\":[{\"colorbar\":{\"outlinewidth\":0,\"ticks\":\"\"},\"type\":\"contourcarpet\"}],\"heatmap\":[{\"colorbar\":{\"outlinewidth\":0,\"ticks\":\"\"},\"colorscale\":[[0.0,\"#0d0887\"],[0.1111111111111111,\"#46039f\"],[0.2222222222222222,\"#7201a8\"],[0.3333333333333333,\"#9c179e\"],[0.4444444444444444,\"#bd3786\"],[0.5555555555555556,\"#d8576b\"],[0.6666666666666666,\"#ed7953\"],[0.7777777777777778,\"#fb9f3a\"],[0.8888888888888888,\"#fdca26\"],[1.0,\"#f0f921\"]],\"type\":\"heatmap\"}],\"heatmapgl\":[{\"colorbar\":{\"outlinewidth\":0,\"ticks\":\"\"},\"colorscale\":[[0.0,\"#0d0887\"],[0.1111111111111111,\"#46039f\"],[0.2222222222222222,\"#7201a8\"],[0.3333333333333333,\"#9c179e\"],[0.4444444444444444,\"#bd3786\"],[0.5555555555555556,\"#d8576b\"],[0.6666666666666666,\"#ed7953\"],[0.7777777777777778,\"#fb9f3a\"],[0.8888888888888888,\"#fdca26\"],[1.0,\"#f0f921\"]],\"type\":\"heatmapgl\"}],\"histogram\":[{\"marker\":{\"pattern\":{\"fillmode\":\"overlay\",\"size\":10,\"solidity\":0.2}},\"type\":\"histogram\"}],\"histogram2d\":[{\"colorbar\":{\"outlinewidth\":0,\"ticks\":\"\"},\"colorscale\":[[0.0,\"#0d0887\"],[0.1111111111111111,\"#46039f\"],[0.2222222222222222,\"#7201a8\"],[0.3333333333333333,\"#9c179e\"],[0.4444444444444444,\"#bd3786\"],[0.5555555555555556,\"#d8576b\"],[0.6666666666666666,\"#ed7953\"],[0.7777777777777778,\"#fb9f3a\"],[0.8888888888888888,\"#fdca26\"],[1.0,\"#f0f921\"]],\"type\":\"histogram2d\"}],\"histogram2dcontour\":[{\"colorbar\":{\"outlinewidth\":0,\"ticks\":\"\"},\"colorscale\":[[0.0,\"#0d0887\"],[0.1111111111111111,\"#46039f\"],[0.2222222222222222,\"#7201a8\"],[0.3333333333333333,\"#9c179e\"],[0.4444444444444444,\"#bd3786\"],[0.5555555555555556,\"#d8576b\"],[0.6666666666666666,\"#ed7953\"],[0.7777777777777778,\"#fb9f3a\"],[0.8888888888888888,\"#fdca26\"],[1.0,\"#f0f921\"]],\"type\":\"histogram2dcontour\"}],\"mesh3d\":[{\"colorbar\":{\"outlinewidth\":0,\"ticks\":\"\"},\"type\":\"mesh3d\"}],\"parcoords\":[{\"line\":{\"colorbar\":{\"outlinewidth\":0,\"ticks\":\"\"}},\"type\":\"parcoords\"}],\"pie\":[{\"automargin\":true,\"type\":\"pie\"}],\"scatter\":[{\"marker\":{\"line\":{\"color\":\"#283442\"}},\"type\":\"scatter\"}],\"scatter3d\":[{\"line\":{\"colorbar\":{\"outlinewidth\":0,\"ticks\":\"\"}},\"marker\":{\"colorbar\":{\"outlinewidth\":0,\"ticks\":\"\"}},\"type\":\"scatter3d\"}],\"scattercarpet\":[{\"marker\":{\"colorbar\":{\"outlinewidth\":0,\"ticks\":\"\"}},\"type\":\"scattercarpet\"}],\"scattergeo\":[{\"marker\":{\"colorbar\":{\"outlinewidth\":0,\"ticks\":\"\"}},\"type\":\"scattergeo\"}],\"scattergl\":[{\"marker\":{\"line\":{\"color\":\"#283442\"}},\"type\":\"scattergl\"}],\"scattermapbox\":[{\"marker\":{\"colorbar\":{\"outlinewidth\":0,\"ticks\":\"\"}},\"type\":\"scattermapbox\"}],\"scatterpolar\":[{\"marker\":{\"colorbar\":{\"outlinewidth\":0,\"ticks\":\"\"}},\"type\":\"scatterpolar\"}],\"scatterpolargl\":[{\"marker\":{\"colorbar\":{\"outlinewidth\":0,\"ticks\":\"\"}},\"type\":\"scatterpolargl\"}],\"scatterternary\":[{\"marker\":{\"colorbar\":{\"outlinewidth\":0,\"ticks\":\"\"}},\"type\":\"scatterternary\"}],\"surface\":[{\"colorbar\":{\"outlinewidth\":0,\"ticks\":\"\"},\"colorscale\":[[0.0,\"#0d0887\"],[0.1111111111111111,\"#46039f\"],[0.2222222222222222,\"#7201a8\"],[0.3333333333333333,\"#9c179e\"],[0.4444444444444444,\"#bd3786\"],[0.5555555555555556,\"#d8576b\"],[0.6666666666666666,\"#ed7953\"],[0.7777777777777778,\"#fb9f3a\"],[0.8888888888888888,\"#fdca26\"],[1.0,\"#f0f921\"]],\"type\":\"surface\"}],\"table\":[{\"cells\":{\"fill\":{\"color\":\"#506784\"},\"line\":{\"color\":\"rgb(17,17,17)\"}},\"header\":{\"fill\":{\"color\":\"#2a3f5f\"},\"line\":{\"color\":\"rgb(17,17,17)\"}},\"type\":\"table\"}]},\"layout\":{\"annotationdefaults\":{\"arrowcolor\":\"#f2f5fa\",\"arrowhead\":0,\"arrowwidth\":1},\"autotypenumbers\":\"strict\",\"coloraxis\":{\"colorbar\":{\"outlinewidth\":0,\"ticks\":\"\"}},\"colorscale\":{\"diverging\":[[0,\"#8e0152\"],[0.1,\"#c51b7d\"],[0.2,\"#de77ae\"],[0.3,\"#f1b6da\"],[0.4,\"#fde0ef\"],[0.5,\"#f7f7f7\"],[0.6,\"#e6f5d0\"],[0.7,\"#b8e186\"],[0.8,\"#7fbc41\"],[0.9,\"#4d9221\"],[1,\"#276419\"]],\"sequential\":[[0.0,\"#0d0887\"],[0.1111111111111111,\"#46039f\"],[0.2222222222222222,\"#7201a8\"],[0.3333333333333333,\"#9c179e\"],[0.4444444444444444,\"#bd3786\"],[0.5555555555555556,\"#d8576b\"],[0.6666666666666666,\"#ed7953\"],[0.7777777777777778,\"#fb9f3a\"],[0.8888888888888888,\"#fdca26\"],[1.0,\"#f0f921\"]],\"sequentialminus\":[[0.0,\"#0d0887\"],[0.1111111111111111,\"#46039f\"],[0.2222222222222222,\"#7201a8\"],[0.3333333333333333,\"#9c179e\"],[0.4444444444444444,\"#bd3786\"],[0.5555555555555556,\"#d8576b\"],[0.6666666666666666,\"#ed7953\"],[0.7777777777777778,\"#fb9f3a\"],[0.8888888888888888,\"#fdca26\"],[1.0,\"#f0f921\"]]},\"colorway\":[\"#636efa\",\"#EF553B\",\"#00cc96\",\"#ab63fa\",\"#FFA15A\",\"#19d3f3\",\"#FF6692\",\"#B6E880\",\"#FF97FF\",\"#FECB52\"],\"font\":{\"color\":\"#f2f5fa\"},\"geo\":{\"bgcolor\":\"rgb(17,17,17)\",\"lakecolor\":\"rgb(17,17,17)\",\"landcolor\":\"rgb(17,17,17)\",\"showlakes\":true,\"showland\":true,\"subunitcolor\":\"#506784\"},\"hoverlabel\":{\"align\":\"left\"},\"hovermode\":\"closest\",\"mapbox\":{\"style\":\"dark\"},\"paper_bgcolor\":\"rgb(17,17,17)\",\"plot_bgcolor\":\"rgb(17,17,17)\",\"polar\":{\"angularaxis\":{\"gridcolor\":\"#506784\",\"linecolor\":\"#506784\",\"ticks\":\"\"},\"bgcolor\":\"rgb(17,17,17)\",\"radialaxis\":{\"gridcolor\":\"#506784\",\"linecolor\":\"#506784\",\"ticks\":\"\"}},\"scene\":{\"xaxis\":{\"backgroundcolor\":\"rgb(17,17,17)\",\"gridcolor\":\"#506784\",\"gridwidth\":2,\"linecolor\":\"#506784\",\"showbackground\":true,\"ticks\":\"\",\"zerolinecolor\":\"#C8D4E3\"},\"yaxis\":{\"backgroundcolor\":\"rgb(17,17,17)\",\"gridcolor\":\"#506784\",\"gridwidth\":2,\"linecolor\":\"#506784\",\"showbackground\":true,\"ticks\":\"\",\"zerolinecolor\":\"#C8D4E3\"},\"zaxis\":{\"backgroundcolor\":\"rgb(17,17,17)\",\"gridcolor\":\"#506784\",\"gridwidth\":2,\"linecolor\":\"#506784\",\"showbackground\":true,\"ticks\":\"\",\"zerolinecolor\":\"#C8D4E3\"}},\"shapedefaults\":{\"line\":{\"color\":\"#f2f5fa\"}},\"sliderdefaults\":{\"bgcolor\":\"#C8D4E3\",\"bordercolor\":\"rgb(17,17,17)\",\"borderwidth\":1,\"tickwidth\":0},\"ternary\":{\"aaxis\":{\"gridcolor\":\"#506784\",\"linecolor\":\"#506784\",\"ticks\":\"\"},\"baxis\":{\"gridcolor\":\"#506784\",\"linecolor\":\"#506784\",\"ticks\":\"\"},\"bgcolor\":\"rgb(17,17,17)\",\"caxis\":{\"gridcolor\":\"#506784\",\"linecolor\":\"#506784\",\"ticks\":\"\"}},\"title\":{\"x\":0.05},\"updatemenudefaults\":{\"bgcolor\":\"#506784\",\"borderwidth\":0},\"xaxis\":{\"automargin\":true,\"gridcolor\":\"#283442\",\"linecolor\":\"#506784\",\"ticks\":\"\",\"title\":{\"standoff\":15},\"zerolinecolor\":\"#283442\",\"zerolinewidth\":2},\"yaxis\":{\"automargin\":true,\"gridcolor\":\"#283442\",\"linecolor\":\"#506784\",\"ticks\":\"\",\"title\":{\"standoff\":15},\"zerolinecolor\":\"#283442\",\"zerolinewidth\":2}}},\"title\":{\"text\":\"SPY 2021 YTD Cumulative Return (%)\",\"x\":0.5,\"xanchor\":\"center\",\"y\":0.95,\"yanchor\":\"top\"},\"width\":800,\"xaxis\":{\"anchor\":\"y\",\"domain\":[0.0,1.0],\"rangeslider\":{\"visible\":false},\"tickmode\":\"array\",\"ticktext\":[\"Jan\",\"Feb\",\"Mar\",\"Apr\",\"May\",\"Jun\",\"Jul\",\"Aug\",\"Sep\",\"Oct\",\"Nov\",\"Dec\"],\"tickvals\":[1,22,43,64,85,106,127,148,169,191,212,233],\"title\":{\"text\":\"\"}},\"yaxis\":{\"anchor\":\"x\",\"domain\":[0.0,1.0],\"tickmode\":\"array\",\"ticktext\":[\"0%\",\"5%\",\"10%\",\"15%\",\"20%\",\"25%\",\"30%\",\"35%\"],\"tickvals\":[1,1.05,1.1,1.15,1.2,1.25,1.3,1.35],\"title\":{\"text\":\"Cumulative Return (%)\"}}},                        {\"responsive\": true}                    ).then(function(){\n",
       "                            \n",
       "var gd = document.getElementById('bc9ad50e-9180-4969-923a-eee28afd3446');\n",
       "var x = new MutationObserver(function (mutations, observer) {{\n",
       "        var display = window.getComputedStyle(gd).display;\n",
       "        if (!display || display === 'none') {{\n",
       "            console.log([gd, 'removed!']);\n",
       "            Plotly.purge(gd);\n",
       "            observer.disconnect();\n",
       "        }}\n",
       "}});\n",
       "\n",
       "// Listen for the removal of the full notebook cells\n",
       "var notebookContainer = gd.closest('#notebook-container');\n",
       "if (notebookContainer) {{\n",
       "    x.observe(notebookContainer, {childList: true});\n",
       "}}\n",
       "\n",
       "// Listen for the clearing of the current output cell\n",
       "var outputEl = gd.closest('.output');\n",
       "if (outputEl) {{\n",
       "    x.observe(outputEl, {childList: true});\n",
       "}}\n",
       "\n",
       "                        })                };                });            </script>        </div>"
      ]
     },
     "metadata": {},
     "output_type": "display_data"
    }
   ],
   "source": [
    "start_date = '2021-01-01'\n",
    "end_date = '2021-11-01'\n",
    "\n",
    "ticker = 'SPY'\n",
    "df = sp_500_rets_df\n",
    "fig = px.line(\n",
    "    df, x=sp_500_rets_df.index, y='cum_return', \n",
    "    labels={\n",
    "        'index': \"\", 'cum_return': 'Cumulative Return (%)'})\n",
    "               \n",
    "fig.update_layout(\n",
    "    title={\n",
    "        'text': f'{ticker} 2021 YTD Cumulative Return (%)', 'y':0.95, 'x':0.5,\n",
    "        'xanchor': 'center', 'yanchor': 'top'}, \n",
    "    xaxis = dict(\n",
    "        tickmode = 'array',\n",
    "        tickvals = [1,22,43,64,85,106,127, 148,169,191,212,233],\n",
    "        ticktext = ['Jan','Feb','Mar','Apr','May','Jun',\n",
    "                    'Jul','Aug','Sep','Oct','Nov','Dec']),       \n",
    "    yaxis = dict(\n",
    "        tickmode = 'array',\n",
    "        tickvals = [1, 1.05, 1.10, 1.15, 1.20, 1.25, 1.3, 1.35],\n",
    "        ticktext = ['0%', '5%', '10%', '15%', '20%', '25%', '30%', '35%']))\n",
    "\n",
    "fig.update_layout(\n",
    "    height=500, width=800, showlegend=False, \n",
    "    xaxis_rangeslider_visible=False)\n",
    "\n",
    "fig.update_layout(margin=go.layout.Margin(\n",
    "    l=30,r=30, b=10, t=60),\n",
    "    paper_bgcolor=None, template='plotly_dark')\n",
    "\n",
    "fig.show()"
   ]
  },
  {
   "cell_type": "markdown",
   "id": "3037159c-fb40-4b46-8292-87708666d71b",
   "metadata": {},
   "source": [
    "#### Returns Visualization - Plotly Indicator"
   ]
  },
  {
   "cell_type": "code",
   "execution_count": 162,
   "id": "82639f24-604c-4072-ae1a-bee961bd8246",
   "metadata": {},
   "outputs": [
    {
     "data": {
      "application/vnd.plotly.v1+json": {
       "config": {
        "plotlyServerURL": "https://plot.ly"
       },
       "data": [
        {
         "align": "center",
         "delta": {
          "font": {
           "size": 40
          },
          "reference": 100000,
          "relative": true,
          "valueformat": ".2%"
         },
         "domain": {
          "x": [
           0,
           0
          ],
          "y": [
           0,
           0
          ]
         },
         "mode": "number+delta",
         "number": {
          "font": {
           "size": 40
          },
          "prefix": "$"
         },
         "title": {
          "font": {
           "size": 20
          },
          "text": "$100,000 Investment SPY<br><span style='font-size:0.8em;color:gray'>2021 YTD</span><br><span style='font-size:0.8em;color:gray'>"
         },
         "type": "indicator",
         "value": 128229
        }
       ],
       "layout": {
        "height": 300,
        "template": {
         "data": {
          "bar": [
           {
            "error_x": {
             "color": "#f2f5fa"
            },
            "error_y": {
             "color": "#f2f5fa"
            },
            "marker": {
             "line": {
              "color": "rgb(17,17,17)",
              "width": 0.5
             },
             "pattern": {
              "fillmode": "overlay",
              "size": 10,
              "solidity": 0.2
             }
            },
            "type": "bar"
           }
          ],
          "barpolar": [
           {
            "marker": {
             "line": {
              "color": "rgb(17,17,17)",
              "width": 0.5
             },
             "pattern": {
              "fillmode": "overlay",
              "size": 10,
              "solidity": 0.2
             }
            },
            "type": "barpolar"
           }
          ],
          "carpet": [
           {
            "aaxis": {
             "endlinecolor": "#A2B1C6",
             "gridcolor": "#506784",
             "linecolor": "#506784",
             "minorgridcolor": "#506784",
             "startlinecolor": "#A2B1C6"
            },
            "baxis": {
             "endlinecolor": "#A2B1C6",
             "gridcolor": "#506784",
             "linecolor": "#506784",
             "minorgridcolor": "#506784",
             "startlinecolor": "#A2B1C6"
            },
            "type": "carpet"
           }
          ],
          "choropleth": [
           {
            "colorbar": {
             "outlinewidth": 0,
             "ticks": ""
            },
            "type": "choropleth"
           }
          ],
          "contour": [
           {
            "colorbar": {
             "outlinewidth": 0,
             "ticks": ""
            },
            "colorscale": [
             [
              0,
              "#0d0887"
             ],
             [
              0.1111111111111111,
              "#46039f"
             ],
             [
              0.2222222222222222,
              "#7201a8"
             ],
             [
              0.3333333333333333,
              "#9c179e"
             ],
             [
              0.4444444444444444,
              "#bd3786"
             ],
             [
              0.5555555555555556,
              "#d8576b"
             ],
             [
              0.6666666666666666,
              "#ed7953"
             ],
             [
              0.7777777777777778,
              "#fb9f3a"
             ],
             [
              0.8888888888888888,
              "#fdca26"
             ],
             [
              1,
              "#f0f921"
             ]
            ],
            "type": "contour"
           }
          ],
          "contourcarpet": [
           {
            "colorbar": {
             "outlinewidth": 0,
             "ticks": ""
            },
            "type": "contourcarpet"
           }
          ],
          "heatmap": [
           {
            "colorbar": {
             "outlinewidth": 0,
             "ticks": ""
            },
            "colorscale": [
             [
              0,
              "#0d0887"
             ],
             [
              0.1111111111111111,
              "#46039f"
             ],
             [
              0.2222222222222222,
              "#7201a8"
             ],
             [
              0.3333333333333333,
              "#9c179e"
             ],
             [
              0.4444444444444444,
              "#bd3786"
             ],
             [
              0.5555555555555556,
              "#d8576b"
             ],
             [
              0.6666666666666666,
              "#ed7953"
             ],
             [
              0.7777777777777778,
              "#fb9f3a"
             ],
             [
              0.8888888888888888,
              "#fdca26"
             ],
             [
              1,
              "#f0f921"
             ]
            ],
            "type": "heatmap"
           }
          ],
          "heatmapgl": [
           {
            "colorbar": {
             "outlinewidth": 0,
             "ticks": ""
            },
            "colorscale": [
             [
              0,
              "#0d0887"
             ],
             [
              0.1111111111111111,
              "#46039f"
             ],
             [
              0.2222222222222222,
              "#7201a8"
             ],
             [
              0.3333333333333333,
              "#9c179e"
             ],
             [
              0.4444444444444444,
              "#bd3786"
             ],
             [
              0.5555555555555556,
              "#d8576b"
             ],
             [
              0.6666666666666666,
              "#ed7953"
             ],
             [
              0.7777777777777778,
              "#fb9f3a"
             ],
             [
              0.8888888888888888,
              "#fdca26"
             ],
             [
              1,
              "#f0f921"
             ]
            ],
            "type": "heatmapgl"
           }
          ],
          "histogram": [
           {
            "marker": {
             "pattern": {
              "fillmode": "overlay",
              "size": 10,
              "solidity": 0.2
             }
            },
            "type": "histogram"
           }
          ],
          "histogram2d": [
           {
            "colorbar": {
             "outlinewidth": 0,
             "ticks": ""
            },
            "colorscale": [
             [
              0,
              "#0d0887"
             ],
             [
              0.1111111111111111,
              "#46039f"
             ],
             [
              0.2222222222222222,
              "#7201a8"
             ],
             [
              0.3333333333333333,
              "#9c179e"
             ],
             [
              0.4444444444444444,
              "#bd3786"
             ],
             [
              0.5555555555555556,
              "#d8576b"
             ],
             [
              0.6666666666666666,
              "#ed7953"
             ],
             [
              0.7777777777777778,
              "#fb9f3a"
             ],
             [
              0.8888888888888888,
              "#fdca26"
             ],
             [
              1,
              "#f0f921"
             ]
            ],
            "type": "histogram2d"
           }
          ],
          "histogram2dcontour": [
           {
            "colorbar": {
             "outlinewidth": 0,
             "ticks": ""
            },
            "colorscale": [
             [
              0,
              "#0d0887"
             ],
             [
              0.1111111111111111,
              "#46039f"
             ],
             [
              0.2222222222222222,
              "#7201a8"
             ],
             [
              0.3333333333333333,
              "#9c179e"
             ],
             [
              0.4444444444444444,
              "#bd3786"
             ],
             [
              0.5555555555555556,
              "#d8576b"
             ],
             [
              0.6666666666666666,
              "#ed7953"
             ],
             [
              0.7777777777777778,
              "#fb9f3a"
             ],
             [
              0.8888888888888888,
              "#fdca26"
             ],
             [
              1,
              "#f0f921"
             ]
            ],
            "type": "histogram2dcontour"
           }
          ],
          "mesh3d": [
           {
            "colorbar": {
             "outlinewidth": 0,
             "ticks": ""
            },
            "type": "mesh3d"
           }
          ],
          "parcoords": [
           {
            "line": {
             "colorbar": {
              "outlinewidth": 0,
              "ticks": ""
             }
            },
            "type": "parcoords"
           }
          ],
          "pie": [
           {
            "automargin": true,
            "type": "pie"
           }
          ],
          "scatter": [
           {
            "marker": {
             "line": {
              "color": "#283442"
             }
            },
            "type": "scatter"
           }
          ],
          "scatter3d": [
           {
            "line": {
             "colorbar": {
              "outlinewidth": 0,
              "ticks": ""
             }
            },
            "marker": {
             "colorbar": {
              "outlinewidth": 0,
              "ticks": ""
             }
            },
            "type": "scatter3d"
           }
          ],
          "scattercarpet": [
           {
            "marker": {
             "colorbar": {
              "outlinewidth": 0,
              "ticks": ""
             }
            },
            "type": "scattercarpet"
           }
          ],
          "scattergeo": [
           {
            "marker": {
             "colorbar": {
              "outlinewidth": 0,
              "ticks": ""
             }
            },
            "type": "scattergeo"
           }
          ],
          "scattergl": [
           {
            "marker": {
             "line": {
              "color": "#283442"
             }
            },
            "type": "scattergl"
           }
          ],
          "scattermapbox": [
           {
            "marker": {
             "colorbar": {
              "outlinewidth": 0,
              "ticks": ""
             }
            },
            "type": "scattermapbox"
           }
          ],
          "scatterpolar": [
           {
            "marker": {
             "colorbar": {
              "outlinewidth": 0,
              "ticks": ""
             }
            },
            "type": "scatterpolar"
           }
          ],
          "scatterpolargl": [
           {
            "marker": {
             "colorbar": {
              "outlinewidth": 0,
              "ticks": ""
             }
            },
            "type": "scatterpolargl"
           }
          ],
          "scatterternary": [
           {
            "marker": {
             "colorbar": {
              "outlinewidth": 0,
              "ticks": ""
             }
            },
            "type": "scatterternary"
           }
          ],
          "surface": [
           {
            "colorbar": {
             "outlinewidth": 0,
             "ticks": ""
            },
            "colorscale": [
             [
              0,
              "#0d0887"
             ],
             [
              0.1111111111111111,
              "#46039f"
             ],
             [
              0.2222222222222222,
              "#7201a8"
             ],
             [
              0.3333333333333333,
              "#9c179e"
             ],
             [
              0.4444444444444444,
              "#bd3786"
             ],
             [
              0.5555555555555556,
              "#d8576b"
             ],
             [
              0.6666666666666666,
              "#ed7953"
             ],
             [
              0.7777777777777778,
              "#fb9f3a"
             ],
             [
              0.8888888888888888,
              "#fdca26"
             ],
             [
              1,
              "#f0f921"
             ]
            ],
            "type": "surface"
           }
          ],
          "table": [
           {
            "cells": {
             "fill": {
              "color": "#506784"
             },
             "line": {
              "color": "rgb(17,17,17)"
             }
            },
            "header": {
             "fill": {
              "color": "#2a3f5f"
             },
             "line": {
              "color": "rgb(17,17,17)"
             }
            },
            "type": "table"
           }
          ]
         },
         "layout": {
          "annotationdefaults": {
           "arrowcolor": "#f2f5fa",
           "arrowhead": 0,
           "arrowwidth": 1
          },
          "autotypenumbers": "strict",
          "coloraxis": {
           "colorbar": {
            "outlinewidth": 0,
            "ticks": ""
           }
          },
          "colorscale": {
           "diverging": [
            [
             0,
             "#8e0152"
            ],
            [
             0.1,
             "#c51b7d"
            ],
            [
             0.2,
             "#de77ae"
            ],
            [
             0.3,
             "#f1b6da"
            ],
            [
             0.4,
             "#fde0ef"
            ],
            [
             0.5,
             "#f7f7f7"
            ],
            [
             0.6,
             "#e6f5d0"
            ],
            [
             0.7,
             "#b8e186"
            ],
            [
             0.8,
             "#7fbc41"
            ],
            [
             0.9,
             "#4d9221"
            ],
            [
             1,
             "#276419"
            ]
           ],
           "sequential": [
            [
             0,
             "#0d0887"
            ],
            [
             0.1111111111111111,
             "#46039f"
            ],
            [
             0.2222222222222222,
             "#7201a8"
            ],
            [
             0.3333333333333333,
             "#9c179e"
            ],
            [
             0.4444444444444444,
             "#bd3786"
            ],
            [
             0.5555555555555556,
             "#d8576b"
            ],
            [
             0.6666666666666666,
             "#ed7953"
            ],
            [
             0.7777777777777778,
             "#fb9f3a"
            ],
            [
             0.8888888888888888,
             "#fdca26"
            ],
            [
             1,
             "#f0f921"
            ]
           ],
           "sequentialminus": [
            [
             0,
             "#0d0887"
            ],
            [
             0.1111111111111111,
             "#46039f"
            ],
            [
             0.2222222222222222,
             "#7201a8"
            ],
            [
             0.3333333333333333,
             "#9c179e"
            ],
            [
             0.4444444444444444,
             "#bd3786"
            ],
            [
             0.5555555555555556,
             "#d8576b"
            ],
            [
             0.6666666666666666,
             "#ed7953"
            ],
            [
             0.7777777777777778,
             "#fb9f3a"
            ],
            [
             0.8888888888888888,
             "#fdca26"
            ],
            [
             1,
             "#f0f921"
            ]
           ]
          },
          "colorway": [
           "#636efa",
           "#EF553B",
           "#00cc96",
           "#ab63fa",
           "#FFA15A",
           "#19d3f3",
           "#FF6692",
           "#B6E880",
           "#FF97FF",
           "#FECB52"
          ],
          "font": {
           "color": "#f2f5fa"
          },
          "geo": {
           "bgcolor": "rgb(17,17,17)",
           "lakecolor": "rgb(17,17,17)",
           "landcolor": "rgb(17,17,17)",
           "showlakes": true,
           "showland": true,
           "subunitcolor": "#506784"
          },
          "hoverlabel": {
           "align": "left"
          },
          "hovermode": "closest",
          "mapbox": {
           "style": "dark"
          },
          "paper_bgcolor": "rgb(17,17,17)",
          "plot_bgcolor": "rgb(17,17,17)",
          "polar": {
           "angularaxis": {
            "gridcolor": "#506784",
            "linecolor": "#506784",
            "ticks": ""
           },
           "bgcolor": "rgb(17,17,17)",
           "radialaxis": {
            "gridcolor": "#506784",
            "linecolor": "#506784",
            "ticks": ""
           }
          },
          "scene": {
           "xaxis": {
            "backgroundcolor": "rgb(17,17,17)",
            "gridcolor": "#506784",
            "gridwidth": 2,
            "linecolor": "#506784",
            "showbackground": true,
            "ticks": "",
            "zerolinecolor": "#C8D4E3"
           },
           "yaxis": {
            "backgroundcolor": "rgb(17,17,17)",
            "gridcolor": "#506784",
            "gridwidth": 2,
            "linecolor": "#506784",
            "showbackground": true,
            "ticks": "",
            "zerolinecolor": "#C8D4E3"
           },
           "zaxis": {
            "backgroundcolor": "rgb(17,17,17)",
            "gridcolor": "#506784",
            "gridwidth": 2,
            "linecolor": "#506784",
            "showbackground": true,
            "ticks": "",
            "zerolinecolor": "#C8D4E3"
           }
          },
          "shapedefaults": {
           "line": {
            "color": "#f2f5fa"
           }
          },
          "sliderdefaults": {
           "bgcolor": "#C8D4E3",
           "bordercolor": "rgb(17,17,17)",
           "borderwidth": 1,
           "tickwidth": 0
          },
          "ternary": {
           "aaxis": {
            "gridcolor": "#506784",
            "linecolor": "#506784",
            "ticks": ""
           },
           "baxis": {
            "gridcolor": "#506784",
            "linecolor": "#506784",
            "ticks": ""
           },
           "bgcolor": "rgb(17,17,17)",
           "caxis": {
            "gridcolor": "#506784",
            "linecolor": "#506784",
            "ticks": ""
           }
          },
          "title": {
           "x": 0.05
          },
          "updatemenudefaults": {
           "bgcolor": "#506784",
           "borderwidth": 0
          },
          "xaxis": {
           "automargin": true,
           "gridcolor": "#283442",
           "linecolor": "#506784",
           "ticks": "",
           "title": {
            "standoff": 15
           },
           "zerolinecolor": "#283442",
           "zerolinewidth": 2
          },
          "yaxis": {
           "automargin": true,
           "gridcolor": "#283442",
           "linecolor": "#506784",
           "ticks": "",
           "title": {
            "standoff": 15
           },
           "zerolinecolor": "#283442",
           "zerolinewidth": 2
          }
         }
        },
        "width": 300
       }
      },
      "image/png": "[encoded data removed]",
      "text/html": [
       "<div>                            <div id=\"73d0551d-5961-46a6-a0fd-7f068b32216e\" class=\"plotly-graph-div\" style=\"height:300px; width:300px;\"></div>            <script type=\"text/javascript\">                require([\"plotly\"], function(Plotly) {                    window.PLOTLYENV=window.PLOTLYENV || {};                                    if (document.getElementById(\"73d0551d-5961-46a6-a0fd-7f068b32216e\")) {                    Plotly.newPlot(                        \"73d0551d-5961-46a6-a0fd-7f068b32216e\",                        [{\"align\":\"center\",\"delta\":{\"font\":{\"size\":40},\"reference\":100000,\"relative\":true,\"valueformat\":\".2%\"},\"domain\":{\"x\":[0,0],\"y\":[0,0]},\"mode\":\"number+delta\",\"number\":{\"font\":{\"size\":40},\"prefix\":\"$\"},\"title\":{\"font\":{\"size\":20},\"text\":\"$100,000 Investment SPY<br><span style='font-size:0.8em;color:gray'>2021 YTD</span><br><span style='font-size:0.8em;color:gray'>\"},\"type\":\"indicator\",\"value\":128229}],                        {\"height\":300,\"template\":{\"data\":{\"bar\":[{\"error_x\":{\"color\":\"#f2f5fa\"},\"error_y\":{\"color\":\"#f2f5fa\"},\"marker\":{\"line\":{\"color\":\"rgb(17,17,17)\",\"width\":0.5},\"pattern\":{\"fillmode\":\"overlay\",\"size\":10,\"solidity\":0.2}},\"type\":\"bar\"}],\"barpolar\":[{\"marker\":{\"line\":{\"color\":\"rgb(17,17,17)\",\"width\":0.5},\"pattern\":{\"fillmode\":\"overlay\",\"size\":10,\"solidity\":0.2}},\"type\":\"barpolar\"}],\"carpet\":[{\"aaxis\":{\"endlinecolor\":\"#A2B1C6\",\"gridcolor\":\"#506784\",\"linecolor\":\"#506784\",\"minorgridcolor\":\"#506784\",\"startlinecolor\":\"#A2B1C6\"},\"baxis\":{\"endlinecolor\":\"#A2B1C6\",\"gridcolor\":\"#506784\",\"linecolor\":\"#506784\",\"minorgridcolor\":\"#506784\",\"startlinecolor\":\"#A2B1C6\"},\"type\":\"carpet\"}],\"choropleth\":[{\"colorbar\":{\"outlinewidth\":0,\"ticks\":\"\"},\"type\":\"choropleth\"}],\"contour\":[{\"colorbar\":{\"outlinewidth\":0,\"ticks\":\"\"},\"colorscale\":[[0.0,\"#0d0887\"],[0.1111111111111111,\"#46039f\"],[0.2222222222222222,\"#7201a8\"],[0.3333333333333333,\"#9c179e\"],[0.4444444444444444,\"#bd3786\"],[0.5555555555555556,\"#d8576b\"],[0.6666666666666666,\"#ed7953\"],[0.7777777777777778,\"#fb9f3a\"],[0.8888888888888888,\"#fdca26\"],[1.0,\"#f0f921\"]],\"type\":\"contour\"}],\"contourcarpet\":[{\"colorbar\":{\"outlinewidth\":0,\"ticks\":\"\"},\"type\":\"contourcarpet\"}],\"heatmap\":[{\"colorbar\":{\"outlinewidth\":0,\"ticks\":\"\"},\"colorscale\":[[0.0,\"#0d0887\"],[0.1111111111111111,\"#46039f\"],[0.2222222222222222,\"#7201a8\"],[0.3333333333333333,\"#9c179e\"],[0.4444444444444444,\"#bd3786\"],[0.5555555555555556,\"#d8576b\"],[0.6666666666666666,\"#ed7953\"],[0.7777777777777778,\"#fb9f3a\"],[0.8888888888888888,\"#fdca26\"],[1.0,\"#f0f921\"]],\"type\":\"heatmap\"}],\"heatmapgl\":[{\"colorbar\":{\"outlinewidth\":0,\"ticks\":\"\"},\"colorscale\":[[0.0,\"#0d0887\"],[0.1111111111111111,\"#46039f\"],[0.2222222222222222,\"#7201a8\"],[0.3333333333333333,\"#9c179e\"],[0.4444444444444444,\"#bd3786\"],[0.5555555555555556,\"#d8576b\"],[0.6666666666666666,\"#ed7953\"],[0.7777777777777778,\"#fb9f3a\"],[0.8888888888888888,\"#fdca26\"],[1.0,\"#f0f921\"]],\"type\":\"heatmapgl\"}],\"histogram\":[{\"marker\":{\"pattern\":{\"fillmode\":\"overlay\",\"size\":10,\"solidity\":0.2}},\"type\":\"histogram\"}],\"histogram2d\":[{\"colorbar\":{\"outlinewidth\":0,\"ticks\":\"\"},\"colorscale\":[[0.0,\"#0d0887\"],[0.1111111111111111,\"#46039f\"],[0.2222222222222222,\"#7201a8\"],[0.3333333333333333,\"#9c179e\"],[0.4444444444444444,\"#bd3786\"],[0.5555555555555556,\"#d8576b\"],[0.6666666666666666,\"#ed7953\"],[0.7777777777777778,\"#fb9f3a\"],[0.8888888888888888,\"#fdca26\"],[1.0,\"#f0f921\"]],\"type\":\"histogram2d\"}],\"histogram2dcontour\":[{\"colorbar\":{\"outlinewidth\":0,\"ticks\":\"\"},\"colorscale\":[[0.0,\"#0d0887\"],[0.1111111111111111,\"#46039f\"],[0.2222222222222222,\"#7201a8\"],[0.3333333333333333,\"#9c179e\"],[0.4444444444444444,\"#bd3786\"],[0.5555555555555556,\"#d8576b\"],[0.6666666666666666,\"#ed7953\"],[0.7777777777777778,\"#fb9f3a\"],[0.8888888888888888,\"#fdca26\"],[1.0,\"#f0f921\"]],\"type\":\"histogram2dcontour\"}],\"mesh3d\":[{\"colorbar\":{\"outlinewidth\":0,\"ticks\":\"\"},\"type\":\"mesh3d\"}],\"parcoords\":[{\"line\":{\"colorbar\":{\"outlinewidth\":0,\"ticks\":\"\"}},\"type\":\"parcoords\"}],\"pie\":[{\"automargin\":true,\"type\":\"pie\"}],\"scatter\":[{\"marker\":{\"line\":{\"color\":\"#283442\"}},\"type\":\"scatter\"}],\"scatter3d\":[{\"line\":{\"colorbar\":{\"outlinewidth\":0,\"ticks\":\"\"}},\"marker\":{\"colorbar\":{\"outlinewidth\":0,\"ticks\":\"\"}},\"type\":\"scatter3d\"}],\"scattercarpet\":[{\"marker\":{\"colorbar\":{\"outlinewidth\":0,\"ticks\":\"\"}},\"type\":\"scattercarpet\"}],\"scattergeo\":[{\"marker\":{\"colorbar\":{\"outlinewidth\":0,\"ticks\":\"\"}},\"type\":\"scattergeo\"}],\"scattergl\":[{\"marker\":{\"line\":{\"color\":\"#283442\"}},\"type\":\"scattergl\"}],\"scattermapbox\":[{\"marker\":{\"colorbar\":{\"outlinewidth\":0,\"ticks\":\"\"}},\"type\":\"scattermapbox\"}],\"scatterpolar\":[{\"marker\":{\"colorbar\":{\"outlinewidth\":0,\"ticks\":\"\"}},\"type\":\"scatterpolar\"}],\"scatterpolargl\":[{\"marker\":{\"colorbar\":{\"outlinewidth\":0,\"ticks\":\"\"}},\"type\":\"scatterpolargl\"}],\"scatterternary\":[{\"marker\":{\"colorbar\":{\"outlinewidth\":0,\"ticks\":\"\"}},\"type\":\"scatterternary\"}],\"surface\":[{\"colorbar\":{\"outlinewidth\":0,\"ticks\":\"\"},\"colorscale\":[[0.0,\"#0d0887\"],[0.1111111111111111,\"#46039f\"],[0.2222222222222222,\"#7201a8\"],[0.3333333333333333,\"#9c179e\"],[0.4444444444444444,\"#bd3786\"],[0.5555555555555556,\"#d8576b\"],[0.6666666666666666,\"#ed7953\"],[0.7777777777777778,\"#fb9f3a\"],[0.8888888888888888,\"#fdca26\"],[1.0,\"#f0f921\"]],\"type\":\"surface\"}],\"table\":[{\"cells\":{\"fill\":{\"color\":\"#506784\"},\"line\":{\"color\":\"rgb(17,17,17)\"}},\"header\":{\"fill\":{\"color\":\"#2a3f5f\"},\"line\":{\"color\":\"rgb(17,17,17)\"}},\"type\":\"table\"}]},\"layout\":{\"annotationdefaults\":{\"arrowcolor\":\"#f2f5fa\",\"arrowhead\":0,\"arrowwidth\":1},\"autotypenumbers\":\"strict\",\"coloraxis\":{\"colorbar\":{\"outlinewidth\":0,\"ticks\":\"\"}},\"colorscale\":{\"diverging\":[[0,\"#8e0152\"],[0.1,\"#c51b7d\"],[0.2,\"#de77ae\"],[0.3,\"#f1b6da\"],[0.4,\"#fde0ef\"],[0.5,\"#f7f7f7\"],[0.6,\"#e6f5d0\"],[0.7,\"#b8e186\"],[0.8,\"#7fbc41\"],[0.9,\"#4d9221\"],[1,\"#276419\"]],\"sequential\":[[0.0,\"#0d0887\"],[0.1111111111111111,\"#46039f\"],[0.2222222222222222,\"#7201a8\"],[0.3333333333333333,\"#9c179e\"],[0.4444444444444444,\"#bd3786\"],[0.5555555555555556,\"#d8576b\"],[0.6666666666666666,\"#ed7953\"],[0.7777777777777778,\"#fb9f3a\"],[0.8888888888888888,\"#fdca26\"],[1.0,\"#f0f921\"]],\"sequentialminus\":[[0.0,\"#0d0887\"],[0.1111111111111111,\"#46039f\"],[0.2222222222222222,\"#7201a8\"],[0.3333333333333333,\"#9c179e\"],[0.4444444444444444,\"#bd3786\"],[0.5555555555555556,\"#d8576b\"],[0.6666666666666666,\"#ed7953\"],[0.7777777777777778,\"#fb9f3a\"],[0.8888888888888888,\"#fdca26\"],[1.0,\"#f0f921\"]]},\"colorway\":[\"#636efa\",\"#EF553B\",\"#00cc96\",\"#ab63fa\",\"#FFA15A\",\"#19d3f3\",\"#FF6692\",\"#B6E880\",\"#FF97FF\",\"#FECB52\"],\"font\":{\"color\":\"#f2f5fa\"},\"geo\":{\"bgcolor\":\"rgb(17,17,17)\",\"lakecolor\":\"rgb(17,17,17)\",\"landcolor\":\"rgb(17,17,17)\",\"showlakes\":true,\"showland\":true,\"subunitcolor\":\"#506784\"},\"hoverlabel\":{\"align\":\"left\"},\"hovermode\":\"closest\",\"mapbox\":{\"style\":\"dark\"},\"paper_bgcolor\":\"rgb(17,17,17)\",\"plot_bgcolor\":\"rgb(17,17,17)\",\"polar\":{\"angularaxis\":{\"gridcolor\":\"#506784\",\"linecolor\":\"#506784\",\"ticks\":\"\"},\"bgcolor\":\"rgb(17,17,17)\",\"radialaxis\":{\"gridcolor\":\"#506784\",\"linecolor\":\"#506784\",\"ticks\":\"\"}},\"scene\":{\"xaxis\":{\"backgroundcolor\":\"rgb(17,17,17)\",\"gridcolor\":\"#506784\",\"gridwidth\":2,\"linecolor\":\"#506784\",\"showbackground\":true,\"ticks\":\"\",\"zerolinecolor\":\"#C8D4E3\"},\"yaxis\":{\"backgroundcolor\":\"rgb(17,17,17)\",\"gridcolor\":\"#506784\",\"gridwidth\":2,\"linecolor\":\"#506784\",\"showbackground\":true,\"ticks\":\"\",\"zerolinecolor\":\"#C8D4E3\"},\"zaxis\":{\"backgroundcolor\":\"rgb(17,17,17)\",\"gridcolor\":\"#506784\",\"gridwidth\":2,\"linecolor\":\"#506784\",\"showbackground\":true,\"ticks\":\"\",\"zerolinecolor\":\"#C8D4E3\"}},\"shapedefaults\":{\"line\":{\"color\":\"#f2f5fa\"}},\"sliderdefaults\":{\"bgcolor\":\"#C8D4E3\",\"bordercolor\":\"rgb(17,17,17)\",\"borderwidth\":1,\"tickwidth\":0},\"ternary\":{\"aaxis\":{\"gridcolor\":\"#506784\",\"linecolor\":\"#506784\",\"ticks\":\"\"},\"baxis\":{\"gridcolor\":\"#506784\",\"linecolor\":\"#506784\",\"ticks\":\"\"},\"bgcolor\":\"rgb(17,17,17)\",\"caxis\":{\"gridcolor\":\"#506784\",\"linecolor\":\"#506784\",\"ticks\":\"\"}},\"title\":{\"x\":0.05},\"updatemenudefaults\":{\"bgcolor\":\"#506784\",\"borderwidth\":0},\"xaxis\":{\"automargin\":true,\"gridcolor\":\"#283442\",\"linecolor\":\"#506784\",\"ticks\":\"\",\"title\":{\"standoff\":15},\"zerolinecolor\":\"#283442\",\"zerolinewidth\":2},\"yaxis\":{\"automargin\":true,\"gridcolor\":\"#283442\",\"linecolor\":\"#506784\",\"ticks\":\"\",\"title\":{\"standoff\":15},\"zerolinecolor\":\"#283442\",\"zerolinewidth\":2}}},\"width\":300},                        {\"responsive\": true}                    ).then(function(){\n",
       "                            \n",
       "var gd = document.getElementById('73d0551d-5961-46a6-a0fd-7f068b32216e');\n",
       "var x = new MutationObserver(function (mutations, observer) {{\n",
       "        var display = window.getComputedStyle(gd).display;\n",
       "        if (!display || display === 'none') {{\n",
       "            console.log([gd, 'removed!']);\n",
       "            Plotly.purge(gd);\n",
       "            observer.disconnect();\n",
       "        }}\n",
       "}});\n",
       "\n",
       "// Listen for the removal of the full notebook cells\n",
       "var notebookContainer = gd.closest('#notebook-container');\n",
       "if (notebookContainer) {{\n",
       "    x.observe(notebookContainer, {childList: true});\n",
       "}}\n",
       "\n",
       "// Listen for the clearing of the current output cell\n",
       "var outputEl = gd.closest('.output');\n",
       "if (outputEl) {{\n",
       "    x.observe(outputEl, {childList: true});\n",
       "}}\n",
       "\n",
       "                        })                };                });            </script>        </div>"
      ]
     },
     "metadata": {},
     "output_type": "display_data"
    }
   ],
   "source": [
    "fig = go.Figure()\n",
    "\n",
    "fig.add_trace(go.Indicator(\n",
    "    align = 'center', mode = \"number+delta\", value = 128_229,\n",
    "    title = {\n",
    "        \"text\": \"$100,000 Investment SPY<br><span style='font-size:0.8em;color:gray'>2021 YTD</span><br><span style='font-size:0.8em;color:gray'>\",\n",
    "        'font':{\n",
    "        'size':20}},\n",
    "    delta = {\n",
    "        'reference': 100_000, 'relative': True, 'valueformat':'.2%',\n",
    "        'font':{\n",
    "        'size':40}},\n",
    "    number = {\n",
    "        'prefix': \"$\", \n",
    "        'font':{\n",
    "        'size':40}},\n",
    "    domain = {\n",
    "        'x': [0, 0], 'y': [0, 0]}))\n",
    "\n",
    "fig.update_layout(\n",
    "    paper_bgcolor=None, height=300, width=300, template='plotly_dark')\n",
    "\n",
    "fig.show()"
   ]
  },
  {
   "cell_type": "markdown",
   "id": "24e5c776-a7be-4ed2-b5ac-2c92d1327ade",
   "metadata": {},
   "source": [
    "#### Visualizing SPY 2021 YTD Price Chart"
   ]
  },
  {
   "cell_type": "code",
   "execution_count": 408,
   "id": "5acc0bbb-ee1a-4cb2-be30-edc4eb348d63",
   "metadata": {},
   "outputs": [
    {
     "data": {
      "application/vnd.plotly.v1+json": {
       "config": {
        "plotlyServerURL": "https://plot.ly"
       },
       "data": [
        {
         "close": [
          368.79,
          371.33,
          373.55,
          379.1,
          381.26,
          378.69,
          378.77,
          379.79,
          378.46,
          375.7,
          378.65,
          383.89,
          384.24,
          382.88,
          384.39,
          383.79,
          374.41,
          377.63,
          370.07,
          376.23,
          381.55,
          381.85,
          386.19,
          387.71,
          390.51,
          390.25,
          390.08,
          390.71,
          392.64,
          392.3,
          392.39,
          390.72,
          390.03,
          387.03,
          387.5,
          391.77,
          382.33,
          380.36,
          389.58,
          386.54,
          381.42,
          376.7,
          383.63,
          381.72,
          387.17,
          389.58,
          393.53,
          394.06,
          396.41,
          395.91,
          397.26,
          391.48,
          389.48,
          392.59,
          389.5,
          387.52,
          389.7,
          395.98,
          395.78,
          394.73,
          396.33,
          400.61,
          406.36,
          406.12,
          406.59,
          408.52,
          411.49,
          411.64,
          412.86,
          411.45,
          415.87,
          417.26,
          415.21,
          412.17,
          416.07,
          412.27,
          416.74,
          417.61,
          417.52,
          417.4,
          420.06,
          417.3,
          418.2,
          415.62,
          415.75,
          419.07,
          422.12,
          417.94,
          414.21,
          405.41,
          410.28,
          416.58,
          415.52,
          411.94,
          410.86,
          415.28,
          414.94,
          419.17,
          418.24,
          419.07,
          419.29,
          420.04,
          419.67,
          420.33,
          418.77,
          422.6,
          422.19,
          422.28,
          421.65,
          423.61,
          424.31,
          425.26,
          424.48,
          422.11,
          421.97,
          414.92,
          420.86,
          423.11,
          422.6,
          425.1,
          426.61,
          427.47,
          427.7,
          428.06,
          430.43,
          433.72,
          432.93,
          434.46,
          430.92,
          435.52,
          437.08,
          435.59,
          436.24,
          434.75,
          431.34,
          424.97,
          431.06,
          434.55,
          435.46,
          439.94,
          441.02,
          439.01,
          438.83,
          440.65,
          438.51,
          437.59,
          441.15,
          438.98,
          441.76,
          442.49,
          442.13,
          442.68,
          443.78,
          445.11,
          445.92,
          446.97,
          444.04,
          439.18,
          439.86,
          443.36,
          447.26,
          447.97,
          448.91,
          446.26,
          450.25,
          452.23,
          451.56,
          451.8,
          453.19,
          453.08,
          451.46,
          450.91,
          448.98,
          445.44,
          446.58,
          444.17,
          447.88,
          447.17,
          441.4,
          434.04,
          433.63,
          437.86,
          443.18,
          443.91,
          442.64,
          433.72,
          434.45,
          429.14,
          434.24,
          428.64,
          433.1,
          434.9,
          438.66,
          437.86,
          434.69,
          433.62,
          435.18,
          442.5,
          445.87,
          447.19,
          450.64,
          452.41,
          453.59,
          453.12,
          455.55,
          455.96,
          453.94,
          458.32,
          459.25,
          460.04,
          461.9,
          464.72,
          466.91,
          468.53,
          468.93,
          467.38,
          463.62,
          463.77,
          467.27,
          467.43,
          469.28,
          468.14,
          469.73,
          468.89,
          467.57,
          468.19,
          469.44,
          458.97,
          464.6,
          455.56,
          450.5,
          457.4,
          453.42,
          458.79,
          468.28
         ],
         "high": [
          375.45,
          372.5,
          376.98,
          379.9,
          381.49,
          380.58,
          379.86,
          380.86,
          381.13,
          377.58,
          379.23,
          384.79,
          384.95,
          384.1256,
          384.77,
          385.85,
          380.32,
          381.93,
          376.67,
          377.34,
          383.22,
          383.7,
          386.24,
          388.47,
          390.56,
          390.89,
          392.28,
          391.69,
          392.9,
          394.17,
          392.66,
          391.515,
          392.38,
          389.62,
          388.945,
          392.23,
          391.88,
          385.58,
          390.92,
          390.07,
          386.83,
          384,
          384.76,
          387.68,
          389.91,
          391.4,
          395.65,
          394.21,
          396.685,
          397.83,
          398.12,
          396.72,
          391.569,
          394.07,
          393.46,
          392.75,
          390.55,
          396.41,
          396.75,
          395.45,
          398,
          400.67,
          406.94,
          407.24,
          406.96,
          408.58,
          411.67,
          411.93,
          413.529,
          413.96,
          416.16,
          417.91,
          416.74,
          415.0859,
          416.29,
          416.78,
          418.25,
          418.22,
          418.14,
          419.01,
          420.72,
          418.54,
          419.84,
          416.6,
          417.63,
          419.21,
          422.815,
          422.74,
          415.27,
          412.59,
          412.35,
          417.49,
          416.39,
          416.06,
          411.05,
          416.625,
          418.2,
          420.32,
          420.71,
          419.61,
          420.72,
          421.25,
          422.72,
          421.23,
          419.99,
          422.92,
          422.78,
          423.21,
          423.26,
          424.63,
          424.43,
          425.37,
          425.46,
          424.87,
          423.02,
          417.8281,
          421.06,
          424,
          424.05,
          425.55,
          427.0943,
          427.65,
          428.56,
          428.78,
          430.6,
          434.1,
          434.01,
          434.76,
          431.73,
          435.84,
          437.35,
          437.84,
          437.92,
          435.53,
          436.06,
          431.4089,
          432.42,
          434.7,
          435.72,
          440.3,
          441.03,
          439.94,
          440.3,
          441.8,
          440.06,
          440.93,
          441.28,
          441.1243,
          441.85,
          442.94,
          442.795,
          443.44,
          443.882,
          445.2572,
          445.94,
          447.11,
          444.96,
          444.625,
          441.14,
          443.71,
          448.23,
          448.54,
          449.457,
          448.86,
          450.65,
          453.07,
          452.49,
          453.11,
          454.05,
          453.63,
          452.81,
          451.67,
          452.57,
          451.49,
          448.92,
          448.34,
          448.41,
          448.36,
          445.37,
          436.56,
          437.91,
          440.03,
          444.89,
          444.67,
          444.05,
          440.04,
          437.04,
          436.77,
          436.0329,
          433.96,
          435.49,
          435.1199,
          441.68,
          439.89,
          440.26,
          436.1,
          436.05,
          442.66,
          446.26,
          447.55,
          450.71,
          452.732,
          453.829,
          454.67,
          455.9,
          458.49,
          457.16,
          458.4,
          459.56,
          460.7021,
          462.23,
          465.15,
          467,
          470.65,
          470.23,
          469.57,
          467.38,
          465.29,
          467.86,
          468.81,
          470.485,
          469.19,
          470.01,
          470.94,
          473.54,
          469.095,
          469.57,
          463.9,
          466.56,
          464.03,
          464.67,
          459.07,
          460.3,
          460.79,
          468.88
         ],
         "low": [
          364.82,
          368.05,
          369.12,
          375.91,
          377.1,
          377.7189,
          376.36,
          377.85,
          378.1,
          373.7,
          376.75,
          380.69,
          383.25,
          381.835,
          378.46,
          383.54,
          372.01,
          375.89,
          368.27,
          370.376,
          376.3181,
          380.48,
          381.9655,
          386.1444,
          388.35,
          389.17,
          387.5,
          388.1,
          389.77,
          391.53,
          389.33,
          387.74,
          389.55,
          386.74,
          380.2,
          385.27,
          380.7789,
          378.23,
          380.572,
          386,
          381.31,
          371.88,
          372.64,
          381.42,
          381.7299,
          388.1702,
          391.74,
          391.2,
          392.03,
          395.08,
          393.3,
          390.75,
          387.15,
          389.97,
          388.66,
          387.47,
          383.9,
          390.29,
          392.81,
          393.02,
          395.31,
          398.18,
          403.38,
          405.4,
          405.45,
          406.93,
          408.26,
          410.2,
          411.12,
          410.87,
          413.69,
          415.73,
          413.79,
          410.59,
          411.36,
          411.13,
          412.79,
          416.8111,
          416.3,
          416.9,
          416.44,
          416.34,
          417.665,
          411.67,
          415.15,
          413.675,
          419.16,
          417.81,
          410.06,
          404,
          407.02,
          413.18,
          413.36,
          411.77,
          405.33,
          411.67,
          414.45,
          417.08,
          417.62,
          417.76,
          418.9851,
          419.79,
          419.2,
          419.29,
          416.28,
          418.8422,
          421.19,
          420.32,
          421.41,
          421.55,
          422.82,
          423.1,
          423.54,
          419.92,
          419.32,
          414.7,
          415.93,
          420.08,
          422.51,
          424.62,
          425.55,
          425.89,
          427.13,
          427.18,
          428.8,
          430.5218,
          430.01,
          431.51,
          427.52,
          430.714,
          434.97,
          435.31,
          434.91,
          432.72,
          430.92,
          421.97,
          424.83,
          431.0111,
          433.69,
          436.79,
          439.26,
          435.99,
          437.31,
          439.81,
          437.77,
          437.21,
          436.1,
          438.73,
          439.88,
          441.8,
          441.31,
          441.88,
          442.62,
          442.66,
          445.07,
          442.87,
          440.85,
          438.92,
          436.12,
          439.71,
          443.4355,
          447.42,
          447.77,
          446.16,
          447.06,
          450.71,
          450.92,
          451.545,
          451.91,
          451.55,
          450.7423,
          448.86,
          448.72,
          445.31,
          444.11,
          443.22,
          443.44,
          444.02,
          441.02,
          428.86,
          433.07,
          433.747,
          439.6,
          441.21,
          441.9,
          432.94,
          433.85,
          428.78,
          427.23,
          426.36,
          429.39,
          427.54,
          438.2,
          437.19,
          434.62,
          432.78,
          431.54,
          438.58,
          444.09,
          443.27,
          448.27,
          451.01,
          451.31,
          451.05,
          452.39,
          455.56,
          453.86,
          455.45,
          455.56,
          458.2,
          460.08,
          460.83,
          464.99,
          466.92,
          468.2031,
          465.88,
          462.04,
          463.75,
          464.11,
          466.23,
          467.07,
          467.48,
          466.34,
          468.5,
          467.35,
          464.45,
          465.19,
          457.77,
          461.73,
          455.3,
          450.29,
          450.31,
          448.92,
          453.56,
          458.6546
         ],
         "name": "SPY",
         "open": [
          375.31,
          368.1,
          369.71,
          376.1,
          380.59,
          377.85,
          378.89,
          378.69,
          380.59,
          376.72,
          378.34,
          381.11,
          384.49,
          382.25,
          383.67,
          385.41,
          380.22,
          376.36,
          375.63,
          373.72,
          379.65,
          382.435,
          382.96,
          388.2,
          389.27,
          389.61,
          392.12,
          391.24,
          389.85,
          393.96,
          390.42,
          389.59,
          392.07,
          387.06,
          384.66,
          386.33,
          390.41,
          384.35,
          385.59,
          389.82,
          385.79,
          381.22,
          380.46,
          384.66,
          385.85,
          389.69,
          392.23,
          392.07,
          394.33,
          397.07,
          394.53,
          394.475,
          389.88,
          390.03,
          391.91,
          391,
          385.98,
          390.93,
          394.4,
          394.42,
          395.34,
          398.4,
          403.46,
          405.76,
          405.94,
          407.93,
          408.39,
          410.85,
          411.53,
          412.83,
          413.74,
          417.25,
          416.26,
          413.91,
          411.51,
          415.89,
          412.87,
          417.44,
          417.93,
          417.81,
          420.32,
          417.63,
          419.43,
          416.07,
          417.38,
          415.83,
          419.89,
          422.5,
          413.1,
          411.23,
          407.07,
          413.21,
          415.39,
          415.8,
          406.92,
          411.8,
          416.87,
          417.34,
          420.33,
          418.87,
          420.17,
          420.97,
          422.57,
          420.37,
          417.85,
          420.75,
          422.59,
          423.11,
          423.18,
          422.96,
          424.2,
          424.43,
          425.42,
          424.63,
          421.67,
          417.09,
          416.8,
          420.85,
          423.19,
          424.89,
          425.9,
          427.17,
          427.88,
          427.21,
          428.87,
          431.67,
          433.78,
          433.66,
          428.78,
          432.53,
          435.43,
          436.24,
          437.4,
          434.81,
          436.01,
          426.19,
          425.68,
          432.34,
          434.74,
          437.52,
          439.31,
          439.91,
          439.68,
          439.815,
          437.91,
          440.34,
          438.44,
          439.78,
          440.22,
          442.1,
          442.46,
          442.61,
          443.82,
          443.62,
          445.59,
          444.53,
          444.24,
          442.96,
          436.27,
          440.23,
          445.16,
          447.97,
          448.17,
          448.61,
          447.12,
          450.97,
          452.13,
          452.56,
          453.32,
          451.98,
          452.71,
          450.89,
          450.7,
          451.04,
          448.64,
          448.12,
          444.62,
          447.32,
          444.92,
          434.88,
          436.53,
          436.05,
          439.85,
          441.44,
          442.81,
          439.69,
          435.19,
          436.02,
          430.98,
          433,
          430.24,
          429.27,
          438.39,
          439.48,
          437.16,
          435.67,
          434.71,
          439.08,
          444.75,
          443.97,
          448.92,
          451.13,
          451.77,
          453.13,
          454.28,
          457.2,
          456.45,
          455.46,
          455.87,
          460.3,
          460.22,
          461.3,
          465.36,
          469.28,
          469.7,
          469.32,
          465.58,
          465.21,
          465.12,
          468.64,
          467.15,
          469,
          469.24,
          469.61,
          470.89,
          467.22,
          466.06,
          462.34,
          464.07,
          462,
          461.64,
          450.73,
          459.17,
          456.13,
          464.41
         ],
         "type": "candlestick",
         "x": [
          "2021-01-04",
          "2021-01-05",
          "2021-01-06",
          "2021-01-07",
          "2021-01-08",
          "2021-01-11",
          "2021-01-12",
          "2021-01-13",
          "2021-01-14",
          "2021-01-15",
          "2021-01-19",
          "2021-01-20",
          "2021-01-21",
          "2021-01-22",
          "2021-01-25",
          "2021-01-26",
          "2021-01-27",
          "2021-01-28",
          "2021-01-29",
          "2021-02-01",
          "2021-02-02",
          "2021-02-03",
          "2021-02-04",
          "2021-02-05",
          "2021-02-08",
          "2021-02-09",
          "2021-02-10",
          "2021-02-11",
          "2021-02-12",
          "2021-02-16",
          "2021-02-17",
          "2021-02-18",
          "2021-02-19",
          "2021-02-22",
          "2021-02-23",
          "2021-02-24",
          "2021-02-25",
          "2021-02-26",
          "2021-03-01",
          "2021-03-02",
          "2021-03-03",
          "2021-03-04",
          "2021-03-05",
          "2021-03-08",
          "2021-03-09",
          "2021-03-10",
          "2021-03-11",
          "2021-03-12",
          "2021-03-15",
          "2021-03-16",
          "2021-03-17",
          "2021-03-18",
          "2021-03-19",
          "2021-03-22",
          "2021-03-23",
          "2021-03-24",
          "2021-03-25",
          "2021-03-26",
          "2021-03-29",
          "2021-03-30",
          "2021-03-31",
          "2021-04-01",
          "2021-04-05",
          "2021-04-06",
          "2021-04-07",
          "2021-04-08",
          "2021-04-09",
          "2021-04-12",
          "2021-04-13",
          "2021-04-14",
          "2021-04-15",
          "2021-04-16",
          "2021-04-19",
          "2021-04-20",
          "2021-04-21",
          "2021-04-22",
          "2021-04-23",
          "2021-04-26",
          "2021-04-27",
          "2021-04-28",
          "2021-04-29",
          "2021-04-30",
          "2021-05-03",
          "2021-05-04",
          "2021-05-05",
          "2021-05-06",
          "2021-05-07",
          "2021-05-10",
          "2021-05-11",
          "2021-05-12",
          "2021-05-13",
          "2021-05-14",
          "2021-05-17",
          "2021-05-18",
          "2021-05-19",
          "2021-05-20",
          "2021-05-21",
          "2021-05-24",
          "2021-05-25",
          "2021-05-26",
          "2021-05-27",
          "2021-05-28",
          "2021-06-01",
          "2021-06-02",
          "2021-06-03",
          "2021-06-04",
          "2021-06-07",
          "2021-06-08",
          "2021-06-09",
          "2021-06-10",
          "2021-06-11",
          "2021-06-14",
          "2021-06-15",
          "2021-06-16",
          "2021-06-17",
          "2021-06-18",
          "2021-06-21",
          "2021-06-22",
          "2021-06-23",
          "2021-06-24",
          "2021-06-25",
          "2021-06-28",
          "2021-06-29",
          "2021-06-30",
          "2021-07-01",
          "2021-07-02",
          "2021-07-06",
          "2021-07-07",
          "2021-07-08",
          "2021-07-09",
          "2021-07-12",
          "2021-07-13",
          "2021-07-14",
          "2021-07-15",
          "2021-07-16",
          "2021-07-19",
          "2021-07-20",
          "2021-07-21",
          "2021-07-22",
          "2021-07-23",
          "2021-07-26",
          "2021-07-27",
          "2021-07-28",
          "2021-07-29",
          "2021-07-30",
          "2021-08-02",
          "2021-08-03",
          "2021-08-04",
          "2021-08-05",
          "2021-08-06",
          "2021-08-09",
          "2021-08-10",
          "2021-08-11",
          "2021-08-12",
          "2021-08-13",
          "2021-08-16",
          "2021-08-17",
          "2021-08-18",
          "2021-08-19",
          "2021-08-20",
          "2021-08-23",
          "2021-08-24",
          "2021-08-25",
          "2021-08-26",
          "2021-08-27",
          "2021-08-30",
          "2021-08-31",
          "2021-09-01",
          "2021-09-02",
          "2021-09-03",
          "2021-09-07",
          "2021-09-08",
          "2021-09-09",
          "2021-09-10",
          "2021-09-13",
          "2021-09-14",
          "2021-09-15",
          "2021-09-16",
          "2021-09-17",
          "2021-09-20",
          "2021-09-21",
          "2021-09-22",
          "2021-09-23",
          "2021-09-24",
          "2021-09-27",
          "2021-09-28",
          "2021-09-29",
          "2021-09-30",
          "2021-10-01",
          "2021-10-04",
          "2021-10-05",
          "2021-10-06",
          "2021-10-07",
          "2021-10-08",
          "2021-10-11",
          "2021-10-12",
          "2021-10-13",
          "2021-10-14",
          "2021-10-15",
          "2021-10-18",
          "2021-10-19",
          "2021-10-20",
          "2021-10-21",
          "2021-10-22",
          "2021-10-25",
          "2021-10-26",
          "2021-10-27",
          "2021-10-28",
          "2021-10-29",
          "2021-11-01",
          "2021-11-02",
          "2021-11-03",
          "2021-11-04",
          "2021-11-05",
          "2021-11-08",
          "2021-11-09",
          "2021-11-10",
          "2021-11-11",
          "2021-11-12",
          "2021-11-15",
          "2021-11-16",
          "2021-11-17",
          "2021-11-18",
          "2021-11-19",
          "2021-11-22",
          "2021-11-23",
          "2021-11-24",
          "2021-11-26",
          "2021-11-29",
          "2021-11-30",
          "2021-12-01",
          "2021-12-02",
          "2021-12-03",
          "2021-12-06",
          "2021-12-07"
         ],
         "xaxis": "x",
         "yaxis": "y"
        },
        {
         "line": {
          "color": "white",
          "width": 1
         },
         "name": "MA 10",
         "type": "scatter",
         "x": [
          "2021-01-04",
          "2021-01-05",
          "2021-01-06",
          "2021-01-07",
          "2021-01-08",
          "2021-01-11",
          "2021-01-12",
          "2021-01-13",
          "2021-01-14",
          "2021-01-15",
          "2021-01-19",
          "2021-01-20",
          "2021-01-21",
          "2021-01-22",
          "2021-01-25",
          "2021-01-26",
          "2021-01-27",
          "2021-01-28",
          "2021-01-29",
          "2021-02-01",
          "2021-02-02",
          "2021-02-03",
          "2021-02-04",
          "2021-02-05",
          "2021-02-08",
          "2021-02-09",
          "2021-02-10",
          "2021-02-11",
          "2021-02-12",
          "2021-02-16",
          "2021-02-17",
          "2021-02-18",
          "2021-02-19",
          "2021-02-22",
          "2021-02-23",
          "2021-02-24",
          "2021-02-25",
          "2021-02-26",
          "2021-03-01",
          "2021-03-02",
          "2021-03-03",
          "2021-03-04",
          "2021-03-05",
          "2021-03-08",
          "2021-03-09",
          "2021-03-10",
          "2021-03-11",
          "2021-03-12",
          "2021-03-15",
          "2021-03-16",
          "2021-03-17",
          "2021-03-18",
          "2021-03-19",
          "2021-03-22",
          "2021-03-23",
          "2021-03-24",
          "2021-03-25",
          "2021-03-26",
          "2021-03-29",
          "2021-03-30",
          "2021-03-31",
          "2021-04-01",
          "2021-04-05",
          "2021-04-06",
          "2021-04-07",
          "2021-04-08",
          "2021-04-09",
          "2021-04-12",
          "2021-04-13",
          "2021-04-14",
          "2021-04-15",
          "2021-04-16",
          "2021-04-19",
          "2021-04-20",
          "2021-04-21",
          "2021-04-22",
          "2021-04-23",
          "2021-04-26",
          "2021-04-27",
          "2021-04-28",
          "2021-04-29",
          "2021-04-30",
          "2021-05-03",
          "2021-05-04",
          "2021-05-05",
          "2021-05-06",
          "2021-05-07",
          "2021-05-10",
          "2021-05-11",
          "2021-05-12",
          "2021-05-13",
          "2021-05-14",
          "2021-05-17",
          "2021-05-18",
          "2021-05-19",
          "2021-05-20",
          "2021-05-21",
          "2021-05-24",
          "2021-05-25",
          "2021-05-26",
          "2021-05-27",
          "2021-05-28",
          "2021-06-01",
          "2021-06-02",
          "2021-06-03",
          "2021-06-04",
          "2021-06-07",
          "2021-06-08",
          "2021-06-09",
          "2021-06-10",
          "2021-06-11",
          "2021-06-14",
          "2021-06-15",
          "2021-06-16",
          "2021-06-17",
          "2021-06-18",
          "2021-06-21",
          "2021-06-22",
          "2021-06-23",
          "2021-06-24",
          "2021-06-25",
          "2021-06-28",
          "2021-06-29",
          "2021-06-30",
          "2021-07-01",
          "2021-07-02",
          "2021-07-06",
          "2021-07-07",
          "2021-07-08",
          "2021-07-09",
          "2021-07-12",
          "2021-07-13",
          "2021-07-14",
          "2021-07-15",
          "2021-07-16",
          "2021-07-19",
          "2021-07-20",
          "2021-07-21",
          "2021-07-22",
          "2021-07-23",
          "2021-07-26",
          "2021-07-27",
          "2021-07-28",
          "2021-07-29",
          "2021-07-30",
          "2021-08-02",
          "2021-08-03",
          "2021-08-04",
          "2021-08-05",
          "2021-08-06",
          "2021-08-09",
          "2021-08-10",
          "2021-08-11",
          "2021-08-12",
          "2021-08-13",
          "2021-08-16",
          "2021-08-17",
          "2021-08-18",
          "2021-08-19",
          "2021-08-20",
          "2021-08-23",
          "2021-08-24",
          "2021-08-25",
          "2021-08-26",
          "2021-08-27",
          "2021-08-30",
          "2021-08-31",
          "2021-09-01",
          "2021-09-02",
          "2021-09-03",
          "2021-09-07",
          "2021-09-08",
          "2021-09-09",
          "2021-09-10",
          "2021-09-13",
          "2021-09-14",
          "2021-09-15",
          "2021-09-16",
          "2021-09-17",
          "2021-09-20",
          "2021-09-21",
          "2021-09-22",
          "2021-09-23",
          "2021-09-24",
          "2021-09-27",
          "2021-09-28",
          "2021-09-29",
          "2021-09-30",
          "2021-10-01",
          "2021-10-04",
          "2021-10-05",
          "2021-10-06",
          "2021-10-07",
          "2021-10-08",
          "2021-10-11",
          "2021-10-12",
          "2021-10-13",
          "2021-10-14",
          "2021-10-15",
          "2021-10-18",
          "2021-10-19",
          "2021-10-20",
          "2021-10-21",
          "2021-10-22",
          "2021-10-25",
          "2021-10-26",
          "2021-10-27",
          "2021-10-28",
          "2021-10-29",
          "2021-11-01",
          "2021-11-02",
          "2021-11-03",
          "2021-11-04",
          "2021-11-05",
          "2021-11-08",
          "2021-11-09",
          "2021-11-10",
          "2021-11-11",
          "2021-11-12",
          "2021-11-15",
          "2021-11-16",
          "2021-11-17",
          "2021-11-18",
          "2021-11-19",
          "2021-11-22",
          "2021-11-23",
          "2021-11-24",
          "2021-11-26",
          "2021-11-29",
          "2021-11-30",
          "2021-12-01",
          "2021-12-02",
          "2021-12-03",
          "2021-12-06",
          "2021-12-07"
         ],
         "y": [
          null,
          null,
          null,
          null,
          null,
          null,
          null,
          null,
          null,
          372.8658876036,
          373.8422562754,
          375.08598756530006,
          376.1445454864,
          376.5188531517,
          376.8287957423,
          377.3338140209,
          376.9020729043,
          376.6881828098,
          375.85737823,
          375.9098605217,
          376.1970277782,
          375.9950204668,
          376.188115691,
          376.6663977077,
          377.2724196419,
          377.9121094614,
          379.463802878,
          380.7590262277,
          382.9939796682,
          384.5852823616,
          385.6586937615,
          386.5370294734,
          386.9172785301,
          386.8499427596,
          386.5518829521,
          386.7023982037,
          385.9349684667,
          384.9100784308,
          384.6070674637,
          384.0366938785,
          382.95040946360007,
          381.56210431360006,
          380.9283558857,
          380.4025427369001,
          380.3698650836,
          380.1530042934,
          381.2620640424,
          382.6186817711,
          383.2950101716,
          384.2228574795,
          385.7913848388,
          387.2549476147,
          387.9607639334,
          389.1646870233,
          389.5219482041,
          389.4438543285,
          389.1911976215,
          389.5099644558,
          389.5761571767,
          389.5875460278,
          389.62421047,
          390.6584386691,
          392.3354339656,
          393.6796132524,
          395.377471642,
          397.4637809564,
          399.6285752402,
          401.1843659004,
          402.8812308094001,
          404.5423304159,
          406.4835915589,
          408.137736801,
          409.0169671549,
          409.6180229335,
          410.5598425668,
          410.9323978015,
          411.4539751301001,
          412.0470830637,
          412.5100450354,
          413.1011660078,
          413.51743439,
          413.5214083125,
          413.8184590196,
          414.1612098356,
          414.1294184556,
          414.80498528120006,
          415.3394778579001,
          415.3722627186,
          415.0434206314,
          413.8522373609,
          412.8806133088,
          412.8090827037,
          412.542829896,
          412.1772290256,
          411.6914169995,
          411.3148878423,
          410.6015687529001,
          410.7237668698,
          411.124139562,
          412.481234097,
          413.376360141,
          413.7201044376,
          414.1323988973,
          414.9659291424,
          415.7517723175,
          416.4790001356,
          417.1992735894,
          417.5082460641,
          417.8470229576,
          418.2980631617,
          418.7967904358,
          419.3153873225,
          419.7932515036,
          419.9700910551,
          420.2880048554,
          419.6617022504,
          419.6682167059,
          419.8900642127,
          420.1236654734,
          420.4117382836001,
          420.7807804763,
          421.14116466019993,
          421.6019661581,
          422.3341064646,
          423.3163911768,
          425.1903281924,
          426.3934356274,
          427.5247752618,
          428.3540920687,
          429.3927316274,
          430.4363550611,
          431.2457363678,
          432.0969822249,
          432.7638247054,
          432.8545312312,
          431.9823530989,
          431.7959561724,
          431.8049271475,
          432.2574630012999,
          432.6980375549,
          433.0907669081,
          433.431663961,
          433.6898286881,
          434.277925943,
          434.9926136239,
          436.2505436844,
          437.2562896677,
          437.6978609963,
          438.3258292515,
          438.5800068787,
          438.6906489047,
          439.0564653327,
          439.5498689618,
          439.9944306155,
          440.7330408967,
          441.6680158544999,
          441.9560838319,
          441.9760193321,
          441.7866320806,
          441.8733515063,
          442.3846970855,
          442.9119910649,
          443.4233366442001,
          443.5379657702,
          443.9695693488,
          444.4938730031,
          445.2434478094,
          446.5013778699,
          447.8300789559,
          448.7989442639,
          449.2175897674,
          449.5106416198,
          449.5176190448,
          449.4358834941,
          449.070067066,
          448.2666664093,
          447.8998532062,
          447.4383463773,
          446.40549977600006,
          444.6476176998,
          443.0102131749,
          441.8506312755,
          441.4154269527,
          441.4060809828,
          441.156102662,
          440.2543471182,
          439.0557880463001,
          437.3970000000001,
          436.681,
          436.141,
          436.088,
          435.792,
          435.34,
          434.735,
          433.94,
          433.93,
          434.003,
          435.33900000000006,
          436.50200000000007,
          438.357,
          440.111,
          441.862,
          443.355,
          444.881,
          446.967,
          449.201,
          451.07700000000006,
          452.659,
          453.997,
          455.282,
          456.408,
          457.639,
          458.971,
          460.512,
          461.85,
          462.992,
          463.96,
          464.505,
          465.3070000000001,
          466.046,
          466.784,
          467.1259999999999,
          467.408,
          467.444,
          467.308,
          467.389,
          467.971,
          467.491,
          467.224,
          466.0370000000001,
          464.159,
          463.085,
          461.454,
          460.4440000000001,
          460.515
         ]
        },
        {
         "line": {
          "color": "yellow",
          "width": 1
         },
         "name": "MA 20",
         "type": "scatter",
         "visible": true,
         "x": [
          "2021-01-04",
          "2021-01-05",
          "2021-01-06",
          "2021-01-07",
          "2021-01-08",
          "2021-01-11",
          "2021-01-12",
          "2021-01-13",
          "2021-01-14",
          "2021-01-15",
          "2021-01-19",
          "2021-01-20",
          "2021-01-21",
          "2021-01-22",
          "2021-01-25",
          "2021-01-26",
          "2021-01-27",
          "2021-01-28",
          "2021-01-29",
          "2021-02-01",
          "2021-02-02",
          "2021-02-03",
          "2021-02-04",
          "2021-02-05",
          "2021-02-08",
          "2021-02-09",
          "2021-02-10",
          "2021-02-11",
          "2021-02-12",
          "2021-02-16",
          "2021-02-17",
          "2021-02-18",
          "2021-02-19",
          "2021-02-22",
          "2021-02-23",
          "2021-02-24",
          "2021-02-25",
          "2021-02-26",
          "2021-03-01",
          "2021-03-02",
          "2021-03-03",
          "2021-03-04",
          "2021-03-05",
          "2021-03-08",
          "2021-03-09",
          "2021-03-10",
          "2021-03-11",
          "2021-03-12",
          "2021-03-15",
          "2021-03-16",
          "2021-03-17",
          "2021-03-18",
          "2021-03-19",
          "2021-03-22",
          "2021-03-23",
          "2021-03-24",
          "2021-03-25",
          "2021-03-26",
          "2021-03-29",
          "2021-03-30",
          "2021-03-31",
          "2021-04-01",
          "2021-04-05",
          "2021-04-06",
          "2021-04-07",
          "2021-04-08",
          "2021-04-09",
          "2021-04-12",
          "2021-04-13",
          "2021-04-14",
          "2021-04-15",
          "2021-04-16",
          "2021-04-19",
          "2021-04-20",
          "2021-04-21",
          "2021-04-22",
          "2021-04-23",
          "2021-04-26",
          "2021-04-27",
          "2021-04-28",
          "2021-04-29",
          "2021-04-30",
          "2021-05-03",
          "2021-05-04",
          "2021-05-05",
          "2021-05-06",
          "2021-05-07",
          "2021-05-10",
          "2021-05-11",
          "2021-05-12",
          "2021-05-13",
          "2021-05-14",
          "2021-05-17",
          "2021-05-18",
          "2021-05-19",
          "2021-05-20",
          "2021-05-21",
          "2021-05-24",
          "2021-05-25",
          "2021-05-26",
          "2021-05-27",
          "2021-05-28",
          "2021-06-01",
          "2021-06-02",
          "2021-06-03",
          "2021-06-04",
          "2021-06-07",
          "2021-06-08",
          "2021-06-09",
          "2021-06-10",
          "2021-06-11",
          "2021-06-14",
          "2021-06-15",
          "2021-06-16",
          "2021-06-17",
          "2021-06-18",
          "2021-06-21",
          "2021-06-22",
          "2021-06-23",
          "2021-06-24",
          "2021-06-25",
          "2021-06-28",
          "2021-06-29",
          "2021-06-30",
          "2021-07-01",
          "2021-07-02",
          "2021-07-06",
          "2021-07-07",
          "2021-07-08",
          "2021-07-09",
          "2021-07-12",
          "2021-07-13",
          "2021-07-14",
          "2021-07-15",
          "2021-07-16",
          "2021-07-19",
          "2021-07-20",
          "2021-07-21",
          "2021-07-22",
          "2021-07-23",
          "2021-07-26",
          "2021-07-27",
          "2021-07-28",
          "2021-07-29",
          "2021-07-30",
          "2021-08-02",
          "2021-08-03",
          "2021-08-04",
          "2021-08-05",
          "2021-08-06",
          "2021-08-09",
          "2021-08-10",
          "2021-08-11",
          "2021-08-12",
          "2021-08-13",
          "2021-08-16",
          "2021-08-17",
          "2021-08-18",
          "2021-08-19",
          "2021-08-20",
          "2021-08-23",
          "2021-08-24",
          "2021-08-25",
          "2021-08-26",
          "2021-08-27",
          "2021-08-30",
          "2021-08-31",
          "2021-09-01",
          "2021-09-02",
          "2021-09-03",
          "2021-09-07",
          "2021-09-08",
          "2021-09-09",
          "2021-09-10",
          "2021-09-13",
          "2021-09-14",
          "2021-09-15",
          "2021-09-16",
          "2021-09-17",
          "2021-09-20",
          "2021-09-21",
          "2021-09-22",
          "2021-09-23",
          "2021-09-24",
          "2021-09-27",
          "2021-09-28",
          "2021-09-29",
          "2021-09-30",
          "2021-10-01",
          "2021-10-04",
          "2021-10-05",
          "2021-10-06",
          "2021-10-07",
          "2021-10-08",
          "2021-10-11",
          "2021-10-12",
          "2021-10-13",
          "2021-10-14",
          "2021-10-15",
          "2021-10-18",
          "2021-10-19",
          "2021-10-20",
          "2021-10-21",
          "2021-10-22",
          "2021-10-25",
          "2021-10-26",
          "2021-10-27",
          "2021-10-28",
          "2021-10-29",
          "2021-11-01",
          "2021-11-02",
          "2021-11-03",
          "2021-11-04",
          "2021-11-05",
          "2021-11-08",
          "2021-11-09",
          "2021-11-10",
          "2021-11-11",
          "2021-11-12",
          "2021-11-15",
          "2021-11-16",
          "2021-11-17",
          "2021-11-18",
          "2021-11-19",
          "2021-11-22",
          "2021-11-23",
          "2021-11-24",
          "2021-11-26",
          "2021-11-29",
          "2021-11-30",
          "2021-12-01",
          "2021-12-02",
          "2021-12-03",
          "2021-12-06",
          "2021-12-07"
         ],
         "y": [
          null,
          null,
          null,
          null,
          null,
          null,
          null,
          null,
          null,
          null,
          null,
          null,
          null,
          null,
          null,
          null,
          null,
          null,
          null,
          374.38787406265,
          375.0196420268,
          375.54050401605,
          376.1663305887,
          376.5926254297,
          377.0506076921,
          377.6229617411501,
          378.18293789115,
          378.72360451875,
          379.4256789491,
          380.24757144165,
          380.92786076985,
          381.2660249701,
          381.55269711055,
          381.7581702336501,
          381.912151297,
          382.30725383255,
          382.6993856723501,
          382.83455232925,
          383.80052356595,
          384.31098812005,
          384.30455161255,
          384.0495668935,
          383.9228172079,
          383.6262427482501,
          383.46087401785,
          383.42770124855,
          383.59851625455,
          383.76438010095,
          383.95103881765,
          384.129775679,
          384.3708971512,
          384.4085259641501,
          384.44455990955,
          384.7836148801,
          384.94590664385,
          384.79842931095,
          385.22663083195,
          386.06432311345,
          386.43558367415,
          386.90520175365,
          387.7077976544,
          388.9566931419,
          390.1480989495,
          391.42215013785,
          392.44970992305,
          393.45381764245,
          394.40988643085,
          395.3471651781,
          396.22869399305,
          397.06493822185,
          398.05390101445,
          399.39808773505,
          400.6762005602501,
          401.64881809295,
          402.9686571044,
          404.19808937895,
          405.54127518515,
          406.61572448205,
          407.6956379224,
          408.82174821185,
          410.00051297445,
          410.82957255675,
          411.4177130872501,
          411.8896163845501,
          412.3446305112,
          412.86869154135,
          413.396726494,
          413.70967289115,
          413.7767328334,
          413.47670168435,
          413.1990238494,
          413.1652455081,
          413.1806444578,
          413.1692194306,
          412.91041772755,
          413.05993656175,
          412.9705233054,
          413.0480147942,
          413.0837800967,
          413.16673572895,
          413.1284867249,
          413.26459357064994,
          413.33761439664994,
          413.571579084,
          413.7215946585,
          413.89694398895,
          413.90042117115,
          414.11600646695,
          414.4855812598,
          415.38964862935,
          416.0865752884,
          416.51774588005,
          416.9628252004501,
          417.46801009875,
          418.01988858645,
          418.070351193,
          418.43374514765,
          418.6991551384,
          418.9853442155001,
          419.35490072265,
          419.7887854560501,
          420.22827599135,
          420.69760883085,
          421.15209875985,
          421.8021980161,
          422.4260152214,
          423.03082616664994,
          423.70741973725,
          424.23887877105,
          424.9022349555,
          425.6085677687,
          426.19345051400006,
          426.8494741915,
          427.548965585,
          428.085461204,
          428.58634064565,
          429.0946958999001,
          429.66485120465006,
          430.305777535,
          431.04538459115,
          431.7635609846,
          432.33870016440005,
          432.8934054565,
          433.5208753242,
          433.92357242755,
          434.11644839165,
          434.52612292005006,
          434.7513940719,
          435.2916461264,
          435.6390222168,
          435.89070790640005,
          436.24406464685,
          436.61984882495,
          437.13617827925,
          437.8628272603,
          438.95927976945,
          439.6061867498,
          439.8369401642,
          440.05623066605006,
          440.2266791925,
          440.5376729951,
          440.9842281988,
          441.486602803,
          441.76619819285,
          442.35130512275,
          443.0809444288,
          443.59976582065,
          444.238698601,
          444.8083555182501,
          445.3361478851001,
          445.8011434264499,
          446.2113163423501,
          446.4704778445,
          446.48692463215,
          446.5198182074,
          446.3802697062,
          446.5716505078,
          446.9698621236001,
          447.11778936595,
          446.72328098185,
          446.11390147115,
          445.68063644765,
          445.46652299875,
          445.42098223844994,
          445.113084864,
          444.26050676375,
          443.4778206262501,
          442.4176731886501,
          441.543249888,
          440.3943088499,
          439.54910658745,
          438.82131563774993,
          438.3777134763501,
          438.0705404914,
          437.548051331,
          437.09217355909993,
          436.52939402315,
          436.368,
          436.5915,
          437.2490000000001,
          438.0995,
          438.82700000000006,
          439.3475,
          439.808,
          440.4535,
          441.5655,
          442.54,
          443.999,
          445.2495,
          446.81950000000006,
          448.2595,
          449.7505,
          451.1629999999999,
          452.6965,
          454.4085,
          456.0965,
          457.5185,
          458.5820000000001,
          459.65199999999993,
          460.66399999999993,
          461.596,
          462.3825,
          463.1895,
          463.97800000000007,
          464.579,
          465.1905,
          465.9655,
          465.9980000000001,
          466.2655000000001,
          466.0415,
          465.4715,
          465.1055,
          464.431,
          463.944,
          463.9115
         ]
        },
        {
         "marker": {
          "color": "LightSkyBlue"
         },
         "name": "Volume",
         "showlegend": false,
         "type": "bar",
         "x": [
          0,
          1,
          2,
          3,
          4,
          5,
          6,
          7,
          8,
          9,
          10,
          11,
          12,
          13,
          14,
          15,
          16,
          17,
          18,
          19,
          20,
          21,
          22,
          23,
          24,
          25,
          26,
          27,
          28,
          29,
          30,
          31,
          32,
          33,
          34,
          35,
          36,
          37,
          38,
          39,
          40,
          41,
          42,
          43,
          44,
          45,
          46,
          47,
          48,
          49,
          50,
          51,
          52,
          53,
          54,
          55,
          56,
          57,
          58,
          59,
          60,
          61,
          62,
          63,
          64,
          65,
          66,
          67,
          68,
          69,
          70,
          71,
          72,
          73,
          74,
          75,
          76,
          77,
          78,
          79,
          80,
          81,
          82,
          83,
          84,
          85,
          86,
          87,
          88,
          89,
          90,
          91,
          92,
          93,
          94,
          95,
          96,
          97,
          98,
          99,
          100,
          101,
          102,
          103,
          104,
          105,
          106,
          107,
          108,
          109,
          110,
          111,
          112,
          113,
          114,
          115,
          116,
          117,
          118,
          119,
          120,
          121,
          122,
          123,
          124,
          125,
          126,
          127,
          128,
          129,
          130,
          131,
          132,
          133,
          134,
          135,
          136,
          137,
          138,
          139,
          140,
          141,
          142,
          143,
          144,
          145,
          146,
          147,
          148,
          149,
          150,
          151,
          152,
          153,
          154,
          155,
          156,
          157,
          158,
          159,
          160,
          161,
          162,
          163,
          164,
          165,
          166,
          167,
          168,
          169,
          170,
          171,
          172,
          173,
          174,
          175,
          176,
          177,
          178,
          179,
          180,
          181,
          182,
          183,
          184,
          185,
          186,
          187,
          188,
          189,
          190,
          191,
          192,
          193,
          194,
          195,
          196,
          197,
          198,
          199,
          200,
          201,
          202,
          203,
          204,
          205,
          206,
          207,
          208,
          209,
          210,
          211,
          212,
          213,
          214,
          215,
          216,
          217,
          218,
          219,
          220,
          221,
          222,
          223,
          224,
          225,
          226,
          227,
          228,
          229,
          230,
          231,
          232,
          233,
          234
         ],
         "xaxis": "x2",
         "y": [
          110210810,
          66426229,
          107997675,
          68766812,
          71677208,
          51176719,
          51440114,
          45303619,
          49989113,
          107159962,
          51233300,
          61836062,
          47955809,
          52136931,
          70401971,
          42665281,
          123351078,
          94198104,
          126765121,
          75817597,
          62923781,
          52427090,
          47142555,
          48669773,
          38365185,
          34142633,
          58362935,
          42913288,
          50593270,
          50972366,
          51746878,
          59712773,
          83240971,
          66517089,
          107284127,
          72433946,
          144712701,
          149530614,
          105348798,
          79595332,
          119940211,
          183433020,
          152039624,
          123149245,
          113633556,
          109899410,
          86245040,
          64653565,
          73592302,
          73722506,
          97959265,
          115349101,
          113624490,
          73778646,
          90686552,
          97588644,
          116128622,
          114409114,
          108107626,
          76262249,
          112734214,
          99682876,
          91684764,
          62020953,
          55836280,
          57863114,
          61104559,
          56704899,
          56550988,
          61659907,
          60229842,
          82037278,
          78498496,
          81851828,
          66792983,
          97582788,
          73276195,
          52182392,
          51303056,
          51238854,
          78544329,
          85527030,
          68128289,
          101591166,
          39960661,
          74321368,
          67733790,
          81852446,
          116887975,
          134811046,
          106393963,
          82201629,
          65129221,
          59810238,
          106467052,
          78022218,
          76578662,
          51376702,
          57451396,
          43088618,
          56707677,
          58520164,
          54216625,
          49097061,
          58138763,
          55938789,
          51555032,
          47134279,
          48436342,
          51020147,
          45570828,
          42358478,
          51508508,
          79250069,
          90949659,
          118676302,
          72822028,
          57700303,
          49445414,
          45110288,
          58129525,
          53159581,
          35970515,
          64827858,
          53441027,
          57697668,
          68710419,
          63549456,
          97595232,
          76238584,
          52889585,
          52911312,
          64130352,
          55126358,
          75874662,
          147987000,
          99608174,
          64724389,
          47878539,
          63766637,
          43719187,
          67397137,
          52472360,
          45910298,
          68951202,
          58783297,
          58053896,
          46732212,
          38969659,
          46930008,
          41222585,
          43339275,
          44034340,
          38942418,
          38673164,
          73930864,
          92673933,
          89351931,
          92812246,
          72008712,
          54973038,
          38744714,
          40529711,
          57829572,
          77235113,
          48357355,
          59300213,
          48721378,
          42830867,
          47234364,
          51671534,
          56181907,
          57970407,
          89948174,
          83738649,
          78197140,
          78792222,
          77786735,
          118425037,
          166445534,
          92526112,
          102350143,
          76395981,
          62094837,
          61371108,
          130436306,
          82329213,
          140505979,
          129240106,
          128569957,
          90682520,
          113032245,
          72437499,
          74557404,
          65233285,
          71181163,
          72973979,
          70236825,
          66260210,
          62213228,
          46996827,
          49571569,
          41305438,
          58845088,
          45214507,
          56075116,
          72437997,
          51437944,
          70162424,
          47474495,
          47840033,
          52509825,
          52847087,
          66390563,
          50405194,
          50232447,
          69429653,
          34848495,
          51018081,
          46980500,
          48857502,
          47858289,
          50625607,
          57315573,
          72761954,
          73206538,
          61858813,
          112669636,
          86268818,
          148559598,
          132485835,
          127637758,
          137331647,
          98977532,
          95484688
         ],
         "yaxis": "y2"
        },
        {
         "line": {
          "color": "#EF8820",
          "width": 2
         },
         "name": "RSI-14",
         "showlegend": false,
         "type": "scatter",
         "x": [
          0,
          1,
          2,
          3,
          4,
          5,
          6,
          7,
          8,
          9,
          10,
          11,
          12,
          13,
          14,
          15,
          16,
          17,
          18,
          19,
          20,
          21,
          22,
          23,
          24,
          25,
          26,
          27,
          28,
          29,
          30,
          31,
          32,
          33,
          34,
          35,
          36,
          37,
          38,
          39,
          40,
          41,
          42,
          43,
          44,
          45,
          46,
          47,
          48,
          49,
          50,
          51,
          52,
          53,
          54,
          55,
          56,
          57,
          58,
          59,
          60,
          61,
          62,
          63,
          64,
          65,
          66,
          67,
          68,
          69,
          70,
          71,
          72,
          73,
          74,
          75,
          76,
          77,
          78,
          79,
          80,
          81,
          82,
          83,
          84,
          85,
          86,
          87,
          88,
          89,
          90,
          91,
          92,
          93,
          94,
          95,
          96,
          97,
          98,
          99,
          100,
          101,
          102,
          103,
          104,
          105,
          106,
          107,
          108,
          109,
          110,
          111,
          112,
          113,
          114,
          115,
          116,
          117,
          118,
          119,
          120,
          121,
          122,
          123,
          124,
          125,
          126,
          127,
          128,
          129,
          130,
          131,
          132,
          133,
          134,
          135,
          136,
          137,
          138,
          139,
          140,
          141,
          142,
          143,
          144,
          145,
          146,
          147,
          148,
          149,
          150,
          151,
          152,
          153,
          154,
          155,
          156,
          157,
          158,
          159,
          160,
          161,
          162,
          163,
          164,
          165,
          166,
          167,
          168,
          169,
          170,
          171,
          172,
          173,
          174,
          175,
          176,
          177,
          178,
          179,
          180,
          181,
          182,
          183,
          184,
          185,
          186,
          187,
          188,
          189,
          190,
          191,
          192,
          193,
          194,
          195,
          196,
          197,
          198,
          199,
          200,
          201,
          202,
          203,
          204,
          205,
          206,
          207,
          208,
          209,
          210,
          211,
          212,
          213,
          214,
          215,
          216,
          217,
          218,
          219,
          220,
          221,
          222,
          223,
          224,
          225,
          226,
          227,
          228,
          229,
          230,
          231,
          232,
          233,
          234,
          0,
          1,
          2,
          3,
          4,
          5,
          6,
          7,
          8,
          9,
          10,
          11,
          12,
          13,
          14,
          15,
          16,
          17,
          18,
          19,
          20,
          21,
          22,
          23,
          24,
          25,
          26,
          27,
          28,
          29,
          30,
          31,
          32,
          33,
          34,
          35,
          36,
          37,
          38,
          39,
          40,
          41,
          42,
          43,
          44,
          45,
          46,
          47,
          48,
          49,
          50,
          51,
          52,
          53,
          54,
          55,
          56,
          57,
          58,
          59,
          60,
          61,
          62,
          63,
          64,
          65,
          66,
          67,
          68,
          69,
          70,
          71,
          72,
          73,
          74,
          75,
          76,
          77,
          78,
          79,
          80,
          81,
          82,
          83,
          84,
          85,
          86,
          87,
          88,
          89,
          90,
          91,
          92,
          93,
          94,
          95,
          96,
          97,
          98,
          99,
          100,
          101,
          102,
          103,
          104,
          105,
          106,
          107,
          108,
          109,
          110,
          111,
          112,
          113,
          114,
          115,
          116,
          117,
          118,
          119,
          120,
          121,
          122,
          123,
          124,
          125,
          126,
          127,
          128,
          129,
          130,
          131,
          132,
          133,
          134,
          135,
          136,
          137,
          138,
          139,
          140,
          141,
          142,
          143,
          144,
          145,
          146,
          147,
          148,
          149,
          150,
          151,
          152,
          153,
          154,
          155,
          156,
          157,
          158,
          159,
          160,
          161,
          162,
          163,
          164,
          165,
          166,
          167,
          168,
          169,
          170,
          171,
          172,
          173,
          174,
          175,
          176,
          177,
          178,
          179,
          180,
          181,
          182,
          183,
          184,
          185,
          186,
          187,
          188,
          189,
          190,
          191,
          192,
          193,
          194,
          195,
          196,
          197,
          198,
          199,
          200,
          201,
          202,
          203,
          204,
          205,
          206,
          207,
          208,
          209,
          210,
          211,
          212,
          213,
          214,
          215,
          216,
          217,
          218,
          219,
          220,
          221,
          222,
          223,
          224,
          225,
          226,
          227,
          228,
          229,
          230,
          231,
          232,
          233,
          234
         ],
         "xaxis": "x3",
         "y": [
          null,
          null,
          null,
          null,
          null,
          null,
          null,
          null,
          null,
          null,
          null,
          null,
          null,
          null,
          null,
          null,
          null,
          null,
          null,
          null,
          null,
          null,
          null,
          null,
          null,
          null,
          null,
          null,
          null,
          null,
          null,
          null,
          null,
          null,
          null,
          null,
          null,
          null,
          null,
          null,
          null,
          null,
          null,
          null,
          null,
          null,
          null,
          null,
          null,
          null,
          null,
          null,
          null,
          null,
          null,
          null,
          null,
          null,
          null,
          null,
          null,
          null,
          null,
          null,
          null,
          null,
          null,
          null,
          null,
          null,
          null,
          null,
          null,
          null,
          null,
          null,
          null,
          null,
          null,
          null,
          null,
          null,
          null,
          null,
          null,
          null,
          null,
          null,
          null,
          null,
          null,
          null,
          null,
          null,
          null,
          null,
          null,
          null,
          null,
          null,
          null,
          null,
          null,
          null,
          null,
          null,
          null,
          null,
          null,
          null,
          null,
          null,
          null,
          null,
          null,
          null,
          null,
          null,
          null,
          null,
          null,
          null,
          null,
          null,
          null,
          null,
          null,
          null,
          null,
          null,
          null,
          null,
          null,
          null,
          null,
          null,
          null,
          null,
          null,
          null,
          null,
          null,
          null,
          null,
          null,
          null,
          null,
          null,
          null,
          null,
          null,
          null,
          null,
          null,
          null,
          null,
          null,
          null,
          null,
          null,
          null,
          null,
          null,
          null,
          null,
          null,
          null,
          null,
          null,
          null,
          null,
          null,
          null,
          null,
          null,
          null,
          null,
          null,
          null,
          null,
          null,
          null,
          null,
          null,
          null,
          null,
          null,
          null,
          null,
          null,
          null,
          null,
          null,
          null,
          null,
          null,
          null,
          null,
          null,
          null,
          null,
          null,
          null,
          null,
          null,
          null,
          null,
          null,
          null,
          null,
          null,
          null,
          null,
          null,
          null,
          null,
          null,
          null,
          null,
          null,
          null,
          null,
          null,
          null,
          null,
          null,
          null,
          null,
          null,
          null,
          null,
          null,
          null,
          null,
          null,
          null,
          null,
          null,
          null,
          null,
          null,
          null,
          null,
          null,
          null,
          null,
          null,
          null,
          null,
          72.69827019581466,
          70.3733985525455,
          45.744313110634806,
          51.959890341505435,
          40.28963952684366,
          50.12023759942136,
          56.74383416477408,
          57.08987201946603,
          61.84517520964275,
          63.37599063644054,
          66.07608222160641,
          65.59250390684363,
          65.25622106150956,
          65.95285953465373,
          68.06534657086739,
          67.27345912103715,
          67.38163932808048,
          63.20652599200524,
          61.51064915037138,
          54.64558899218418,
          55.4838379808171,
          62.30092584518803,
          45.65527044522504,
          43.069133893836465,
          55.713142341480896,
          51.64068688656023,
          45.595598319767966,
          40.848350509532246,
          49.20968850528173,
          47.22818435782818,
          53.038909836941365,
          55.37869413037218,
          58.98563009033406,
          59.459165324491664,
          61.57742592035147,
          60.848931080029175,
          62.15092416380402,
          53.88796526835576,
          52.94085510120788,
          56.4981456329463,
          52.27035449433954,
          49.7037447707111,
          52.470938803975464,
          59.40059193728481,
          59.10504135403202,
          57.487851119568155,
          59.31464706602022,
          63.79630172205732,
          68.77298033994629,
          68.35064506503323,
          68.75530214244971,
          70.4273789772062,
          72.83645330120201,
          72.95627799766227,
          73.96231841620046,
          70.68931322565254,
          74.49893863330061,
          75.57412470533961,
          70.83091864606145,
          64.37820847119076,
          68.36043120558963,
          61.183366936090636,
          65.73994400455292,
          66.56265824496171,
          66.38505976859723,
          66.13169765652013,
          68.95971515474322,
          63.07459587278202,
          64.14902768866699,
          58.86156531294903,
          59.04474410230364,
          63.51306376860736,
          67.06775858454165,
          58.63647149857259,
          52.31622888752835,
          41.06914150181276,
          47.762129894673016,
          54.89831835267583,
          53.57223562348917,
          49.245686687767154,
          47.98662370233884,
          53.25413697153148,
          52.81108263209054,
          57.54360712609685,
          56.20890231628877,
          57.16384746590877,
          57.42884225200312,
          58.37423521136339,
          57.69354536083918,
          58.62046184312312,
          55.5239032135121,
          60.97442677684768,
          60.12497982167712,
          60.25586934160634,
          58.800845025881124,
          61.88454559899085,
          62.95110680609808,
          64.40677460670692,
          62.24434192009648,
          56.08293097603092,
          55.73197784123945,
          43.77546062184755,
          54.75493240536916,
          58.09319750904359,
          57.065429690488095,
          60.73279551191277,
          62.799676412384784,
          63.96310315350414,
          64.28480930536,
          64.81427500583887,
          68.16068467476467,
          72.12413317088664,
          69.8748393096205,
          71.71466206456208,
          62.24285897199951,
          68.13276471390706,
          69.85044226006369,
          66.18118514338492,
          66.99568585679543,
          63.235971303302065,
          55.552391760314464,
          44.640537642999924,
          53.95291338289173,
          58.28370398139188,
          59.357076846516854,
          64.23588419551943,
          65.3167672988445,
          61.58622632612847,
          61.248856490663385,
          63.43022248627728,
          59.20972061809333,
          57.440251719497766,
          62.1535210468712,
          57.94134785778327,
          61.537573303666335,
          62.44563372064642,
          61.672360521500295,
          62.4376547751795,
          63.98646022925013,
          65.82148125867771,
          66.9267556219135,
          68.35534113438493,
          60.50187652092546,
          50.19941847788746,
          51.44525487728045,
          57.35822506991033,
          62.795166147840405,
          63.702515037342984,
          64.92223747894496,
          58.91200855782444,
          64.27472485788034,
          66.60410302843819,
          65.05827471865067,
          65.36834110697265,
          67.18459419886958,
          66.88564420112121,
          62.47651652257449,
          61.006149564116996,
          56.023519763329915,
          48.24081927551187,
          50.61984243882317,
          45.824637328869244,
          53.177881825304446,
          51.73079219669147,
          43.86892291028601,
          34.31730218198098,
          33.87482801279484,
          42.160713124952046,
          50.552796269596755,
          51.59073390125225,
          49.63857843639688,
          38.592830197059975,
          39.7739738012315,
          34.56578843687487,
          42.37106635576467,
          37.13326346707529,
          43.15978840254733,
          45.43329440824007,
          49.937830864646884,
          49.01078576523247,
          45.41322996622655,
          44.232987214474534,
          46.419350994403445,
          55.27919066761131,
          58.66771646509966,
          59.947851184767494,
          63.15945639481571,
          64.72236867847573,
          65.76509683945035,
          64.94172494310143,
          67.22636745929015,
          67.60990004224058,
          63.65734092090639,
          68.02267632922634,
          68.87748539379598,
          69.6203983076896,
          71.35418229784085,
          73.79593886417344,
          75.53968356731649,
          76.77108271320216,
          77.07792859449567,
          73.05100037317943,
          64.27801970712076,
          64.4613818346701,
          68.52159057111105,
          68.69765084660327,
          70.7357373473216,
          67.80598108291906,
          69.69151272039355,
          67.44416709058996,
          63.95407010602242,
          64.87352434508776,
          66.71684697305754,
          45.28222304890201,
          53.86549072695713,
          42.372084421538126,
          37.54330457491426,
          46.497294081386286,
          42.69510002116649,
          48.7808594806302,
          57.39249660546128
         ],
         "yaxis": "y3"
        }
       ],
       "layout": {
        "dragmode": "pan",
        "font": {
         "color": "#A4A4A4",
         "family": "Gotham Narrow, monospace",
         "size": 16
        },
        "height": 600,
        "legend": {
         "x": 0.0265,
         "xanchor": "left",
         "y": 1.1,
         "yanchor": "top"
        },
        "margin": {
         "b": 30,
         "l": 60,
         "r": 25,
         "t": 60
        },
        "shapes": [
         {
          "line": {
           "color": "#C3BEB9",
           "width": 2
          },
          "type": "line",
          "x0": 0,
          "x1": 1,
          "xref": "x3 domain",
          "y0": 0,
          "y1": 0,
          "yref": "y3"
         },
         {
          "line": {
           "color": "#C3BEB9",
           "width": 2
          },
          "type": "line",
          "x0": 0,
          "x1": 1,
          "xref": "x3 domain",
          "y0": 100,
          "y1": 100,
          "yref": "y3"
         },
         {
          "line": {
           "color": "#6EB7F8",
           "dash": "dash",
           "width": 2
          },
          "type": "line",
          "x0": 0,
          "x1": 1,
          "xref": "x3 domain",
          "y0": 40,
          "y1": 40,
          "yref": "y3"
         },
         {
          "line": {
           "color": "#6EB7F8",
           "dash": "dash",
           "width": 2
          },
          "type": "line",
          "x0": 0,
          "x1": 1,
          "xref": "x3 domain",
          "y0": 90,
          "y1": 90,
          "yref": "y3"
         }
        ],
        "showlegend": true,
        "template": {
         "data": {
          "bar": [
           {
            "error_x": {
             "color": "#f2f5fa"
            },
            "error_y": {
             "color": "#f2f5fa"
            },
            "marker": {
             "line": {
              "color": "rgb(17,17,17)",
              "width": 0.5
             },
             "pattern": {
              "fillmode": "overlay",
              "size": 10,
              "solidity": 0.2
             }
            },
            "type": "bar"
           }
          ],
          "barpolar": [
           {
            "marker": {
             "line": {
              "color": "rgb(17,17,17)",
              "width": 0.5
             },
             "pattern": {
              "fillmode": "overlay",
              "size": 10,
              "solidity": 0.2
             }
            },
            "type": "barpolar"
           }
          ],
          "carpet": [
           {
            "aaxis": {
             "endlinecolor": "#A2B1C6",
             "gridcolor": "#506784",
             "linecolor": "#506784",
             "minorgridcolor": "#506784",
             "startlinecolor": "#A2B1C6"
            },
            "baxis": {
             "endlinecolor": "#A2B1C6",
             "gridcolor": "#506784",
             "linecolor": "#506784",
             "minorgridcolor": "#506784",
             "startlinecolor": "#A2B1C6"
            },
            "type": "carpet"
           }
          ],
          "choropleth": [
           {
            "colorbar": {
             "outlinewidth": 0,
             "ticks": ""
            },
            "type": "choropleth"
           }
          ],
          "contour": [
           {
            "colorbar": {
             "outlinewidth": 0,
             "ticks": ""
            },
            "colorscale": [
             [
              0,
              "#0d0887"
             ],
             [
              0.1111111111111111,
              "#46039f"
             ],
             [
              0.2222222222222222,
              "#7201a8"
             ],
             [
              0.3333333333333333,
              "#9c179e"
             ],
             [
              0.4444444444444444,
              "#bd3786"
             ],
             [
              0.5555555555555556,
              "#d8576b"
             ],
             [
              0.6666666666666666,
              "#ed7953"
             ],
             [
              0.7777777777777778,
              "#fb9f3a"
             ],
             [
              0.8888888888888888,
              "#fdca26"
             ],
             [
              1,
              "#f0f921"
             ]
            ],
            "type": "contour"
           }
          ],
          "contourcarpet": [
           {
            "colorbar": {
             "outlinewidth": 0,
             "ticks": ""
            },
            "type": "contourcarpet"
           }
          ],
          "heatmap": [
           {
            "colorbar": {
             "outlinewidth": 0,
             "ticks": ""
            },
            "colorscale": [
             [
              0,
              "#0d0887"
             ],
             [
              0.1111111111111111,
              "#46039f"
             ],
             [
              0.2222222222222222,
              "#7201a8"
             ],
             [
              0.3333333333333333,
              "#9c179e"
             ],
             [
              0.4444444444444444,
              "#bd3786"
             ],
             [
              0.5555555555555556,
              "#d8576b"
             ],
             [
              0.6666666666666666,
              "#ed7953"
             ],
             [
              0.7777777777777778,
              "#fb9f3a"
             ],
             [
              0.8888888888888888,
              "#fdca26"
             ],
             [
              1,
              "#f0f921"
             ]
            ],
            "type": "heatmap"
           }
          ],
          "heatmapgl": [
           {
            "colorbar": {
             "outlinewidth": 0,
             "ticks": ""
            },
            "colorscale": [
             [
              0,
              "#0d0887"
             ],
             [
              0.1111111111111111,
              "#46039f"
             ],
             [
              0.2222222222222222,
              "#7201a8"
             ],
             [
              0.3333333333333333,
              "#9c179e"
             ],
             [
              0.4444444444444444,
              "#bd3786"
             ],
             [
              0.5555555555555556,
              "#d8576b"
             ],
             [
              0.6666666666666666,
              "#ed7953"
             ],
             [
              0.7777777777777778,
              "#fb9f3a"
             ],
             [
              0.8888888888888888,
              "#fdca26"
             ],
             [
              1,
              "#f0f921"
             ]
            ],
            "type": "heatmapgl"
           }
          ],
          "histogram": [
           {
            "marker": {
             "pattern": {
              "fillmode": "overlay",
              "size": 10,
              "solidity": 0.2
             }
            },
            "type": "histogram"
           }
          ],
          "histogram2d": [
           {
            "colorbar": {
             "outlinewidth": 0,
             "ticks": ""
            },
            "colorscale": [
             [
              0,
              "#0d0887"
             ],
             [
              0.1111111111111111,
              "#46039f"
             ],
             [
              0.2222222222222222,
              "#7201a8"
             ],
             [
              0.3333333333333333,
              "#9c179e"
             ],
             [
              0.4444444444444444,
              "#bd3786"
             ],
             [
              0.5555555555555556,
              "#d8576b"
             ],
             [
              0.6666666666666666,
              "#ed7953"
             ],
             [
              0.7777777777777778,
              "#fb9f3a"
             ],
             [
              0.8888888888888888,
              "#fdca26"
             ],
             [
              1,
              "#f0f921"
             ]
            ],
            "type": "histogram2d"
           }
          ],
          "histogram2dcontour": [
           {
            "colorbar": {
             "outlinewidth": 0,
             "ticks": ""
            },
            "colorscale": [
             [
              0,
              "#0d0887"
             ],
             [
              0.1111111111111111,
              "#46039f"
             ],
             [
              0.2222222222222222,
              "#7201a8"
             ],
             [
              0.3333333333333333,
              "#9c179e"
             ],
             [
              0.4444444444444444,
              "#bd3786"
             ],
             [
              0.5555555555555556,
              "#d8576b"
             ],
             [
              0.6666666666666666,
              "#ed7953"
             ],
             [
              0.7777777777777778,
              "#fb9f3a"
             ],
             [
              0.8888888888888888,
              "#fdca26"
             ],
             [
              1,
              "#f0f921"
             ]
            ],
            "type": "histogram2dcontour"
           }
          ],
          "mesh3d": [
           {
            "colorbar": {
             "outlinewidth": 0,
             "ticks": ""
            },
            "type": "mesh3d"
           }
          ],
          "parcoords": [
           {
            "line": {
             "colorbar": {
              "outlinewidth": 0,
              "ticks": ""
             }
            },
            "type": "parcoords"
           }
          ],
          "pie": [
           {
            "automargin": true,
            "type": "pie"
           }
          ],
          "scatter": [
           {
            "marker": {
             "line": {
              "color": "#283442"
             }
            },
            "type": "scatter"
           }
          ],
          "scatter3d": [
           {
            "line": {
             "colorbar": {
              "outlinewidth": 0,
              "ticks": ""
             }
            },
            "marker": {
             "colorbar": {
              "outlinewidth": 0,
              "ticks": ""
             }
            },
            "type": "scatter3d"
           }
          ],
          "scattercarpet": [
           {
            "marker": {
             "colorbar": {
              "outlinewidth": 0,
              "ticks": ""
             }
            },
            "type": "scattercarpet"
           }
          ],
          "scattergeo": [
           {
            "marker": {
             "colorbar": {
              "outlinewidth": 0,
              "ticks": ""
             }
            },
            "type": "scattergeo"
           }
          ],
          "scattergl": [
           {
            "marker": {
             "line": {
              "color": "#283442"
             }
            },
            "type": "scattergl"
           }
          ],
          "scattermapbox": [
           {
            "marker": {
             "colorbar": {
              "outlinewidth": 0,
              "ticks": ""
             }
            },
            "type": "scattermapbox"
           }
          ],
          "scatterpolar": [
           {
            "marker": {
             "colorbar": {
              "outlinewidth": 0,
              "ticks": ""
             }
            },
            "type": "scatterpolar"
           }
          ],
          "scatterpolargl": [
           {
            "marker": {
             "colorbar": {
              "outlinewidth": 0,
              "ticks": ""
             }
            },
            "type": "scatterpolargl"
           }
          ],
          "scatterternary": [
           {
            "marker": {
             "colorbar": {
              "outlinewidth": 0,
              "ticks": ""
             }
            },
            "type": "scatterternary"
           }
          ],
          "surface": [
           {
            "colorbar": {
             "outlinewidth": 0,
             "ticks": ""
            },
            "colorscale": [
             [
              0,
              "#0d0887"
             ],
             [
              0.1111111111111111,
              "#46039f"
             ],
             [
              0.2222222222222222,
              "#7201a8"
             ],
             [
              0.3333333333333333,
              "#9c179e"
             ],
             [
              0.4444444444444444,
              "#bd3786"
             ],
             [
              0.5555555555555556,
              "#d8576b"
             ],
             [
              0.6666666666666666,
              "#ed7953"
             ],
             [
              0.7777777777777778,
              "#fb9f3a"
             ],
             [
              0.8888888888888888,
              "#fdca26"
             ],
             [
              1,
              "#f0f921"
             ]
            ],
            "type": "surface"
           }
          ],
          "table": [
           {
            "cells": {
             "fill": {
              "color": "#506784"
             },
             "line": {
              "color": "rgb(17,17,17)"
             }
            },
            "header": {
             "fill": {
              "color": "#2a3f5f"
             },
             "line": {
              "color": "rgb(17,17,17)"
             }
            },
            "type": "table"
           }
          ]
         },
         "layout": {
          "annotationdefaults": {
           "arrowcolor": "#f2f5fa",
           "arrowhead": 0,
           "arrowwidth": 1
          },
          "autotypenumbers": "strict",
          "coloraxis": {
           "colorbar": {
            "outlinewidth": 0,
            "ticks": ""
           }
          },
          "colorscale": {
           "diverging": [
            [
             0,
             "#8e0152"
            ],
            [
             0.1,
             "#c51b7d"
            ],
            [
             0.2,
             "#de77ae"
            ],
            [
             0.3,
             "#f1b6da"
            ],
            [
             0.4,
             "#fde0ef"
            ],
            [
             0.5,
             "#f7f7f7"
            ],
            [
             0.6,
             "#e6f5d0"
            ],
            [
             0.7,
             "#b8e186"
            ],
            [
             0.8,
             "#7fbc41"
            ],
            [
             0.9,
             "#4d9221"
            ],
            [
             1,
             "#276419"
            ]
           ],
           "sequential": [
            [
             0,
             "#0d0887"
            ],
            [
             0.1111111111111111,
             "#46039f"
            ],
            [
             0.2222222222222222,
             "#7201a8"
            ],
            [
             0.3333333333333333,
             "#9c179e"
            ],
            [
             0.4444444444444444,
             "#bd3786"
            ],
            [
             0.5555555555555556,
             "#d8576b"
            ],
            [
             0.6666666666666666,
             "#ed7953"
            ],
            [
             0.7777777777777778,
             "#fb9f3a"
            ],
            [
             0.8888888888888888,
             "#fdca26"
            ],
            [
             1,
             "#f0f921"
            ]
           ],
           "sequentialminus": [
            [
             0,
             "#0d0887"
            ],
            [
             0.1111111111111111,
             "#46039f"
            ],
            [
             0.2222222222222222,
             "#7201a8"
            ],
            [
             0.3333333333333333,
             "#9c179e"
            ],
            [
             0.4444444444444444,
             "#bd3786"
            ],
            [
             0.5555555555555556,
             "#d8576b"
            ],
            [
             0.6666666666666666,
             "#ed7953"
            ],
            [
             0.7777777777777778,
             "#fb9f3a"
            ],
            [
             0.8888888888888888,
             "#fdca26"
            ],
            [
             1,
             "#f0f921"
            ]
           ]
          },
          "colorway": [
           "#636efa",
           "#EF553B",
           "#00cc96",
           "#ab63fa",
           "#FFA15A",
           "#19d3f3",
           "#FF6692",
           "#B6E880",
           "#FF97FF",
           "#FECB52"
          ],
          "font": {
           "color": "#f2f5fa"
          },
          "geo": {
           "bgcolor": "rgb(17,17,17)",
           "lakecolor": "rgb(17,17,17)",
           "landcolor": "rgb(17,17,17)",
           "showlakes": true,
           "showland": true,
           "subunitcolor": "#506784"
          },
          "hoverlabel": {
           "align": "left"
          },
          "hovermode": "closest",
          "mapbox": {
           "style": "dark"
          },
          "paper_bgcolor": "rgb(17,17,17)",
          "plot_bgcolor": "rgb(17,17,17)",
          "polar": {
           "angularaxis": {
            "gridcolor": "#506784",
            "linecolor": "#506784",
            "ticks": ""
           },
           "bgcolor": "rgb(17,17,17)",
           "radialaxis": {
            "gridcolor": "#506784",
            "linecolor": "#506784",
            "ticks": ""
           }
          },
          "scene": {
           "xaxis": {
            "backgroundcolor": "rgb(17,17,17)",
            "gridcolor": "#506784",
            "gridwidth": 2,
            "linecolor": "#506784",
            "showbackground": true,
            "ticks": "",
            "zerolinecolor": "#C8D4E3"
           },
           "yaxis": {
            "backgroundcolor": "rgb(17,17,17)",
            "gridcolor": "#506784",
            "gridwidth": 2,
            "linecolor": "#506784",
            "showbackground": true,
            "ticks": "",
            "zerolinecolor": "#C8D4E3"
           },
           "zaxis": {
            "backgroundcolor": "rgb(17,17,17)",
            "gridcolor": "#506784",
            "gridwidth": 2,
            "linecolor": "#506784",
            "showbackground": true,
            "ticks": "",
            "zerolinecolor": "#C8D4E3"
           }
          },
          "shapedefaults": {
           "line": {
            "color": "#f2f5fa"
           }
          },
          "sliderdefaults": {
           "bgcolor": "#C8D4E3",
           "bordercolor": "rgb(17,17,17)",
           "borderwidth": 1,
           "tickwidth": 0
          },
          "ternary": {
           "aaxis": {
            "gridcolor": "#506784",
            "linecolor": "#506784",
            "ticks": ""
           },
           "baxis": {
            "gridcolor": "#506784",
            "linecolor": "#506784",
            "ticks": ""
           },
           "bgcolor": "rgb(17,17,17)",
           "caxis": {
            "gridcolor": "#506784",
            "linecolor": "#506784",
            "ticks": ""
           }
          },
          "title": {
           "x": 0.05
          },
          "updatemenudefaults": {
           "bgcolor": "#506784",
           "borderwidth": 0
          },
          "xaxis": {
           "automargin": true,
           "gridcolor": "#283442",
           "linecolor": "#506784",
           "ticks": "",
           "title": {
            "standoff": 15
           },
           "zerolinecolor": "#283442",
           "zerolinewidth": 2
          },
          "yaxis": {
           "automargin": true,
           "gridcolor": "#283442",
           "linecolor": "#506784",
           "ticks": "",
           "title": {
            "standoff": 15
           },
           "zerolinecolor": "#283442",
           "zerolinewidth": 2
          }
         }
        },
        "title": {
         "text": "SPY 2021",
         "x": 0.5,
         "xanchor": "center",
         "y": 0.965,
         "yanchor": "top"
        },
        "width": 1000,
        "xaxis": {
         "anchor": "y",
         "autorange": true,
         "domain": [
          0,
          1
         ],
         "matches": "x3",
         "range": [
          "2021-01-03 12:00",
          "2021-12-07 12:00"
         ],
         "rangeslider": {
          "visible": false,
          "yaxis": {}
         },
         "showticklabels": false,
         "type": "date"
        },
        "xaxis2": {
         "anchor": "y2",
         "autorange": true,
         "domain": [
          0,
          1
         ],
         "matches": "x3",
         "range": [
          -0.5,
          234.5
         ],
         "showticklabels": false,
         "type": "linear"
        },
        "xaxis3": {
         "anchor": "y3",
         "autorange": true,
         "domain": [
          0,
          1
         ],
         "range": [
          -0.5,
          234.5
         ],
         "tickmode": "array",
         "ticktext": [
          "Jan",
          "Feb",
          "Mar",
          "Apr",
          "May",
          "Jun",
          "Jul",
          "Aug",
          "Sep",
          "Oct",
          "Nov",
          "Dec"
         ],
         "tickvals": [
          1,
          22,
          43,
          64,
          85,
          106,
          127,
          148,
          169,
          191,
          212,
          233
         ],
         "type": "linear"
        },
        "yaxis": {
         "anchor": "x",
         "autorange": true,
         "domain": [
          0.47058823529411764,
          0.9999999999999999
         ],
         "range": [
          358.78,
          479.58000000000004
         ],
         "title": {
          "text": "Price"
         },
         "type": "linear"
        },
        "yaxis2": {
         "anchor": "x2",
         "autorange": true,
         "domain": [
          0.26176470588235295,
          0.42058823529411765
         ],
         "range": [
          0,
          193087389.47368422
         ],
         "title": {
          "text": "Volume"
         },
         "type": "linear"
        },
        "yaxis3": {
         "anchor": "x3",
         "autorange": true,
         "domain": [
          0,
          0.21176470588235294
         ],
         "range": [
          -0.952914798206278,
          100.95291479820628
         ],
         "title": {
          "text": "RSI-14"
         },
         "type": "linear"
        }
       }
      },
      "image/png": "[encoded data removed]",
      "text/html": [
       "<div>                            <div id=\"026ef369-3d29-448b-900d-40b9f9d47083\" class=\"plotly-graph-div\" style=\"height:600px; width:1000px;\"></div>            <script type=\"text/javascript\">                require([\"plotly\"], function(Plotly) {                    window.PLOTLYENV=window.PLOTLYENV || {};                                    if (document.getElementById(\"026ef369-3d29-448b-900d-40b9f9d47083\")) {                    Plotly.newPlot(                        \"026ef369-3d29-448b-900d-40b9f9d47083\",                        [{\"close\":[368.79,371.33,373.55,379.1,381.26,378.69,378.77,379.79,378.46,375.7,378.65,383.89,384.24,382.88,384.39,383.79,374.41,377.63,370.07,376.23,381.55,381.85,386.19,387.71,390.51,390.25,390.08,390.71,392.64,392.3,392.39,390.72,390.03,387.03,387.5,391.77,382.33,380.36,389.58,386.54,381.42,376.7,383.63,381.72,387.17,389.58,393.53,394.06,396.41,395.91,397.26,391.48,389.48,392.59,389.5,387.52,389.7,395.98,395.78,394.73,396.33,400.61,406.36,406.12,406.59,408.52,411.49,411.64,412.86,411.45,415.87,417.26,415.21,412.17,416.07,412.27,416.74,417.61,417.52,417.4,420.06,417.3,418.2,415.62,415.75,419.07,422.12,417.94,414.21,405.41,410.28,416.58,415.52,411.94,410.86,415.28,414.94,419.17,418.24,419.07,419.29,420.04,419.67,420.33,418.77,422.6,422.19,422.28,421.65,423.61,424.31,425.26,424.48,422.11,421.97,414.92,420.86,423.11,422.6,425.1,426.61,427.47,427.7,428.06,430.43,433.72,432.93,434.46,430.92,435.52,437.08,435.59,436.24,434.75,431.34,424.97,431.06,434.55,435.46,439.94,441.02,439.01,438.83,440.65,438.51,437.59,441.15,438.98,441.76,442.49,442.13,442.68,443.78,445.11,445.92,446.97,444.04,439.18,439.86,443.36,447.26,447.97,448.91,446.26,450.25,452.23,451.56,451.8,453.19,453.08,451.46,450.91,448.98,445.44,446.58,444.17,447.88,447.17,441.4,434.04,433.63,437.86,443.18,443.91,442.64,433.72,434.45,429.14,434.24,428.64,433.1,434.9,438.66,437.86,434.69,433.62,435.18,442.5,445.87,447.19,450.64,452.41,453.59,453.12,455.55,455.96,453.94,458.32,459.25,460.04,461.9,464.72,466.91,468.53,468.93,467.38,463.62,463.77,467.27,467.43,469.28,468.14,469.73,468.89,467.57,468.19,469.44,458.97,464.6,455.56,450.5,457.4,453.42,458.79,468.28],\"high\":[375.45,372.5,376.98,379.9,381.49,380.58,379.86,380.86,381.13,377.58,379.23,384.79,384.95,384.1256,384.77,385.85,380.32,381.93,376.67,377.34,383.22,383.7,386.24,388.47,390.56,390.89,392.28,391.69,392.9,394.17,392.66,391.515,392.38,389.62,388.945,392.23,391.88,385.58,390.92,390.07,386.83,384.0,384.76,387.68,389.91,391.4,395.65,394.21,396.685,397.83,398.12,396.72,391.569,394.07,393.46,392.75,390.55,396.41,396.75,395.45,398.0,400.67,406.94,407.24,406.96,408.58,411.67,411.93,413.529,413.96,416.16,417.91,416.74,415.0859,416.29,416.78,418.25,418.22,418.14,419.01,420.72,418.54,419.84,416.6,417.63,419.21,422.815,422.74,415.27,412.59,412.35,417.49,416.39,416.06,411.05,416.625,418.2,420.32,420.71,419.61,420.72,421.25,422.72,421.23,419.99,422.92,422.78,423.21,423.26,424.63,424.43,425.37,425.46,424.87,423.02,417.8281,421.06,424.0,424.05,425.55,427.0943,427.65,428.56,428.78,430.6,434.1,434.01,434.76,431.73,435.84,437.35,437.84,437.92,435.53,436.06,431.4089,432.42,434.7,435.72,440.3,441.03,439.94,440.3,441.8,440.06,440.93,441.28,441.1243,441.85,442.94,442.795,443.44,443.882,445.2572,445.94,447.11,444.96,444.625,441.14,443.71,448.23,448.54,449.457,448.86,450.65,453.07,452.49,453.11,454.05,453.63,452.81,451.67,452.57,451.49,448.92,448.34,448.41,448.36,445.37,436.56,437.91,440.03,444.89,444.67,444.05,440.04,437.04,436.77,436.0329,433.96,435.49,435.1199,441.68,439.89,440.26,436.1,436.05,442.66,446.26,447.55,450.71,452.732,453.829,454.67,455.9,458.49,457.16,458.4,459.56,460.7021,462.23,465.15,467.0,470.65,470.23,469.57,467.38,465.29,467.86,468.81,470.485,469.19,470.01,470.94,473.54,469.095,469.57,463.9,466.56,464.03,464.67,459.07,460.3,460.79,468.88],\"low\":[364.82,368.05,369.12,375.91,377.1,377.7189,376.36,377.85,378.1,373.7,376.75,380.69,383.25,381.835,378.46,383.54,372.01,375.89,368.27,370.376,376.3181,380.48,381.9655,386.1444,388.35,389.17,387.5,388.1,389.77,391.53,389.33,387.74,389.55,386.74,380.2,385.27,380.7789,378.23,380.572,386.0,381.31,371.88,372.64,381.42,381.7299,388.1702,391.74,391.2,392.03,395.08,393.3,390.75,387.15,389.97,388.66,387.47,383.9,390.29,392.81,393.02,395.31,398.18,403.38,405.4,405.45,406.93,408.26,410.2,411.12,410.87,413.69,415.73,413.79,410.59,411.36,411.13,412.79,416.8111,416.3,416.9,416.44,416.34,417.665,411.67,415.15,413.675,419.16,417.81,410.06,404.0,407.02,413.18,413.36,411.77,405.33,411.67,414.45,417.08,417.62,417.76,418.9851,419.79,419.2,419.29,416.28,418.8422,421.19,420.32,421.41,421.55,422.82,423.1,423.54,419.92,419.32,414.7,415.93,420.08,422.51,424.62,425.55,425.89,427.13,427.18,428.8,430.5218,430.01,431.51,427.52,430.714,434.97,435.31,434.91,432.72,430.92,421.97,424.83,431.0111,433.69,436.79,439.26,435.99,437.31,439.81,437.77,437.21,436.1,438.73,439.88,441.8,441.31,441.88,442.62,442.66,445.07,442.87,440.85,438.92,436.12,439.71,443.4355,447.42,447.77,446.16,447.06,450.71,450.92,451.545,451.91,451.55,450.7423,448.86,448.72,445.31,444.11,443.22,443.44,444.02,441.02,428.86,433.07,433.747,439.6,441.21,441.9,432.94,433.85,428.78,427.23,426.36,429.39,427.54,438.2,437.19,434.62,432.78,431.54,438.58,444.09,443.27,448.27,451.01,451.31,451.05,452.39,455.56,453.86,455.45,455.56,458.2,460.08,460.83,464.99,466.92,468.2031,465.88,462.04,463.75,464.11,466.23,467.07,467.48,466.34,468.5,467.35,464.45,465.19,457.77,461.73,455.3,450.29,450.31,448.92,453.56,458.6546],\"name\":\"SPY\",\"open\":[375.31,368.1,369.71,376.1,380.59,377.85,378.89,378.69,380.59,376.72,378.34,381.11,384.49,382.25,383.67,385.41,380.22,376.36,375.63,373.72,379.65,382.435,382.96,388.2,389.27,389.61,392.12,391.24,389.85,393.96,390.42,389.59,392.07,387.06,384.66,386.33,390.41,384.35,385.59,389.82,385.79,381.22,380.46,384.66,385.85,389.69,392.23,392.07,394.33,397.07,394.53,394.475,389.88,390.03,391.91,391.0,385.98,390.93,394.4,394.42,395.34,398.4,403.46,405.76,405.94,407.93,408.39,410.85,411.53,412.83,413.74,417.25,416.26,413.91,411.51,415.89,412.87,417.44,417.93,417.81,420.32,417.63,419.43,416.07,417.38,415.83,419.89,422.5,413.1,411.23,407.07,413.21,415.39,415.8,406.92,411.8,416.87,417.34,420.33,418.87,420.17,420.97,422.57,420.37,417.85,420.75,422.59,423.11,423.18,422.96,424.2,424.43,425.42,424.63,421.67,417.09,416.8,420.85,423.19,424.89,425.9,427.17,427.88,427.21,428.87,431.67,433.78,433.66,428.78,432.53,435.43,436.24,437.4,434.81,436.01,426.19,425.68,432.34,434.74,437.52,439.31,439.91,439.68,439.815,437.91,440.34,438.44,439.78,440.22,442.1,442.46,442.61,443.82,443.62,445.59,444.53,444.24,442.96,436.27,440.23,445.16,447.97,448.17,448.61,447.12,450.97,452.13,452.56,453.32,451.98,452.71,450.89,450.7,451.04,448.64,448.12,444.62,447.32,444.92,434.88,436.53,436.05,439.85,441.44,442.81,439.69,435.19,436.02,430.98,433.0,430.24,429.27,438.39,439.48,437.16,435.67,434.71,439.08,444.75,443.97,448.92,451.13,451.77,453.13,454.28,457.2,456.45,455.46,455.87,460.3,460.22,461.3,465.36,469.28,469.7,469.32,465.58,465.21,465.12,468.64,467.15,469.0,469.24,469.61,470.89,467.22,466.06,462.34,464.07,462.0,461.64,450.73,459.17,456.13,464.41],\"type\":\"candlestick\",\"x\":[\"2021-01-04\",\"2021-01-05\",\"2021-01-06\",\"2021-01-07\",\"2021-01-08\",\"2021-01-11\",\"2021-01-12\",\"2021-01-13\",\"2021-01-14\",\"2021-01-15\",\"2021-01-19\",\"2021-01-20\",\"2021-01-21\",\"2021-01-22\",\"2021-01-25\",\"2021-01-26\",\"2021-01-27\",\"2021-01-28\",\"2021-01-29\",\"2021-02-01\",\"2021-02-02\",\"2021-02-03\",\"2021-02-04\",\"2021-02-05\",\"2021-02-08\",\"2021-02-09\",\"2021-02-10\",\"2021-02-11\",\"2021-02-12\",\"2021-02-16\",\"2021-02-17\",\"2021-02-18\",\"2021-02-19\",\"2021-02-22\",\"2021-02-23\",\"2021-02-24\",\"2021-02-25\",\"2021-02-26\",\"2021-03-01\",\"2021-03-02\",\"2021-03-03\",\"2021-03-04\",\"2021-03-05\",\"2021-03-08\",\"2021-03-09\",\"2021-03-10\",\"2021-03-11\",\"2021-03-12\",\"2021-03-15\",\"2021-03-16\",\"2021-03-17\",\"2021-03-18\",\"2021-03-19\",\"2021-03-22\",\"2021-03-23\",\"2021-03-24\",\"2021-03-25\",\"2021-03-26\",\"2021-03-29\",\"2021-03-30\",\"2021-03-31\",\"2021-04-01\",\"2021-04-05\",\"2021-04-06\",\"2021-04-07\",\"2021-04-08\",\"2021-04-09\",\"2021-04-12\",\"2021-04-13\",\"2021-04-14\",\"2021-04-15\",\"2021-04-16\",\"2021-04-19\",\"2021-04-20\",\"2021-04-21\",\"2021-04-22\",\"2021-04-23\",\"2021-04-26\",\"2021-04-27\",\"2021-04-28\",\"2021-04-29\",\"2021-04-30\",\"2021-05-03\",\"2021-05-04\",\"2021-05-05\",\"2021-05-06\",\"2021-05-07\",\"2021-05-10\",\"2021-05-11\",\"2021-05-12\",\"2021-05-13\",\"2021-05-14\",\"2021-05-17\",\"2021-05-18\",\"2021-05-19\",\"2021-05-20\",\"2021-05-21\",\"2021-05-24\",\"2021-05-25\",\"2021-05-26\",\"2021-05-27\",\"2021-05-28\",\"2021-06-01\",\"2021-06-02\",\"2021-06-03\",\"2021-06-04\",\"2021-06-07\",\"2021-06-08\",\"2021-06-09\",\"2021-06-10\",\"2021-06-11\",\"2021-06-14\",\"2021-06-15\",\"2021-06-16\",\"2021-06-17\",\"2021-06-18\",\"2021-06-21\",\"2021-06-22\",\"2021-06-23\",\"2021-06-24\",\"2021-06-25\",\"2021-06-28\",\"2021-06-29\",\"2021-06-30\",\"2021-07-01\",\"2021-07-02\",\"2021-07-06\",\"2021-07-07\",\"2021-07-08\",\"2021-07-09\",\"2021-07-12\",\"2021-07-13\",\"2021-07-14\",\"2021-07-15\",\"2021-07-16\",\"2021-07-19\",\"2021-07-20\",\"2021-07-21\",\"2021-07-22\",\"2021-07-23\",\"2021-07-26\",\"2021-07-27\",\"2021-07-28\",\"2021-07-29\",\"2021-07-30\",\"2021-08-02\",\"2021-08-03\",\"2021-08-04\",\"2021-08-05\",\"2021-08-06\",\"2021-08-09\",\"2021-08-10\",\"2021-08-11\",\"2021-08-12\",\"2021-08-13\",\"2021-08-16\",\"2021-08-17\",\"2021-08-18\",\"2021-08-19\",\"2021-08-20\",\"2021-08-23\",\"2021-08-24\",\"2021-08-25\",\"2021-08-26\",\"2021-08-27\",\"2021-08-30\",\"2021-08-31\",\"2021-09-01\",\"2021-09-02\",\"2021-09-03\",\"2021-09-07\",\"2021-09-08\",\"2021-09-09\",\"2021-09-10\",\"2021-09-13\",\"2021-09-14\",\"2021-09-15\",\"2021-09-16\",\"2021-09-17\",\"2021-09-20\",\"2021-09-21\",\"2021-09-22\",\"2021-09-23\",\"2021-09-24\",\"2021-09-27\",\"2021-09-28\",\"2021-09-29\",\"2021-09-30\",\"2021-10-01\",\"2021-10-04\",\"2021-10-05\",\"2021-10-06\",\"2021-10-07\",\"2021-10-08\",\"2021-10-11\",\"2021-10-12\",\"2021-10-13\",\"2021-10-14\",\"2021-10-15\",\"2021-10-18\",\"2021-10-19\",\"2021-10-20\",\"2021-10-21\",\"2021-10-22\",\"2021-10-25\",\"2021-10-26\",\"2021-10-27\",\"2021-10-28\",\"2021-10-29\",\"2021-11-01\",\"2021-11-02\",\"2021-11-03\",\"2021-11-04\",\"2021-11-05\",\"2021-11-08\",\"2021-11-09\",\"2021-11-10\",\"2021-11-11\",\"2021-11-12\",\"2021-11-15\",\"2021-11-16\",\"2021-11-17\",\"2021-11-18\",\"2021-11-19\",\"2021-11-22\",\"2021-11-23\",\"2021-11-24\",\"2021-11-26\",\"2021-11-29\",\"2021-11-30\",\"2021-12-01\",\"2021-12-02\",\"2021-12-03\",\"2021-12-06\",\"2021-12-07\"],\"xaxis\":\"x\",\"yaxis\":\"y\"},{\"line\":{\"color\":\"white\",\"width\":1},\"name\":\"MA 10\",\"type\":\"scatter\",\"x\":[\"2021-01-04\",\"2021-01-05\",\"2021-01-06\",\"2021-01-07\",\"2021-01-08\",\"2021-01-11\",\"2021-01-12\",\"2021-01-13\",\"2021-01-14\",\"2021-01-15\",\"2021-01-19\",\"2021-01-20\",\"2021-01-21\",\"2021-01-22\",\"2021-01-25\",\"2021-01-26\",\"2021-01-27\",\"2021-01-28\",\"2021-01-29\",\"2021-02-01\",\"2021-02-02\",\"2021-02-03\",\"2021-02-04\",\"2021-02-05\",\"2021-02-08\",\"2021-02-09\",\"2021-02-10\",\"2021-02-11\",\"2021-02-12\",\"2021-02-16\",\"2021-02-17\",\"2021-02-18\",\"2021-02-19\",\"2021-02-22\",\"2021-02-23\",\"2021-02-24\",\"2021-02-25\",\"2021-02-26\",\"2021-03-01\",\"2021-03-02\",\"2021-03-03\",\"2021-03-04\",\"2021-03-05\",\"2021-03-08\",\"2021-03-09\",\"2021-03-10\",\"2021-03-11\",\"2021-03-12\",\"2021-03-15\",\"2021-03-16\",\"2021-03-17\",\"2021-03-18\",\"2021-03-19\",\"2021-03-22\",\"2021-03-23\",\"2021-03-24\",\"2021-03-25\",\"2021-03-26\",\"2021-03-29\",\"2021-03-30\",\"2021-03-31\",\"2021-04-01\",\"2021-04-05\",\"2021-04-06\",\"2021-04-07\",\"2021-04-08\",\"2021-04-09\",\"2021-04-12\",\"2021-04-13\",\"2021-04-14\",\"2021-04-15\",\"2021-04-16\",\"2021-04-19\",\"2021-04-20\",\"2021-04-21\",\"2021-04-22\",\"2021-04-23\",\"2021-04-26\",\"2021-04-27\",\"2021-04-28\",\"2021-04-29\",\"2021-04-30\",\"2021-05-03\",\"2021-05-04\",\"2021-05-05\",\"2021-05-06\",\"2021-05-07\",\"2021-05-10\",\"2021-05-11\",\"2021-05-12\",\"2021-05-13\",\"2021-05-14\",\"2021-05-17\",\"2021-05-18\",\"2021-05-19\",\"2021-05-20\",\"2021-05-21\",\"2021-05-24\",\"2021-05-25\",\"2021-05-26\",\"2021-05-27\",\"2021-05-28\",\"2021-06-01\",\"2021-06-02\",\"2021-06-03\",\"2021-06-04\",\"2021-06-07\",\"2021-06-08\",\"2021-06-09\",\"2021-06-10\",\"2021-06-11\",\"2021-06-14\",\"2021-06-15\",\"2021-06-16\",\"2021-06-17\",\"2021-06-18\",\"2021-06-21\",\"2021-06-22\",\"2021-06-23\",\"2021-06-24\",\"2021-06-25\",\"2021-06-28\",\"2021-06-29\",\"2021-06-30\",\"2021-07-01\",\"2021-07-02\",\"2021-07-06\",\"2021-07-07\",\"2021-07-08\",\"2021-07-09\",\"2021-07-12\",\"2021-07-13\",\"2021-07-14\",\"2021-07-15\",\"2021-07-16\",\"2021-07-19\",\"2021-07-20\",\"2021-07-21\",\"2021-07-22\",\"2021-07-23\",\"2021-07-26\",\"2021-07-27\",\"2021-07-28\",\"2021-07-29\",\"2021-07-30\",\"2021-08-02\",\"2021-08-03\",\"2021-08-04\",\"2021-08-05\",\"2021-08-06\",\"2021-08-09\",\"2021-08-10\",\"2021-08-11\",\"2021-08-12\",\"2021-08-13\",\"2021-08-16\",\"2021-08-17\",\"2021-08-18\",\"2021-08-19\",\"2021-08-20\",\"2021-08-23\",\"2021-08-24\",\"2021-08-25\",\"2021-08-26\",\"2021-08-27\",\"2021-08-30\",\"2021-08-31\",\"2021-09-01\",\"2021-09-02\",\"2021-09-03\",\"2021-09-07\",\"2021-09-08\",\"2021-09-09\",\"2021-09-10\",\"2021-09-13\",\"2021-09-14\",\"2021-09-15\",\"2021-09-16\",\"2021-09-17\",\"2021-09-20\",\"2021-09-21\",\"2021-09-22\",\"2021-09-23\",\"2021-09-24\",\"2021-09-27\",\"2021-09-28\",\"2021-09-29\",\"2021-09-30\",\"2021-10-01\",\"2021-10-04\",\"2021-10-05\",\"2021-10-06\",\"2021-10-07\",\"2021-10-08\",\"2021-10-11\",\"2021-10-12\",\"2021-10-13\",\"2021-10-14\",\"2021-10-15\",\"2021-10-18\",\"2021-10-19\",\"2021-10-20\",\"2021-10-21\",\"2021-10-22\",\"2021-10-25\",\"2021-10-26\",\"2021-10-27\",\"2021-10-28\",\"2021-10-29\",\"2021-11-01\",\"2021-11-02\",\"2021-11-03\",\"2021-11-04\",\"2021-11-05\",\"2021-11-08\",\"2021-11-09\",\"2021-11-10\",\"2021-11-11\",\"2021-11-12\",\"2021-11-15\",\"2021-11-16\",\"2021-11-17\",\"2021-11-18\",\"2021-11-19\",\"2021-11-22\",\"2021-11-23\",\"2021-11-24\",\"2021-11-26\",\"2021-11-29\",\"2021-11-30\",\"2021-12-01\",\"2021-12-02\",\"2021-12-03\",\"2021-12-06\",\"2021-12-07\"],\"y\":[null,null,null,null,null,null,null,null,null,372.8658876036,373.8422562754,375.08598756530006,376.1445454864,376.5188531517,376.8287957423,377.3338140209,376.9020729043,376.6881828098,375.85737823,375.9098605217,376.1970277782,375.9950204668,376.188115691,376.6663977077,377.2724196419,377.9121094614,379.463802878,380.7590262277,382.9939796682,384.5852823616,385.6586937615,386.5370294734,386.9172785301,386.8499427596,386.5518829521,386.7023982037,385.9349684667,384.9100784308,384.6070674637,384.0366938785,382.95040946360007,381.56210431360006,380.9283558857,380.4025427369001,380.3698650836,380.1530042934,381.2620640424,382.6186817711,383.2950101716,384.2228574795,385.7913848388,387.2549476147,387.9607639334,389.1646870233,389.5219482041,389.4438543285,389.1911976215,389.5099644558,389.5761571767,389.5875460278,389.62421047,390.6584386691,392.3354339656,393.6796132524,395.377471642,397.4637809564,399.6285752402,401.1843659004,402.8812308094001,404.5423304159,406.4835915589,408.137736801,409.0169671549,409.6180229335,410.5598425668,410.9323978015,411.4539751301001,412.0470830637,412.5100450354,413.1011660078,413.51743439,413.5214083125,413.8184590196,414.1612098356,414.1294184556,414.80498528120006,415.3394778579001,415.3722627186,415.0434206314,413.8522373609,412.8806133088,412.8090827037,412.542829896,412.1772290256,411.6914169995,411.3148878423,410.6015687529001,410.7237668698,411.124139562,412.481234097,413.376360141,413.7201044376,414.1323988973,414.9659291424,415.7517723175,416.4790001356,417.1992735894,417.5082460641,417.8470229576,418.2980631617,418.7967904358,419.3153873225,419.7932515036,419.9700910551,420.2880048554,419.6617022504,419.6682167059,419.8900642127,420.1236654734,420.4117382836001,420.7807804763,421.14116466019993,421.6019661581,422.3341064646,423.3163911768,425.1903281924,426.3934356274,427.5247752618,428.3540920687,429.3927316274,430.4363550611,431.2457363678,432.0969822249,432.7638247054,432.8545312312,431.9823530989,431.7959561724,431.8049271475,432.2574630012999,432.6980375549,433.0907669081,433.431663961,433.6898286881,434.277925943,434.9926136239,436.2505436844,437.2562896677,437.6978609963,438.3258292515,438.5800068787,438.6906489047,439.0564653327,439.5498689618,439.9944306155,440.7330408967,441.6680158544999,441.9560838319,441.9760193321,441.7866320806,441.8733515063,442.3846970855,442.9119910649,443.4233366442001,443.5379657702,443.9695693488,444.4938730031,445.2434478094,446.5013778699,447.8300789559,448.7989442639,449.2175897674,449.5106416198,449.5176190448,449.4358834941,449.070067066,448.2666664093,447.8998532062,447.4383463773,446.40549977600006,444.6476176998,443.0102131749,441.8506312755,441.4154269527,441.4060809828,441.156102662,440.2543471182,439.0557880463001,437.3970000000001,436.681,436.141,436.088,435.792,435.34,434.735,433.94,433.93,434.003,435.33900000000006,436.50200000000007,438.357,440.111,441.862,443.355,444.881,446.967,449.201,451.07700000000006,452.659,453.997,455.282,456.408,457.639,458.971,460.512,461.85,462.992,463.96,464.505,465.3070000000001,466.046,466.784,467.1259999999999,467.408,467.444,467.308,467.389,467.971,467.491,467.224,466.0370000000001,464.159,463.085,461.454,460.4440000000001,460.515]},{\"line\":{\"color\":\"yellow\",\"width\":1},\"name\":\"MA 20\",\"type\":\"scatter\",\"x\":[\"2021-01-04\",\"2021-01-05\",\"2021-01-06\",\"2021-01-07\",\"2021-01-08\",\"2021-01-11\",\"2021-01-12\",\"2021-01-13\",\"2021-01-14\",\"2021-01-15\",\"2021-01-19\",\"2021-01-20\",\"2021-01-21\",\"2021-01-22\",\"2021-01-25\",\"2021-01-26\",\"2021-01-27\",\"2021-01-28\",\"2021-01-29\",\"2021-02-01\",\"2021-02-02\",\"2021-02-03\",\"2021-02-04\",\"2021-02-05\",\"2021-02-08\",\"2021-02-09\",\"2021-02-10\",\"2021-02-11\",\"2021-02-12\",\"2021-02-16\",\"2021-02-17\",\"2021-02-18\",\"2021-02-19\",\"2021-02-22\",\"2021-02-23\",\"2021-02-24\",\"2021-02-25\",\"2021-02-26\",\"2021-03-01\",\"2021-03-02\",\"2021-03-03\",\"2021-03-04\",\"2021-03-05\",\"2021-03-08\",\"2021-03-09\",\"2021-03-10\",\"2021-03-11\",\"2021-03-12\",\"2021-03-15\",\"2021-03-16\",\"2021-03-17\",\"2021-03-18\",\"2021-03-19\",\"2021-03-22\",\"2021-03-23\",\"2021-03-24\",\"2021-03-25\",\"2021-03-26\",\"2021-03-29\",\"2021-03-30\",\"2021-03-31\",\"2021-04-01\",\"2021-04-05\",\"2021-04-06\",\"2021-04-07\",\"2021-04-08\",\"2021-04-09\",\"2021-04-12\",\"2021-04-13\",\"2021-04-14\",\"2021-04-15\",\"2021-04-16\",\"2021-04-19\",\"2021-04-20\",\"2021-04-21\",\"2021-04-22\",\"2021-04-23\",\"2021-04-26\",\"2021-04-27\",\"2021-04-28\",\"2021-04-29\",\"2021-04-30\",\"2021-05-03\",\"2021-05-04\",\"2021-05-05\",\"2021-05-06\",\"2021-05-07\",\"2021-05-10\",\"2021-05-11\",\"2021-05-12\",\"2021-05-13\",\"2021-05-14\",\"2021-05-17\",\"2021-05-18\",\"2021-05-19\",\"2021-05-20\",\"2021-05-21\",\"2021-05-24\",\"2021-05-25\",\"2021-05-26\",\"2021-05-27\",\"2021-05-28\",\"2021-06-01\",\"2021-06-02\",\"2021-06-03\",\"2021-06-04\",\"2021-06-07\",\"2021-06-08\",\"2021-06-09\",\"2021-06-10\",\"2021-06-11\",\"2021-06-14\",\"2021-06-15\",\"2021-06-16\",\"2021-06-17\",\"2021-06-18\",\"2021-06-21\",\"2021-06-22\",\"2021-06-23\",\"2021-06-24\",\"2021-06-25\",\"2021-06-28\",\"2021-06-29\",\"2021-06-30\",\"2021-07-01\",\"2021-07-02\",\"2021-07-06\",\"2021-07-07\",\"2021-07-08\",\"2021-07-09\",\"2021-07-12\",\"2021-07-13\",\"2021-07-14\",\"2021-07-15\",\"2021-07-16\",\"2021-07-19\",\"2021-07-20\",\"2021-07-21\",\"2021-07-22\",\"2021-07-23\",\"2021-07-26\",\"2021-07-27\",\"2021-07-28\",\"2021-07-29\",\"2021-07-30\",\"2021-08-02\",\"2021-08-03\",\"2021-08-04\",\"2021-08-05\",\"2021-08-06\",\"2021-08-09\",\"2021-08-10\",\"2021-08-11\",\"2021-08-12\",\"2021-08-13\",\"2021-08-16\",\"2021-08-17\",\"2021-08-18\",\"2021-08-19\",\"2021-08-20\",\"2021-08-23\",\"2021-08-24\",\"2021-08-25\",\"2021-08-26\",\"2021-08-27\",\"2021-08-30\",\"2021-08-31\",\"2021-09-01\",\"2021-09-02\",\"2021-09-03\",\"2021-09-07\",\"2021-09-08\",\"2021-09-09\",\"2021-09-10\",\"2021-09-13\",\"2021-09-14\",\"2021-09-15\",\"2021-09-16\",\"2021-09-17\",\"2021-09-20\",\"2021-09-21\",\"2021-09-22\",\"2021-09-23\",\"2021-09-24\",\"2021-09-27\",\"2021-09-28\",\"2021-09-29\",\"2021-09-30\",\"2021-10-01\",\"2021-10-04\",\"2021-10-05\",\"2021-10-06\",\"2021-10-07\",\"2021-10-08\",\"2021-10-11\",\"2021-10-12\",\"2021-10-13\",\"2021-10-14\",\"2021-10-15\",\"2021-10-18\",\"2021-10-19\",\"2021-10-20\",\"2021-10-21\",\"2021-10-22\",\"2021-10-25\",\"2021-10-26\",\"2021-10-27\",\"2021-10-28\",\"2021-10-29\",\"2021-11-01\",\"2021-11-02\",\"2021-11-03\",\"2021-11-04\",\"2021-11-05\",\"2021-11-08\",\"2021-11-09\",\"2021-11-10\",\"2021-11-11\",\"2021-11-12\",\"2021-11-15\",\"2021-11-16\",\"2021-11-17\",\"2021-11-18\",\"2021-11-19\",\"2021-11-22\",\"2021-11-23\",\"2021-11-24\",\"2021-11-26\",\"2021-11-29\",\"2021-11-30\",\"2021-12-01\",\"2021-12-02\",\"2021-12-03\",\"2021-12-06\",\"2021-12-07\"],\"y\":[null,null,null,null,null,null,null,null,null,null,null,null,null,null,null,null,null,null,null,374.38787406265,375.0196420268,375.54050401605,376.1663305887,376.5926254297,377.0506076921,377.6229617411501,378.18293789115,378.72360451875,379.4256789491,380.24757144165,380.92786076985,381.2660249701,381.55269711055,381.7581702336501,381.912151297,382.30725383255,382.6993856723501,382.83455232925,383.80052356595,384.31098812005,384.30455161255,384.0495668935,383.9228172079,383.6262427482501,383.46087401785,383.42770124855,383.59851625455,383.76438010095,383.95103881765,384.129775679,384.3708971512,384.4085259641501,384.44455990955,384.7836148801,384.94590664385,384.79842931095,385.22663083195,386.06432311345,386.43558367415,386.90520175365,387.7077976544,388.9566931419,390.1480989495,391.42215013785,392.44970992305,393.45381764245,394.40988643085,395.3471651781,396.22869399305,397.06493822185,398.05390101445,399.39808773505,400.6762005602501,401.64881809295,402.9686571044,404.19808937895,405.54127518515,406.61572448205,407.6956379224,408.82174821185,410.00051297445,410.82957255675,411.4177130872501,411.8896163845501,412.3446305112,412.86869154135,413.396726494,413.70967289115,413.7767328334,413.47670168435,413.1990238494,413.1652455081,413.1806444578,413.1692194306,412.91041772755,413.05993656175,412.9705233054,413.0480147942,413.0837800967,413.16673572895,413.1284867249,413.26459357064994,413.33761439664994,413.571579084,413.7215946585,413.89694398895,413.90042117115,414.11600646695,414.4855812598,415.38964862935,416.0865752884,416.51774588005,416.9628252004501,417.46801009875,418.01988858645,418.070351193,418.43374514765,418.6991551384,418.9853442155001,419.35490072265,419.7887854560501,420.22827599135,420.69760883085,421.15209875985,421.8021980161,422.4260152214,423.03082616664994,423.70741973725,424.23887877105,424.9022349555,425.6085677687,426.19345051400006,426.8494741915,427.548965585,428.085461204,428.58634064565,429.0946958999001,429.66485120465006,430.305777535,431.04538459115,431.7635609846,432.33870016440005,432.8934054565,433.5208753242,433.92357242755,434.11644839165,434.52612292005006,434.7513940719,435.2916461264,435.6390222168,435.89070790640005,436.24406464685,436.61984882495,437.13617827925,437.8628272603,438.95927976945,439.6061867498,439.8369401642,440.05623066605006,440.2266791925,440.5376729951,440.9842281988,441.486602803,441.76619819285,442.35130512275,443.0809444288,443.59976582065,444.238698601,444.8083555182501,445.3361478851001,445.8011434264499,446.2113163423501,446.4704778445,446.48692463215,446.5198182074,446.3802697062,446.5716505078,446.9698621236001,447.11778936595,446.72328098185,446.11390147115,445.68063644765,445.46652299875,445.42098223844994,445.113084864,444.26050676375,443.4778206262501,442.4176731886501,441.543249888,440.3943088499,439.54910658745,438.82131563774993,438.3777134763501,438.0705404914,437.548051331,437.09217355909993,436.52939402315,436.368,436.5915,437.2490000000001,438.0995,438.82700000000006,439.3475,439.808,440.4535,441.5655,442.54,443.999,445.2495,446.81950000000006,448.2595,449.7505,451.1629999999999,452.6965,454.4085,456.0965,457.5185,458.5820000000001,459.65199999999993,460.66399999999993,461.596,462.3825,463.1895,463.97800000000007,464.579,465.1905,465.9655,465.9980000000001,466.2655000000001,466.0415,465.4715,465.1055,464.431,463.944,463.9115]},{\"marker\":{\"color\":\"LightSkyBlue\"},\"name\":\"Volume\",\"showlegend\":false,\"type\":\"bar\",\"x\":[0,1,2,3,4,5,6,7,8,9,10,11,12,13,14,15,16,17,18,19,20,21,22,23,24,25,26,27,28,29,30,31,32,33,34,35,36,37,38,39,40,41,42,43,44,45,46,47,48,49,50,51,52,53,54,55,56,57,58,59,60,61,62,63,64,65,66,67,68,69,70,71,72,73,74,75,76,77,78,79,80,81,82,83,84,85,86,87,88,89,90,91,92,93,94,95,96,97,98,99,100,101,102,103,104,105,106,107,108,109,110,111,112,113,114,115,116,117,118,119,120,121,122,123,124,125,126,127,128,129,130,131,132,133,134,135,136,137,138,139,140,141,142,143,144,145,146,147,148,149,150,151,152,153,154,155,156,157,158,159,160,161,162,163,164,165,166,167,168,169,170,171,172,173,174,175,176,177,178,179,180,181,182,183,184,185,186,187,188,189,190,191,192,193,194,195,196,197,198,199,200,201,202,203,204,205,206,207,208,209,210,211,212,213,214,215,216,217,218,219,220,221,222,223,224,225,226,227,228,229,230,231,232,233,234],\"xaxis\":\"x2\",\"y\":[110210810,66426229,107997675,68766812,71677208,51176719,51440114,45303619,49989113,107159962,51233300,61836062,47955809,52136931,70401971,42665281,123351078,94198104,126765121,75817597,62923781,52427090,47142555,48669773,38365185,34142633,58362935,42913288,50593270,50972366,51746878,59712773,83240971,66517089,107284127,72433946,144712701,149530614,105348798,79595332,119940211,183433020,152039624,123149245,113633556,109899410,86245040,64653565,73592302,73722506,97959265,115349101,113624490,73778646,90686552,97588644,116128622,114409114,108107626,76262249,112734214,99682876,91684764,62020953,55836280,57863114,61104559,56704899,56550988,61659907,60229842,82037278,78498496,81851828,66792983,97582788,73276195,52182392,51303056,51238854,78544329,85527030,68128289,101591166,39960661,74321368,67733790,81852446,116887975,134811046,106393963,82201629,65129221,59810238,106467052,78022218,76578662,51376702,57451396,43088618,56707677,58520164,54216625,49097061,58138763,55938789,51555032,47134279,48436342,51020147,45570828,42358478,51508508,79250069,90949659,118676302,72822028,57700303,49445414,45110288,58129525,53159581,35970515,64827858,53441027,57697668,68710419,63549456,97595232,76238584,52889585,52911312,64130352,55126358,75874662,147987000,99608174,64724389,47878539,63766637,43719187,67397137,52472360,45910298,68951202,58783297,58053896,46732212,38969659,46930008,41222585,43339275,44034340,38942418,38673164,73930864,92673933,89351931,92812246,72008712,54973038,38744714,40529711,57829572,77235113,48357355,59300213,48721378,42830867,47234364,51671534,56181907,57970407,89948174,83738649,78197140,78792222,77786735,118425037,166445534,92526112,102350143,76395981,62094837,61371108,130436306,82329213,140505979,129240106,128569957,90682520,113032245,72437499,74557404,65233285,71181163,72973979,70236825,66260210,62213228,46996827,49571569,41305438,58845088,45214507,56075116,72437997,51437944,70162424,47474495,47840033,52509825,52847087,66390563,50405194,50232447,69429653,34848495,51018081,46980500,48857502,47858289,50625607,57315573,72761954,73206538,61858813,112669636,86268818,148559598,132485835,127637758,137331647,98977532,95484688],\"yaxis\":\"y2\"},{\"line\":{\"color\":\"#EF8820\",\"width\":2},\"name\":\"RSI-14\",\"showlegend\":false,\"type\":\"scatter\",\"x\":[0,1,2,3,4,5,6,7,8,9,10,11,12,13,14,15,16,17,18,19,20,21,22,23,24,25,26,27,28,29,30,31,32,33,34,35,36,37,38,39,40,41,42,43,44,45,46,47,48,49,50,51,52,53,54,55,56,57,58,59,60,61,62,63,64,65,66,67,68,69,70,71,72,73,74,75,76,77,78,79,80,81,82,83,84,85,86,87,88,89,90,91,92,93,94,95,96,97,98,99,100,101,102,103,104,105,106,107,108,109,110,111,112,113,114,115,116,117,118,119,120,121,122,123,124,125,126,127,128,129,130,131,132,133,134,135,136,137,138,139,140,141,142,143,144,145,146,147,148,149,150,151,152,153,154,155,156,157,158,159,160,161,162,163,164,165,166,167,168,169,170,171,172,173,174,175,176,177,178,179,180,181,182,183,184,185,186,187,188,189,190,191,192,193,194,195,196,197,198,199,200,201,202,203,204,205,206,207,208,209,210,211,212,213,214,215,216,217,218,219,220,221,222,223,224,225,226,227,228,229,230,231,232,233,234,0,1,2,3,4,5,6,7,8,9,10,11,12,13,14,15,16,17,18,19,20,21,22,23,24,25,26,27,28,29,30,31,32,33,34,35,36,37,38,39,40,41,42,43,44,45,46,47,48,49,50,51,52,53,54,55,56,57,58,59,60,61,62,63,64,65,66,67,68,69,70,71,72,73,74,75,76,77,78,79,80,81,82,83,84,85,86,87,88,89,90,91,92,93,94,95,96,97,98,99,100,101,102,103,104,105,106,107,108,109,110,111,112,113,114,115,116,117,118,119,120,121,122,123,124,125,126,127,128,129,130,131,132,133,134,135,136,137,138,139,140,141,142,143,144,145,146,147,148,149,150,151,152,153,154,155,156,157,158,159,160,161,162,163,164,165,166,167,168,169,170,171,172,173,174,175,176,177,178,179,180,181,182,183,184,185,186,187,188,189,190,191,192,193,194,195,196,197,198,199,200,201,202,203,204,205,206,207,208,209,210,211,212,213,214,215,216,217,218,219,220,221,222,223,224,225,226,227,228,229,230,231,232,233,234],\"xaxis\":\"x3\",\"y\":[null,null,null,null,null,null,null,null,null,null,null,null,null,null,null,null,null,null,null,null,null,null,null,null,null,null,null,null,null,null,null,null,null,null,null,null,null,null,null,null,null,null,null,null,null,null,null,null,null,null,null,null,null,null,null,null,null,null,null,null,null,null,null,null,null,null,null,null,null,null,null,null,null,null,null,null,null,null,null,null,null,null,null,null,null,null,null,null,null,null,null,null,null,null,null,null,null,null,null,null,null,null,null,null,null,null,null,null,null,null,null,null,null,null,null,null,null,null,null,null,null,null,null,null,null,null,null,null,null,null,null,null,null,null,null,null,null,null,null,null,null,null,null,null,null,null,null,null,null,null,null,null,null,null,null,null,null,null,null,null,null,null,null,null,null,null,null,null,null,null,null,null,null,null,null,null,null,null,null,null,null,null,null,null,null,null,null,null,null,null,null,null,null,null,null,null,null,null,null,null,null,null,null,null,null,null,null,null,null,null,null,null,null,null,null,null,null,null,null,null,null,null,null,null,null,null,null,null,null,null,null,null,null,null,null,null,null,null,null,null,null,null,null,null,null,null,null,null,null,72.69827019581466,70.3733985525455,45.744313110634806,51.959890341505435,40.28963952684366,50.12023759942136,56.74383416477408,57.08987201946603,61.84517520964275,63.37599063644054,66.07608222160641,65.59250390684363,65.25622106150956,65.95285953465373,68.06534657086739,67.27345912103715,67.38163932808048,63.20652599200524,61.51064915037138,54.64558899218418,55.4838379808171,62.30092584518803,45.65527044522504,43.069133893836465,55.713142341480896,51.64068688656023,45.595598319767966,40.848350509532246,49.20968850528173,47.22818435782818,53.038909836941365,55.37869413037218,58.98563009033406,59.459165324491664,61.57742592035147,60.848931080029175,62.15092416380402,53.88796526835576,52.94085510120788,56.4981456329463,52.27035449433954,49.7037447707111,52.470938803975464,59.40059193728481,59.10504135403202,57.487851119568155,59.31464706602022,63.79630172205732,68.77298033994629,68.35064506503323,68.75530214244971,70.4273789772062,72.83645330120201,72.95627799766227,73.96231841620046,70.68931322565254,74.49893863330061,75.57412470533961,70.83091864606145,64.37820847119076,68.36043120558963,61.183366936090636,65.73994400455292,66.56265824496171,66.38505976859723,66.13169765652013,68.95971515474322,63.07459587278202,64.14902768866699,58.86156531294903,59.04474410230364,63.51306376860736,67.06775858454165,58.63647149857259,52.31622888752835,41.06914150181276,47.762129894673016,54.89831835267583,53.57223562348917,49.245686687767154,47.98662370233884,53.25413697153148,52.81108263209054,57.54360712609685,56.20890231628877,57.16384746590877,57.42884225200312,58.37423521136339,57.69354536083918,58.62046184312312,55.5239032135121,60.97442677684768,60.12497982167712,60.25586934160634,58.800845025881124,61.88454559899085,62.95110680609808,64.40677460670692,62.24434192009648,56.08293097603092,55.73197784123945,43.77546062184755,54.75493240536916,58.09319750904359,57.065429690488095,60.73279551191277,62.799676412384784,63.96310315350414,64.28480930536,64.81427500583887,68.16068467476467,72.12413317088664,69.8748393096205,71.71466206456208,62.24285897199951,68.13276471390706,69.85044226006369,66.18118514338492,66.99568585679543,63.235971303302065,55.552391760314464,44.640537642999924,53.95291338289173,58.28370398139188,59.357076846516854,64.23588419551943,65.3167672988445,61.58622632612847,61.248856490663385,63.43022248627728,59.20972061809333,57.440251719497766,62.1535210468712,57.94134785778327,61.537573303666335,62.44563372064642,61.672360521500295,62.4376547751795,63.98646022925013,65.82148125867771,66.9267556219135,68.35534113438493,60.50187652092546,50.19941847788746,51.44525487728045,57.35822506991033,62.795166147840405,63.702515037342984,64.92223747894496,58.91200855782444,64.27472485788034,66.60410302843819,65.05827471865067,65.36834110697265,67.18459419886958,66.88564420112121,62.47651652257449,61.006149564116996,56.023519763329915,48.24081927551187,50.61984243882317,45.824637328869244,53.177881825304446,51.73079219669147,43.86892291028601,34.31730218198098,33.87482801279484,42.160713124952046,50.552796269596755,51.59073390125225,49.63857843639688,38.592830197059975,39.7739738012315,34.56578843687487,42.37106635576467,37.13326346707529,43.15978840254733,45.43329440824007,49.937830864646884,49.01078576523247,45.41322996622655,44.232987214474534,46.419350994403445,55.27919066761131,58.66771646509966,59.947851184767494,63.15945639481571,64.72236867847573,65.76509683945035,64.94172494310143,67.22636745929015,67.60990004224058,63.65734092090639,68.02267632922634,68.87748539379598,69.6203983076896,71.35418229784085,73.79593886417344,75.53968356731649,76.77108271320216,77.07792859449567,73.05100037317943,64.27801970712076,64.4613818346701,68.52159057111105,68.69765084660327,70.7357373473216,67.80598108291906,69.69151272039355,67.44416709058996,63.95407010602242,64.87352434508776,66.71684697305754,45.28222304890201,53.86549072695713,42.372084421538126,37.54330457491426,46.497294081386286,42.69510002116649,48.7808594806302,57.39249660546128],\"yaxis\":\"y3\"}],                        {\"font\":{\"color\":\"#A4A4A4\",\"family\":\"Gotham Narrow, monospace\",\"size\":16},\"height\":600,\"legend\":{\"x\":0.0265,\"xanchor\":\"left\",\"y\":1.1,\"yanchor\":\"top\"},\"margin\":{\"b\":30,\"l\":60,\"r\":25,\"t\":60},\"shapes\":[{\"line\":{\"color\":\"#C3BEB9\",\"width\":2},\"type\":\"line\",\"x0\":0,\"x1\":1,\"xref\":\"x3 domain\",\"y0\":0,\"y1\":0,\"yref\":\"y3\"},{\"line\":{\"color\":\"#C3BEB9\",\"width\":2},\"type\":\"line\",\"x0\":0,\"x1\":1,\"xref\":\"x3 domain\",\"y0\":100,\"y1\":100,\"yref\":\"y3\"},{\"line\":{\"color\":\"#6EB7F8\",\"dash\":\"dash\",\"width\":2},\"type\":\"line\",\"x0\":0,\"x1\":1,\"xref\":\"x3 domain\",\"y0\":40,\"y1\":40,\"yref\":\"y3\"},{\"line\":{\"color\":\"#6EB7F8\",\"dash\":\"dash\",\"width\":2},\"type\":\"line\",\"x0\":0,\"x1\":1,\"xref\":\"x3 domain\",\"y0\":90,\"y1\":90,\"yref\":\"y3\"}],\"showlegend\":true,\"template\":{\"data\":{\"bar\":[{\"error_x\":{\"color\":\"#f2f5fa\"},\"error_y\":{\"color\":\"#f2f5fa\"},\"marker\":{\"line\":{\"color\":\"rgb(17,17,17)\",\"width\":0.5},\"pattern\":{\"fillmode\":\"overlay\",\"size\":10,\"solidity\":0.2}},\"type\":\"bar\"}],\"barpolar\":[{\"marker\":{\"line\":{\"color\":\"rgb(17,17,17)\",\"width\":0.5},\"pattern\":{\"fillmode\":\"overlay\",\"size\":10,\"solidity\":0.2}},\"type\":\"barpolar\"}],\"carpet\":[{\"aaxis\":{\"endlinecolor\":\"#A2B1C6\",\"gridcolor\":\"#506784\",\"linecolor\":\"#506784\",\"minorgridcolor\":\"#506784\",\"startlinecolor\":\"#A2B1C6\"},\"baxis\":{\"endlinecolor\":\"#A2B1C6\",\"gridcolor\":\"#506784\",\"linecolor\":\"#506784\",\"minorgridcolor\":\"#506784\",\"startlinecolor\":\"#A2B1C6\"},\"type\":\"carpet\"}],\"choropleth\":[{\"colorbar\":{\"outlinewidth\":0,\"ticks\":\"\"},\"type\":\"choropleth\"}],\"contour\":[{\"colorbar\":{\"outlinewidth\":0,\"ticks\":\"\"},\"colorscale\":[[0.0,\"#0d0887\"],[0.1111111111111111,\"#46039f\"],[0.2222222222222222,\"#7201a8\"],[0.3333333333333333,\"#9c179e\"],[0.4444444444444444,\"#bd3786\"],[0.5555555555555556,\"#d8576b\"],[0.6666666666666666,\"#ed7953\"],[0.7777777777777778,\"#fb9f3a\"],[0.8888888888888888,\"#fdca26\"],[1.0,\"#f0f921\"]],\"type\":\"contour\"}],\"contourcarpet\":[{\"colorbar\":{\"outlinewidth\":0,\"ticks\":\"\"},\"type\":\"contourcarpet\"}],\"heatmap\":[{\"colorbar\":{\"outlinewidth\":0,\"ticks\":\"\"},\"colorscale\":[[0.0,\"#0d0887\"],[0.1111111111111111,\"#46039f\"],[0.2222222222222222,\"#7201a8\"],[0.3333333333333333,\"#9c179e\"],[0.4444444444444444,\"#bd3786\"],[0.5555555555555556,\"#d8576b\"],[0.6666666666666666,\"#ed7953\"],[0.7777777777777778,\"#fb9f3a\"],[0.8888888888888888,\"#fdca26\"],[1.0,\"#f0f921\"]],\"type\":\"heatmap\"}],\"heatmapgl\":[{\"colorbar\":{\"outlinewidth\":0,\"ticks\":\"\"},\"colorscale\":[[0.0,\"#0d0887\"],[0.1111111111111111,\"#46039f\"],[0.2222222222222222,\"#7201a8\"],[0.3333333333333333,\"#9c179e\"],[0.4444444444444444,\"#bd3786\"],[0.5555555555555556,\"#d8576b\"],[0.6666666666666666,\"#ed7953\"],[0.7777777777777778,\"#fb9f3a\"],[0.8888888888888888,\"#fdca26\"],[1.0,\"#f0f921\"]],\"type\":\"heatmapgl\"}],\"histogram\":[{\"marker\":{\"pattern\":{\"fillmode\":\"overlay\",\"size\":10,\"solidity\":0.2}},\"type\":\"histogram\"}],\"histogram2d\":[{\"colorbar\":{\"outlinewidth\":0,\"ticks\":\"\"},\"colorscale\":[[0.0,\"#0d0887\"],[0.1111111111111111,\"#46039f\"],[0.2222222222222222,\"#7201a8\"],[0.3333333333333333,\"#9c179e\"],[0.4444444444444444,\"#bd3786\"],[0.5555555555555556,\"#d8576b\"],[0.6666666666666666,\"#ed7953\"],[0.7777777777777778,\"#fb9f3a\"],[0.8888888888888888,\"#fdca26\"],[1.0,\"#f0f921\"]],\"type\":\"histogram2d\"}],\"histogram2dcontour\":[{\"colorbar\":{\"outlinewidth\":0,\"ticks\":\"\"},\"colorscale\":[[0.0,\"#0d0887\"],[0.1111111111111111,\"#46039f\"],[0.2222222222222222,\"#7201a8\"],[0.3333333333333333,\"#9c179e\"],[0.4444444444444444,\"#bd3786\"],[0.5555555555555556,\"#d8576b\"],[0.6666666666666666,\"#ed7953\"],[0.7777777777777778,\"#fb9f3a\"],[0.8888888888888888,\"#fdca26\"],[1.0,\"#f0f921\"]],\"type\":\"histogram2dcontour\"}],\"mesh3d\":[{\"colorbar\":{\"outlinewidth\":0,\"ticks\":\"\"},\"type\":\"mesh3d\"}],\"parcoords\":[{\"line\":{\"colorbar\":{\"outlinewidth\":0,\"ticks\":\"\"}},\"type\":\"parcoords\"}],\"pie\":[{\"automargin\":true,\"type\":\"pie\"}],\"scatter\":[{\"marker\":{\"line\":{\"color\":\"#283442\"}},\"type\":\"scatter\"}],\"scatter3d\":[{\"line\":{\"colorbar\":{\"outlinewidth\":0,\"ticks\":\"\"}},\"marker\":{\"colorbar\":{\"outlinewidth\":0,\"ticks\":\"\"}},\"type\":\"scatter3d\"}],\"scattercarpet\":[{\"marker\":{\"colorbar\":{\"outlinewidth\":0,\"ticks\":\"\"}},\"type\":\"scattercarpet\"}],\"scattergeo\":[{\"marker\":{\"colorbar\":{\"outlinewidth\":0,\"ticks\":\"\"}},\"type\":\"scattergeo\"}],\"scattergl\":[{\"marker\":{\"line\":{\"color\":\"#283442\"}},\"type\":\"scattergl\"}],\"scattermapbox\":[{\"marker\":{\"colorbar\":{\"outlinewidth\":0,\"ticks\":\"\"}},\"type\":\"scattermapbox\"}],\"scatterpolar\":[{\"marker\":{\"colorbar\":{\"outlinewidth\":0,\"ticks\":\"\"}},\"type\":\"scatterpolar\"}],\"scatterpolargl\":[{\"marker\":{\"colorbar\":{\"outlinewidth\":0,\"ticks\":\"\"}},\"type\":\"scatterpolargl\"}],\"scatterternary\":[{\"marker\":{\"colorbar\":{\"outlinewidth\":0,\"ticks\":\"\"}},\"type\":\"scatterternary\"}],\"surface\":[{\"colorbar\":{\"outlinewidth\":0,\"ticks\":\"\"},\"colorscale\":[[0.0,\"#0d0887\"],[0.1111111111111111,\"#46039f\"],[0.2222222222222222,\"#7201a8\"],[0.3333333333333333,\"#9c179e\"],[0.4444444444444444,\"#bd3786\"],[0.5555555555555556,\"#d8576b\"],[0.6666666666666666,\"#ed7953\"],[0.7777777777777778,\"#fb9f3a\"],[0.8888888888888888,\"#fdca26\"],[1.0,\"#f0f921\"]],\"type\":\"surface\"}],\"table\":[{\"cells\":{\"fill\":{\"color\":\"#506784\"},\"line\":{\"color\":\"rgb(17,17,17)\"}},\"header\":{\"fill\":{\"color\":\"#2a3f5f\"},\"line\":{\"color\":\"rgb(17,17,17)\"}},\"type\":\"table\"}]},\"layout\":{\"annotationdefaults\":{\"arrowcolor\":\"#f2f5fa\",\"arrowhead\":0,\"arrowwidth\":1},\"autotypenumbers\":\"strict\",\"coloraxis\":{\"colorbar\":{\"outlinewidth\":0,\"ticks\":\"\"}},\"colorscale\":{\"diverging\":[[0,\"#8e0152\"],[0.1,\"#c51b7d\"],[0.2,\"#de77ae\"],[0.3,\"#f1b6da\"],[0.4,\"#fde0ef\"],[0.5,\"#f7f7f7\"],[0.6,\"#e6f5d0\"],[0.7,\"#b8e186\"],[0.8,\"#7fbc41\"],[0.9,\"#4d9221\"],[1,\"#276419\"]],\"sequential\":[[0.0,\"#0d0887\"],[0.1111111111111111,\"#46039f\"],[0.2222222222222222,\"#7201a8\"],[0.3333333333333333,\"#9c179e\"],[0.4444444444444444,\"#bd3786\"],[0.5555555555555556,\"#d8576b\"],[0.6666666666666666,\"#ed7953\"],[0.7777777777777778,\"#fb9f3a\"],[0.8888888888888888,\"#fdca26\"],[1.0,\"#f0f921\"]],\"sequentialminus\":[[0.0,\"#0d0887\"],[0.1111111111111111,\"#46039f\"],[0.2222222222222222,\"#7201a8\"],[0.3333333333333333,\"#9c179e\"],[0.4444444444444444,\"#bd3786\"],[0.5555555555555556,\"#d8576b\"],[0.6666666666666666,\"#ed7953\"],[0.7777777777777778,\"#fb9f3a\"],[0.8888888888888888,\"#fdca26\"],[1.0,\"#f0f921\"]]},\"colorway\":[\"#636efa\",\"#EF553B\",\"#00cc96\",\"#ab63fa\",\"#FFA15A\",\"#19d3f3\",\"#FF6692\",\"#B6E880\",\"#FF97FF\",\"#FECB52\"],\"font\":{\"color\":\"#f2f5fa\"},\"geo\":{\"bgcolor\":\"rgb(17,17,17)\",\"lakecolor\":\"rgb(17,17,17)\",\"landcolor\":\"rgb(17,17,17)\",\"showlakes\":true,\"showland\":true,\"subunitcolor\":\"#506784\"},\"hoverlabel\":{\"align\":\"left\"},\"hovermode\":\"closest\",\"mapbox\":{\"style\":\"dark\"},\"paper_bgcolor\":\"rgb(17,17,17)\",\"plot_bgcolor\":\"rgb(17,17,17)\",\"polar\":{\"angularaxis\":{\"gridcolor\":\"#506784\",\"linecolor\":\"#506784\",\"ticks\":\"\"},\"bgcolor\":\"rgb(17,17,17)\",\"radialaxis\":{\"gridcolor\":\"#506784\",\"linecolor\":\"#506784\",\"ticks\":\"\"}},\"scene\":{\"xaxis\":{\"backgroundcolor\":\"rgb(17,17,17)\",\"gridcolor\":\"#506784\",\"gridwidth\":2,\"linecolor\":\"#506784\",\"showbackground\":true,\"ticks\":\"\",\"zerolinecolor\":\"#C8D4E3\"},\"yaxis\":{\"backgroundcolor\":\"rgb(17,17,17)\",\"gridcolor\":\"#506784\",\"gridwidth\":2,\"linecolor\":\"#506784\",\"showbackground\":true,\"ticks\":\"\",\"zerolinecolor\":\"#C8D4E3\"},\"zaxis\":{\"backgroundcolor\":\"rgb(17,17,17)\",\"gridcolor\":\"#506784\",\"gridwidth\":2,\"linecolor\":\"#506784\",\"showbackground\":true,\"ticks\":\"\",\"zerolinecolor\":\"#C8D4E3\"}},\"shapedefaults\":{\"line\":{\"color\":\"#f2f5fa\"}},\"sliderdefaults\":{\"bgcolor\":\"#C8D4E3\",\"bordercolor\":\"rgb(17,17,17)\",\"borderwidth\":1,\"tickwidth\":0},\"ternary\":{\"aaxis\":{\"gridcolor\":\"#506784\",\"linecolor\":\"#506784\",\"ticks\":\"\"},\"baxis\":{\"gridcolor\":\"#506784\",\"linecolor\":\"#506784\",\"ticks\":\"\"},\"bgcolor\":\"rgb(17,17,17)\",\"caxis\":{\"gridcolor\":\"#506784\",\"linecolor\":\"#506784\",\"ticks\":\"\"}},\"title\":{\"x\":0.05},\"updatemenudefaults\":{\"bgcolor\":\"#506784\",\"borderwidth\":0},\"xaxis\":{\"automargin\":true,\"gridcolor\":\"#283442\",\"linecolor\":\"#506784\",\"ticks\":\"\",\"title\":{\"standoff\":15},\"zerolinecolor\":\"#283442\",\"zerolinewidth\":2},\"yaxis\":{\"automargin\":true,\"gridcolor\":\"#283442\",\"linecolor\":\"#506784\",\"ticks\":\"\",\"title\":{\"standoff\":15},\"zerolinecolor\":\"#283442\",\"zerolinewidth\":2}}},\"title\":{\"text\":\"SPY 2021\",\"x\":0.5,\"xanchor\":\"center\",\"y\":0.965,\"yanchor\":\"top\"},\"width\":1000,\"xaxis\":{\"anchor\":\"y\",\"domain\":[0.0,1.0],\"matches\":\"x3\",\"rangeslider\":{\"visible\":false},\"showticklabels\":false},\"xaxis2\":{\"anchor\":\"y2\",\"domain\":[0.0,1.0],\"matches\":\"x3\",\"showticklabels\":false},\"xaxis3\":{\"anchor\":\"y3\",\"domain\":[0.0,1.0],\"tickmode\":\"array\",\"ticktext\":[\"Jan\",\"Feb\",\"Mar\",\"Apr\",\"May\",\"Jun\",\"Jul\",\"Aug\",\"Sep\",\"Oct\",\"Nov\",\"Dec\"],\"tickvals\":[1,22,43,64,85,106,127,148,169,191,212,233]},\"yaxis\":{\"anchor\":\"x\",\"domain\":[0.47058823529411764,0.9999999999999999],\"title\":{\"text\":\"Price\"}},\"yaxis2\":{\"anchor\":\"x2\",\"domain\":[0.26176470588235295,0.42058823529411765],\"title\":{\"text\":\"Volume\"}},\"yaxis3\":{\"anchor\":\"x3\",\"domain\":[0.0,0.21176470588235294],\"range\":[-10,110],\"title\":{\"text\":\"RSI-14\"}}},                        {\"responsive\": true}                    ).then(function(){\n",
       "                            \n",
       "var gd = document.getElementById('026ef369-3d29-448b-900d-40b9f9d47083');\n",
       "var x = new MutationObserver(function (mutations, observer) {{\n",
       "        var display = window.getComputedStyle(gd).display;\n",
       "        if (!display || display === 'none') {{\n",
       "            console.log([gd, 'removed!']);\n",
       "            Plotly.purge(gd);\n",
       "            observer.disconnect();\n",
       "        }}\n",
       "}});\n",
       "\n",
       "// Listen for the removal of the full notebook cells\n",
       "var notebookContainer = gd.closest('#notebook-container');\n",
       "if (notebookContainer) {{\n",
       "    x.observe(notebookContainer, {childList: true});\n",
       "}}\n",
       "\n",
       "// Listen for the clearing of the current output cell\n",
       "var outputEl = gd.closest('.output');\n",
       "if (outputEl) {{\n",
       "    x.observe(outputEl, {childList: true});\n",
       "}}\n",
       "\n",
       "                        })                };                });            </script>        </div>"
      ]
     },
     "metadata": {},
     "output_type": "display_data"
    }
   ],
   "source": [
    "#resources used :\n",
    "#https://www.alpharithms.com/relative-strength-index-rsi-in-python-470209/\n",
    "#https://medium.com/codex/creating-a-diversified-portfolio-with-correlation-matrix-in-python-7d7825255a2d\n",
    "fig = make_subplots(rows=3, cols=1, shared_xaxes=True, \n",
    "                    vertical_spacing=0.05, \n",
    "                    row_heights=[0.25,0.075,0.1])\n",
    "#adding candlestick chart                   \n",
    "fig.add_trace(go.Candlestick(\n",
    "    x=sp_500_rets_df['timestamp'], open=sp_500_rets_df['open'],\n",
    "    high=sp_500_rets_df['high'], low=sp_500_rets_df['low'],\n",
    "    close=sp_500_rets_df['close'], name=f'{ticker}'), row=1, col=1)\n",
    "#adding Moving Average 10day line\n",
    "fig.add_trace(go.Scatter(\n",
    "    x=sp_500_rets_df['timestamp'], y=sp_500_rets_df['MA10'], \n",
    "    line=dict(color='white', width=1), name='MA 10'))\n",
    "#adding Moving Average 20day line                \n",
    "fig.add_trace(go.Scatter(\n",
    "    x=sp_500_rets_df['timestamp'], y=sp_500_rets_df['MA20'], \n",
    "    line=dict(color='yellow', width=1),name='MA 20'))\n",
    "#adding volume indicator\n",
    "fig.add_trace(go.Bar(\n",
    "    x=sp_500_rets_df.index, y=sp_500_rets_df['volume'],\n",
    "    marker_color = 'LightSkyBlue', showlegend=False, name='Volume'), row=2, col=1)\n",
    "#adding RSI indicator \n",
    "fig.add_trace(go.Scatter(\n",
    "    x=sp_500_final.index, y=sp_500_final['RSI_14'],\n",
    "    line=dict(color='#EF8820', width=2), showlegend=False, name='RSI-14'), row=3, col=1)\n",
    "\n",
    "#setting RSI range from 0-100 as standard practice for this indicator\n",
    "fig.update_yaxes(\n",
    "    range=[-10, 110], row=3, col=1)\n",
    "fig.add_hline(\n",
    "    y=0, col=1, row=3, line_color=\"#C3BEB9\", line_width=2)\n",
    "fig.add_hline(\n",
    "    y=100, col=1, row=3, line_color=\"#C3BEB9\", line_width=2)\n",
    "#adding overbought/oversold lines for RSI 30/70 levels\n",
    "fig.add_hline(\n",
    "    y=40, col=1, row=3, line_color='#6EB7F8', line_width=2, line_dash='dash')\n",
    "fig.add_hline(\n",
    "    y=90, col=1, row=3, line_color='#6EB7F8', line_width=2, line_dash='dash')\n",
    "\n",
    "\n",
    "fig.update_layout(\n",
    "    height=600, width=1000, showlegend=True, xaxis_rangeslider_visible=False,\n",
    "    paper_bgcolor=None, template='plotly_dark',\n",
    "    title=dict(\n",
    "        text=f\"{ticker} 2021\",\n",
    "        y=0.965, x=0.5, xanchor='center', yanchor='top'),\n",
    "    legend=dict(\n",
    "        yanchor=\"top\", y=1.1, xanchor=\"left\", x=0.0265),\n",
    "    font=dict(\n",
    "        family=\"Gotham Narrow, monospace\", size=16, color=\"#A4A4A4\"),\n",
    "    margin=go.layout.Margin(\n",
    "        l=60, r=25, b=30, t=60), \n",
    "    xaxis3 = dict(\n",
    "        tickmode = 'array',\n",
    "        tickvals = [1,22,43,64,85,106,127, 148,169,191,212,233],\n",
    "        ticktext = ['Jan','Feb','Mar','Apr','May','Jun',\n",
    "                    'Jul','Aug','Sep','Oct','Nov','Dec']))\n",
    "#updating sublot yaxis labels, used as resource : https://stackoverflow.com/questions/58849925/plotly-how-to-apply-different-titles-for-each-different-subplots\n",
    "fig['layout']['yaxis']['title']='Price'\n",
    "fig['layout']['yaxis2']['title']='Volume'\n",
    "fig['layout']['yaxis3']['title']='RSI-14'\n",
    "\n",
    "fig.show()"
   ]
  }
 ],
 "metadata": {
  "kernelspec": {
   "display_name": "Python 3 (ipykernel)",
   "language": "python",
   "name": "python3"
  },
  "language_info": {
   "codemirror_mode": {
    "name": "ipython",
    "version": 3
   },
   "file_extension": ".py",
   "mimetype": "text/x-python",
   "name": "python",
   "nbconvert_exporter": "python",
   "pygments_lexer": "ipython3",
   "version": "3.8.8"
  }
 },
 "nbformat": 4,
 "nbformat_minor": 5
}
